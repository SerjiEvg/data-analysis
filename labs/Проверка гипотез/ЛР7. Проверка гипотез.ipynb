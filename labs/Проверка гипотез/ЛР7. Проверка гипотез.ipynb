{
  "cells": [
    {
      "attachments": {},
      "cell_type": "markdown",
      "metadata": {
        "id": "IcX_XCJeJ9Fe"
      },
      "source": [
        "# Лабораторная работа №7 Проверка гипотез"
      ]
    },
    {
      "cell_type": "markdown",
      "metadata": {
        "id": "MU_pd6HpqGef"
      },
      "source": [
        "`Гипотезы` — это утверждения, и мы можем использовать статистику, чтобы подтвердить или опровергнуть их. На этом этапе проверка гипотез структурирует проблемы таким образом, чтобы мы могли использовать статистические данные для проверки этих утверждений. Таким образом, мы можем проверить, является ли утверждение действительным."
      ]
    },
    {
      "cell_type": "markdown",
      "metadata": {
        "id": "JM332gSrqGeg"
      },
      "source": [
        "### Цель лабораторной работы:"
      ]
    },
    {
      "cell_type": "markdown",
      "metadata": {
        "id": "yZuQXlPMqGeg"
      },
      "source": [
        "В этой лаборторной работе нужно познакомится с алгоритмом проверки статистических гипотез. \n",
        "\n",
        "Изучаются следующие вопросы:\n",
        "\n",
        "*   Правильное формулирование статитистических гипотез\n",
        "*   Проверка предположений - независимости и нормальности данных\n",
        "*   Выбор соответствующего статистического теста\n",
        "*   Интерпретация результатов\n",
        "\n",
        "Лабораторная работа предоставляется на проверку в виде блокнота Jupyter Notebook с сформированными ответами в кодовых ячейках и вычисленным результатом. Ячейки с заданиями удалять не нужно."
      ]
    },
    {
      "cell_type": "markdown",
      "metadata": {
        "id": "Z05Ir-96qGeg"
      },
      "source": [
        "## 1. Основные шаги проверки гипотез"
      ]
    },
    {
      "cell_type": "markdown",
      "metadata": {
        "id": "hCSPJYYKqGeg"
      },
      "source": [
        "### 1.1. Определение гипотез"
      ]
    },
    {
      "cell_type": "markdown",
      "metadata": {
        "id": "Zcqi3W75qGeh"
      },
      "source": [
        "Прежде всего, мы должны понять, на какой научный вопрос мы ищем ответ, и он должен быть сформулирован в виде `Нулевой гипотезы` (H₀) и `Альтернативной гипотезы` (H₁ или Hₐ). Помните, что H₀ и H₁ должны быть взаимоисключающими, а H₁ не должно содержать равенства:"
      ]
    },
    {
      "cell_type": "markdown",
      "metadata": {
        "id": "-s3Vh2KIqGeh"
      },
      "source": [
        "- H₀: μ=x, H₁: μ≠x\n",
        "\n",
        "- H₀: μ≤x, H₁: μ>x\n",
        "\n",
        "- H₀: μ≥x, H₁: μ<x"
      ]
    },
    {
      "cell_type": "markdown",
      "metadata": {
        "id": "kZK2PlCfqGeh"
      },
      "source": [
        "### 1.2. Проверка предположений"
      ]
    },
    {
      "cell_type": "markdown",
      "metadata": {
        "id": "bNJVOW-6qGeh"
      },
      "source": [
        "Чтобы решить, использовать ли параметрическую или непараметрическую версию теста, мы должны проверить конкретные требования, перечисленные ниже:\n",
        "\n",
        "- Наблюдения в каждой выборке независимы и одинаково распределены (IID).\n",
        "\n",
        "- Наблюдения в каждой выборке распределены нормально.\n",
        "\n",
        "- Наблюдения в каждой выборке имеют одинаковую дисперсию."
      ]
    },
    {
      "cell_type": "markdown",
      "metadata": {
        "id": "ufdd4WtoqGeh"
      },
      "source": [
        "### 1.3. Выбор правильного теста"
      ]
    },
    {
      "cell_type": "markdown",
      "metadata": {
        "id": "IkmpJz4uqGeh"
      },
      "source": [
        "Затем мы выбираем соответствующий тест для использования. При выборе правильного теста важно проанализировать, сколько групп сравнивается и являются ли данные парными или нет. Чтобы определить, совпадают ли данные, необходимо рассмотреть, были ли данные собраны от одних и тех же лиц. \n",
        "\n",
        "Соответственно, мы можем определиться с подходящим тестом, используя приведенную ниже схему."
      ]
    },
    {
      "cell_type": "markdown",
      "metadata": {
        "id": "Ei614ZZ0qLOF"
      },
      "source": [
        "<img src=\"https://github.com/SerjiEvg/data-analysis/raw/main/images/%D0%A1%D1%85%D0%B5%D0%BC%D0%B0%20%D0%B2%D1%8B%D0%B1%D0%BE%D1%80%D0%B0%20%D0%BC%D0%B5%D1%82%D0%BE%D0%B4%D0%B0%20%D0%BF%D1%80%D0%BE%D0%B2%D0%B5%D1%80%D0%BA%D0%B8%20%D0%B3%D0%B8%D0%BF%D0%BE%D1%82%D0%B5%D0%B7%D1%8B.png\" width=\"1000\"/>"
      ]
    },
    {
      "cell_type": "markdown",
      "metadata": {
        "id": "HD286kH8qGei"
      },
      "source": [
        "### 1.4. Решение и заключение"
      ]
    },
    {
      "cell_type": "markdown",
      "metadata": {
        "id": "3TU6RO98qGei"
      },
      "source": [
        "После выполнения проверки гипотезы мы получаем связанное значение p, которое показывает значимость теста.\n",
        "\n",
        "Если p-значение меньше, чем `альфа (уровень значимости)`, то имеется достаточно доказательств, чтобы доказать, что H₀ недействителен; мы можем отказаться от H₀. \n",
        "\n",
        "В противном случае мы не сможем отвергнуть H₀. Пожалуйста, помните, что отказ от H₀ подтверждает H₁. Однако отказ от отклонения H₀ не означает, что H₀ действителен, и не означает, что H₁ неверен."
      ]
    },
    {
      "cell_type": "markdown",
      "metadata": {
        "id": "OFqu4GyNqGei"
      },
      "source": [
        "## 2. Задания по проверке гипотез"
      ]
    },
    {
      "attachments": {},
      "cell_type": "markdown",
      "metadata": {
        "id": "MD1OaRUuykeI"
      },
      "source": [
        "### 2.1. Осторожный инвестор"
      ]
    },
    {
      "attachments": {},
      "cell_type": "markdown",
      "metadata": {
        "id": "AZdOGmugqGei"
      },
      "source": [
        "Российский инвестор хотел инвестировать свои средства в проект по создания автомобильной магистрали, обеспечивающей лучшую логистику региона. Есть два конкурирующих между собой проекта: WayThere и WayBack. Первоначально, инвестор считал, что прибыль от проекта WayBack могла быть больше, но все же хотел это проверить, чтобы не ошибиться с выбором. Для этого он попросил представителя каждого проекта оценить годовую прибыль (в течении 17 лет) эксплуатации магистрали.\n",
        "\n",
        "Данные представлены ниже.\n"
      ]
    },
    {
      "cell_type": "code",
      "execution_count": 7,
      "metadata": {
        "id": "F6W8NDsZuwNI"
      },
      "outputs": [],
      "source": [
        "import numpy as np\n",
        "\n",
        "WayThere = np.array([4.57, 4.55, 5.47, 4.67, 5.41, 5.55, 5.53, 5.63, 3.86, 3.97, 5.44, 3.93, 5.31, 5.17, 4.39, 4.28, 5.25])\n",
        "WayBack =  np.array([4.27, 3.93, 4.01, 4.07, 3.87, 4.  , 4.  , 3.72, 4.16, 4.1 , 3.9 , 3.97, 4.08, 3.96, 3.96, 3.77, 4.09])"
      ]
    },
    {
      "attachments": {},
      "cell_type": "markdown",
      "metadata": {
        "id": "DQJGQmHIqGej"
      },
      "source": [
        "В соответствии с этой информацией проведите проверку гипотезы, используя уровень значимости 0,05. Прежде чем приступать к проверке гипотез, проверьте соответствующие предположения."
      ]
    },
    {
      "cell_type": "markdown",
      "metadata": {
        "id": "xq3J2_miqGej"
      },
      "source": [
        "#### 1. Определение гипотезы"
      ]
    },
    {
      "attachments": {},
      "cell_type": "markdown",
      "metadata": {},
      "source": [
        "Поскольку оценки прибыли получены для одного и того же интервала времени, данные парные."
      ]
    },
    {
      "attachments": {},
      "cell_type": "markdown",
      "metadata": {
        "id": "9iuhCOwyqGej"
      },
      "source": [
        "H₀: µd>=0 или истинная средняя разница равна или больше нуля.\n",
        "\n",
        "H₁: µd<0 или истинная средняя разница меньше нуля."
      ]
    },
    {
      "cell_type": "markdown",
      "metadata": {
        "id": "jKPEQhoUqGej"
      },
      "source": [
        "#### 2. Проверка предположений"
      ]
    },
    {
      "attachments": {},
      "cell_type": "markdown",
      "metadata": {},
      "source": [
        "Зависимая переменная должна быть непрерывной (интервал/отношение).\n",
        "\n",
        "• Наблюдения не зависят друг от друга.\n",
        "\n",
        "• Зависимая переменная должна иметь примерно нормальное распределение.\n",
        "\n",
        "H₀: данные нормально распределены.\n",
        "\n",
        "H₁: Данные не распределены нормально."
      ]
    },
    {
      "cell_type": "code",
      "execution_count": 14,
      "metadata": {},
      "outputs": [],
      "source": [
        "from scipy import stats\n",
        "\n",
        "def check_normality(data):\n",
        "    test_stat_normality, p_value_normality=stats.shapiro(data)\n",
        "    print(\"p value:%.4f\" % p_value_normality)\n",
        "    if p_value_normality <0.05:\n",
        "        print(\"Отклоняем нулевую гипотезу >> данные не имеют нормального распределения\")\n",
        "    else:\n",
        "        print(\"Не удается отклонить нулевую гипотезу >> данные нормально распределены\")     \n",
        "\n",
        "\n",
        "def check_variance_homogeneity(group1, group2):\n",
        "    test_stat_var, p_value_var= stats.levene(group1, group2)\n",
        "    print(\"p value:%.4f\" % p_value_var)\n",
        "    if p_value_var <0.05:\n",
        "        print(\"Отклоняем нулевую гипотезу >> дисперсии различны.\")\n",
        "    else:\n",
        "        print(\"Не удается отклонить нулевую гипотезу >> дисперсии совпадают.\")"
      ]
    },
    {
      "cell_type": "code",
      "execution_count": 13,
      "metadata": {
        "id": "9f9a85p0qGek"
      },
      "outputs": [
        {
          "name": "stdout",
          "output_type": "stream",
          "text": [
            "p value:0.0304\n",
            "Отклоняем нулевую гипотезу >> данные не имеют нормального распределения\n",
            "p value:0.9587\n",
            "Не удается отклонить нулевую гипотезу >> данные нормально распределены\n"
          ]
        }
      ],
      "source": [
        "check_normality(WayThere)\n",
        "check_normality(WayBack)"
      ]
    },
    {
      "cell_type": "markdown",
      "metadata": {
        "id": "HMzUtvcoqGek"
      },
      "source": [
        "#### 3. Выбор правильного теста"
      ]
    },
    {
      "attachments": {},
      "cell_type": "markdown",
      "metadata": {},
      "source": [
        "Предположение о нормальности не выполняется; поэтому нам нужно использовать непараметрическую версию парного теста, а именно критерий знакового ранга Уилкоксона."
      ]
    },
    {
      "attachments": {},
      "cell_type": "markdown",
      "metadata": {},
      "source": [
        "Используйте функцию `wilcoxon(WayBack, WayThere)` для проверки гипотезы о лучшей потенциальной прибыли."
      ]
    },
    {
      "cell_type": "code",
      "execution_count": null,
      "metadata": {
        "id": "FDGGsSP3qGek"
      },
      "outputs": [],
      "source": [
        "# Сформируйте программный код для проверки гипотезы"
      ]
    },
    {
      "cell_type": "markdown",
      "metadata": {
        "id": "CqWASQvxqGek"
      },
      "source": [
        "#### 4. Решение и заключение"
      ]
    },
    {
      "cell_type": "markdown",
      "metadata": {
        "id": "QlfTydb5qGek"
      },
      "source": [
        "В этой ячейке сделайте выводы по сформулированной гипотезе."
      ]
    },
    {
      "attachments": {},
      "cell_type": "markdown",
      "metadata": {},
      "source": [
        "### 2.2. Архитектор"
      ]
    },
    {
      "attachments": {},
      "cell_type": "markdown",
      "metadata": {},
      "source": [
        "Архитектору было любопытно, есть ли разница между разработанной им методологией по расчету предельных нагрузок С и базовыми методами А и В с точки зрения эффективности. Поэтому он решил провести разные эксперименты и зафиксировал достигнутую точность каждым методом. В таблице ниже показана точность, достигнутая на наборах тестов каждым методом. Для каждого метода использовались одни и те же наборы данных.\n",
        "\n",
        "|Эксперимент|A|B|C|\n",
        "|---|---|---|---|\n",
        "|E1\t|89.8\t|90.0\t|91.5|\n",
        "|E2\t|89.9\t|90.1\t|90.7|\n",
        "|E3\t|88.6\t|88.8\t|90.3|\n",
        "|E4\t|88.7\t|88.9\t|90.4|\n",
        "|E5\t|89.6\t|89.9\t|90.2|\n",
        "|E6\t|89.7\t|90.0\t|90.3|\n",
        "|E7\t|89.2\t|89.0\t|90.2|\n",
        "|E8\t|89.3\t|89.2\t|90.3|\n",
        "\n",
        "\n",
        "В соответствии с этой информацией проведите проверку гипотез, чтобы проверить, есть ли разница между эффективностью методов (эффективность - достижение более точных результатов), используя уровень значимости 0,05. Если есть значительная разница, выполните дальнейший анализ, чтобы найти, какой из них вызвал разницу. Прежде чем приступать к проверке гипотез, проверьте соответствующие предположения.\n",
        "\n",
        "Данные представлены ниже.\n"
      ]
    },
    {
      "cell_type": "code",
      "execution_count": 15,
      "metadata": {},
      "outputs": [],
      "source": [
        "method_A = np.array([89.8, 89.9, 88.6, 88.7, 89.6, 89.7, 89.2, 89.3])\n",
        "method_B =   np.array([90.0, 90.1, 88.8, 88.9, 89.9, 90.0, 89.0, 89.2])\n",
        "method_C = np.array([91.5, 90.7, 90.3, 90.4, 90.2, 90.3, 90.2, 90.3])"
      ]
    },
    {
      "cell_type": "markdown",
      "metadata": {},
      "source": [
        "#### 1. Определение гипотезы"
      ]
    },
    {
      "attachments": {},
      "cell_type": "markdown",
      "metadata": {},
      "source": [
        "H₀: μ₁=μ₂=μ₃ или Среднее значение образцов одинаково.\n",
        "\n",
        "H₁: По крайней мере, один из них отличается."
      ]
    },
    {
      "cell_type": "markdown",
      "metadata": {},
      "source": [
        "#### 2. Проверка предположений"
      ]
    },
    {
      "attachments": {},
      "cell_type": "markdown",
      "metadata": {},
      "source": [
        "H₀: данные нормально распределены.\n",
        "\n",
        "H₁: Данные не распределены нормально.\n",
        "\n",
        "H₀: дисперсии выборок одинаковы.\n",
        "\n",
        "H₁: Дисперсия сэмплов различна."
      ]
    },
    {
      "cell_type": "code",
      "execution_count": 17,
      "metadata": {},
      "outputs": [
        {
          "name": "stdout",
          "output_type": "stream",
          "text": [
            "p value:0.3076\n",
            "Не удается отклонить нулевую гипотезу >> данные нормально распределены\n",
            "p value:0.0515\n",
            "Не удается отклонить нулевую гипотезу >> данные нормально распределены\n",
            "p value:0.0016\n",
            "Отклоняем нулевую гипотезу >> данные не имеют нормального распределения\n"
          ]
        }
      ],
      "source": [
        "check_normality(method_A)\n",
        "check_normality(method_B)\n",
        "check_normality(method_C)\n",
        "\n"
      ]
    },
    {
      "cell_type": "code",
      "execution_count": 18,
      "metadata": {},
      "outputs": [
        {
          "name": "stdout",
          "output_type": "stream",
          "text": [
            "p value:0.1953\n",
            "Не удалось отклонить нулевую гипотезу >> дисперсии совпадают.\n"
          ]
        }
      ],
      "source": [
        "stat, pvalue_levene= stats.levene(method_A, method_B, method_C)\n",
        "\n",
        "print(\"p value:%.4f\" % pvalue_levene)\n",
        "if pvalue_levene <0.05:\n",
        "    print(\"Отклоняем нулевую гипотезу >> дисперсии различны.\")\n",
        "else:\n",
        "    print(\"Не удалось отклонить нулевую гипотезу >> дисперсии совпадают.\")"
      ]
    },
    {
      "cell_type": "markdown",
      "metadata": {},
      "source": [
        "#### 3. Выбор правильного теста"
      ]
    },
    {
      "attachments": {},
      "cell_type": "markdown",
      "metadata": {},
      "source": [
        "Есть три группы, но предположение о нормальности нарушено. Итак, нам нужно использовать непараметрическую версию ANOVA для парных данных, поскольку оценки точности получаются из одних и тех же наборов тестов."
      ]
    },
    {
      "attachments": {},
      "cell_type": "markdown",
      "metadata": {},
      "source": [
        "Используйте функцию `friedmanchisquare(method_A,method_B, method_C)` для проверки гипотезы о различии эффективности методов."
      ]
    },
    {
      "cell_type": "code",
      "execution_count": null,
      "metadata": {},
      "outputs": [],
      "source": [
        "# Сформируйте программный код для проверки гипотезы"
      ]
    },
    {
      "cell_type": "markdown",
      "metadata": {},
      "source": [
        "#### 4. Решение и заключение"
      ]
    },
    {
      "cell_type": "markdown",
      "metadata": {},
      "source": [
        "В этой ячейке сделайте выводы по сформулированной гипотезе."
      ]
    },
    {
      "attachments": {},
      "cell_type": "markdown",
      "metadata": {},
      "source": [
        "Поскольку данные не являются нормальными, используется непараметрическая версия апостериорного теста."
      ]
    },
    {
      "cell_type": "code",
      "execution_count": 19,
      "metadata": {},
      "outputs": [
        {
          "data": {
            "text/html": [
              "<style  type=\"text/css\" >\n",
              "#T_5107c289_d05e_11ed_9667_34cff6682db1row0_col0,#T_5107c289_d05e_11ed_9667_34cff6682db1row0_col1,#T_5107c289_d05e_11ed_9667_34cff6682db1row1_col0,#T_5107c289_d05e_11ed_9667_34cff6682db1row1_col1,#T_5107c289_d05e_11ed_9667_34cff6682db1row2_col2{\n",
              "            background-color:  white;\n",
              "        }#T_5107c289_d05e_11ed_9667_34cff6682db1row0_col2,#T_5107c289_d05e_11ed_9667_34cff6682db1row1_col2,#T_5107c289_d05e_11ed_9667_34cff6682db1row2_col0,#T_5107c289_d05e_11ed_9667_34cff6682db1row2_col1{\n",
              "            background-color: violet;\n",
              "        }</style><table id=\"T_5107c289_d05e_11ed_9667_34cff6682db1\" ><thead>    <tr>        <th class=\"blank level0\" ></th>        <th class=\"col_heading level0 col0\" >Method A</th>        <th class=\"col_heading level0 col1\" >Method B</th>        <th class=\"col_heading level0 col2\" >Method C</th>    </tr></thead><tbody>\n",
              "                <tr>\n",
              "                        <th id=\"T_5107c289_d05e_11ed_9667_34cff6682db1level0_row0\" class=\"row_heading level0 row0\" >Method A</th>\n",
              "                        <td id=\"T_5107c289_d05e_11ed_9667_34cff6682db1row0_col0\" class=\"data row0 col0\" >1.000000</td>\n",
              "                        <td id=\"T_5107c289_d05e_11ed_9667_34cff6682db1row0_col1\" class=\"data row0 col1\" >0.078125</td>\n",
              "                        <td id=\"T_5107c289_d05e_11ed_9667_34cff6682db1row0_col2\" class=\"data row0 col2\" >0.023438</td>\n",
              "            </tr>\n",
              "            <tr>\n",
              "                        <th id=\"T_5107c289_d05e_11ed_9667_34cff6682db1level0_row1\" class=\"row_heading level0 row1\" >Method B</th>\n",
              "                        <td id=\"T_5107c289_d05e_11ed_9667_34cff6682db1row1_col0\" class=\"data row1 col0\" >0.078125</td>\n",
              "                        <td id=\"T_5107c289_d05e_11ed_9667_34cff6682db1row1_col1\" class=\"data row1 col1\" >1.000000</td>\n",
              "                        <td id=\"T_5107c289_d05e_11ed_9667_34cff6682db1row1_col2\" class=\"data row1 col2\" >0.023438</td>\n",
              "            </tr>\n",
              "            <tr>\n",
              "                        <th id=\"T_5107c289_d05e_11ed_9667_34cff6682db1level0_row2\" class=\"row_heading level0 row2\" >Method C</th>\n",
              "                        <td id=\"T_5107c289_d05e_11ed_9667_34cff6682db1row2_col0\" class=\"data row2 col0\" >0.023438</td>\n",
              "                        <td id=\"T_5107c289_d05e_11ed_9667_34cff6682db1row2_col1\" class=\"data row2 col1\" >0.023438</td>\n",
              "                        <td id=\"T_5107c289_d05e_11ed_9667_34cff6682db1row2_col2\" class=\"data row2 col2\" >1.000000</td>\n",
              "            </tr>\n",
              "    </tbody></table>"
            ],
            "text/plain": [
              "<pandas.io.formats.style.Styler at 0x23099dc0ee0>"
            ]
          },
          "execution_count": 19,
          "metadata": {},
          "output_type": "execute_result"
        }
      ],
      "source": [
        "import pandas as pd\n",
        "import scikit_posthocs as sp\n",
        "\n",
        "data = np.array([method_A, method_B, method_C]) \n",
        "posthoc_df=sp.posthoc_wilcoxon(data, p_adjust=\"holm\")\n",
        "\n",
        "group_names= [\"Method A\", \"Method B\",\"Method C\"]\n",
        "posthoc_df.columns= group_names\n",
        "posthoc_df.index= group_names\n",
        "posthoc_df.style.applymap(lambda x: \"background-color:violet\" if x<0.05 else \"background-color: white\")"
      ]
    },
    {
      "attachments": {},
      "cell_type": "markdown",
      "metadata": {},
      "source": [
        "Сделайте вывод, какой из методов лучше по эффективности."
      ]
    }
  ],
  "metadata": {
    "colab": {
      "provenance": []
    },
    "kernelspec": {
      "display_name": "Python 3.8.5 ('base')",
      "language": "python",
      "name": "python3"
    },
    "language_info": {
      "codemirror_mode": {
        "name": "ipython",
        "version": 3
      },
      "file_extension": ".py",
      "mimetype": "text/x-python",
      "name": "python",
      "nbconvert_exporter": "python",
      "pygments_lexer": "ipython3",
      "version": "3.8.5"
    },
    "vscode": {
      "interpreter": {
        "hash": "ad2bdc8ecc057115af97d19610ffacc2b4e99fae6737bb82f5d7fb13d2f2c186"
      }
    }
  },
  "nbformat": 4,
  "nbformat_minor": 0
}
