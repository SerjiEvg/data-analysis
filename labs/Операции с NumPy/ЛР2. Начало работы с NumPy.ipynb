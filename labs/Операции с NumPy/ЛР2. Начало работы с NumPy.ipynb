{
  "cells": [
    {
      "cell_type": "markdown",
      "metadata": {
        "id": "zqF9S5NlxkCA"
      },
      "source": [
        "# Лабораторная работа №2 Начало работы с библиотекой NumPy"
      ]
    },
    {
      "cell_type": "markdown",
      "source": [
        "Numpy — это библиотека с открытым исходным кодом для эффективной работы с массивами. Это критически важная библиотека обработки данных в Python, многие другие библиотеки зависят от нее."
      ],
      "metadata": {
        "id": "1Jlf30nHx5Q3"
      }
    },
    {
      "cell_type": "markdown",
      "source": [
        "Некоторые из преимуществ Numpy:\n",
        "\n",
        "- Математические операции с объектами ndarray в NumPy выполняются до 50 раз быстрее, чем перебор собственных списков Python с использованием циклов. Повышение эффективности в первую очередь связано с тем, что NumPy хранит элементы массива в упорядоченном едином месте в памяти, устраняя избыточность за счет того, что все элементы относятся к одному типу, и в полной мере использует современные процессоры. Преимущества в эффективности становятся особенно очевидными при работе с массивами с тысячами или миллионами элементов, что довольно стандартно для науки о данных.\n",
        "\n",
        "- Библиотека предлагает синтаксис индексирования для простого доступа к частям данных в массиве.\n",
        "\n",
        "- NumPy содержит встроенные функции, которые улучшают качество жизни при работе с массивами и математикой, такие как функции для линейной алгебры, преобразования массивов и матричной математики.\n",
        "\n",
        "- Для большинства математических операций требуется меньше строк кода, чем для собственных списков Python."
      ],
      "metadata": {
        "id": "SztqM9zAzVgc"
      }
    },
    {
      "cell_type": "markdown",
      "source": [
        "### Цель лабораторной работы:"
      ],
      "metadata": {
        "id": "-dAYjTnfx5qp"
      }
    },
    {
      "cell_type": "markdown",
      "source": [
        "В этой лаборторной работе нужно познакомится с основными методами библиотеки NumPy для обработки числовых данных. \n",
        "\n",
        "\n",
        "Лабораторная работа предоставляется на проверку в виде блокнота Jupiter Notebook с сформированными ответами в кодовых ячейках и вычисленным результатом. Ячейки с заданиями удалять не нужно."
      ],
      "metadata": {
        "id": "jhuqsgkLx9Me"
      }
    },
    {
      "cell_type": "markdown",
      "source": [
        "### Инструментарий"
      ],
      "metadata": {
        "id": "wkFdWGL1x_3M"
      }
    },
    {
      "cell_type": "markdown",
      "source": [
        "Работа может выполняться с использованием:\n",
        "- Сервиса Google Colab (обработка блокнотов формата Jupiter Notebook)\n",
        "- Локального сервера Jupiter Notebook или Jupiter Lab (обработка блокнотов формата Jupiter Notebook)\n",
        "- Редактора VS Studio Code с установленными плагинами языка Python."
      ],
      "metadata": {
        "id": "ZVgN3bodyCNC"
      }
    },
    {
      "cell_type": "markdown",
      "source": [
        "# 1. Базовые операции с NumPy"
      ],
      "metadata": {
        "id": "9QzFP5CiyFRZ"
      }
    },
    {
      "cell_type": "markdown",
      "metadata": {
        "id": "TqfRZO3CxkCB"
      },
      "source": [
        "1. Импортируйте пакет numpy под именем np (★☆☆)"
      ]
    },
    {
      "cell_type": "code",
      "execution_count": null,
      "metadata": {
        "id": "5PK0auMHxkCD"
      },
      "outputs": [],
      "source": [
        "# Сюда должен быть добавлен код"
      ]
    },
    {
      "cell_type": "markdown",
      "metadata": {
        "id": "nzMaYmjaxkCE"
      },
      "source": [
        "2. Распечатайте версию numpy и конфигурацию (★☆☆)"
      ]
    },
    {
      "cell_type": "code",
      "execution_count": null,
      "metadata": {
        "id": "ommHBkmzxkCE"
      },
      "outputs": [],
      "source": [
        "# Сюда должен быть добавлен код"
      ]
    },
    {
      "cell_type": "markdown",
      "metadata": {
        "id": "roDi3U9IxkCF"
      },
      "source": [
        "3. Создайте нулевой вектор размера 10 (★☆☆)"
      ]
    },
    {
      "cell_type": "code",
      "execution_count": null,
      "metadata": {
        "id": "CflQymqWxkCF"
      },
      "outputs": [],
      "source": [
        "# Сюда должен быть добавлен код"
      ]
    },
    {
      "cell_type": "markdown",
      "metadata": {
        "id": "ZNQPO8_hxkCF"
      },
      "source": [
        "4. Как узнать размер памяти, которую занимает произвольный массив (★☆☆)"
      ]
    },
    {
      "cell_type": "code",
      "execution_count": null,
      "metadata": {
        "id": "YtmSPWfaxkCG"
      },
      "outputs": [],
      "source": [
        "# Сюда должен быть добавлен код"
      ]
    },
    {
      "cell_type": "markdown",
      "metadata": {
        "id": "IdGBdVDVxkCH"
      },
      "source": [
        "5. Создайте нулевой вектор размера 10, но значение его пятого элемента, определите равным 1 (★☆☆)"
      ]
    },
    {
      "cell_type": "code",
      "execution_count": null,
      "metadata": {
        "id": "Nf2vhMwjxkCH"
      },
      "outputs": [],
      "source": [
        "# Сюда должен быть добавлен код"
      ]
    },
    {
      "cell_type": "markdown",
      "metadata": {
        "id": "7EIbRvmKxkCH"
      },
      "source": [
        "6. Создайте вектор со значениями от 12 до 49 (★☆☆)"
      ]
    },
    {
      "cell_type": "code",
      "execution_count": null,
      "metadata": {
        "id": "k3S1NhVDxkCH"
      },
      "outputs": [],
      "source": [
        "# Сюда должен быть добавлен код"
      ]
    },
    {
      "cell_type": "markdown",
      "metadata": {
        "id": "3TDe52sjxkCH"
      },
      "source": [
        "8. Переверните вектор, созданным в задании №6 (первый элемент становится последним) (★☆☆)"
      ]
    },
    {
      "cell_type": "code",
      "execution_count": null,
      "metadata": {
        "id": "KpCFNrLNxkCI"
      },
      "outputs": [],
      "source": [
        "# Сюда должен быть добавлен код"
      ]
    },
    {
      "cell_type": "markdown",
      "metadata": {
        "id": "dHe-gA08xkCI"
      },
      "source": [
        "9. Создайте матрицу 3x3 со значениями от 0 до 8 (★☆☆)"
      ]
    },
    {
      "cell_type": "code",
      "execution_count": null,
      "metadata": {
        "id": "TiifWTPaxkCI"
      },
      "outputs": [],
      "source": [
        "# Сюда должен быть добавлен код"
      ]
    },
    {
      "cell_type": "markdown",
      "metadata": {
        "id": "HQwv4ov5xkCI"
      },
      "source": [
        "10. Найдите индексы ненулевых элементов из вектора вида [1, 2, 0, 0, 4, 0] (★☆☆)"
      ]
    },
    {
      "cell_type": "code",
      "execution_count": null,
      "metadata": {
        "id": "iK1DP-NQxkCI"
      },
      "outputs": [],
      "source": [
        "# Сюда должен быть добавлен код"
      ]
    },
    {
      "cell_type": "markdown",
      "metadata": {
        "id": "whZ6_r9axkCI"
      },
      "source": [
        "11. Создайте матрицу идентичности 3x3 для полносвязного графа (★☆☆)\n",
        "\n",
        "[Матрица инцидентности](https://ru.wikipedia.org/wiki/%D0%9C%D0%B0%D1%82%D1%80%D0%B8%D1%86%D0%B0_%D0%B8%D0%BD%D1%86%D0%B8%D0%B4%D0%B5%D0%BD%D1%82%D0%BD%D0%BE%D1%81%D1%82%D0%B8) — одна из форм представления графа, в которой указываются связи между инцидентными элементами графа (ребро(дуга) и вершина). Столбцы матрицы соответствуют ребрам, строки — вершинам. Ненулевое значение в ячейке матрицы указывает связь между вершиной и ребром."
      ]
    },
    {
      "cell_type": "markdown",
      "source": [
        "![image.png](data:image/png;base64,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)"
      ],
      "metadata": {
        "id": "ULNKlYSE6sJN"
      }
    },
    {
      "cell_type": "code",
      "execution_count": null,
      "metadata": {
        "id": "Nxel7bK1xkCJ"
      },
      "outputs": [],
      "source": [
        "# Сюда должен быть добавлен код"
      ]
    },
    {
      "cell_type": "markdown",
      "metadata": {
        "id": "_-ftXCEPxkCJ"
      },
      "source": [
        "12. Создайте массив 3x3x3 со случайными значениями (★☆☆)"
      ]
    },
    {
      "cell_type": "code",
      "execution_count": null,
      "metadata": {
        "id": "joXDFBajxkCJ"
      },
      "outputs": [],
      "source": [
        "# Сюда должен быть добавлен код"
      ]
    },
    {
      "cell_type": "markdown",
      "metadata": {
        "id": "ZR3koEz-xkCJ"
      },
      "source": [
        "13. Создайте массив 10x10 со случайными значениями и найдите минимальное и максимальное значения массива (★☆☆)"
      ]
    },
    {
      "cell_type": "code",
      "execution_count": null,
      "metadata": {
        "id": "mduQcQ85xkCJ"
      },
      "outputs": [],
      "source": [
        "# Сюда должен быть добавлен код"
      ]
    },
    {
      "cell_type": "markdown",
      "metadata": {
        "id": "2tGYv-xexkCJ"
      },
      "source": [
        "14. Создайте случайный вектор размера 30 и найдите среднее значение вектора (★☆☆)"
      ]
    },
    {
      "cell_type": "code",
      "execution_count": null,
      "metadata": {
        "id": "uDWSZgISxkCJ"
      },
      "outputs": [],
      "source": [
        "# Сюда должен быть добавлен код"
      ]
    },
    {
      "cell_type": "markdown",
      "metadata": {
        "id": "qst92oJjxkCJ"
      },
      "source": [
        "15. Создайте массив двумерный массив с 1 на границе и 0 внутри (★☆☆)"
      ]
    },
    {
      "cell_type": "code",
      "execution_count": null,
      "metadata": {
        "id": "Mc7T_rgHxkCK"
      },
      "outputs": [],
      "source": [
        "# Сюда должен быть добавлен код"
      ]
    }
  ],
  "metadata": {
    "colab": {
      "provenance": []
    },
    "kernelspec": {
      "display_name": "Python 3.8.5 ('base')",
      "language": "python",
      "name": "python3"
    },
    "language_info": {
      "codemirror_mode": {
        "name": "ipython",
        "version": 3
      },
      "file_extension": ".py",
      "mimetype": "text/x-python",
      "name": "python",
      "nbconvert_exporter": "python",
      "pygments_lexer": "ipython3",
      "version": "3.8.5"
    },
    "vscode": {
      "interpreter": {
        "hash": "220a1f83d29b5a15459b3a1b4613b4e51f14127328c351d796cd85538fc5a5c1"
      }
    }
  },
  "nbformat": 4,
  "nbformat_minor": 0
}