{
  "cells": [
    {
      "cell_type": "markdown",
      "metadata": {
        "id": "zqF9S5NlxkCA"
      },
      "source": [
        "# Лабораторная работа №3 Геометрия, алгебраические операции и решение СЛУ"
      ]
    },
    {
      "cell_type": "markdown",
      "metadata": {
        "id": "-dAYjTnfx5qp"
      },
      "source": [
        "### Цель лабораторной работы:"
      ]
    },
    {
      "cell_type": "markdown",
      "source": [
        "Познакомится с необходимым инструментарием линейной алгебры в разрезе применения методов в машинном обучении. Освоить работу с пакетом scipy.linalg."
      ],
      "metadata": {
        "id": "ImCdx4ZdWR_o"
      }
    },
    {
      "cell_type": "markdown",
      "source": [
        "# Библиотека SciPy"
      ],
      "metadata": {
        "id": "qylB8cSRi6uX"
      }
    },
    {
      "cell_type": "markdown",
      "source": [
        "**Линейная алгебра** является важной темой для множества предметных областей, а для специалистов занимающихся машинным обучением она просто необходима. Методы линейной алгебры позволяют решать задачи, связанные с векторами, матрицами и линейными уравнениями. В Python большинство алгоритмов линейной алгебры, реализованы в библиотеке scipy.linalg.\n",
        "\n",
        "В частности, линейные модели играют важную роль в различных реальных задачах и scipy.linalg предоставляют инструменты для их эффективной обработки."
      ],
      "metadata": {
        "id": "LP2In2-9W9tM"
      }
    },
    {
      "cell_type": "markdown",
      "source": [
        "## Начало работы с scipy.linalg"
      ],
      "metadata": {
        "id": "G7j6vEWx1Z1j"
      }
    },
    {
      "cell_type": "markdown",
      "source": [
        "**SciPy** — это библиотека Python с открытым исходным кодом, используемая для научных вычислений. Она включает несколько модулей для решения общих задач, таких как линейная алгебра, оптимизация, интеграция, интерполяция и обработка сигналов. \n",
        "\n",
        "stats       --- Statistical Functions [*]\n",
        "\n",
        "sparse      --- Sparse matrix [*]\n",
        "\n",
        "lib         --- Python wrappers to external libraries [*]\n",
        "\n",
        "linalg      --- Linear algebra routines [*]\n",
        "\n",
        "signal      --- Signal Processing Tools [*]\n",
        "\n",
        "misc        --- Various utilities that don't have another home.\n",
        "\n",
        "interpolate --- Interpolation Tools [*]\n",
        "\n",
        "optimize    --- Optimization Tools [*]\n",
        "\n",
        "cluster     --- Vector Quantization / Kmeans [*]\n",
        "\n",
        "fftpack     --- Discrete Fourier Transform algorithms [*]\n",
        "\n",
        "io          --- Data input and output [*]\n",
        "\n",
        "integrate   --- Integration routines [*]\n",
        "\n",
        "lib.lapack  --- Wrappers to LAPACK library [*]\n",
        "\n",
        "special     --- Special Functions [*]\n",
        "\n",
        "lib.blas    --- Wrappers to BLAS library [*]\n",
        "\n",
        "Это часть программного стека, который включает несколько других пакетов для научных вычислений и визуализации, таких как NumPy, Matplotlib, SymPy, IPython и Pandas."
      ],
      "metadata": {
        "id": "i9eLdTD61iPv"
      }
    },
    {
      "cell_type": "markdown",
      "source": [
        "Для того, чтобы использовать необходимые нам методы линейной алгебры, выполняем установку пакета **scipy**. Это можно сделать командой **%pip install scipy** или **!pip install scipy**"
      ],
      "metadata": {
        "id": "Q6PNjgt_2daU"
      }
    },
    {
      "cell_type": "code",
      "source": [
        "%pip install scipy"
      ],
      "metadata": {
        "colab": {
          "base_uri": "https://localhost:8080/"
        },
        "id": "ce4blNNO2N1b",
        "outputId": "415003ef-eec7-4804-d5d8-5e08ecacce65"
      },
      "execution_count": null,
      "outputs": [
        {
          "output_type": "stream",
          "name": "stdout",
          "text": [
            "Looking in indexes: https://pypi.org/simple, https://us-python.pkg.dev/colab-wheels/public/simple/\n",
            "Requirement already satisfied: scipy in /usr/local/lib/python3.8/dist-packages (1.7.3)\n",
            "Requirement already satisfied: numpy<1.23.0,>=1.16.5 in /usr/local/lib/python3.8/dist-packages (from scipy) (1.21.6)\n"
          ]
        }
      ]
    },
    {
      "cell_type": "markdown",
      "source": [
        "Импортируем пакет и выводим его версию"
      ],
      "metadata": {
        "id": "0uU1cDkq22uy"
      }
    },
    {
      "cell_type": "code",
      "source": [
        "import scipy\n",
        "scipy.__version__"
      ],
      "metadata": {
        "colab": {
          "base_uri": "https://localhost:8080/",
          "height": 36
        },
        "id": "eXI4tLDy2Jw0",
        "outputId": "f286f342-4655-4739-80b5-d24b6413028a"
      },
      "execution_count": null,
      "outputs": [
        {
          "output_type": "execute_result",
          "data": {
            "text/plain": [
              "'1.7.3'"
            ],
            "application/vnd.google.colaboratory.intrinsic+json": {
              "type": "string"
            }
          },
          "metadata": {},
          "execution_count": 14
        }
      ]
    },
    {
      "cell_type": "markdown",
      "source": [
        "## Сравнение scipy.linalg с numpy.linalg"
      ],
      "metadata": {
        "id": "RFAh3OcJ1iM4"
      }
    },
    {
      "cell_type": "markdown",
      "source": [
        "Пакет numpy.linalg библиотеки NumPy содержит инструменты для работы с приложениями линейной алгебры. Однако, если мы не хотим добавлять SciPy в качестве зависимости в свой проект, то лучше использовать **scipy.linalg** по следующим причинам:\n",
        "\n",
        "- как поясняется в официальной документации, scipy.linalg содержит все функции в numpy.linalg плюс некоторые дополнительные расширенные функции, которые не включены в numpy.linalg.\n",
        "\n",
        "- scipy.linalg всегда компилируется с поддержкой BLAS и LAPACK, которые представляют собой библиотеки, включающие подпрограммы для выполнения числовых операций оптимизированным способом. Для numpy.linalg, использование BLAS и LAPACK необязательно. Таким образом, в зависимости от того, как мы устанавливаете NumPy, функции scipy.linalg могут работать быстрее, чем функции из numpy.linalg.\n",
        "\n",
        "В общем, учитывая, что научные и технические приложения, как правило, не имеют ограничений в отношении зависимостей, рекомендуется установить SciPy и использовать scipy.linalg вместо numpy.linalg."
      ],
      "metadata": {
        "id": "A-wCSMR01iJx"
      }
    },
    {
      "cell_type": "markdown",
      "source": [
        "# Вектора, матрицы и роль линейной алгебры в машинном обучении"
      ],
      "metadata": {
        "id": "AP3MyCZcXd_Q"
      }
    },
    {
      "cell_type": "markdown",
      "source": [
        "**Линейная алгебра** — это раздел математики, который занимается линейными уравнениями и их представлениями с помощью векторов и матриц. Это фундаментальный предмет в нескольких областях инженерии и необходимое условие для более глубокого понимания машинного обучения.\n",
        "\n",
        "Для работы с линейной алгеброй в Python мы можем рассчитывать на SciPy — библиотеку Python с открытым исходным кодом, используемую для научных вычислений, включающую несколько модулей для общих задач в науке и технике.\n",
        "\n",
        "Конечно, в SciPy есть модули для линейной алгебры, но это еще не все. Она также предлагает возможности оптимизации, интеграции, интерполяции и обработки сигналов. Это часть стека SciPy, который включает несколько других пакетов для научных вычислений, таких как **NumPy**, **Matplotlib**, **SymPy**, **IPython** и **Pandas**.\n",
        "\n",
        "Пакет scipy.linalg включает в себя несколько инструментов для работы с задачами линейной алгебры, включая функции для выполнения матричных вычислений, таких как **определители**, **инверсии**, **собственные значения**, с**обственные векторы** и **разложение по сингулярным числам**."
      ],
      "metadata": {
        "id": "eb9-eTl2Xd8I"
      }
    },
    {
      "cell_type": "markdown",
      "source": [
        "**Вектор** — это математическая единица , используемая для представления физических величин, которые имеют как величину, так и направление. Это фундаментальный инструмент для решения инженерных задач и задач машинного обучения. То же самое и с матрицами , которые используются для представления векторных преобразований, среди других приложений."
      ],
      "metadata": {
        "id": "zYZm3L33Xd49"
      }
    },
    {
      "cell_type": "markdown",
      "source": [
        "В Python наиболее часто используемой библиотекой для работы с матрицами и векторами является **NumPy**. Она использует специальный тип, учитывающий их представления. Например, нам нужно создать матрицу ndarray, это можно сделать следующим образом:"
      ],
      "metadata": {
        "id": "L7ja6tFdXd1h"
      }
    },
    {
      "cell_type": "code",
      "source": [
        "import numpy as np\n",
        "\n",
        "np.array([[1, 2], [3, 4], [5, 6]])"
      ],
      "metadata": {
        "colab": {
          "base_uri": "https://localhost:8080/"
        },
        "id": "6xG8NplRZ7-a",
        "outputId": "53e494df-ce8c-4cd4-a314-be6de792da4a"
      },
      "execution_count": null,
      "outputs": [
        {
          "output_type": "execute_result",
          "data": {
            "text/plain": [
              "array([[1, 2],\n",
              "       [3, 4],\n",
              "       [5, 6]])"
            ]
          },
          "metadata": {},
          "execution_count": 1
        }
      ]
    },
    {
      "cell_type": "markdown",
      "source": [
        "**Линейная система** или, точнее, система линейных уравнений — это набор уравнений, линейно относящихся к набору переменных. Вот пример линейной системы, связанной с переменными x₁ и x₂:"
      ],
      "metadata": {
        "id": "stvO0LrgZ4yM"
      }
    },
    {
      "cell_type": "markdown",
      "source": [
        "$$\n",
        "  \\begin{cases}\n",
        "      3x_{1} + 2x_{2} = 12 \\\\\n",
        "      2x_{1} - 1x_{2} = 1\n",
        "  \\end{cases}\n",
        "$$"
      ],
      "metadata": {
        "id": "BiVKwRwoZ4vS"
      }
    },
    {
      "cell_type": "markdown",
      "source": [
        "Здесь у нас есть два уравнения с двумя переменными. Чтобы это было линейной системой, значения, на которые умножаются переменные x₁ и x₂, должны быть константами (как в этом примере). \n",
        "\n",
        "Обычно линейные системы записывают с использованием матриц и векторов. Например, мы можем записать предыдущую систему в виде **матричного произведения**:"
      ],
      "metadata": {
        "id": "v0oyPlrrZ4sE"
      }
    },
    {
      "cell_type": "markdown",
      "source": [
        "![image.png](data:image/png;base64,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)"
      ],
      "metadata": {
        "id": "KwQZ1T5JZ4pD"
      }
    },
    {
      "cell_type": "markdown",
      "source": [
        "Сравнивая форму матричного произведения с исходной системой, можно заметить, что элементы матрицы A соответствуют **коэффициентам**, умножающим x₁ и x₂. Кроме того, значения в правой части исходных уравнений теперь составляют **вектор b**."
      ],
      "metadata": {
        "id": "ITAK-G-OZ4hC"
      }
    },
    {
      "cell_type": "markdown",
      "source": [
        "**Линейная алгебра** — это математическая дисциплина, которая имеет дело с векторами, матрицами, векторными пространствами и линейными преобразованиями в более общем смысле. Используя концепции линейной алгебры, можно построить алгоритмы для выполнения вычислений для нескольких приложений, включая решение линейных систем.\n",
        "\n",
        "Когда есть только два или три уравнения и переменных, расчеты проще выполнить вручную, объединив уравнения для определения значения переменных.\n",
        "\n",
        "Однако в реальных приложениях количество уравнений может быть очень большим, что делает невозможным выполнение расчетов вручную. Именно тогда на помощь приходят концепции и алгоритмы линейной алгебры, позволяющие разрабатывать полезные приложения, например, для инженерии и машинного обучения."
      ],
      "metadata": {
        "id": "nt4c_MeoaV8l"
      }
    },
    {
      "cell_type": "markdown",
      "source": [
        "## Решение задач с использованием обратных матриц и определителей"
      ],
      "metadata": {
        "id": "GKEBgV3DaV50"
      }
    },
    {
      "cell_type": "markdown",
      "source": [
        "**Обратные матрицы и определители** — это инструменты, которые позволяют  получить некоторую информацию о линейной системе, а также решить ее. "
      ],
      "metadata": {
        "id": "E2y9V-ovaV23"
      }
    },
    {
      "cell_type": "markdown",
      "source": [
        "### Использование определителей для изучения линейных систем"
      ],
      "metadata": {
        "id": "cv69f1LcaV0B"
      }
    },
    {
      "cell_type": "markdown",
      "source": [
        "Из курса математики и линейной алгебры известно что, не каждую линейную систему можно решить. У нас может быть комбинация уравнений, которая несовместима и не имеет решения. \n",
        "\n",
        "Например, система с двумя уравнениями, заданными в виде: x₁ + x₂ = 2 и x₁ + x₂ = 3, несовместима и не имеет решения. Это происходит потому, что никакие два числа x₁ и x₂ не могут одновременно представлять значения 2 и 3.\n",
        "\n",
        "Кроме того, некоторые системы могут быть решены, но иметь более одного решения. Например, если у вас есть система с двумя эквивалентными уравнениями, такими как: x₁ + x₂ = 2 и 2x₁ + 2x₂ = 4, то мы можем найти **бесконечное количество решений**, таких как (x₁=1, х₂=1), ​​(х₁=0, х₂=2), (х₁=2, х₂=0) и так далее."
      ],
      "metadata": {
        "id": "t8l_GpEvaVw6"
      }
    },
    {
      "cell_type": "markdown",
      "source": [
        "**Определитель** — это число, вычисленное с использованием матрицы коэффициентов, которое говорит нам, есть ли решение для системы. \n",
        "\n",
        "Поскольку мы будем использовать scipy.linalg для его расчета, то не нужно особо заботиться о деталях того, как выполнить этот расчет. Однако нужно иметь в виду следующее:\n",
        "\n",
        "- Если определитель матрицы коэффициентов линейной системы **отличен от нуля**, то можно сказать, что система имеет **единственное решение**.\n",
        "\n",
        "- Если определитель матрицы коэффициентов линейной системы **равен нулю**, то система может иметь либо нулевые решения, либо **бесконечное число решений**."
      ],
      "metadata": {
        "id": "ePc8NYaBaVuE"
      }
    },
    {
      "cell_type": "markdown",
      "source": [
        "### Использование инверсий матрицы для решения линейных систем"
      ],
      "metadata": {
        "id": "IVD-cnVGaVq6"
      }
    },
    {
      "cell_type": "markdown",
      "source": [
        "Чтобы понять идею, лежащую в основе **обратной матрицы**, начнем с того, что вспомним **концепцию мультипликативной обратной матрицы числа**. \n",
        "\n",
        "Когда число умножается на обратное, в результате мы получим 1. Например, возьмем число 3 в качестве примера. Число, обратное 3, равно 1/3, и если мы умножим эти числа, то получим 3 × 1/3 = 1.\n",
        "\n",
        "С квадратными матрицами можно реализовать аналогичную идею. Однако вместо 1 в результате мы получим **единичную матрицу**. Единичная матрица имеет единицы на диагонали и нули в элементах за пределами диагонали, как в следующих примерах:"
      ],
      "metadata": {
        "id": "68hlRlPkbWPQ"
      }
    },
    {
      "cell_type": "markdown",
      "source": [
        "![image.png](data:image/png;base64,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)"
      ],
      "metadata": {
        "id": "IfPAy6dobWMU"
      }
    },
    {
      "cell_type": "markdown",
      "source": [
        "**Единичная матрица** обладает интересным свойством: при умножении на другую матрицу A той же размерности получается результат A. Это верно и для числа 1, если рассматривать умножение чисел.\n",
        "\n",
        "Все это позволяет решать линейную систему, выполняя те же действия, что и для решения уравнения. В качестве примера, рассмотрим следующую линейную систему, записанную в виде произведения матриц:"
      ],
      "metadata": {
        "id": "-VayVKR7bWJV"
      }
    },
    {
      "cell_type": "markdown",
      "source": [
        "![image.png](data:image/png;base64,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)"
      ],
      "metadata": {
        "id": "OAheepGvbWGL"
      }
    },
    {
      "cell_type": "markdown",
      "source": [
        "Назвав **A⁻¹** обратной матрицей **A**, мы можем умножить обе части уравнения на **A⁻¹**, что даст следующий результат:"
      ],
      "metadata": {
        "id": "w_Z1Hx6abWCy"
      }
    },
    {
      "cell_type": "markdown",
      "source": [
        "![image.png](data:image/png;base64,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)"
      ],
      "metadata": {
        "id": "XkAOsszNcC0f"
      }
    },
    {
      "cell_type": "markdown",
      "source": [
        "Таким образом, используя **обратную функцию A⁻¹**, мы можем получить решение x для системы, вычислив **A⁻¹b** .\n",
        "\n",
        "Стоит отметить, что, хотя ненулевые числа всегда имеют обратное значение, не все матрицы имеют обратную. Когда система не имеет решения или имеет несколько решений, определитель **A** будет равен нулю, а **обратное значение A⁻¹** не будет существовать."
      ],
      "metadata": {
        "id": "rsCjV_AwcCxi"
      }
    },
    {
      "cell_type": "markdown",
      "source": [
        "Рассмотрим задачу определения обратной матрицы. Для получения обратной матрицы будем использовать функцию inv():"
      ],
      "metadata": {
        "id": "bqLxcdG_yg4a"
      }
    },
    {
      "cell_type": "code",
      "source": [
        "A = np.matrix('1 -3; 2 5')\n",
        "A_inv = np.linalg.inv(A)\n",
        "print(A_inv)"
      ],
      "metadata": {
        "colab": {
          "base_uri": "https://localhost:8080/"
        },
        "id": "Jp6ZMKcsypan",
        "outputId": "404b3dc1-0237-4151-c746-009da0de843a"
      },
      "execution_count": null,
      "outputs": [
        {
          "output_type": "stream",
          "name": "stdout",
          "text": [
            "[[ 0.45454545  0.27272727]\n",
            " [-0.18181818  0.09090909]]\n"
          ]
        }
      ]
    },
    {
      "cell_type": "markdown",
      "source": [
        "### Свойства обратной матрицы:"
      ],
      "metadata": {
        "id": "O-OwR-BTynFc"
      }
    },
    {
      "cell_type": "markdown",
      "source": [
        "**Свойство 1.** Обратная матрица обратной матрицы есть исходная матрица:"
      ],
      "metadata": {
        "id": "3YyLvHt6y7yJ"
      }
    },
    {
      "cell_type": "markdown",
      "source": [
        "![image.png](data:image/png;base64,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)"
      ],
      "metadata": {
        "id": "qUtwpK5Uy85k"
      }
    },
    {
      "cell_type": "code",
      "source": [
        "A = np.matrix('1. -3.; 2. 5.')\n",
        "A_inv = np.linalg.inv(A)\n",
        "A_inv_inv = np.linalg.inv(A_inv)\n",
        "\n",
        "print(A)\n",
        "\n",
        "print(A_inv_inv)"
      ],
      "metadata": {
        "colab": {
          "base_uri": "https://localhost:8080/"
        },
        "id": "2UZ11D36zERl",
        "outputId": "cd7975c4-3344-4548-a201-4e4a891943a3"
      },
      "execution_count": null,
      "outputs": [
        {
          "output_type": "stream",
          "name": "stdout",
          "text": [
            "[[ 1. -3.]\n",
            " [ 2.  5.]]\n",
            "[[ 1. -3.]\n",
            " [ 2.  5.]]\n"
          ]
        }
      ]
    },
    {
      "cell_type": "markdown",
      "source": [
        "**Свойство 2.** Обратная матрица транспонированной матрицы равна транспонированной матрице от обратной матрицы:"
      ],
      "metadata": {
        "id": "6ZXo0T3my83I"
      }
    },
    {
      "cell_type": "markdown",
      "source": [
        "![image.png](data:image/png;base64,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)"
      ],
      "metadata": {
        "id": "VDGdz5vSy80S"
      }
    },
    {
      "cell_type": "code",
      "source": [
        "A = np.matrix('1. -3.; 2. 5.')\n",
        "L = np.linalg.inv(A.T)\n",
        "R = (np.linalg.inv(A)).T\n",
        "print(L)\n",
        "\n",
        "print(R)"
      ],
      "metadata": {
        "colab": {
          "base_uri": "https://localhost:8080/"
        },
        "id": "Zj971dkjzRa5",
        "outputId": "e50dbf03-6d72-4947-c9ec-d3e807a00514"
      },
      "execution_count": null,
      "outputs": [
        {
          "output_type": "stream",
          "name": "stdout",
          "text": [
            "[[ 0.45454545 -0.18181818]\n",
            " [ 0.27272727  0.09090909]]\n",
            "[[ 0.45454545 -0.18181818]\n",
            " [ 0.27272727  0.09090909]]\n"
          ]
        }
      ]
    },
    {
      "cell_type": "markdown",
      "source": [
        "**Свойство 3.** Обратная матрица произведения матриц равна произведению обратных матриц:"
      ],
      "metadata": {
        "id": "BzClvUFry8xG"
      }
    },
    {
      "cell_type": "markdown",
      "source": [
        "![image.png](data:image/png;base64,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)"
      ],
      "metadata": {
        "id": "hMMuIRLhzYZW"
      }
    },
    {
      "cell_type": "code",
      "source": [
        "A = np.matrix('1. -3.; 2. 5.')\n",
        "B = np.matrix('7. 6.; 1. 8.')\n",
        "L = np.linalg.inv(A.dot(B))\n",
        "R = np.linalg.inv(B).dot(np.linalg.inv(A))\n",
        "print(L)\n",
        "\n",
        "print(R)"
      ],
      "metadata": {
        "colab": {
          "base_uri": "https://localhost:8080/"
        },
        "id": "jZ1vWApJzjAa",
        "outputId": "51b97f0c-b079-491a-9fcd-ca2f51560838"
      },
      "execution_count": null,
      "outputs": [
        {
          "output_type": "stream",
          "name": "stdout",
          "text": [
            "[[ 0.09454545  0.03272727]\n",
            " [-0.03454545  0.00727273]]\n",
            "[[ 0.09454545  0.03272727]\n",
            " [-0.03454545  0.00727273]]\n"
          ]
        }
      ]
    },
    {
      "cell_type": "markdown",
      "source": [
        "### Ранг матрицы:"
      ],
      "metadata": {
        "id": "NqlUyKtNzYSs"
      }
    },
    {
      "cell_type": "markdown",
      "source": [
        "Ранг матрицы является еще одной важной численной характеристикой. Рангом называют максимальное число линейно независимых строк (столбцов) матрицы. Линейная независимость означает, что строки (столбцы) не могут быть линейно выражены через другие строки (столбцы). Ранг матрицы можно найти через ее миноры, он равен наибольшему порядку минора, который не равен нулю. Существование ранга у матрицы не зависит от того квадратная она или нет."
      ],
      "metadata": {
        "id": "og6CHp6by8t_"
      }
    },
    {
      "cell_type": "markdown",
      "source": [
        "Создадим единичную матрицу:"
      ],
      "metadata": {
        "id": "FlO58SzzzuRN"
      }
    },
    {
      "cell_type": "code",
      "source": [
        "m_eye = np.eye(4)\n",
        "print(m_eye)"
      ],
      "metadata": {
        "colab": {
          "base_uri": "https://localhost:8080/"
        },
        "id": "RRV9JYfM0TCW",
        "outputId": "7996badf-dd9e-4e96-fe6c-c36352d57d55"
      },
      "execution_count": null,
      "outputs": [
        {
          "output_type": "stream",
          "name": "stdout",
          "text": [
            "[[1. 0. 0. 0.]\n",
            " [0. 1. 0. 0.]\n",
            " [0. 0. 1. 0.]\n",
            " [0. 0. 0. 1.]]\n"
          ]
        }
      ]
    },
    {
      "cell_type": "markdown",
      "source": [
        "Ранг такой матрицы равен количеству ее столбцов (или строк), в нашем случае ранг будет равен четырем, для его вычисления воспользуемся функцией matrix_rank():"
      ],
      "metadata": {
        "id": "IRFEN2BYzuOT"
      }
    },
    {
      "cell_type": "code",
      "source": [
        "rank = np.linalg.matrix_rank(m_eye)\n",
        "print(rank)"
      ],
      "metadata": {
        "colab": {
          "base_uri": "https://localhost:8080/"
        },
        "id": "tql-CVyb0fKE",
        "outputId": "35ab6a74-9e59-41d1-bd6d-bfa58f019511"
      },
      "execution_count": null,
      "outputs": [
        {
          "output_type": "stream",
          "name": "stdout",
          "text": [
            "4\n"
          ]
        }
      ]
    },
    {
      "cell_type": "markdown",
      "source": [
        "Если мы приравняем элемент в нижнем правом углу к нулю, то ранг станет равен трем:"
      ],
      "metadata": {
        "id": "1vRLSrz_zuKk"
      }
    },
    {
      "cell_type": "code",
      "source": [
        "m_eye[3][3] = 0\n",
        "print(m_eye)\n",
        "\n",
        "rank = np.linalg.matrix_rank(m_eye)\n",
        "print(rank)"
      ],
      "metadata": {
        "colab": {
          "base_uri": "https://localhost:8080/"
        },
        "id": "6YRfbZVp0nzC",
        "outputId": "1720d64d-90ff-4bfa-dc90-c20469058eb8"
      },
      "execution_count": null,
      "outputs": [
        {
          "output_type": "stream",
          "name": "stdout",
          "text": [
            "[[1. 0. 0. 0.]\n",
            " [0. 1. 0. 0.]\n",
            " [0. 0. 1. 0.]\n",
            " [0. 0. 0. 0.]]\n",
            "3\n"
          ]
        }
      ]
    },
    {
      "cell_type": "markdown",
      "source": [
        "# Использование scipy.linalg.solve() для решения линейных систем"
      ],
      "metadata": {
        "id": "TZ3ZcDg01iGr"
      }
    },
    {
      "cell_type": "markdown",
      "source": [
        "Линейные системы уравнений могут быть полезным инструментом для поиска решения нескольких практических и важных проблем, связанных, например, с движением транспортных средств, химическими уравнениями, электрическими цепями и полиномиальной интерполяцией."
      ],
      "metadata": {
        "id": "P_KJ6ePy1iDc"
      }
    },
    {
      "cell_type": "markdown",
      "source": [
        "**Система линейных уравнений** — это набор уравнений, линейно относящихся к набору переменных. Вот пример линейной системы, относящейся к переменным x₁, x₂ и x₃:"
      ],
      "metadata": {
        "id": "4Nz6iUSa5zMx"
      }
    },
    {
      "cell_type": "markdown",
      "source": [
        "$$\n",
        "  \\begin{cases}\n",
        "      K_{1}x_{1} + K_{2}x_{2} + K_{3}x_{3} = b_{1} \\\\\n",
        "      K_{4}x_{1} + K_{5}x_{2} + K_{6}x_{3} = b_{2} \\\\\n",
        "      K_{7}x_{1} + K_{8}x_{2} + K_{9}x_{3} = b_{3}\n",
        "  \\end{cases}\n",
        "$$"
      ],
      "metadata": {
        "id": "MgNAek1AKB7z"
      }
    },
    {
      "cell_type": "markdown",
      "source": [
        "Здесь у нас есть три уравнения с тремя переменными. В линейной системе, значения K₁, …, K₉ и b₁, b₂, b₃ должны быть постоянными.\n",
        "\n",
        "Когда у нас есть только два или три уравнения и переменные, можно выполнить расчеты вручную, объединить уравнения и найти значения для переменных. Однако при наличии четырех и более переменных решение вручную линейной системы занимает значительное время, и возрастает риск совершения ошибок.\n",
        "\n",
        "Практические приложения обычно включают большое количество переменных, что делает невозможным решение линейных систем вручную. К счастью, есть несколько инструментов, которые могут выполнять эту тяжелую работу, например **scipy.linalg.solve()**."
      ],
      "metadata": {
        "id": "xo63_lEj5dHJ"
      }
    },
    {
      "cell_type": "markdown",
      "source": [
        "SciPy позволяет scipy.linalg.solve() быстро и надежно решать линейные системы. Чтобы увидеть, как это работает, рассмотрим следующую систему:"
      ],
      "metadata": {
        "id": "tuUS7XYx5dEG"
      }
    },
    {
      "cell_type": "markdown",
      "source": [
        "$$\n",
        "  \\begin{cases}\n",
        "      3x_{1} + 2x_{2} = 12 \\\\\n",
        "      2x_{1} - 1x_{2} = 1\n",
        "  \\end{cases}\n",
        "$$"
      ],
      "metadata": {
        "id": "dt5jKzDJLuB2"
      }
    },
    {
      "cell_type": "markdown",
      "source": [
        "Чтобы использовать scipy.linalg.solve(), нам нужно сначала записать линейную систему в виде матричного произведения:"
      ],
      "metadata": {
        "id": "mos7ozvs5dA-"
      }
    },
    {
      "cell_type": "markdown",
      "source": [
        "![image.png](data:image/png;base64,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)"
      ],
      "metadata": {
        "id": "z6l3eRc_6D3K"
      }
    },
    {
      "cell_type": "markdown",
      "source": [
        "Обратите внимание, что мы получим исходные уравнения системы после вычисления **матричного произведения**. Ожидаемые входные данные scipy.linalg.solve() — это матрица A и вектор b, которые мы можем определить с помощью массивов NumPy. Таким образом, система решается, используя следующий код:"
      ],
      "metadata": {
        "id": "UH9X9eJt5c91"
      }
    },
    {
      "cell_type": "code",
      "source": [
        "import numpy as np\n",
        "from scipy import linalg\n",
        "\n",
        "A = np.array(\n",
        "    [\n",
        "        [3, 2],\n",
        "        [2, -1],\n",
        "    ]\n",
        " )\n",
        "\n",
        "b = np.array([12, 1]).reshape((2, 1))\n",
        "x = linalg.solve(A, b)\n",
        "x"
      ],
      "metadata": {
        "colab": {
          "base_uri": "https://localhost:8080/"
        },
        "id": "vQbE5eT36NFc",
        "outputId": "e4827836-3cd1-4ef1-f83c-208ff6253b71"
      },
      "execution_count": null,
      "outputs": [
        {
          "output_type": "execute_result",
          "data": {
            "text/plain": [
              "array([[2.],\n",
              "       [3.]])"
            ]
          },
          "metadata": {},
          "execution_count": 1
        }
      ]
    },
    {
      "cell_type": "markdown",
      "source": [
        "Рассмотрим как все работает:\n",
        "\n",
        "- Строки 1 и 2 импортируют NumPy как np, а также linalg из scipy.\n",
        "\n",
        "- Строки с 4 по 9 создают **матрицу коэффициентов A** в виде массива NumPy.\n",
        "\n",
        "- В строке 11 создается вектор с использованием массива NumPy с именем **b**. Чтобы сделать его вектор-столбцом с двумя значениями, мы используетем .reshape((2, 1)).\n",
        "\n",
        "- Строки 13 и 14 показывают как используется linalg.solve() к решению линейной системы, характеризуемой **A ** и **b**, с сохранением результата в **x**, который выводится на печать. Обратите внимание, что решение solve() возвращается с компонентами с плавающей запятой, хотя все элементы исходных массивов являются целыми числами.\n",
        "\n",
        "Если заменить x₁ = 2 и x₂ = 3 в исходных уравнениях, то можно убедиться, что это решение системы.\n",
        "\n",
        "Теперь, когда мы ознакомились с основами использования scipy.linalg.solve(), пришло время попробовать применение линейных систем на практике."
      ],
      "metadata": {
        "id": "h-LRB6wT6JOl"
      }
    },
    {
      "cell_type": "markdown",
      "source": [
        "## **Решение практической задачи:**"
      ],
      "metadata": {
        "id": "ZDEWTEzC6JLY"
      }
    },
    {
      "cell_type": "markdown",
      "source": [
        "Одна из проблем, которая обычно решается с помощью линейных систем, — когда нам нужно найти пропорции компонентов, необходимые для получения определенной смеси. \n",
        "\n",
        "Ниже мы собираемся использовать эту идею для построения плана питания, смешивая разные продукты, чтобы получить сбалансированную диету. Для этого предположим, что сбалансированная диета должна включать следующее:\n",
        "\n",
        "170 единиц витамина А\n",
        "\n",
        "180 единиц витамина В\n",
        "\n",
        "140 единиц витамина С\n",
        "\n",
        "180 единиц витамина D\n",
        "\n",
        "350 единиц витамина Е\n",
        "\n",
        "Наша задача состоит в том, чтобы найти количество каждого отдельного продукта и получить указанное количество необходимых витаминов. \n",
        "\n",
        "В следующей таблице представлены результаты анализа одного грамма каждого продукта в пересчете на единицы каждого витамина:"
      ],
      "metadata": {
        "id": "Z6p8sFDx6JFy"
      }
    },
    {
      "cell_type": "markdown",
      "source": [
        "|Еда|Витамин А|Витамин B|Витамин С|Витамин Д|Витамин Е|\n",
        "|--|--|--|--|--|--|\n",
        "|#1|1|10|1|2|2|\n",
        "|#2|9|1|0|1|1|\n",
        "|#3|2|2|5|1|2|\n",
        "|#4|1|1|1|2|13|\n",
        "|#5|1|1|1|9|2|"
      ],
      "metadata": {
        "id": "_O03Zk0wbQew"
      }
    },
    {
      "cell_type": "markdown",
      "source": [
        "Обозначая продукт 1 как x₁ и т.д. и учитывая, что мы собираемся смешать x₁ единиц продукта 1, x₂ единиц продукта 2 и т.д., можно написать выражение для количества витамина А, которое попадает в смесь. \n",
        "\n",
        "Учитывая, что сбалансированная диета должна включать 170 единиц витамина А, мы можем использовать данные из столбца Витамин А, чтобы написать следующее уравнение:"
      ],
      "metadata": {
        "id": "rR9zF3Ngb5PJ"
      }
    },
    {
      "cell_type": "markdown",
      "source": [
        "$$x_{1} + 9x_{2} + 2x_{3} + x_{4} + x_{5} = 170$$"
      ],
      "metadata": {
        "id": "fFd_9Faeb5Lx"
      }
    },
    {
      "cell_type": "markdown",
      "source": [
        "Повторяя ту же процедуру для витаминов B, C, D и E, получим следующую линейную систему:"
      ],
      "metadata": {
        "id": "gEcGZHUmb5Hx"
      }
    },
    {
      "cell_type": "markdown",
      "source": [
        "![image.png](data:image/png;base64,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)"
      ],
      "metadata": {
        "id": "vDB1pTdP6JCk"
      }
    },
    {
      "cell_type": "markdown",
      "source": [
        "Теперь можно воспользоваться scipy.linalg.solve(), чтобы узнать величины x₁, …, x₅:"
      ],
      "metadata": {
        "id": "ZIsh-sakcrE_"
      }
    },
    {
      "cell_type": "code",
      "source": [
        "import numpy as np\n",
        "from scipy import linalg\n",
        "\n",
        "A = np.array(\n",
        "     [\n",
        "         [1, 9, 2, 1, 1],\n",
        "         [10, 1, 2, 1, 1],\n",
        "         [1, 0, 5, 1, 1],\n",
        "         [2, 1, 1, 2, 9],\n",
        "         [2, 1, 2, 13, 2],\n",
        "     ]\n",
        ")\n",
        "\n",
        "b = np.array([170, 180, 140, 180, 350]).reshape((5, 1))\n",
        "\n",
        "x = linalg.solve(A, b)\n",
        "x"
      ],
      "metadata": {
        "colab": {
          "base_uri": "https://localhost:8080/"
        },
        "id": "sRRf_BZgcyHf",
        "outputId": "9c8af10f-8536-4356-c55e-04832b579367"
      },
      "execution_count": null,
      "outputs": [
        {
          "output_type": "execute_result",
          "data": {
            "text/plain": [
              "array([[10.],\n",
              "       [10.],\n",
              "       [20.],\n",
              "       [20.],\n",
              "       [10.]])"
            ]
          },
          "metadata": {},
          "execution_count": 2
        }
      ]
    },
    {
      "cell_type": "markdown",
      "source": [
        "Решение указывает на то, что сбалансированный рацион должен включать 10 единиц пищи 1, 10 единиц пищи 2, 20 единиц пищи 3, 20 единиц пищи 4 и 10 единиц пищи 5."
      ],
      "metadata": {
        "id": "UIB9OiGRXVgW"
      }
    },
    {
      "cell_type": "markdown",
      "source": [
        "# Вычисление обратных величин и определителей с помощью scipy.linalg"
      ],
      "metadata": {
        "id": "Ca3rsPkScCuj"
      }
    },
    {
      "cell_type": "markdown",
      "source": [
        "Используя scipy.linalg.inv() и scipy.linalg.det(), можно вычислить обратные матрицы и определители.\n",
        "\n",
        "Например, рассмотрим задачу о плане питания, которая рассматривалась в качестве примера. Напомним, что линейную систему для этой задачи можно записать в виде матричного произведения:"
      ],
      "metadata": {
        "id": "ozb_AvY0cCru"
      }
    },
    {
      "cell_type": "markdown",
      "source": [
        "![image.png](data:image/png;base64,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)"
      ],
      "metadata": {
        "id": "jEjtigYwccAm"
      }
    },
    {
      "cell_type": "markdown",
      "source": [
        "Раньше с помощью scipy.linalg.solve(), мы получали решение 10, 10, 20, 20, 10 для переменных от x₁ до x₅, соответственно. \n",
        "\n",
        "Но, решение, также можно получить и с помощью обратной матрицы коэффициентов для получения вектора x, содержащего решения задачи. Для этого нужно вычислить x = A⁻¹ b, например, с помощью следующей программы:"
      ],
      "metadata": {
        "id": "8QUnY9Q4cb9l"
      }
    },
    {
      "cell_type": "code",
      "source": [
        "import numpy as np\n",
        "from scipy import linalg\n",
        "\n",
        "A = np.array(\n",
        "     [\n",
        "         [1, 9, 2, 1, 1],\n",
        "         [10, 1, 2, 1, 1],\n",
        "         [1, 0, 5, 1, 1],\n",
        "         [2, 1, 1, 2, 9],\n",
        "         [2, 1, 2, 13, 2],\n",
        "     ]\n",
        ")\n",
        "\n",
        "b = np.array([170, 180, 140, 180, 350]).reshape((5, 1))\n",
        "\n",
        "A_inv = linalg.inv(A)\n",
        "\n",
        "x = A_inv @ b\n",
        "x"
      ],
      "metadata": {
        "colab": {
          "base_uri": "https://localhost:8080/"
        },
        "id": "Sx4sA8Qsc5jU",
        "outputId": "479f2aad-737a-4548-d818-3c461ab16261"
      },
      "execution_count": null,
      "outputs": [
        {
          "output_type": "execute_result",
          "data": {
            "text/plain": [
              "array([[10.],\n",
              "       [10.],\n",
              "       [20.],\n",
              "       [20.],\n",
              "       [10.]])"
            ]
          },
          "metadata": {},
          "execution_count": 2
        }
      ]
    },
    {
      "cell_type": "markdown",
      "source": [
        "Пояснения к программе:\n",
        "\n",
        "Строки 1 и 2 импортируют NumPy как np, а также linalg из scipy. Эти импорты позволяют использовать функцию linalg.inv().\n",
        "\n",
        "Строки с 4 по 12 создают матрицу коэффициентов в виде массива NumPy с именем A.\n",
        "\n",
        "Строка 14 создает вектор независимых терминов в виде массива NumPy с именем b. Чтобы сделать его вектор-столбцом с пятью элементами, мы используем .reshape((5, 1)).\n",
        "\n",
        "В строке 16 используется linalg.inv() для получения обратной матрицы A.\n",
        "\n",
        "Строки 18 и 19 используют оператор @ для выполнения матричного произведения и решения линейной системы, характеризуемой A и b. Результат сохраняется в x и печатается.\n",
        "\n",
        "Мы получим точно такое же решение, как и решение, предоставленное scipy.linalg.solve(). Поскольку эта система имеет единственное решение, определитель матрицы A должен быть отличен от нуля. Это можно подтвердить, вычислив его функцией det() из scipy.linalg:"
      ],
      "metadata": {
        "id": "c84PgiiIcb6i"
      }
    },
    {
      "cell_type": "code",
      "source": [
        "linalg.det(A)"
      ],
      "metadata": {
        "colab": {
          "base_uri": "https://localhost:8080/"
        },
        "id": "1WfLuw8LdGJi",
        "outputId": "6564363f-4af8-41ca-ae89-425e4ee21884"
      },
      "execution_count": null,
      "outputs": [
        {
          "output_type": "execute_result",
          "data": {
            "text/plain": [
              "45102.0"
            ]
          },
          "metadata": {},
          "execution_count": 3
        }
      ]
    },
    {
      "cell_type": "markdown",
      "source": [
        "Как и ожидалось, определитель не равен нулю. Это указывает на то, что существует **обратная матрица A**, обозначаемая как **A⁻¹** и вычисляемая с помощью **inv(A)**, поэтому **система имеет единственное решение**. \n",
        "\n",
        "**A⁻¹** — это квадратная матрица тех же размеров, что и **A**, поэтому произведение **A⁻¹** и A дает единичную матрицу."
      ],
      "metadata": {
        "id": "5hCZyzivcb3j"
      }
    },
    {
      "cell_type": "markdown",
      "source": [
        "# Задание 1"
      ],
      "metadata": {
        "id": "8iWQCF1D1A7x"
      }
    },
    {
      "cell_type": "markdown",
      "source": [
        "Найти обратную матрицу для матрицы $\n",
        "A = \n",
        " \\begin{pmatrix}\n",
        "  2 & 3 & -1 \\\\\n",
        "  0 & 1 & 1 \\\\\n",
        "  1  & -1  & 2 \n",
        " \\end{pmatrix}\n",
        " $."
      ],
      "metadata": {
        "id": "DAjZdOmJ1ITq"
      }
    },
    {
      "cell_type": "code",
      "source": [
        "# Здесь должен быть ваш код"
      ],
      "metadata": {
        "id": "G6JW7LGJ2NkW"
      },
      "execution_count": null,
      "outputs": []
    },
    {
      "cell_type": "markdown",
      "source": [
        "#Задание 2"
      ],
      "metadata": {
        "id": "cnRNi4g21IQK"
      }
    },
    {
      "cell_type": "markdown",
      "source": [
        "Найдите обратную матрицу для матрицы $\n",
        "A = \n",
        " \\begin{pmatrix}\n",
        "  1 & 2 & 1 & -1 \\\\\n",
        "  1 & 1 & 0 & 0 \\\\\n",
        "  0  & 2  & 0 & -1 \\\\\n",
        "  1 & 1 & 1 & 0 \n",
        " \\end{pmatrix}\n",
        " $. И сделайте проверку по **свойству 2** обратной матрицы."
      ],
      "metadata": {
        "id": "yyfVnwIi1INN"
      }
    },
    {
      "cell_type": "code",
      "source": [
        "# Здесь должен быть ваш код"
      ],
      "metadata": {
        "id": "4tIvgExM4Pc1"
      },
      "execution_count": null,
      "outputs": []
    },
    {
      "cell_type": "markdown",
      "source": [
        "#Задание 3"
      ],
      "metadata": {
        "id": "hlDUu3-W4csN"
      }
    },
    {
      "cell_type": "markdown",
      "source": [
        "В программе решается система уравнений с 5-ю неизвестными. Причем матрица коэффициентов **A** предварительно формируется случайным образом по равномерному закону в диапазоне [-5, 5]. Составьте алгоритм для определения того, имеет ли система линейных уравнений решение."
      ],
      "metadata": {
        "id": "X1h8tG9j5X2Q"
      }
    },
    {
      "cell_type": "code",
      "source": [
        "# Здесь должен быть ваш код"
      ],
      "metadata": {
        "id": "Fc2hzsJx4b_x"
      },
      "execution_count": null,
      "outputs": []
    },
    {
      "cell_type": "code",
      "source": [
        "A_inv"
      ],
      "metadata": {
        "colab": {
          "base_uri": "https://localhost:8080/"
        },
        "id": "eExMQDcudKGw",
        "outputId": "6b712ffc-6a8f-4ad9-d7d1-69251656cf86"
      },
      "execution_count": null,
      "outputs": [
        {
          "output_type": "execute_result",
          "data": {
            "text/plain": [
              "array([[-0.01077558,  0.10655847, -0.03565252, -0.0058534 , -0.00372489],\n",
              "       [ 0.11287748, -0.00512172, -0.04010909, -0.00658507, -0.0041905 ],\n",
              "       [ 0.0052991 , -0.01536517,  0.21300608, -0.01975522, -0.0125715 ],\n",
              "       [-0.0064077 , -0.01070906, -0.02325839, -0.01376879,  0.08214713],\n",
              "       [-0.00931223, -0.01902355, -0.00611946,  0.1183983 , -0.01556472]])"
            ]
          },
          "metadata": {},
          "execution_count": 4
        }
      ]
    },
    {
      "cell_type": "markdown",
      "source": [
        "# Задание 4"
      ],
      "metadata": {
        "id": "0CDM0XCq8_xf"
      }
    },
    {
      "cell_type": "markdown",
      "source": [
        "Сформируйте программу для решения системы линейных уравнений вида:"
      ],
      "metadata": {
        "id": "R578CbBS9FiF"
      }
    },
    {
      "cell_type": "markdown",
      "source": [
        "$$\n",
        "  \\begin{cases}\n",
        "      K_{1}x_{1} + K_{2}x_{2} + K_{3}x_{3} + K_{4}x_{4} = b_{1} \\\\\n",
        "      K_{4}x_{1} + K_{5}x_{2} + K_{6}x_{3} + K_{7}x_{4} = b_{2} \\\\\n",
        "      K_{8}x_{1} + K_{9}x_{2} + K_{10}x_{3} + K_{11}x_{4} = b_{3} \\\\\n",
        "      K_{12}x_{1} + K_{13}x_{2} + K_{14}x_{3} + K_{15}x_{4} = b_{4}\n",
        "  \\end{cases}\n",
        "$$"
      ],
      "metadata": {
        "id": "aMjpyYQt9g3Y"
      }
    },
    {
      "cell_type": "markdown",
      "source": [
        "где значения матрицы коэффициентов **K** и вектора **b**, формируются случайным образом по равномерному закону в диапазоне [-10 10]."
      ],
      "metadata": {
        "id": "E4z-X0lJ-v4t"
      }
    },
    {
      "cell_type": "code",
      "source": [
        "# Здесь должен быть ваш код"
      ],
      "metadata": {
        "id": "lm_pUqto9Kar"
      },
      "execution_count": null,
      "outputs": []
    },
    {
      "cell_type": "markdown",
      "source": [
        "# Интерполяционные полиномы с линейными системами"
      ],
      "metadata": {
        "id": "eyZeCsPHcb0h"
      }
    },
    {
      "cell_type": "markdown",
      "source": [
        "Мы можем использовать линейные системы для вычисления полиномиальных коэффициентов, чтобы эти полиномы включали некоторые определенные точки.\n",
        "\n",
        "Например, рассмотрим многочлен второй степени y = P(x) = a₀ + a₁x + a₂x². \n",
        "\n",
        "При построении полинома второй степени получается парабола, которая будет различаться в зависимости от коэффициентов a₀, a₁ и a₂.\n",
        "\n",
        "Теперь предположим, что мы хотим найти конкретный многочлен второй степени, который включает (x, y) точки (1, 5), (2, 13) и (3, 25). \n",
        "\n",
        "Как можно вычислить a₀, a₁ и a₂, чтобы P(x) включала эти точки в свою параболу? Другими словами, мы хотим найти коэффициенты многочлена (см. рисунок):"
      ],
      "metadata": {
        "id": "um7eNL7ZcbxQ"
      }
    },
    {
      "cell_type": "markdown",
      "source": [
        "![image.png](data:image/png;base64,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)"
      ],
      "metadata": {
        "id": "7U_RIYjaeKLP"
      }
    },
    {
      "cell_type": "markdown",
      "source": [
        "Для каждой точки, которую мы хотим включить в параболу, можно использовать общее выражение полинома, чтобы получить **линейное уравнение**. \n",
        "\n",
        "Например, взяв вторую точку (x = 2, y = 13) и учитывая, что y = a₀ + a₁ x + a₂ x², мы можем написать следующее уравнение:"
      ],
      "metadata": {
        "id": "6GYGS0VfeKIE"
      }
    },
    {
      "cell_type": "markdown",
      "source": [
        "![image.png](data:image/png;base64,iVBORw0KGgoAAAANSUhEUgAABUYAAAA0CAYAAABGk+IMAAAWaUlEQVR4nO3dTXLi2NIG4DdVeNxNLyChpCWoloCXQC0BLwEvwSwBL8EM79AsoZh+M1T2WUD79uxGQCu/gcDGGBsB+tf7RHREuRpjlZUilUfn5AGIiIiIiIiIiIiIiIiIiIiIiIiIiKjZpOwDICIiIqLmUdVuBxgJZAiR8PV/mC0MMl8jnjjnXko8RCIiIiJqOa/sAyAiIiKiZglUwyvIL0AGMWyysvivlcV/xRb/BAARjDuQZaA6KvtYiYiIiIiIiIiIiC6mql1fe39/NegZaP8h6PUt6PWNg6NEREREVBYupSciIiKizATanwLA0j3dfPaaZJm9LEWkCwAriwPnXFTUMRIRERERAcC3sg+AiIiIiJrjrz///A9g+POPP17++88//3foNf/888///vqj60MQAoAH+d/LP/+dF3ukRERERNR27DFKRERERJnwVQcAAJHQE+8hUA0/f3W8ePuzffE6IiIiIqJ8cGCUiIiIiDIhQOpd5g3g0nkiIiIiKhUHRomIiIgoE0vnFmaYmNncDJOlc4svXs5ZokRERERUqk7ZB0BEREREzRG5p9s0rxN4/ttXxv6iRERERFQ4zhglIiIiokKpatdgQwAws5c1MCv7mIiI6iJQDX3VcdnHQUTUBJwxSo2UbP4gD4D9jJy7aBaKqvodYAjIQEQG7/6n2cIgc0E8O7JckIho83nijQQ2gMjrMmIzewGwAGy+Bu6dc6n7NBJdqoy47MAbi6ALAAK7dc6x3yi1HnMEpZE8WJJHEekCmJR9PFQu1r1El5OyD4AoS6ra3RRbYwAwi68vSRC+9u9EMDaz+WaZ32INRFdAF0BokOFr0jDMVohveLNKRIdsP09gFhlkJogjA7qA1xXYECI+sC2A5T7tcmSiS5QRl4FqCPF+AQAM90v3dHPpexLVHXMEpfUaKwCWz0+s51uKdS9RdvhBSrWnqv43IPTgDQw23Dw9BXB+glDV7hXkcfMuN189FQu0P4VglPw8exHYNZ+iEdGuQPtTgw0Fdrt07v7Qa5IlcTJ+/QwzW6xg17zppLyUEZdJISdLEelyUJQowRxBafmqAxHvcfs1B0bbhXUvUT7YY5RqK+j1Lej17Uq8pSfeA2AhYJksJ+nAGwPAKsWH/dI93cAsAoAkOcmDqna/+h4iao+dgvf6s4IXACLnJgK7fv0LkfAK8sjPE8pDGXG5Lb5EpGsW33JQlIg5gtJT1a5ApmUfBxXL1/4d616ifHFglGrLDBMzTGKLf64sDpbu+Ufk3MUJQlX9ZEmCLK6AYapjgbxtGiHibxMM0Tl81XGgOir7OOhyvuogebJuP9M8UV86tzDb6RcmElbl84Rx2RxlxOV2UNQAfzOrhX3xqDRV+TxrUo6oo6rEQVo8120Vz1n3EuWLA6NUW5F7uo3c0+1v52ZZbtrQgZfcIAlGEG/qa//u+HfF75YtCGzw2SuJjhHx7gCpzY06fUXGMMxOWdq0RjzZbLSRvINgrKp+PseXHuOySYqPyyt4UwN8gV3UA40oC9X5PGtOjqij6sTBcYFqCNgoq1mCVB+Rc3PWvUT54sAo0VF2+g3Tzk6iRGdhDNVe8hReBob406WRhzjnXmT3aTyATsqn+LljXNZeGXEZaH8KmL+GBYdmxfmqA197j4e+tw64jLCmSv48a2SOqKPa5DWZAjYxILNBMaKPWPdSO3FglOiDeL+JPRtKE9HJtoWqiPfoa+/v05brxXufO8Kn8ZSJouNyMygaHtkkJhRIbYv9K/H+DrS35AApnYI5gtLytX9nwAtbkFD2WPcSARwYJfpgDdzDkDy9N1sI7PbY9xjwrhgyMy4TJGo97/VzQUS6BkmxPCmxPyNEAC6TpIwUF5fJoCi6x3bOFnihAfXdWdtwzz5rdDrmCDpu2wNyDeNmdZQ51r1EiU7ZB0BUNZvi7WbzXyoCb28JARMEEb0nIl1V7X41QPTFN7PopVzkFZeB9qcQjMxs3oE8+No7/BZAF4IQFl8ffEENrBBPOiZDACNVvc+y/xu1B3MEHdKBTM0w4ecK5YF1L1GCM0aJMrDbdNrMXtbASf2iiKiJ3jenh9nirII3+V4WRJSR/ONyOygKACIy+Oq/bW+ydY375iUDFjYRkW4HMi37eKgumCPoa77qWIBu5J6OzuIjKgrrXmoizhglupCvOnjfdFrunXuu75LAkgWqocEbCiz5vZpFBpmtEU/OLhgoczxPx0XOzX3Va4E3NOBlfdpOsu+exnOzhXQYl8flHZdJTsTJmzfUfTZU5NzE195ARAa+9u+qPJDB66Qays4RjINqU1UfkDFguc6mZxzQKVj3UlNxYJToYvLWU8xwX+ViqMpUtXsFbwrBEGbzGDb5/fw8C1RDQIZXkEdVvQaAK8ijAb7Bbn47Nzv23pQdnqfTRM7NAZy8xEjg7S2L5DKlrzAuT5NnXG7eW849tjpbw246hl8iMg5Uo6VzlZpFw+ukesrIEYyDekhmn8v90j3nshkO44DOw7qXmokDo0QX2CwXTJYTGO6X7omN0c+QPK2WRwi6ZphE7vk1yS6dWwBY+Nq/6wAPAokgCAUATEIAvEErCM9TcQw2lJ2xpTV/f59iXBaHcfk151wUqF4D8gviTQPVxSYGS8frpFnOvRYZB/XwXXUogL9C/DOP92cc0DlY91KTcWCU6ESq2v0GDAQygmAAsyiG3fIJ6nm+qw4NMhWRzc3Z4SePkXu6DbS3NFi4LQYMcSUKzjbgeSpOoDqCyOuOn9x04XOMy+LUMS6T4v/97rl5MwBiuIdgZJDHQPW27JmjvE6a5dxrkXFQD6raFcjUYD/zWMrOOKBTsO6ltuDAKFEKvvbvABvJzo0oAMAwW8Fu8y4OVdXvQH59+PlFMYtWsOus/52bJ9abmzOb7z6xPngYkJkIXpdw/HvG8jM6Hc9T0XaXKVl0Yt+51mBcFq1ecRmohhDvV5lr+pOcLVNftRs5V8rvi9dJE51+LTIO6uMK3tSA+8g9Z/47b0McNLVmKlLZdS9RGTgwSpSCIJ4ZMDez3b8OBTK6Em8ZaH9miO83vaLystj7+bWmql1AHrZJdw1LsRwjfgG85I+X7N5KqfE8FctXHUPEB5KdPiWnGSN1x7gsVh3jcgVEV4Z7g/nHX52rUMS787U3WMNuiiwoeZ00zznXIuOgPr6rDgEL052j07QsDhpVMxWtInUvUaE4MEqUwic9wuaqen9lcgfBSOANfe1/uiTlEptCKtddKYvWgTeGIClYDfdpisXdzQYMwmRcAJ6n4rztQLtlP6vSn7BqGJfFqWtcbgr40vufqWq3Y3gQkUHH8MtXnRQ1e5TXSbOcey0yDupBVbse5C5OZuRlPgDZljhoYs1UtLLrXqIycGCU6ALbwivQXgiRUATjQHuDpXv+UfaxVZmq+rtLc2LEKW+2bIAz+hz5qgOBNzLY4HVZiNnCIPM14kmNnoAXqujztMtXHQDyAFghgwi+9u+2/9avem7l6Qry8No3zuIbPok/rMi4VNVuBxgJZAiR8O2t8v/8qEJMAozLS23i49pXHQMyFvHuAu2NAJusgFle8cM82zznXIttyuN114E3BrD47Z4z793YlrxJ+WLdS03GgVGiDBjsViCPAACRMND+lDv1fe4qufkDkCwFS9PAW1X97fIxAPgXSHWD9jq4YJitYT/c83MEJMuVPOCuAxkFqtdZz4BKCoJy3kOAlyz+PUWep+33ftss1RGRQfJz8+8R5auOdwuG5EZPoyI3TNns9JkUEBbf5PWzGZeJNHEZqIaAPBgQxbDJv2ZzAPgGDDzIWATjjskoj811qhCTQHFx2QaRc5O32TYyAmTaMbsLtD+LEc+z3siCeTbf98jq8yytc6/FNuTxJsRB8vNttIIFl77XIW3Im1Qc1r3URBwYJcpA5Nw80F70egMhGPmqM86s+UhVuxCMtl8LJFUxeAW83bSaRWmWAL0OLhju9xP2b+dmqjrvQJYGeVTVH1n1fvNVByLe46Xvc8l7BKo/LrlZL/Y89R7fCiibA7LA7vvkTj78LNtZPpa3ZIfhze8650FRxiVSxaWqdg3yKLDb6OP5mAGYBdp/EJEhINNAFdmet3JjEiguLtvkbbaN3hvkcTOzcuTBGwXai5buOZNBEebZ9Mr8PDvh55x1LbYhjzclDgQyRU5L6NuTN6korHupiTgwSpQZmQNvNx6bPlBMEHuugOHu1+mX83hvy3FS9DlKlg15dwCwQnxwCapz7iVQvYV4045hiox6Eq2BRcfiW8A7a5bE7vLZ844gfokuvEkv6jwBgMBuV2Yv25vuZOaENz72fdn5WMAJ4kI2SEkKXm+62UQj8xlVuxiXW8fj8greHYDZ0j1/WrStEN90TJJlw+JNVXWe3cY65cUkUGxctkmyxNQb285uv8kgks3XycBBJphnj6vC51kal1yLbcjjTYgDX/t3BosODCZmoj15k4rFupeahQOjRBkx4EV2vhaRgap22Udn3+6NFvBv6iT61ucIKfocbZcNmdn8q3OwAuZXSM5XoBpmMQCw+Xln99MKev0xAJTb0LyY8wR82uS9MGvEk45JuJ3tksx8yn8WQ6AaFjn4xLg8IS4FI5gtvqsOP1tymAz49GfYFAYdeCMAmfxuyopJoPi4bItkWbncQeCb4cUMkzXiVBugnI559phqfJ597fJrsfl5vO5xEKiGBhutYTn2aGxH3qRise6lpuHAKNGeQHVk8HxBfGI/t3i+/3S8A4Tg07N3DObL9kbLbJEmge73OVqlmFljsGHyc+TLmznnXBT0+pvv8YY4oZdWkxV1nqpguzlKoBqugJciZi8kxZA8goNPJykiLl97zYmEHuTh62WS8QLwtkcXHn7N6cqISYBxmQdV7V7Bu9suZU0GRG3i3HNuxSPzbP1lcS22KY/XlzcGDB3I1Ndequ8Q4N3sWF97H9oARO75dWZ2W/ImnYd1L1GCA6NEO3zt30EwTm4fPPja96swm2BTWE0NlvtGNIcIJFohzqT30esMqOSrVDf6e32Ojt7UJbMs0jf7N7O5iAwEVmBfy2or4jxVTVGDQKrqJ324EK1gP9P07eoAIXs3FROXAqSOWwMiOf6ysxU5MNm0uNwuWy/7OAQ2gCCE2QKwmyKWXzPP1ltW12Ib83jdGBDh9AcFJ9UCbcubTaqZ8lbVupeoDBwYJXrHRm/LRrZfp1viYUA3r0R/BfgQDAV53kocOQbDPTKe5WGpb6TelgHZgT5HgepoBcx2bkJeX39SXz4RPrk+IMfz1DrJDbs8ICl4r9P8Lr4BA0BG4FP4d/KKy6VzC1/7k2QmiyyODGQ14jOjiXHZAcJt/8ByCWC4X+W0scoxzLP1kte1yDxeTecMQvnavxO8fbbtzg49pg15s6k1Uz6qWfcSlYEDo0Q7ZG/2wylPQGWvhw+QNIXP4riWzi1U9a9OSUX4Gshp1kDaBvBvfY5sr89RstumN3XPT6/LP5IlIds/46QlqKrqsxH8vnzOU9tsCt5HAEhb8ALJZ4ucGMftkF9cpi1W5d1O8VbJAcJjmhqXkXPz76o/D+XmvMmmMAdw0i7i+WCerYt8r0XmcQLakDebWzNlr6p1L1EZODBKtGO71Gvnb1I3dN/v+ZP1EqTNe9Wy8H7HLNrtW3TMfp+j/abx34BBskQxGx3AR4WL/cJU/DzVUbJjq51U8CYstJTL3xqvQnGpqt1tj0Uze8lyV/EiNTkuNxuAFHpetr0hBVLeoGiFrpNDmGcPy/xarHgcUEEqFAdF5c3G1Ew5q3LdS1Q07/hLiNokeXIZW/xzZXFwWkGz3zfL+ET9oI9Lcr6SFAobZtF+0vXgDfaX+UhSdNFF8j9PbRJofwpYeGrBq6pdAOH+jI32qk5cduCNt7MtJFkmXbuBHsZltpLfizyISNcsvi1vpijzbN3kcy1W5/OSylSdOGhC3mwW1r1EW5wxSrRjDdxfmY08eMPf7in1U8zvqsPdp6tmNo9KXTpXXTHiuQdvtPnyy90Lk50SbSCvy3k+zjBJnjzb9d7fdcvsLdQERZynttg0tx+ZyaQDGfvaT/V9ycCDhRDpihmLB1QnLpONZzY93gz35S6VPg/jMntX8KYQ+DDcR86lnnmTNebZesnrWqzK5yWVqypx0IS82TSse4necGCUGuW76vD933gDnLCUwjn34qveiMhjoP3p0j3dHPseVe16kNenq8nSEPt5wmG3ym/nZoH2FskGDDIAcLB4TG7O5A6wn9j03Dr0GgDR/s7NAmGxfqEizlMbBKqjbSFw3kYwSXHSxt/dIVWIy2QpoDwKsCnujueJqmFcZi8pFDGE2WIFK3VXX+bZ+sjzWqzC5yVlb38J87GevVWIgybkzSpi3UuUHQ6MUm352r/b/frdZgfbvxOMA+0dWPIRzyPnDiaOtw0bZBpoL4xhk02fsg9eG+Vvn5qZLQR2wx4rx9iNGR5FZBCojnafGie/U+8OsHAN++Gci3ztT0Qw3l26p6r+2w3c3rsDL5zHkoV8z1PTJQMl3vTiN+KsvD3lxeXOZ37XLL4tc1bguRiX2VPVrkA2v9Oq3AMwz1ZdMdci83idqarfeZvtiWSGMN4tYb6CPPraf61TBHH0cTYm82adfYwD1r1EWePAKNVW6ifrIqHs7Uxo5gFfPFH77dxMVRcdyNQT7yHQXgTI3BBHABYGdJPd+GyETa8cM0zWsAmTw3FL5xaB6rUZ7kS8aaD9cFNkdQEbGDBb7/TZitzTbaD9LkRGgfYfkqU9NhLY7fKTRL9l+83Bj+COim+KPE9NlNVu2Kfu+Nx0ZcXltiAwwIfF158VGVXHuMxe0jcPXTNMoorMqGOerb4irkXm8XrrAP77eufA4wgRX/D2GjOZA3g3MMq8WW8f4+ALrHuJzsKHvURHvD2ls/D9zn1JTxXA5mtgxgbi50l28PWGQPKUe5X8Lg8m2b3Xzj5bypMsTUtmYSSF6tOXyxp97T1uz+3y+an0z8Wg17eqHMtWHufpM77qQMR7BNKdPypG2+MyKQ5tILBrLielXb72/gaANSyoYpHIPPtRFT/P8sY8/hHjgHmT3mPdS23FGaNER2w++Ct5Q9cEmxulVDdLaV+7AuZXpx1GCGwTPh2Sx3kiulRRcbnZMdr/bODLVx0AMo7cMzcmaSGBXa+AlyoOigLMs5RgHieAeZO+xrqX2sor+wCIiLLmnIu2Pbf2m9QfIptlIUCFCjb276MqamFcboq7cLWzzPCAkJvRtNfSuUXbZs8wz1JjMA4yx7xJRHXDgVEiaiSDbBqH2+Cr1+3u6LgGDjYbL5zh/u34iSqihXGZFHfoHinuIPBCAyo5W5AoL8yzVHuMg8wxbxJRHXEpPRE10hrxpGMyEhHfVx181vDd2/ROMsOkKjN+lu7ppuxjINrXtrgMtD+FYGRm8w7kwdfewdcJ0IUghMVcDkitwjxLdcc4yBbzJhHVVWsaTRNR+3xXHXriPcAsWsF+7D+5ft08wmxx7Mk25U9Vux0gFHhDCEYAALOFwW7XQFSVgpqab1vcnfI9K4sDxii1DfMs7WIeby/mTSKqMw6MElGj+aoDgUwN6AI2AbAwoOvBG0AwguF+hfiWxVp5fO3fiWCc5rVmNmejfsrT7m7Kp2jTrsZEu5hniXm83Zg3iaju/h/e3rEXysGNfAAAAABJRU5ErkJggg==)"
      ],
      "metadata": {
        "id": "kh8O-czOeKEy"
      }
    },
    {
      "cell_type": "markdown",
      "source": [
        "Таким образом, для каждой точки (x , y) получите уравнение, включающее a₀, a₁ и a₂. Поскольку рассматриваются три переменные, то получим систему из трех уравнений:"
      ],
      "metadata": {
        "id": "Y0XyPhC2eROI"
      }
    },
    {
      "cell_type": "markdown",
      "source": [
        "![image.png](data:image/png;base64,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)"
      ],
      "metadata": {
        "id": "BruPsyb2eRL5"
      }
    },
    {
      "cell_type": "markdown",
      "source": [
        "Чтобы проверить, имеет ли эта система единственное решение, вычислим определитель матрицы коэффициентов и проверим, не равен ли он нулю. \n",
        "\n",
        "Сделаем это с помощью программного кода:"
      ],
      "metadata": {
        "id": "sgHd2BYDeRIy"
      }
    },
    {
      "cell_type": "code",
      "source": [
        "import numpy as np\n",
        "from scipy import linalg\n",
        "\n",
        "A = np.array([[1, 1, 1], [1, 2, 4], [1, 3, 9]])\n",
        "\n",
        "linalg.det(A)"
      ],
      "metadata": {
        "colab": {
          "base_uri": "https://localhost:8080/"
        },
        "id": "zpWuTqubeeW5",
        "outputId": "297dae7d-495c-45cf-cc2c-a226f26db414"
      },
      "execution_count": null,
      "outputs": [
        {
          "output_type": "execute_result",
          "data": {
            "text/plain": [
              "1.9999999999999996"
            ]
          },
          "metadata": {},
          "execution_count": 5
        }
      ]
    },
    {
      "cell_type": "markdown",
      "source": [
        "Стоит отметить, что существование решения зависит только от A. Поскольку значение определителя не равно нулю, мы можем быть уверены, что для системы существует единственное решение. \n",
        "\n",
        "Решим систему, используя метод обратной матрицы:"
      ],
      "metadata": {
        "id": "8A0hV-rGeRFh"
      }
    },
    {
      "cell_type": "code",
      "source": [
        "b = np.array([5, 13, 25]).reshape((3, 1))\n",
        "\n",
        "a = linalg.inv(A) @ b\n",
        "a"
      ],
      "metadata": {
        "colab": {
          "base_uri": "https://localhost:8080/"
        },
        "id": "TtzXGebgem_V",
        "outputId": "70bfff08-0895-441f-8f9d-3c47136c5151"
      },
      "execution_count": null,
      "outputs": [
        {
          "output_type": "execute_result",
          "data": {
            "text/plain": [
              "array([[1.],\n",
              "       [2.],\n",
              "       [2.]])"
            ]
          },
          "metadata": {},
          "execution_count": 6
        }
      ]
    },
    {
      "cell_type": "markdown",
      "source": [
        "Этот результат говорит, что a₀ = 1, a₁ = 2 и a₂ = 2 является решением для системы. Другими словами, многочлен, включающий точки (1, 5), (2, 13) и (3, 25), определяется как y = P(x) = 1 + 2x + 2 x². Мы можем проверить решение для каждой точки, введя x и убедившись, что P(x) равно y.\n",
        "\n",
        "Рассмотрим пример без какого-либо решения. Скажем, что мы пытаемся интерполировать параболу с точками (x, y), заданными (1, 5), (2, 13) и (2, 25). \n",
        "\n",
        "Если внимательно посмотреть на эти числа, то заметим, что вторая и третья точки учитывают x = 2 и разные значения y, что делает невозможным поиск функции, включающей обе точки.\n",
        "\n",
        "Следуя тем же шагам, что и раньше, мы получим следующие уравнения для этой системы:"
      ],
      "metadata": {
        "id": "TiJww7fsecxb"
      }
    },
    {
      "cell_type": "markdown",
      "source": [
        "![image.png](data:image/png;base64,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)"
      ],
      "metadata": {
        "id": "lWY8B7JDecue"
      }
    },
    {
      "cell_type": "markdown",
      "source": [
        "Чтобы убедиться, что эта система не представляет единственного решения, можно вычислить определитель матрицы коэффициентов с помощью следующего кода:"
      ],
      "metadata": {
        "id": "TZHWgms-ecqy"
      }
    },
    {
      "cell_type": "code",
      "source": [
        "A = np.array([[1, 1, 1], [1, 2, 4], [1, 2, 4]])\n",
        "linalg.det(A)"
      ],
      "metadata": {
        "colab": {
          "base_uri": "https://localhost:8080/"
        },
        "id": "TyigddeUf3VQ",
        "outputId": "6b8b20e4-cc86-4a8c-a34a-f068a51eb5d9"
      },
      "execution_count": null,
      "outputs": [
        {
          "output_type": "execute_result",
          "data": {
            "text/plain": [
              "0.0"
            ]
          },
          "metadata": {},
          "execution_count": 7
        }
      ]
    },
    {
      "cell_type": "markdown",
      "source": [
        "Значение определителя равно нулю, а это означает, что система не имеет единственного решения. Это также означает, что обратной матрицы коэффициентов не существует. Другими словами, **матрица коэффициентов сингулярна**.\n",
        "\n",
        "В зависимости от архитектуры компьютера можно получить очень маленькое число вместо нуля. Это происходит из-за численных алгоритмов, которые det()используются для вычисления определителя. В этих алгоритмах ошибки числовой точности делают этот результат не совсем равным нулю.\n",
        "\n",
        "В общем, всякий раз, когда мы сталнемся с малым числом, можно сделать вывод, что система не имеет единственного решения.\n",
        "\n",
        "Мы можем попытаться решить линейную систему, используя метод обратной матрицы:"
      ],
      "metadata": {
        "id": "KyqmZGqqexW6"
      }
    },
    {
      "cell_type": "code",
      "source": [
        "b = np.array([5, 13, 25]).reshape((3, 1))\n",
        "\n",
        "x = linalg.inv(A) @ b"
      ],
      "metadata": {
        "colab": {
          "base_uri": "https://localhost:8080/",
          "height": 322
        },
        "id": "Cywu4Yq-f9XA",
        "outputId": "1cb32166-f276-4523-9291-fcf11d012027"
      },
      "execution_count": null,
      "outputs": [
        {
          "output_type": "error",
          "ename": "LinAlgError",
          "evalue": "ignored",
          "traceback": [
            "\u001b[0;31m---------------------------------------------------------------------------\u001b[0m",
            "\u001b[0;31mLinAlgError\u001b[0m                               Traceback (most recent call last)",
            "\u001b[0;32m<ipython-input-8-7e59d0ce2f98>\u001b[0m in \u001b[0;36m<module>\u001b[0;34m\u001b[0m\n\u001b[1;32m      1\u001b[0m \u001b[0mb\u001b[0m \u001b[0;34m=\u001b[0m \u001b[0mnp\u001b[0m\u001b[0;34m.\u001b[0m\u001b[0marray\u001b[0m\u001b[0;34m(\u001b[0m\u001b[0;34m[\u001b[0m\u001b[0;36m5\u001b[0m\u001b[0;34m,\u001b[0m \u001b[0;36m13\u001b[0m\u001b[0;34m,\u001b[0m \u001b[0;36m25\u001b[0m\u001b[0;34m]\u001b[0m\u001b[0;34m)\u001b[0m\u001b[0;34m.\u001b[0m\u001b[0mreshape\u001b[0m\u001b[0;34m(\u001b[0m\u001b[0;34m(\u001b[0m\u001b[0;36m3\u001b[0m\u001b[0;34m,\u001b[0m \u001b[0;36m1\u001b[0m\u001b[0;34m)\u001b[0m\u001b[0;34m)\u001b[0m\u001b[0;34m\u001b[0m\u001b[0;34m\u001b[0m\u001b[0m\n\u001b[1;32m      2\u001b[0m \u001b[0;34m\u001b[0m\u001b[0m\n\u001b[0;32m----> 3\u001b[0;31m \u001b[0mx\u001b[0m \u001b[0;34m=\u001b[0m \u001b[0mlinalg\u001b[0m\u001b[0;34m.\u001b[0m\u001b[0minv\u001b[0m\u001b[0;34m(\u001b[0m\u001b[0mA\u001b[0m\u001b[0;34m)\u001b[0m \u001b[0;34m@\u001b[0m \u001b[0mb\u001b[0m\u001b[0;34m\u001b[0m\u001b[0;34m\u001b[0m\u001b[0m\n\u001b[0m",
            "\u001b[0;32m/usr/local/lib/python3.8/dist-packages/scipy/linalg/basic.py\u001b[0m in \u001b[0;36minv\u001b[0;34m(a, overwrite_a, check_finite)\u001b[0m\n\u001b[1;32m    966\u001b[0m         \u001b[0minv_a\u001b[0m\u001b[0;34m,\u001b[0m \u001b[0minfo\u001b[0m \u001b[0;34m=\u001b[0m \u001b[0mgetri\u001b[0m\u001b[0;34m(\u001b[0m\u001b[0mlu\u001b[0m\u001b[0;34m,\u001b[0m \u001b[0mpiv\u001b[0m\u001b[0;34m,\u001b[0m \u001b[0mlwork\u001b[0m\u001b[0;34m=\u001b[0m\u001b[0mlwork\u001b[0m\u001b[0;34m,\u001b[0m \u001b[0moverwrite_lu\u001b[0m\u001b[0;34m=\u001b[0m\u001b[0;36m1\u001b[0m\u001b[0;34m)\u001b[0m\u001b[0;34m\u001b[0m\u001b[0;34m\u001b[0m\u001b[0m\n\u001b[1;32m    967\u001b[0m     \u001b[0;32mif\u001b[0m \u001b[0minfo\u001b[0m \u001b[0;34m>\u001b[0m \u001b[0;36m0\u001b[0m\u001b[0;34m:\u001b[0m\u001b[0;34m\u001b[0m\u001b[0;34m\u001b[0m\u001b[0m\n\u001b[0;32m--> 968\u001b[0;31m         \u001b[0;32mraise\u001b[0m \u001b[0mLinAlgError\u001b[0m\u001b[0;34m(\u001b[0m\u001b[0;34m\"singular matrix\"\u001b[0m\u001b[0;34m)\u001b[0m\u001b[0;34m\u001b[0m\u001b[0;34m\u001b[0m\u001b[0m\n\u001b[0m\u001b[1;32m    969\u001b[0m     \u001b[0;32mif\u001b[0m \u001b[0minfo\u001b[0m \u001b[0;34m<\u001b[0m \u001b[0;36m0\u001b[0m\u001b[0;34m:\u001b[0m\u001b[0;34m\u001b[0m\u001b[0;34m\u001b[0m\u001b[0m\n\u001b[1;32m    970\u001b[0m         raise ValueError('illegal value in %d-th argument of internal '\n",
            "\u001b[0;31mLinAlgError\u001b[0m: singular matrix"
          ]
        }
      ]
    },
    {
      "cell_type": "markdown",
      "source": [
        "Поскольку система не имеет решения, получим исключение, говорящее, что **матрица коэффициентов сингулярна**.\n",
        "\n",
        "Когда система имеет более одного решения, получаем аналогичный результат. Значение определителя матрицы коэффициентов будет равно нулю или очень мало, что указывает на то, что матрица коэффициентов снова является **сингулярной**.\n",
        "\n",
        "В качестве примера системы с более чем одним решением попытаемся интерполировать параболу, учитывая точки (x , y), заданные (1, 5), (2, 13) и (2, 13). Как мы могли заметить, здесь рассматриваются две точки в одном и том же положении, что допускает бесконечное количество решений для a₀ , a₁ и a₂.\n"
      ],
      "metadata": {
        "id": "_jcdqbSuexT4"
      }
    },
    {
      "cell_type": "markdown",
      "source": [
        "# Минимизация ошибки методом наименьших квадратов"
      ],
      "metadata": {
        "id": "9dPZAJTwexQd"
      }
    },
    {
      "cell_type": "markdown",
      "source": [
        "Иногда не удается найти многочлен, который точно соответствует набору точек. Но когда интерполируется многочлен, нас не интересует точная подгонка. Мы просто ищем решение, которое аппроксимирует точки, обеспечивая минимальную возможную ошибку.\n",
        "\n",
        "Как правило, это тот случай, когда происходит работа с реальными данными. Он включает в себя некоторый шум, вызванный ошибками, возникающими в процессе сбора, такими как неточность или неисправность датчиков, а также опечатки в данных, когда пользователи вводят данные вручную.\n",
        "\n",
        "Используя **метод наименьших квадратов**, мы можем найти решение для интерполяции многочлена, даже если матрица коэффициентов является единственной. Используя этот метод, мы будем искать коэффициенты полинома, которые обеспечивают минимальную квадратичную ошибку при сравнении кривой полинома с вашими точками данных.\n",
        "\n",
        "На самом деле метод наименьших квадратов обычно используется для подгонки полиномов к большим наборам точек данных. Идея состоит в том, чтобы попытаться разработать модель, которая представляет некоторое наблюдаемое поведение."
      ],
      "metadata": {
        "id": "xZOV0QJdgMWs"
      }
    },
    {
      "cell_type": "markdown",
      "source": [
        "***Если линейная система имеет единственное решение, то решение методом наименьших квадратов будет равно этому уникальному решению.***"
      ],
      "metadata": {
        "id": "Z7pxv8eZgMTo"
      }
    },
    {
      "cell_type": "markdown",
      "source": [
        "## Построение моделей методом наименьших квадратов с использованием scipy.linalg"
      ],
      "metadata": {
        "id": "FjRCS68YgMNB"
      }
    },
    {
      "cell_type": "markdown",
      "source": [
        "Для решения задач наименьших квадратов в scipy.linalg предусмотрена функция с именем **lstsq()**. Чтобы увидеть, как это работает, рассмотрим предыдущий пример, в котором мы пытались подогнать параболу к точкам (x , y), заданным (1, 5), (2, 13) и (2, 25). Эта система не имеет решения, так как есть две точки с одинаковым значением x.\n",
        "\n",
        "Как и раньше, используя модель y = a₀ + a₁x + a₂x², мы получим следующую линейную систему:"
      ],
      "metadata": {
        "id": "-GBDTWEcgMJh"
      }
    },
    {
      "cell_type": "markdown",
      "source": [
        "![image.png](data:image/png;base64,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)"
      ],
      "metadata": {
        "id": "6wweQLTrgmFi"
      }
    },
    {
      "cell_type": "markdown",
      "source": [
        "Используя метод наименьших квадратов, можно найти решение для коэффициентов a₀, a₁ и a₂, которое дает параболу, минимизирующую квадрат разницы между кривой и точками данных. \n",
        "\n",
        "Для этого используем следующий код:"
      ],
      "metadata": {
        "id": "2Dd2nnlegmDF"
      }
    },
    {
      "cell_type": "code",
      "source": [
        "import numpy as np\n",
        "from scipy import linalg\n",
        "\n",
        "A = np.array([[1, 1, 1], [1, 2, 4], [1, 2, 4]])\n",
        "b = np.array([5, 13, 25]).reshape((3, 1))\n",
        "\n",
        "p, *_ = linalg.lstsq(A, b)\n",
        "p"
      ],
      "metadata": {
        "colab": {
          "base_uri": "https://localhost:8080/"
        },
        "id": "ITOjDc4sguVX",
        "outputId": "978176b4-ca03-4daf-ff83-46cbd8693ae8"
      },
      "execution_count": null,
      "outputs": [
        {
          "output_type": "execute_result",
          "data": {
            "text/plain": [
              "array([[-0.42857143],\n",
              "       [ 1.14285714],\n",
              "       [ 4.28571429]])"
            ]
          },
          "metadata": {},
          "execution_count": 9
        }
      ]
    },
    {
      "cell_type": "markdown",
      "source": [
        "В этой программе происходит следующее:\n",
        "\n",
        "Строки с 1 по 2: импортируеется numpy и linalg из scipy, чтобы использовать файлы linalg.lstsq().\n",
        "\n",
        "Строки с 4 по 5: создается матрицу коэффициентов A, используя массив NumPy с именем **A**, и вектор с независимыми элементами **b**, используя массив NumPy с именем **b**.\n",
        "\n",
        "Строка 7: вычисляем решение задачи по методу наименьших квадратов, используя linalg.lstsq(), которое принимает матрицу коэффициентов и вектор с независимыми членами в качестве входных данных.\n",
        "\n",
        "lstsq() предоставляет несколько частей информации о системе, включая **остатки**, **ранг** и **сингулярные значения матрицы коэффициентов**. В этом случае нас интересуют только коэффициенты многочлена для решения задачи по критерию наименьших квадратов, которые хранятся в p.\n",
        "\n",
        "Как видим, даже при рассмотрении линейной системы, не имеющей точного решения, lstsq() дает коэффициенты, минимизирующие квадраты ошибок. С помощью следующего кода можно визуализировать решение, полученное путем построения параболы и точек данных:"
      ],
      "metadata": {
        "id": "IKoovU6Ngl_Y"
      }
    },
    {
      "cell_type": "code",
      "source": [
        "import matplotlib.pyplot as plt\n",
        "\n",
        "x = np.linspace(0, 3, 1000)\n",
        "y = p[0] + p[1] * x + p[2] * x ** 2\n",
        "\n",
        "plt.plot(x, y)\n",
        "plt.plot(1, 5, \"ro\")\n",
        "plt.plot(2, 13, \"ro\")\n",
        "plt.plot(2, 25, \"ro\")"
      ],
      "metadata": {
        "colab": {
          "base_uri": "https://localhost:8080/",
          "height": 282
        },
        "id": "JzktyBvBg14p",
        "outputId": "669aec71-54c0-4c30-c7b0-f5dd2676ff6f"
      },
      "execution_count": null,
      "outputs": [
        {
          "output_type": "execute_result",
          "data": {
            "text/plain": [
              "[<matplotlib.lines.Line2D at 0x7f9f58d45b20>]"
            ]
          },
          "metadata": {},
          "execution_count": 10
        },
        {
          "output_type": "display_data",
          "data": {
            "text/plain": [
              "<Figure size 432x288 with 1 Axes>"
            ],
            "image/png": "[encoded data removed]"
          },
          "metadata": {
            "needs_background": "light"
          }
        }
      ]
    },
    {
      "cell_type": "markdown",
      "source": [
        "Эта программа использует **matplotlib** для построения результатов:\n",
        "\n",
        "Строка 1: импортируется matplotlib.pyplot как plt, что типично.\n",
        "\n",
        "Строки с 3 по 4: создается массив NumPy с именем x со значениями в диапазоне от 0 до 3, содержащий 1000 точек. Мы также создаем массив NumPy y с соответствующими значениями модели.\n",
        "\n",
        "Строка 6: Строим кривую параболы, полученной с помощью модели, заданной точками в массивах x и y.\n",
        "\n",
        "Строки с 7 по 9: красным цветом (\"ro\") наносим три точки, используемые для построения модели."
      ],
      "metadata": {
        "id": "Zjs1tsC7gl8K"
      }
    },
    {
      "cell_type": "markdown",
      "source": [
        "Обратите внимание, как кривая, предоставленная моделью, пытается.\n",
        "\n",
        "Кроме того в lstsq(), есть и другие способы вычисления решений методом наименьших квадратов с использованием SciPy. Одной из альтернатив является использование псевдоинверсии, которую мы рассмотрим далее."
      ],
      "metadata": {
        "id": "D69aoLD-gl5T"
      }
    },
    {
      "cell_type": "markdown",
      "source": [
        "## Получение решений методом наименьших квадратов с использованием псевдоинверсии"
      ],
      "metadata": {
        "id": "mCapTnJtgl2P"
      }
    },
    {
      "cell_type": "markdown",
      "source": [
        "Другой способ вычислить решение методом наименьших квадратов - использовать **псевдообратную матрицу Мура-Пенроуза**.\n",
        "\n",
        "**Псевдоинверсия** - это обобщение обратной матрицы, поскольку она равна обычной обратной матрице, когда матрица не является единственной.\n",
        "\n",
        "Однако, когда матрица является **сингулярной**, что имеет место в линейных системах, у которых нет единственного решения, тогда псевдообратная матрица вычисляет матрицу, которая обеспечивает наилучшее соответствие, что приводит к решению методом наименьших квадратов.\n",
        "\n",
        "Используя псевдоинверсию, можно найти коэффициенты для параболы, использованной в предыдущем примере:"
      ],
      "metadata": {
        "id": "-oe5sgOdhFx6"
      }
    },
    {
      "cell_type": "code",
      "source": [
        "import numpy as np\n",
        "from scipy import linalg\n",
        "\n",
        "A = np.array([[1, 1, 1], [1, 2, 4], [1, 2, 4]])\n",
        "b = np.array([5, 13, 25]).reshape((3, 1))\n",
        "\n",
        "A_pinv = linalg.pinv(A)\n",
        "\n",
        "p2 = A_pinv @ b\n",
        "p2"
      ],
      "metadata": {
        "colab": {
          "base_uri": "https://localhost:8080/"
        },
        "id": "_kDjX6NHhJlx",
        "outputId": "d8e09227-63ab-45a6-afba-89864b5165aa"
      },
      "execution_count": null,
      "outputs": [
        {
          "output_type": "execute_result",
          "data": {
            "text/plain": [
              "array([[-0.42857143],\n",
              "       [ 1.14285714],\n",
              "       [ 4.28571429]])"
            ]
          },
          "metadata": {},
          "execution_count": 11
        }
      ]
    },
    {
      "cell_type": "markdown",
      "source": [
        "Этот код очень похож на код из предыдущего раздела, за исключением выделенных строк:\n",
        "\n",
        "Строка 7: вычисляется псевдообратная матрица коэффициентов и сохраняется в A_pinv.\n",
        "\n",
        "Строка 9: Следуя тому же подходу, который используется для решения линейных систем с обратной матрицей, вычисляются коэффициенты уравнения параболы с помощью псевдообратной матрицы и сохраняете их в векторе p2.\n",
        "\n",
        "Как и следовало ожидать, решение методом наименьших квадратов совпадает с  решением lstsq(). \n",
        "\n",
        "В этом случае, поскольку **A** является квадратной матрицей, pinv() будет предоставлена ​​квадратная матрица с теми же размерами, что и **A**, с оптимизацией для наилучшего соответствия в смысле наименьших квадратов:"
      ],
      "metadata": {
        "id": "hPWeCeLhhFvY"
      }
    },
    {
      "cell_type": "code",
      "source": [
        "A_pinv"
      ],
      "metadata": {
        "colab": {
          "base_uri": "https://localhost:8080/"
        },
        "id": "2_UKWXkRhP7o",
        "outputId": "9a530594-ef8a-4879-8480-124ed040df33"
      },
      "execution_count": null,
      "outputs": [
        {
          "output_type": "execute_result",
          "data": {
            "text/plain": [
              "array([[ 1.        , -0.14285714, -0.14285714],\n",
              "       [ 0.5       , -0.03571429, -0.03571429],\n",
              "       [-0.5       ,  0.17857143,  0.17857143]])"
            ]
          },
          "metadata": {},
          "execution_count": 12
        }
      ]
    },
    {
      "cell_type": "markdown",
      "source": [
        "#Задание 5"
      ],
      "metadata": {
        "id": "ZHl72kYNOPLG"
      }
    },
    {
      "cell_type": "markdown",
      "source": [
        "На координатной плоскости заданы точки, которые представлены в виде матрицы **A**."
      ],
      "metadata": {
        "id": "WSvWRdz2evUa"
      }
    },
    {
      "cell_type": "code",
      "source": [
        "A = np.array([[0.5000,  0.8500], \n",
        "              [0.6667,  0.6033], \n",
        "              [0.8333,  0.3567],\n",
        "              [1.0000,  0.8700],\n",
        "              [1.1667,  0.7633],\n",
        "              [1.3333,  0.6567],\n",
        "              [1.5000,  0.5500],\n",
        "              [1.6667,  0.4433],\n",
        "              [1.8333,  0.3367],\n",
        "              [2.0000,  0.5500]])"
      ],
      "metadata": {
        "id": "KL-rhp1mcsWS"
      },
      "execution_count": 29,
      "outputs": []
    },
    {
      "cell_type": "code",
      "source": [
        "from matplotlib import pyplot as plt \n",
        "\n",
        "plt.title(\"Точки для нахождения интерполяционного многочлена\") \n",
        "plt.xlabel(\"x координаты\") \n",
        "plt.ylabel(\"y координаты\") \n",
        "plt.plot(A[:,0], A[:,1],\"or\") \n",
        "plt.show()"
      ],
      "metadata": {
        "colab": {
          "base_uri": "https://localhost:8080/",
          "height": 295
        },
        "id": "CC9-meX7dzbi",
        "outputId": "60d5b97c-c523-493e-bc79-5fcd035b7b86"
      },
      "execution_count": 28,
      "outputs": [
        {
          "output_type": "display_data",
          "data": {
            "text/plain": [
              "<Figure size 432x288 with 1 Axes>"
            ],
            "image/png": "[encoded data removed]"
          },
          "metadata": {
            "needs_background": "light"
          }
        }
      ]
    },
    {
      "cell_type": "markdown",
      "source": [
        "Необходимо составить программу, которая будет решать систему уравнений для нахождения и сформирует коэффициенты многочлена для интерполяции представленной последовательности точек.\n",
        "\n",
        "После решения задачи, показать результат на графике наложением."
      ],
      "metadata": {
        "id": "MF7m0wp1chix"
      }
    }
  ],
  "metadata": {
    "colab": {
      "provenance": []
    },
    "kernelspec": {
      "display_name": "Python 3.8.5 ('base')",
      "language": "python",
      "name": "python3"
    },
    "language_info": {
      "codemirror_mode": {
        "name": "ipython",
        "version": 3
      },
      "file_extension": ".py",
      "mimetype": "text/x-python",
      "name": "python",
      "nbconvert_exporter": "python",
      "pygments_lexer": "ipython3",
      "version": "3.8.5"
    },
    "vscode": {
      "interpreter": {
        "hash": "220a1f83d29b5a15459b3a1b4613b4e51f14127328c351d796cd85538fc5a5c1"
      }
    }
  },
  "nbformat": 4,
  "nbformat_minor": 0
}