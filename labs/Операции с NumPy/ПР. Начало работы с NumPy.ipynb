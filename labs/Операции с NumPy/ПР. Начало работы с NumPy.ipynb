{
  "cells": [
    {
      "cell_type": "markdown",
      "metadata": {
        "id": "zqF9S5NlxkCA"
      },
      "source": [
        "# Практическая работа. Начало работы с библиотекой NumPy"
      ]
    },
    {
      "cell_type": "markdown",
      "metadata": {
        "id": "1Jlf30nHx5Q3"
      },
      "source": [
        "Numpy — это библиотека с открытым исходным кодом для эффективной работы с массивами. Это критически важная библиотека обработки данных в Python, многие другие библиотеки зависят от нее."
      ]
    },
    {
      "cell_type": "markdown",
      "metadata": {
        "id": "SztqM9zAzVgc"
      },
      "source": [
        "Некоторые из преимуществ Numpy:\n",
        "\n",
        "- Математические операции с объектами ndarray в NumPy выполняются до 50 раз быстрее, чем перебор собственных списков Python с использованием циклов. Повышение эффективности в первую очередь связано с тем, что NumPy хранит элементы массива в упорядоченном едином месте в памяти, устраняя избыточность за счет того, что все элементы относятся к одному типу, и в полной мере использует современные процессоры. Преимущества в эффективности становятся особенно очевидными при работе с массивами с тысячами или миллионами элементов, что довольно стандартно для науки о данных.\n",
        "\n",
        "- Библиотека предлагает синтаксис индексирования для простого доступа к частям данных в массиве.\n",
        "\n",
        "- NumPy содержит встроенные функции, которые улучшают качество жизни при работе с массивами и математикой, такие как функции для линейной алгебры, преобразования массивов и матричной математики.\n",
        "\n",
        "- Для большинства математических операций требуется меньше строк кода, чем для собственных списков Python."
      ]
    },
    {
      "cell_type": "markdown",
      "metadata": {
        "id": "-dAYjTnfx5qp"
      },
      "source": [
        "### Цель практической работы:"
      ]
    },
    {
      "cell_type": "markdown",
      "metadata": {
        "id": "jhuqsgkLx9Me"
      },
      "source": [
        "В этой работе нужно познакомится с основными методами библиотеки NumPy для обработки числовых данных. \n",
        "\n",
        "\n",
        "Практическая работа предоставляется на проверку в виде блокнота Jupiter Notebook с сформированными ответами в кодовых ячейках и вычисленным результатом. Ячейки с заданиями удалять не нужно."
      ]
    },
    {
      "cell_type": "markdown",
      "metadata": {
        "id": "wkFdWGL1x_3M"
      },
      "source": [
        "### Инструментарий"
      ]
    },
    {
      "cell_type": "markdown",
      "metadata": {
        "id": "ZVgN3bodyCNC"
      },
      "source": [
        "Работа может выполняться с использованием:\n",
        "- Сервиса Google Colab (обработка блокнотов формата Jupiter Notebook)\n",
        "- Локального сервера Jupiter Notebook или Jupiter Lab (обработка блокнотов формата Jupiter Notebook)\n",
        "- Редактора VS Studio Code с установленными плагинами языка Python."
      ]
    },
    {
      "cell_type": "markdown",
      "metadata": {
        "id": "9QzFP5CiyFRZ"
      },
      "source": [
        "# 1. Базовые операции с NumPy"
      ]
    },
    {
      "cell_type": "markdown",
      "metadata": {
        "id": "TqfRZO3CxkCB"
      },
      "source": [
        "1. Импортируйте пакет numpy под именем np"
      ]
    },
    {
      "cell_type": "code",
      "execution_count": null,
      "metadata": {
        "id": "5PK0auMHxkCD"
      },
      "outputs": [],
      "source": [
        "# Сюда должен быть добавлен код"
      ]
    },
    {
      "cell_type": "markdown",
      "metadata": {
        "id": "nzMaYmjaxkCE"
      },
      "source": [
        "2. Распечатайте версию numpy"
      ]
    },
    {
      "cell_type": "code",
      "execution_count": null,
      "metadata": {
        "id": "ommHBkmzxkCE"
      },
      "outputs": [],
      "source": [
        "# Сюда должен быть добавлен код"
      ]
    },
    {
      "cell_type": "markdown",
      "metadata": {
        "id": "roDi3U9IxkCF"
      },
      "source": [
        "3. Создайте вектор размера 10, заполненный нулями"
      ]
    },
    {
      "cell_type": "code",
      "execution_count": null,
      "metadata": {
        "id": "CflQymqWxkCF"
      },
      "outputs": [],
      "source": [
        "# Сюда должен быть добавлен код"
      ]
    },
    {
      "cell_type": "markdown",
      "metadata": {
        "id": "ZNQPO8_hxkCF"
      },
      "source": [
        "4. Создайте вектор размера 20, заполненный случайными числами от 1 до 10, распределенными по равномерному закону"
      ]
    },
    {
      "cell_type": "code",
      "execution_count": null,
      "metadata": {
        "id": "YtmSPWfaxkCG"
      },
      "outputs": [],
      "source": [
        "# Сюда должен быть добавлен код"
      ]
    },
    {
      "cell_type": "markdown",
      "metadata": {
        "id": "IdGBdVDVxkCH"
      },
      "source": [
        "5. Выполните нарезку вектора п.4 на два вектора по 10 элементов"
      ]
    },
    {
      "cell_type": "code",
      "execution_count": null,
      "metadata": {
        "id": "Nf2vhMwjxkCH"
      },
      "outputs": [],
      "source": [
        "# Сюда должен быть добавлен код"
      ]
    },
    {
      "cell_type": "markdown",
      "metadata": {
        "id": "7EIbRvmKxkCH"
      },
      "source": [
        "6. Создайте вектор со значениями от 3 до 103 размерностью в 1200 элементов"
      ]
    },
    {
      "cell_type": "code",
      "execution_count": null,
      "metadata": {
        "id": "k3S1NhVDxkCH"
      },
      "outputs": [],
      "source": [
        "# Сюда должен быть добавлен код"
      ]
    },
    {
      "cell_type": "markdown",
      "metadata": {
        "id": "3TDe52sjxkCH"
      },
      "source": [
        "7. Разделите вектор п.6 на три части и переверните центральную часть"
      ]
    },
    {
      "cell_type": "code",
      "execution_count": null,
      "metadata": {
        "id": "KpCFNrLNxkCI"
      },
      "outputs": [],
      "source": [
        "# Сюда должен быть добавлен код"
      ]
    },
    {
      "cell_type": "markdown",
      "metadata": {
        "id": "HQwv4ov5xkCI"
      },
      "source": [
        "8. Найдите индексы ненулевых элементов из вектора вида [1, 2, 0, 0, 4, 0, ...], размерностью в 100 элементов и заполненного случайными значениями от 0 до 10"
      ]
    },
    {
      "cell_type": "code",
      "execution_count": null,
      "metadata": {
        "id": "TiifWTPaxkCI"
      },
      "outputs": [],
      "source": [
        "# Сюда должен быть добавлен код"
      ]
    },
    {
      "cell_type": "markdown",
      "metadata": {
        "id": "dHe-gA08xkCI"
      },
      "source": [
        "9. Создайте матрицу 3x3 со случайными значениями от 0 до 8"
      ]
    },
    {
      "cell_type": "code",
      "execution_count": null,
      "metadata": {
        "id": "iK1DP-NQxkCI"
      },
      "outputs": [],
      "source": [
        "# Сюда должен быть добавлен код"
      ]
    },
    {
      "cell_type": "markdown",
      "metadata": {
        "id": "whZ6_r9axkCI"
      },
      "source": [
        "10.  Умножьте матрицу п.9 на число 2.5 и проделайте операцию вычитания из каждого элемента матрицы значения 1.3"
      ]
    },
    {
      "cell_type": "code",
      "execution_count": null,
      "metadata": {
        "id": "Nxel7bK1xkCJ"
      },
      "outputs": [],
      "source": [
        "# Сюда должен быть добавлен код"
      ]
    },
    {
      "cell_type": "markdown",
      "metadata": {
        "id": "_-ftXCEPxkCJ"
      },
      "source": [
        "11.  Создайте массив 3x3x3, заполненный случайными значениями (от 0 до 10)"
      ]
    },
    {
      "cell_type": "code",
      "execution_count": null,
      "metadata": {
        "id": "joXDFBajxkCJ"
      },
      "outputs": [],
      "source": [
        "# Сюда должен быть добавлен код"
      ]
    },
    {
      "cell_type": "markdown",
      "metadata": {
        "id": "ZR3koEz-xkCJ"
      },
      "source": [
        "12.  Создайте массив 10x10 со случайными значениями (от -100 до 100) и найдите минимальное и максимальное значения массива"
      ]
    },
    {
      "cell_type": "code",
      "execution_count": null,
      "metadata": {
        "id": "mduQcQ85xkCJ"
      },
      "outputs": [],
      "source": [
        "# Сюда должен быть добавлен код"
      ]
    },
    {
      "cell_type": "markdown",
      "metadata": {
        "id": "2tGYv-xexkCJ"
      },
      "source": [
        "13.  Создайте две матрицы 3х6 и 6х3, заполненные случайными значениями (от -10 до 10) и найдите их скалярное произведение"
      ]
    },
    {
      "cell_type": "code",
      "execution_count": null,
      "metadata": {
        "id": "uDWSZgISxkCJ"
      },
      "outputs": [],
      "source": [
        "# Сюда должен быть добавлен код"
      ]
    },
    {
      "cell_type": "markdown",
      "metadata": {
        "id": "qst92oJjxkCJ"
      },
      "source": [
        "14.  Сохраните результат скалярного произведения п.13 в файл формата CSV с разделителями в виде пробела"
      ]
    },
    {
      "cell_type": "code",
      "execution_count": null,
      "metadata": {
        "id": "Mc7T_rgHxkCK"
      },
      "outputs": [],
      "source": [
        "# Сюда должен быть добавлен код"
      ]
    },
    {
      "cell_type": "markdown",
      "metadata": {
        "id": "dLoI05GpUdFK"
      },
      "source": [
        "15.  Создайте матрицу 20х20, заполненную случайными значениями от -5 до 5 и вычислите определитель (детерминант) матрицы, используя библиотеку NumPy"
      ]
    },
    {
      "cell_type": "code",
      "execution_count": null,
      "metadata": {
        "id": "YAIdw2noUdpk"
      },
      "outputs": [],
      "source": [
        "# Сюда должен быть добавлен код"
      ]
    }
  ],
  "metadata": {
    "colab": {
      "provenance": []
    },
    "kernelspec": {
      "display_name": "Python 3.8.5 ('base')",
      "language": "python",
      "name": "python3"
    },
    "language_info": {
      "codemirror_mode": {
        "name": "ipython",
        "version": 3
      },
      "file_extension": ".py",
      "mimetype": "text/x-python",
      "name": "python",
      "nbconvert_exporter": "python",
      "pygments_lexer": "ipython3",
      "version": "3.8.5"
    },
    "vscode": {
      "interpreter": {
        "hash": "220a1f83d29b5a15459b3a1b4613b4e51f14127328c351d796cd85538fc5a5c1"
      }
    }
  },
  "nbformat": 4,
  "nbformat_minor": 0
}
