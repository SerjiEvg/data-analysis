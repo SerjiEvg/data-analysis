{
  "nbformat": 4,
  "nbformat_minor": 0,
  "metadata": {
    "colab": {
      "provenance": []
    },
    "kernelspec": {
      "name": "python3",
      "display_name": "Python 3"
    }
  },
  "cells": [
    {
      "cell_type": "markdown",
      "metadata": {
        "id": "589llcg02kjx"
      },
      "source": [
        "# Лабораторная работа №6. Анализ и визуализация больших объемов данных (специализация ИТ)"
      ]
    },
    {
      "cell_type": "markdown",
      "source": [
        "**Цель лабораторной работы:**\n",
        "\n",
        "Получить навыки обработки больших объемов данных с использованием MongoDB, Pandas и библиотеки визуализации Plotly."
      ],
      "metadata": {
        "id": "yMH2sDnBkypq"
      }
    },
    {
      "cell_type": "markdown",
      "source": [
        "**Автор работы:**"
      ],
      "metadata": {
        "id": "KmTMjlycltzO"
      }
    },
    {
      "cell_type": "markdown",
      "source": [
        "|Выполнил(а)| Группа | Дата |\n",
        "|---|---|---|\n",
        "| ФИО | Группа | Дата |"
      ],
      "metadata": {
        "id": "8zwuehzUlv-H"
      }
    },
    {
      "cell_type": "markdown",
      "metadata": {
        "id": "GmT771jbde0b"
      },
      "source": [
        "#1. Установка Mongo и импорт необходимых библиотек"
      ]
    },
    {
      "cell_type": "markdown",
      "source": [
        "Для установки базы данных MongoDB можно воспользоваться стандартной установкой в среде Linux, т.е. командой **apt-get install mongodb**.\n",
        "\n",
        "Нужно помнить, что данные будут удалены автоматически через 12 часов. Если возникает необходимость в сохранении созданной БД, то ее можно сохранить на своем диске."
      ],
      "metadata": {
        "id": "mMw5JJVClpgg"
      }
    },
    {
      "cell_type": "code",
      "source": [
        "!apt-get install mongodb"
      ],
      "metadata": {
        "colab": {
          "base_uri": "https://localhost:8080/"
        },
        "id": "Z9dpBmVnlqaB",
        "outputId": "79e6b590-e035-4464-a6be-e6ecf90c4d06"
      },
      "execution_count": 1,
      "outputs": [
        {
          "output_type": "stream",
          "name": "stdout",
          "text": [
            "Reading package lists... Done\n",
            "Building dependency tree       \n",
            "Reading state information... Done\n",
            "mongodb is already the newest version (1:3.6.9+really3.6.8+90~g8e540c0b6d-0ubuntu5.3).\n",
            "0 upgraded, 0 newly installed, 0 to remove and 22 not upgraded.\n"
          ]
        }
      ]
    },
    {
      "cell_type": "markdown",
      "source": [
        "Выполняем остановку службы MongoDB для монтирования диска и перенаправления пути сохранения базы."
      ],
      "metadata": {
        "id": "VmFZDYw4l3B1"
      }
    },
    {
      "cell_type": "code",
      "source": [
        "!service mongodb stop"
      ],
      "metadata": {
        "colab": {
          "base_uri": "https://localhost:8080/"
        },
        "id": "RPxSghY1l6Py",
        "outputId": "164eeafb-ce80-4a62-c120-b3d4d0c01963"
      },
      "execution_count": 2,
      "outputs": [
        {
          "output_type": "stream",
          "name": "stdout",
          "text": [
            " * Stopping database mongodb\n",
            "   ...done.\n"
          ]
        }
      ]
    },
    {
      "cell_type": "markdown",
      "source": [
        "Монтируем свой Google Drive, чтобы иметь возможность разместить каталог с данными MongoDB для длительного хранения."
      ],
      "metadata": {
        "id": "YzQzY8YMl_Iu"
      }
    },
    {
      "cell_type": "code",
      "source": [
        "from google.colab import drive\n",
        "drive.mount('/content/drive')"
      ],
      "metadata": {
        "colab": {
          "base_uri": "https://localhost:8080/"
        },
        "id": "mGYKV49omAFB",
        "outputId": "2c582939-7bce-4da3-82d3-d1f642f96249"
      },
      "execution_count": 3,
      "outputs": [
        {
          "output_type": "stream",
          "name": "stdout",
          "text": [
            "Drive already mounted at /content/drive; to attempt to forcibly remount, call drive.mount(\"/content/drive\", force_remount=True).\n"
          ]
        }
      ]
    },
    {
      "cell_type": "markdown",
      "source": [
        "Перезапускаем службу MongoDB с параметром **dbpath** для указания нового пути сохранения."
      ],
      "metadata": {
        "id": "5WJqrY7rmFi_"
      }
    },
    {
      "cell_type": "code",
      "source": [
        "# Перезапуск службы MongoDB с параметром dbpath для указания нового пути\n",
        "!service mongodb start --dbpath /content/drive/MyDrive/mongodb"
      ],
      "metadata": {
        "colab": {
          "base_uri": "https://localhost:8080/"
        },
        "id": "DhgUfpq8mIb0",
        "outputId": "d9279dd4-cce7-4f35-de53-7cc41d424c04"
      },
      "execution_count": 4,
      "outputs": [
        {
          "output_type": "stream",
          "name": "stdout",
          "text": [
            " * Starting database mongodb\n",
            "   ...done.\n"
          ]
        }
      ]
    },
    {
      "cell_type": "markdown",
      "source": [
        "## 1.1. Установка РyMongo"
      ],
      "metadata": {
        "id": "WO0qX_MKmWD8"
      }
    },
    {
      "cell_type": "markdown",
      "source": [
        "[PyMongo](https://pymongo.readthedocs.io/en/stable/) — это дистрибутив Python, содержащий инструменты для работы с MongoDB, и рекомендуемый способ работы с MongoDB из Python. Для обеспечения интерфейса MongoDB с Python, нам понадобится установка этого пакета."
      ],
      "metadata": {
        "id": "eYUAbe4Mmcro"
      }
    },
    {
      "cell_type": "code",
      "source": [
        "! python -m pip install pymongo"
      ],
      "metadata": {
        "colab": {
          "base_uri": "https://localhost:8080/"
        },
        "id": "UgAi5wvdmgl5",
        "outputId": "ed505afe-7043-442d-c271-a1c9b37e7d98"
      },
      "execution_count": 5,
      "outputs": [
        {
          "output_type": "stream",
          "name": "stdout",
          "text": [
            "Looking in indexes: https://pypi.org/simple, https://us-python.pkg.dev/colab-wheels/public/simple/\n",
            "Requirement already satisfied: pymongo in /usr/local/lib/python3.9/dist-packages (4.3.3)\n",
            "Requirement already satisfied: dnspython<3.0.0,>=1.16.0 in /usr/local/lib/python3.9/dist-packages (from pymongo) (2.3.0)\n"
          ]
        }
      ]
    },
    {
      "cell_type": "markdown",
      "metadata": {
        "id": "EiZKLvuA22WT"
      },
      "source": [
        "##1.2 Импорт библиотек"
      ]
    },
    {
      "cell_type": "code",
      "metadata": {
        "id": "PKg4_hsG2qCv"
      },
      "source": [
        "import pymongo                            # Библиотека для доступа MongoDB\n",
        "from pymongo import MongoClient           # Импортируем MongoClient \n",
        "import pandas as pd                       # Библиотека для работы с DataFrame\n",
        "import folium                             # Библиотека для создания карты\n",
        "from folium import plugins                # Плагин для создания цифровой карты\n",
        "import json"
      ],
      "execution_count": 23,
      "outputs": []
    },
    {
      "cell_type": "markdown",
      "source": [
        "## 1.3 Импортирт набора данных в mongodb"
      ],
      "metadata": {
        "id": "49TeiZQknQgJ"
      }
    },
    {
      "cell_type": "code",
      "source": [
        "# Скачать ограниченный набор данных для тренировки\n",
        "url = \"https://github.com/SerjiEvg/data-analysis/blob/main/data/telefoniaBCN.csv.zip?raw=true\"\n",
        "!wget $url\n",
        "!unzip telefoniaBCN.csv.zip"
      ],
      "metadata": {
        "colab": {
          "base_uri": "https://localhost:8080/"
        },
        "id": "8UlZD-U3oR-x",
        "outputId": "308fb21e-48b6-426d-f7b8-08ab32d30e4b"
      },
      "execution_count": 49,
      "outputs": [
        {
          "output_type": "stream",
          "name": "stdout",
          "text": [
            "--2023-03-13 07:44:16--  https://github.com/SerjiEvg/data-analysis/blob/main/data/telefoniaBCN.csv.zip?raw=true\n",
            "Resolving github.com (github.com)... 140.82.113.4\n",
            "Connecting to github.com (github.com)|140.82.113.4|:443... connected.\n",
            "HTTP request sent, awaiting response... 302 Found\n",
            "Location: https://github.com/SerjiEvg/data-analysis/raw/main/data/telefoniaBCN.csv.zip [following]\n",
            "--2023-03-13 07:44:16--  https://github.com/SerjiEvg/data-analysis/raw/main/data/telefoniaBCN.csv.zip\n",
            "Reusing existing connection to github.com:443.\n",
            "HTTP request sent, awaiting response... 302 Found\n",
            "Location: https://raw.githubusercontent.com/SerjiEvg/data-analysis/main/data/telefoniaBCN.csv.zip [following]\n",
            "--2023-03-13 07:44:17--  https://raw.githubusercontent.com/SerjiEvg/data-analysis/main/data/telefoniaBCN.csv.zip\n",
            "Resolving raw.githubusercontent.com (raw.githubusercontent.com)... 185.199.111.133, 185.199.109.133, 185.199.108.133, ...\n",
            "Connecting to raw.githubusercontent.com (raw.githubusercontent.com)|185.199.111.133|:443... connected.\n",
            "HTTP request sent, awaiting response... 200 OK\n",
            "Length: 3907664 (3.7M) [application/zip]\n",
            "Saving to: ‘telefoniaBCN.csv.zip?raw=true’\n",
            "\n",
            "telefoniaBCN.csv.zi 100%[===================>]   3.73M  --.-KB/s    in 0.01s   \n",
            "\n",
            "2023-03-13 07:44:17 (256 MB/s) - ‘telefoniaBCN.csv.zip?raw=true’ saved [3907664/3907664]\n",
            "\n",
            "Archive:  telefoniaBCN.csv.zip\n",
            "replace telefoniaBCN.csv? [y]es, [n]o, [A]ll, [N]one, [r]ename: y\n",
            "  inflating: telefoniaBCN.csv        \n"
          ]
        }
      ]
    },
    {
      "cell_type": "markdown",
      "metadata": {
        "id": "Gzjk1W5W288C"
      },
      "source": [
        "##1.4 Подключение к базе данных и загрузка коллекции"
      ]
    },
    {
      "cell_type": "code",
      "source": [
        "mng_client = pymongo.MongoClient()\n",
        "client = MongoClient()\n",
        "client.list_database_names()\n",
        "db = client.brny4kjelauboxl\n",
        "db.create_collection('mobileBCN') # Опциональное создание коллекции \n",
        "collection = db.mobileBCN"
      ],
      "metadata": {
        "id": "cImNcfs2s3qE"
      },
      "execution_count": 31,
      "outputs": []
    },
    {
      "cell_type": "code",
      "source": [
        "data = pd.read_csv('telefoniaBCN.csv', index_col = 'timestamp_')\n",
        "data.head(5)"
      ],
      "metadata": {
        "colab": {
          "base_uri": "https://localhost:8080/",
          "height": 237
        },
        "id": "l0vQ63ulv7MG",
        "outputId": "89af201a-4661-4d64-804d-89003fcfa014"
      },
      "execution_count": 32,
      "outputs": [
        {
          "output_type": "execute_result",
          "data": {
            "text/plain": [
              "              Senyal  OperadorDesc_ net_type   Activitat   NOM_MUNI  Year  \\\n",
              "timestamp_                                                                  \n",
              "1.488991e+12       3            NaN       4G  IN_VEHICLE  Barcelona  2017   \n",
              "1.488991e+12      20            NaN       2G     UNKNOWN  Barcelona  2017   \n",
              "1.488991e+12      10            NaN       4G  IN_VEHICLE  Barcelona  2017   \n",
              "1.488992e+12      18            NaN       3G     ON_FOOT  Barcelona  2017   \n",
              "1.488992e+12      13            NaN       3G       STILL  Barcelona  2017   \n",
              "\n",
              "              Month  Hour    Carrier  weekday     Lat    Lng  \n",
              "timestamp_                                                    \n",
              "1.488991e+12      3    16   movistar      NaN  41.406  2.166  \n",
              "1.488991e+12      3    16  pepephone      NaN  41.391  2.156  \n",
              "1.488991e+12      3    16   movistar      NaN  41.414  2.172  \n",
              "1.488992e+12      3    16  pepephone      NaN  41.390  2.157  \n",
              "1.488992e+12      3    16     orange      NaN  41.397  2.193  "
            ],
            "text/html": [
              "\n",
              "  <div id=\"df-4bc249d8-c39c-4082-bc2f-996bf59f4471\">\n",
              "    <div class=\"colab-df-container\">\n",
              "      <div>\n",
              "<style scoped>\n",
              "    .dataframe tbody tr th:only-of-type {\n",
              "        vertical-align: middle;\n",
              "    }\n",
              "\n",
              "    .dataframe tbody tr th {\n",
              "        vertical-align: top;\n",
              "    }\n",
              "\n",
              "    .dataframe thead th {\n",
              "        text-align: right;\n",
              "    }\n",
              "</style>\n",
              "<table border=\"1\" class=\"dataframe\">\n",
              "  <thead>\n",
              "    <tr style=\"text-align: right;\">\n",
              "      <th></th>\n",
              "      <th>Senyal</th>\n",
              "      <th>OperadorDesc_</th>\n",
              "      <th>net_type</th>\n",
              "      <th>Activitat</th>\n",
              "      <th>NOM_MUNI</th>\n",
              "      <th>Year</th>\n",
              "      <th>Month</th>\n",
              "      <th>Hour</th>\n",
              "      <th>Carrier</th>\n",
              "      <th>weekday</th>\n",
              "      <th>Lat</th>\n",
              "      <th>Lng</th>\n",
              "    </tr>\n",
              "    <tr>\n",
              "      <th>timestamp_</th>\n",
              "      <th></th>\n",
              "      <th></th>\n",
              "      <th></th>\n",
              "      <th></th>\n",
              "      <th></th>\n",
              "      <th></th>\n",
              "      <th></th>\n",
              "      <th></th>\n",
              "      <th></th>\n",
              "      <th></th>\n",
              "      <th></th>\n",
              "      <th></th>\n",
              "    </tr>\n",
              "  </thead>\n",
              "  <tbody>\n",
              "    <tr>\n",
              "      <th>1.488991e+12</th>\n",
              "      <td>3</td>\n",
              "      <td>NaN</td>\n",
              "      <td>4G</td>\n",
              "      <td>IN_VEHICLE</td>\n",
              "      <td>Barcelona</td>\n",
              "      <td>2017</td>\n",
              "      <td>3</td>\n",
              "      <td>16</td>\n",
              "      <td>movistar</td>\n",
              "      <td>NaN</td>\n",
              "      <td>41.406</td>\n",
              "      <td>2.166</td>\n",
              "    </tr>\n",
              "    <tr>\n",
              "      <th>1.488991e+12</th>\n",
              "      <td>20</td>\n",
              "      <td>NaN</td>\n",
              "      <td>2G</td>\n",
              "      <td>UNKNOWN</td>\n",
              "      <td>Barcelona</td>\n",
              "      <td>2017</td>\n",
              "      <td>3</td>\n",
              "      <td>16</td>\n",
              "      <td>pepephone</td>\n",
              "      <td>NaN</td>\n",
              "      <td>41.391</td>\n",
              "      <td>2.156</td>\n",
              "    </tr>\n",
              "    <tr>\n",
              "      <th>1.488991e+12</th>\n",
              "      <td>10</td>\n",
              "      <td>NaN</td>\n",
              "      <td>4G</td>\n",
              "      <td>IN_VEHICLE</td>\n",
              "      <td>Barcelona</td>\n",
              "      <td>2017</td>\n",
              "      <td>3</td>\n",
              "      <td>16</td>\n",
              "      <td>movistar</td>\n",
              "      <td>NaN</td>\n",
              "      <td>41.414</td>\n",
              "      <td>2.172</td>\n",
              "    </tr>\n",
              "    <tr>\n",
              "      <th>1.488992e+12</th>\n",
              "      <td>18</td>\n",
              "      <td>NaN</td>\n",
              "      <td>3G</td>\n",
              "      <td>ON_FOOT</td>\n",
              "      <td>Barcelona</td>\n",
              "      <td>2017</td>\n",
              "      <td>3</td>\n",
              "      <td>16</td>\n",
              "      <td>pepephone</td>\n",
              "      <td>NaN</td>\n",
              "      <td>41.390</td>\n",
              "      <td>2.157</td>\n",
              "    </tr>\n",
              "    <tr>\n",
              "      <th>1.488992e+12</th>\n",
              "      <td>13</td>\n",
              "      <td>NaN</td>\n",
              "      <td>3G</td>\n",
              "      <td>STILL</td>\n",
              "      <td>Barcelona</td>\n",
              "      <td>2017</td>\n",
              "      <td>3</td>\n",
              "      <td>16</td>\n",
              "      <td>orange</td>\n",
              "      <td>NaN</td>\n",
              "      <td>41.397</td>\n",
              "      <td>2.193</td>\n",
              "    </tr>\n",
              "  </tbody>\n",
              "</table>\n",
              "</div>\n",
              "      <button class=\"colab-df-convert\" onclick=\"convertToInteractive('df-4bc249d8-c39c-4082-bc2f-996bf59f4471')\"\n",
              "              title=\"Convert this dataframe to an interactive table.\"\n",
              "              style=\"display:none;\">\n",
              "        \n",
              "  <svg xmlns=\"http://www.w3.org/2000/svg\" height=\"24px\"viewBox=\"0 0 24 24\"\n",
              "       width=\"24px\">\n",
              "    <path d=\"M0 0h24v24H0V0z\" fill=\"none\"/>\n",
              "    <path d=\"M18.56 5.44l.94 2.06.94-2.06 2.06-.94-2.06-.94-.94-2.06-.94 2.06-2.06.94zm-11 1L8.5 8.5l.94-2.06 2.06-.94-2.06-.94L8.5 2.5l-.94 2.06-2.06.94zm10 10l.94 2.06.94-2.06 2.06-.94-2.06-.94-.94-2.06-.94 2.06-2.06.94z\"/><path d=\"M17.41 7.96l-1.37-1.37c-.4-.4-.92-.59-1.43-.59-.52 0-1.04.2-1.43.59L10.3 9.45l-7.72 7.72c-.78.78-.78 2.05 0 2.83L4 21.41c.39.39.9.59 1.41.59.51 0 1.02-.2 1.41-.59l7.78-7.78 2.81-2.81c.8-.78.8-2.07 0-2.86zM5.41 20L4 18.59l7.72-7.72 1.47 1.35L5.41 20z\"/>\n",
              "  </svg>\n",
              "      </button>\n",
              "      \n",
              "  <style>\n",
              "    .colab-df-container {\n",
              "      display:flex;\n",
              "      flex-wrap:wrap;\n",
              "      gap: 12px;\n",
              "    }\n",
              "\n",
              "    .colab-df-convert {\n",
              "      background-color: #E8F0FE;\n",
              "      border: none;\n",
              "      border-radius: 50%;\n",
              "      cursor: pointer;\n",
              "      display: none;\n",
              "      fill: #1967D2;\n",
              "      height: 32px;\n",
              "      padding: 0 0 0 0;\n",
              "      width: 32px;\n",
              "    }\n",
              "\n",
              "    .colab-df-convert:hover {\n",
              "      background-color: #E2EBFA;\n",
              "      box-shadow: 0px 1px 2px rgba(60, 64, 67, 0.3), 0px 1px 3px 1px rgba(60, 64, 67, 0.15);\n",
              "      fill: #174EA6;\n",
              "    }\n",
              "\n",
              "    [theme=dark] .colab-df-convert {\n",
              "      background-color: #3B4455;\n",
              "      fill: #D2E3FC;\n",
              "    }\n",
              "\n",
              "    [theme=dark] .colab-df-convert:hover {\n",
              "      background-color: #434B5C;\n",
              "      box-shadow: 0px 1px 3px 1px rgba(0, 0, 0, 0.15);\n",
              "      filter: drop-shadow(0px 1px 2px rgba(0, 0, 0, 0.3));\n",
              "      fill: #FFFFFF;\n",
              "    }\n",
              "  </style>\n",
              "\n",
              "      <script>\n",
              "        const buttonEl =\n",
              "          document.querySelector('#df-4bc249d8-c39c-4082-bc2f-996bf59f4471 button.colab-df-convert');\n",
              "        buttonEl.style.display =\n",
              "          google.colab.kernel.accessAllowed ? 'block' : 'none';\n",
              "\n",
              "        async function convertToInteractive(key) {\n",
              "          const element = document.querySelector('#df-4bc249d8-c39c-4082-bc2f-996bf59f4471');\n",
              "          const dataTable =\n",
              "            await google.colab.kernel.invokeFunction('convertToInteractive',\n",
              "                                                     [key], {});\n",
              "          if (!dataTable) return;\n",
              "\n",
              "          const docLinkHtml = 'Like what you see? Visit the ' +\n",
              "            '<a target=\"_blank\" href=https://colab.research.google.com/notebooks/data_table.ipynb>data table notebook</a>'\n",
              "            + ' to learn more about interactive tables.';\n",
              "          element.innerHTML = '';\n",
              "          dataTable['output_type'] = 'display_data';\n",
              "          await google.colab.output.renderOutput(dataTable, element);\n",
              "          const docLink = document.createElement('div');\n",
              "          docLink.innerHTML = docLinkHtml;\n",
              "          element.appendChild(docLink);\n",
              "        }\n",
              "      </script>\n",
              "    </div>\n",
              "  </div>\n",
              "  "
            ]
          },
          "metadata": {},
          "execution_count": 32
        }
      ]
    },
    {
      "cell_type": "code",
      "source": [
        "dict_data = data.to_dict('records')\n",
        "collection.insert_many(dict_data)"
      ],
      "metadata": {
        "colab": {
          "base_uri": "https://localhost:8080/"
        },
        "id": "OMY_i8F0wTFB",
        "outputId": "bd3dcda7-526f-4647-e1b3-83c2cb6a96bd"
      },
      "execution_count": 33,
      "outputs": [
        {
          "output_type": "execute_result",
          "data": {
            "text/plain": [
              "<pymongo.results.InsertManyResult at 0x7fe17c92d520>"
            ]
          },
          "metadata": {},
          "execution_count": 33
        }
      ]
    },
    {
      "cell_type": "code",
      "source": [
        "num_documents = collection.count_documents({'_id' : {'$exists' : 1}})     # Counts the documents in database\n",
        "print ( 'Number of documents in database = ' + str(num_documents) )\n",
        "list ( collection.find().limit(1) )  "
      ],
      "metadata": {
        "colab": {
          "base_uri": "https://localhost:8080/"
        },
        "id": "zAmuV09dwZsz",
        "outputId": "69065d9b-3872-4bac-efd3-5037caa6abcd"
      },
      "execution_count": 34,
      "outputs": [
        {
          "output_type": "stream",
          "name": "stdout",
          "text": [
            "Number of documents in database = 382377\n"
          ]
        },
        {
          "output_type": "execute_result",
          "data": {
            "text/plain": [
              "[{'_id': ObjectId('640ec9c00d88d0eb541c040e'),\n",
              "  'Senyal': 3,\n",
              "  'OperadorDesc_': nan,\n",
              "  'net_type': '4G',\n",
              "  'Activitat': 'IN_VEHICLE',\n",
              "  'NOM_MUNI': 'Barcelona',\n",
              "  'Year': 2017,\n",
              "  'Month': 3,\n",
              "  'Hour': 16,\n",
              "  'Carrier': 'movistar',\n",
              "  'weekday': nan,\n",
              "  'Lat': 41.406,\n",
              "  'Lng': 2.166}]"
            ]
          },
          "metadata": {},
          "execution_count": 34
        }
      ]
    },
    {
      "cell_type": "markdown",
      "metadata": {
        "id": "Aa3tA9vFAU_6"
      },
      "source": [
        "#1.5. Просмотр документа из коллекции"
      ]
    },
    {
      "cell_type": "code",
      "metadata": {
        "id": "bR-ek-2AMWCo",
        "colab": {
          "base_uri": "https://localhost:8080/",
          "height": 51
        },
        "outputId": "b270e1b4-15bd-491f-e033-7249a74b8ca4"
      },
      "source": [
        "databases = client.list_database_names()                # Show database names\n",
        "db = client.brny4kjelauboxl                                   # Set the database to work in\n",
        "collections = db.list_collection_names()                # List the collections available \n",
        "collection = db.mobileBCN                               # Set collection \n",
        "print (\"Databases: \" + str(databases) + \"\\nCollections: \" + str(collections))      "
      ],
      "execution_count": null,
      "outputs": [
        {
          "output_type": "stream",
          "text": [
            "Databases: ['brny4kjelauboxl']\n",
            "Collections: ['profiles', 'mobileBCN']\n"
          ],
          "name": "stdout"
        }
      ]
    },
    {
      "cell_type": "code",
      "metadata": {
        "id": "WDODiTNZQYpY",
        "outputId": "e9b90c62-28c3-4d01-ecbf-02a0d437afa2",
        "colab": {
          "base_uri": "https://localhost:8080/",
          "height": 255
        }
      },
      "source": [
        "list( collection.find().limit(1) )"
      ],
      "execution_count": null,
      "outputs": [
        {
          "output_type": "execute_result",
          "data": {
            "text/plain": [
              "[{'Activitat': 'UNKNOWN',\n",
              "  'Carrier': 'pepephone',\n",
              "  'Hour': 16,\n",
              "  'Lat': 41.391,\n",
              "  'Lng': 2.156,\n",
              "  'Month': 3,\n",
              "  'NOM_MUNI': 'Barcelona',\n",
              "  'OperadorDesc_': '',\n",
              "  'Senyal': 20,\n",
              "  'Year': 2017,\n",
              "  '_id': ObjectId('5e7549548307b5e3d4cd383d'),\n",
              "  'net_type': '2G',\n",
              "  'timestamp_': 1488991478972,\n",
              "  'weekday': ''}]"
            ]
          },
          "metadata": {
            "tags": []
          },
          "execution_count": 15
        }
      ]
    },
    {
      "cell_type": "markdown",
      "source": [
        "Чтобы узнать, сколько документов хранится в базе данных, можно подсчитать документы с '_id'"
      ],
      "metadata": {
        "id": "Zi4CPtF284la"
      }
    },
    {
      "cell_type": "code",
      "metadata": {
        "id": "W0WoOPtImDqA",
        "outputId": "187cf248-73db-4679-a7d2-5fd017f0b075",
        "colab": {
          "base_uri": "https://localhost:8080/"
        }
      },
      "source": [
        "collection.count_documents({'_id' : {'$exists' : 1} })"
      ],
      "execution_count": 35,
      "outputs": [
        {
          "output_type": "execute_result",
          "data": {
            "text/plain": [
              "382377"
            ]
          },
          "metadata": {},
          "execution_count": 35
        }
      ]
    },
    {
      "cell_type": "code",
      "metadata": {
        "id": "N43iU-KORIxg",
        "outputId": "2ef6aeda-2999-4382-b7f9-5fe3082e27c9",
        "colab": {
          "base_uri": "https://localhost:8080/"
        }
      },
      "source": [
        "print ( collection.distinct('Carrier') ) \n",
        "print ( collection.distinct('Month') )\n",
        "print ( collection.distinct('Activitat') )"
      ],
      "execution_count": 36,
      "outputs": [
        {
          "output_type": "stream",
          "name": "stdout",
          "text": [
            "['movistar', 'pepephone', 'orange', 'yoigo', 'vodafone', 'jazztel', 'other', 'lowi', 'eroski', 'masmovil', 'simyo']\n",
            "[3, 2, 1, 12, 11, 10, 9, 8, 7, 6, 5, 4]\n",
            "['IN_VEHICLE', 'UNKNOWN', 'ON_FOOT', 'STILL', 'TILTING', 'ON_BICYCLE', nan]\n"
          ]
        }
      ]
    },
    {
      "cell_type": "code",
      "metadata": {
        "id": "c5eWc8uSVZvI",
        "outputId": "baf74951-7808-41db-c62a-8d083279c540",
        "colab": {
          "base_uri": "https://localhost:8080/"
        }
      },
      "source": [
        "collection.create_index([( 'Carrier', pymongo.ASCENDING)])        # Создаем индекс для Carrier\n",
        "collection.create_index([( 'Month', pymongo.ASCENDING)])          # Создаем индекс для Month\n",
        "collection.create_index([( 'Activitat', pymongo.ASCENDING)])      # Создаем индекс для Activitat\n",
        "collection.create_index([( 'net_type', pymongo.ASCENDING)])       # Создаем индекс для net_type\n",
        "\n",
        "collection.index_information()                                    # Показать существующие индексы"
      ],
      "execution_count": 37,
      "outputs": [
        {
          "output_type": "execute_result",
          "data": {
            "text/plain": [
              "{'_id_': {'v': 2, 'key': [('_id', 1)], 'ns': 'brny4kjelauboxl.mobileBCN'},\n",
              " 'Carrier_1': {'v': 2,\n",
              "  'key': [('Carrier', 1)],\n",
              "  'ns': 'brny4kjelauboxl.mobileBCN'},\n",
              " 'Month_1': {'v': 2, 'key': [('Month', 1)], 'ns': 'brny4kjelauboxl.mobileBCN'},\n",
              " 'Activitat_1': {'v': 2,\n",
              "  'key': [('Activitat', 1)],\n",
              "  'ns': 'brny4kjelauboxl.mobileBCN'},\n",
              " 'net_type_1': {'v': 2,\n",
              "  'key': [('net_type', 1)],\n",
              "  'ns': 'brny4kjelauboxl.mobileBCN'}}"
            ]
          },
          "metadata": {},
          "execution_count": 37
        }
      ]
    },
    {
      "cell_type": "markdown",
      "metadata": {
        "id": "6OvdmKHppxIY"
      },
      "source": [
        "# 2. Выполнение запросов"
      ]
    },
    {
      "cell_type": "markdown",
      "metadata": {
        "id": "bSPtDkaRqn7y"
      },
      "source": [
        "## 2.1. Доля рынка операторов сотовой связи в Барселоне"
      ]
    },
    {
      "cell_type": "code",
      "metadata": {
        "id": "SrxKtp8fp4K8",
        "outputId": "fe4dff71-c124-4c01-ce96-3d0ef9db2e32",
        "colab": {
          "base_uri": "https://localhost:8080/"
        }
      },
      "source": [
        "carrier_list = collection.distinct('Carrier')                     # Создаем список с уникальными именами провайдеров сотовой связи\n",
        "\n",
        "total = 0                                                         \n",
        "for carrier in carrier_list:                                      \n",
        "  total_operador = collection.count_documents({'Carrier': carrier })   # для каждого провайдера подсчитываем кол-во документов\n",
        "  total += total_operador                                         # суммируем кол-во документов\n",
        "  print ( carrier + ': ' + str(total_operador))                   # выводим название провайдера и кол-во документов\n",
        "print ( total)"
      ],
      "execution_count": 38,
      "outputs": [
        {
          "output_type": "stream",
          "name": "stdout",
          "text": [
            "eroski: 177\n",
            "jazztel: 4441\n",
            "lowi: 4515\n",
            "masmovil: 540\n",
            "movistar: 136277\n",
            "orange: 79472\n",
            "other: 15070\n",
            "pepephone: 15481\n",
            "simyo: 3627\n",
            "vodafone: 114562\n",
            "yoigo: 8215\n",
            "382377\n"
          ]
        }
      ]
    },
    {
      "cell_type": "code",
      "metadata": {
        "id": "ht1mRWEzqnJ2",
        "outputId": "9df876a9-7bdf-4a53-eb76-272bf9f8142b",
        "colab": {
          "base_uri": "https://localhost:8080/"
        }
      },
      "source": [
        "# Более эффективный способ сделать такой запрос - использовать конвейерную обработку\n",
        "# Переменная конвейера (pipeline) содержит запрос для передачи в MongoDB в виде агрегации\n",
        "\n",
        "pipeline = [{ '$group':{                                   # $group, генерирует агрегацию данных\n",
        "                  '_id' : { 'Carrier' : '$Carrier'}        # идентификатором группы является имя 'Carrier'\n",
        "                  ,'Carrier' : {'$max' : '$Carrier'}       # $max, сохраняет имя 'Carrier'\n",
        "                  ,'Total' : {'$sum' : 1}                  # мы генерируем новый ключ 'Total', значением которого будет сумма $sum of carriers\n",
        "                  }\n",
        "            },\n",
        "            { '$project':                                  # $project - создается таблица\n",
        "                  { '_id' : 0,                             # '_id' всегда отображается. Чтобы скрыть, нужно установить '_id' : 0\n",
        "                    'Carrier' : 1,                         # чтобы отобразить провайдера, нужно установить  'Carrier' : 1\n",
        "                    'Total' : 1}                           # чтобы показать итог, включаем  'Total' : 1\n",
        "            },\n",
        "            { '$sort': {'Total' : -1}                      # сортируем результат по общей сумме в порядке убывания (-1)\n",
        "            }\n",
        "            ]\n",
        "query = list ( collection.aggregate( pipeline ) )          # конвейер отправляем в mongoDB с помощью collection.aggregate\n",
        "query "
      ],
      "execution_count": 39,
      "outputs": [
        {
          "output_type": "execute_result",
          "data": {
            "text/plain": [
              "[{'Carrier': 'movistar', 'Total': 136277},\n",
              " {'Carrier': 'vodafone', 'Total': 114562},\n",
              " {'Carrier': 'orange', 'Total': 79472},\n",
              " {'Carrier': 'pepephone', 'Total': 15481},\n",
              " {'Carrier': 'other', 'Total': 15070},\n",
              " {'Carrier': 'yoigo', 'Total': 8215},\n",
              " {'Carrier': 'lowi', 'Total': 4515},\n",
              " {'Carrier': 'jazztel', 'Total': 4441},\n",
              " {'Carrier': 'simyo', 'Total': 3627},\n",
              " {'Carrier': 'masmovil', 'Total': 540},\n",
              " {'Carrier': 'eroski', 'Total': 177}]"
            ]
          },
          "metadata": {},
          "execution_count": 39
        }
      ]
    },
    {
      "cell_type": "code",
      "metadata": {
        "id": "NsbPt4tit2VZ",
        "outputId": "1c99cf75-cfd1-41a9-f641-3228f376bbf6",
        "colab": {
          "base_uri": "https://localhost:8080/",
          "height": 394
        }
      },
      "source": [
        "df = pd.DataFrame(query)                           # Результат добавлен в Pandas DataFrame\n",
        "df"
      ],
      "execution_count": 40,
      "outputs": [
        {
          "output_type": "execute_result",
          "data": {
            "text/plain": [
              "      Carrier   Total\n",
              "0    movistar  136277\n",
              "1    vodafone  114562\n",
              "2      orange   79472\n",
              "3   pepephone   15481\n",
              "4       other   15070\n",
              "5       yoigo    8215\n",
              "6        lowi    4515\n",
              "7     jazztel    4441\n",
              "8       simyo    3627\n",
              "9    masmovil     540\n",
              "10     eroski     177"
            ],
            "text/html": [
              "\n",
              "  <div id=\"df-0ba3031f-8a6b-4999-b35b-dad9ddb0c4eb\">\n",
              "    <div class=\"colab-df-container\">\n",
              "      <div>\n",
              "<style scoped>\n",
              "    .dataframe tbody tr th:only-of-type {\n",
              "        vertical-align: middle;\n",
              "    }\n",
              "\n",
              "    .dataframe tbody tr th {\n",
              "        vertical-align: top;\n",
              "    }\n",
              "\n",
              "    .dataframe thead th {\n",
              "        text-align: right;\n",
              "    }\n",
              "</style>\n",
              "<table border=\"1\" class=\"dataframe\">\n",
              "  <thead>\n",
              "    <tr style=\"text-align: right;\">\n",
              "      <th></th>\n",
              "      <th>Carrier</th>\n",
              "      <th>Total</th>\n",
              "    </tr>\n",
              "  </thead>\n",
              "  <tbody>\n",
              "    <tr>\n",
              "      <th>0</th>\n",
              "      <td>movistar</td>\n",
              "      <td>136277</td>\n",
              "    </tr>\n",
              "    <tr>\n",
              "      <th>1</th>\n",
              "      <td>vodafone</td>\n",
              "      <td>114562</td>\n",
              "    </tr>\n",
              "    <tr>\n",
              "      <th>2</th>\n",
              "      <td>orange</td>\n",
              "      <td>79472</td>\n",
              "    </tr>\n",
              "    <tr>\n",
              "      <th>3</th>\n",
              "      <td>pepephone</td>\n",
              "      <td>15481</td>\n",
              "    </tr>\n",
              "    <tr>\n",
              "      <th>4</th>\n",
              "      <td>other</td>\n",
              "      <td>15070</td>\n",
              "    </tr>\n",
              "    <tr>\n",
              "      <th>5</th>\n",
              "      <td>yoigo</td>\n",
              "      <td>8215</td>\n",
              "    </tr>\n",
              "    <tr>\n",
              "      <th>6</th>\n",
              "      <td>lowi</td>\n",
              "      <td>4515</td>\n",
              "    </tr>\n",
              "    <tr>\n",
              "      <th>7</th>\n",
              "      <td>jazztel</td>\n",
              "      <td>4441</td>\n",
              "    </tr>\n",
              "    <tr>\n",
              "      <th>8</th>\n",
              "      <td>simyo</td>\n",
              "      <td>3627</td>\n",
              "    </tr>\n",
              "    <tr>\n",
              "      <th>9</th>\n",
              "      <td>masmovil</td>\n",
              "      <td>540</td>\n",
              "    </tr>\n",
              "    <tr>\n",
              "      <th>10</th>\n",
              "      <td>eroski</td>\n",
              "      <td>177</td>\n",
              "    </tr>\n",
              "  </tbody>\n",
              "</table>\n",
              "</div>\n",
              "      <button class=\"colab-df-convert\" onclick=\"convertToInteractive('df-0ba3031f-8a6b-4999-b35b-dad9ddb0c4eb')\"\n",
              "              title=\"Convert this dataframe to an interactive table.\"\n",
              "              style=\"display:none;\">\n",
              "        \n",
              "  <svg xmlns=\"http://www.w3.org/2000/svg\" height=\"24px\"viewBox=\"0 0 24 24\"\n",
              "       width=\"24px\">\n",
              "    <path d=\"M0 0h24v24H0V0z\" fill=\"none\"/>\n",
              "    <path d=\"M18.56 5.44l.94 2.06.94-2.06 2.06-.94-2.06-.94-.94-2.06-.94 2.06-2.06.94zm-11 1L8.5 8.5l.94-2.06 2.06-.94-2.06-.94L8.5 2.5l-.94 2.06-2.06.94zm10 10l.94 2.06.94-2.06 2.06-.94-2.06-.94-.94-2.06-.94 2.06-2.06.94z\"/><path d=\"M17.41 7.96l-1.37-1.37c-.4-.4-.92-.59-1.43-.59-.52 0-1.04.2-1.43.59L10.3 9.45l-7.72 7.72c-.78.78-.78 2.05 0 2.83L4 21.41c.39.39.9.59 1.41.59.51 0 1.02-.2 1.41-.59l7.78-7.78 2.81-2.81c.8-.78.8-2.07 0-2.86zM5.41 20L4 18.59l7.72-7.72 1.47 1.35L5.41 20z\"/>\n",
              "  </svg>\n",
              "      </button>\n",
              "      \n",
              "  <style>\n",
              "    .colab-df-container {\n",
              "      display:flex;\n",
              "      flex-wrap:wrap;\n",
              "      gap: 12px;\n",
              "    }\n",
              "\n",
              "    .colab-df-convert {\n",
              "      background-color: #E8F0FE;\n",
              "      border: none;\n",
              "      border-radius: 50%;\n",
              "      cursor: pointer;\n",
              "      display: none;\n",
              "      fill: #1967D2;\n",
              "      height: 32px;\n",
              "      padding: 0 0 0 0;\n",
              "      width: 32px;\n",
              "    }\n",
              "\n",
              "    .colab-df-convert:hover {\n",
              "      background-color: #E2EBFA;\n",
              "      box-shadow: 0px 1px 2px rgba(60, 64, 67, 0.3), 0px 1px 3px 1px rgba(60, 64, 67, 0.15);\n",
              "      fill: #174EA6;\n",
              "    }\n",
              "\n",
              "    [theme=dark] .colab-df-convert {\n",
              "      background-color: #3B4455;\n",
              "      fill: #D2E3FC;\n",
              "    }\n",
              "\n",
              "    [theme=dark] .colab-df-convert:hover {\n",
              "      background-color: #434B5C;\n",
              "      box-shadow: 0px 1px 3px 1px rgba(0, 0, 0, 0.15);\n",
              "      filter: drop-shadow(0px 1px 2px rgba(0, 0, 0, 0.3));\n",
              "      fill: #FFFFFF;\n",
              "    }\n",
              "  </style>\n",
              "\n",
              "      <script>\n",
              "        const buttonEl =\n",
              "          document.querySelector('#df-0ba3031f-8a6b-4999-b35b-dad9ddb0c4eb button.colab-df-convert');\n",
              "        buttonEl.style.display =\n",
              "          google.colab.kernel.accessAllowed ? 'block' : 'none';\n",
              "\n",
              "        async function convertToInteractive(key) {\n",
              "          const element = document.querySelector('#df-0ba3031f-8a6b-4999-b35b-dad9ddb0c4eb');\n",
              "          const dataTable =\n",
              "            await google.colab.kernel.invokeFunction('convertToInteractive',\n",
              "                                                     [key], {});\n",
              "          if (!dataTable) return;\n",
              "\n",
              "          const docLinkHtml = 'Like what you see? Visit the ' +\n",
              "            '<a target=\"_blank\" href=https://colab.research.google.com/notebooks/data_table.ipynb>data table notebook</a>'\n",
              "            + ' to learn more about interactive tables.';\n",
              "          element.innerHTML = '';\n",
              "          dataTable['output_type'] = 'display_data';\n",
              "          await google.colab.output.renderOutput(dataTable, element);\n",
              "          const docLink = document.createElement('div');\n",
              "          docLink.innerHTML = docLinkHtml;\n",
              "          element.appendChild(docLink);\n",
              "        }\n",
              "      </script>\n",
              "    </div>\n",
              "  </div>\n",
              "  "
            ]
          },
          "metadata": {},
          "execution_count": 40
        }
      ]
    },
    {
      "cell_type": "code",
      "metadata": {
        "id": "Eibr0Oy8vRi5",
        "colab": {
          "base_uri": "https://localhost:8080/",
          "height": 325
        },
        "outputId": "1e965880-b95c-4657-bb8e-1baf9b1581a3"
      },
      "source": [
        "df = df.set_index('Carrier')\n",
        "df.plot(kind='bar');"
      ],
      "execution_count": 41,
      "outputs": [
        {
          "output_type": "display_data",
          "data": {
            "text/plain": [
              "<Figure size 432x288 with 1 Axes>"
            ],
            "image/png": "[encoded data removed]"
          },
          "metadata": {
            "needs_background": "light"
          }
        }
      ]
    },
    {
      "cell_type": "markdown",
      "metadata": {
        "id": "TrKDJofZ_EE5"
      },
      "source": [
        "## 2.2. Построение тепловой карты"
      ]
    },
    {
      "cell_type": "code",
      "metadata": {
        "id": "ZuLK7lf09QcS",
        "colab": {
          "base_uri": "https://localhost:8080/"
        },
        "outputId": "2c1bc995-b9af-4191-d136-0ffc5f25b69f"
      },
      "source": [
        "list( collection.find({'Carrier' : 'movistar'}, {'_id', 'Carrier', 'Lat', 'Lng'}).limit(2) )"
      ],
      "execution_count": 42,
      "outputs": [
        {
          "output_type": "execute_result",
          "data": {
            "text/plain": [
              "[{'_id': ObjectId('640ec9c00d88d0eb541c040e'),\n",
              "  'Carrier': 'movistar',\n",
              "  'Lat': 41.406,\n",
              "  'Lng': 2.166},\n",
              " {'_id': ObjectId('640ec9c00d88d0eb541c0410'),\n",
              "  'Carrier': 'movistar',\n",
              "  'Lat': 41.414,\n",
              "  'Lng': 2.172}]"
            ]
          },
          "metadata": {},
          "execution_count": 42
        }
      ]
    },
    {
      "cell_type": "code",
      "metadata": {
        "id": "mT_IOKsAjUoS",
        "colab": {
          "base_uri": "https://localhost:8080/"
        },
        "outputId": "f4b1c5bc-962d-4ae9-d70a-40bc5dcbb73b"
      },
      "source": [
        "pipeline = [{ '$group':{ \n",
        "                  '_id' : { 'lat': '$Lat' , 'lon' : '$Lng', 'hour' : '$Hour'}\n",
        "                  ,'lat' : {'$max' : '$Lat'}\n",
        "                  ,'lon' : {'$max' : '$Lng'}\n",
        "                  ,'hour': {'$max' : '$Hour'}\n",
        "                  ,'Total' : {'$sum' : 1}\n",
        "                  }\n",
        "            },\n",
        "            { '$match':{\n",
        "                  'hour' : 9\n",
        "                  }\n",
        "            },\n",
        "            { '$project': \n",
        "                  { '_id' : 0,\n",
        "                    'lat' : 1,\n",
        "                    'lon' : 1,\n",
        "                    'hour' : 1,\n",
        "                    'Total' : 1}\n",
        "            },\n",
        "            { '$sort': {'Total' : -1}\n",
        "            }\n",
        "            ]\n",
        "\n",
        "query = list ( collection.aggregate( pipeline ) ) \n",
        "df = pd.DataFrame(query)\n",
        "query[0]"
      ],
      "execution_count": 43,
      "outputs": [
        {
          "output_type": "execute_result",
          "data": {
            "text/plain": [
              "{'lat': 41.39, 'lon': 2.138, 'hour': 9, 'Total': 103}"
            ]
          },
          "metadata": {},
          "execution_count": 43
        }
      ]
    },
    {
      "cell_type": "code",
      "metadata": {
        "id": "LSrdLsxwURVw",
        "colab": {
          "base_uri": "https://localhost:8080/"
        },
        "outputId": "82389122-8ce2-457a-9c5b-cacd3cc4c5b1"
      },
      "source": [
        "print ( \"lat \" + str ( float(df.loc[0]['lat']) ) )\n",
        "print ( \"lng \" + str ( float(df.loc[0]['lon']) ) )\n",
        "print ( \"totals \" + str ( float(df.loc[0]['Total']) ))\n",
        "# extract lat, lon, and magnitude for the folium heatmap\n",
        "longitud  = len( df )\n",
        "lats = []\n",
        "lngs = []\n",
        "totals = []\n",
        "for i in range ( longitud ):\n",
        "    lats.append ( float(df.loc[i]['lat']) )\n",
        "    lngs.append ( float(df.loc[i]['lon']) )\n",
        "    totals.append(float(df.loc[i]['Total']) )"
      ],
      "execution_count": 44,
      "outputs": [
        {
          "output_type": "stream",
          "name": "stdout",
          "text": [
            "lat 41.39\n",
            "lng 2.138\n",
            "totals 103.0\n"
          ]
        }
      ]
    },
    {
      "cell_type": "code",
      "metadata": {
        "id": "lWWH0yntH65z",
        "colab": {
          "base_uri": "https://localhost:8080/",
          "height": 750
        },
        "outputId": "c0cb294c-61f2-46ac-a3e3-5615da3e2be0"
      },
      "source": [
        "center_lat = 41.388\n",
        "center_lon = 2.159\n",
        "\n",
        "locationmap = folium.Map(location=[ center_lat , center_lon ], zoom_start=13, width=800, height=600 )\n",
        "locationmap.add_child(plugins.HeatMap(zip(lats, lngs, totals), radius = 12))\n",
        "\n",
        "locationmap"
      ],
      "execution_count": 45,
      "outputs": [
        {
          "output_type": "execute_result",
          "data": {
            "text/plain": [
              "<folium.folium.Map at 0x7fe1659499a0>"
            ],
            "text/html": [
              "<div style=\"width:100%;\"><div style=\"position:relative;width:100%;height:0;padding-bottom:60%;\"><span style=\"color:#565656\">Make this Notebook Trusted to load map: File -> Trust Notebook</span><iframe srcdoc=\"&lt;!DOCTYPE html&gt;\n",
              "&lt;html&gt;\n",
              "&lt;head&gt;\n",
              "    \n",
              "    &lt;meta http-equiv=&quot;content-type&quot; content=&quot;text/html; charset=UTF-8&quot; /&gt;\n",
              "    \n",
              "        &lt;script&gt;\n",
              "            L_NO_TOUCH = false;\n",
              "            L_DISABLE_3D = false;\n",
              "        &lt;/script&gt;\n",
              "    \n",
              "    &lt;style&gt;html, body {width: 100%;height: 100%;margin: 0;padding: 0;}&lt;/style&gt;\n",
              "    &lt;style&gt;#map {position:absolute;top:0;bottom:0;right:0;left:0;}&lt;/style&gt;\n",
              "    &lt;script src=&quot;https://cdn.jsdelivr.net/npm/leaflet@1.6.0/dist/leaflet.js&quot;&gt;&lt;/script&gt;\n",
              "    &lt;script src=&quot;https://code.jquery.com/jquery-1.12.4.min.js&quot;&gt;&lt;/script&gt;\n",
              "    &lt;script src=&quot;https://maxcdn.bootstrapcdn.com/bootstrap/3.2.0/js/bootstrap.min.js&quot;&gt;&lt;/script&gt;\n",
              "    &lt;script src=&quot;https://cdnjs.cloudflare.com/ajax/libs/Leaflet.awesome-markers/2.0.2/leaflet.awesome-markers.js&quot;&gt;&lt;/script&gt;\n",
              "    &lt;link rel=&quot;stylesheet&quot; href=&quot;https://cdn.jsdelivr.net/npm/leaflet@1.6.0/dist/leaflet.css&quot;/&gt;\n",
              "    &lt;link rel=&quot;stylesheet&quot; href=&quot;https://maxcdn.bootstrapcdn.com/bootstrap/3.2.0/css/bootstrap.min.css&quot;/&gt;\n",
              "    &lt;link rel=&quot;stylesheet&quot; href=&quot;https://maxcdn.bootstrapcdn.com/bootstrap/3.2.0/css/bootstrap-theme.min.css&quot;/&gt;\n",
              "    &lt;link rel=&quot;stylesheet&quot; href=&quot;https://maxcdn.bootstrapcdn.com/font-awesome/4.6.3/css/font-awesome.min.css&quot;/&gt;\n",
              "    &lt;link rel=&quot;stylesheet&quot; href=&quot;https://cdnjs.cloudflare.com/ajax/libs/Leaflet.awesome-markers/2.0.2/leaflet.awesome-markers.css&quot;/&gt;\n",
              "    &lt;link rel=&quot;stylesheet&quot; href=&quot;https://cdn.jsdelivr.net/gh/python-visualization/folium/folium/templates/leaflet.awesome.rotate.min.css&quot;/&gt;\n",
              "    \n",
              "            &lt;meta name=&quot;viewport&quot; content=&quot;width=device-width,\n",
              "                initial-scale=1.0, maximum-scale=1.0, user-scalable=no&quot; /&gt;\n",
              "            &lt;style&gt;\n",
              "                #map_eaaf7beee10fe9762db8f2c5f1d702f3 {\n",
              "                    position: relative;\n",
              "                    width: 800.0px;\n",
              "                    height: 600.0px;\n",
              "                    left: 0.0%;\n",
              "                    top: 0.0%;\n",
              "                }\n",
              "            &lt;/style&gt;\n",
              "        \n",
              "    &lt;script src=&quot;https://cdn.jsdelivr.net/gh/python-visualization/folium@master/folium/templates/leaflet_heat.min.js&quot;&gt;&lt;/script&gt;\n",
              "&lt;/head&gt;\n",
              "&lt;body&gt;\n",
              "    \n",
              "    \n",
              "            &lt;div class=&quot;folium-map&quot; id=&quot;map_eaaf7beee10fe9762db8f2c5f1d702f3&quot; &gt;&lt;/div&gt;\n",
              "        \n",
              "&lt;/body&gt;\n",
              "&lt;script&gt;\n",
              "    \n",
              "    \n",
              "            var map_eaaf7beee10fe9762db8f2c5f1d702f3 = L.map(\n",
              "                &quot;map_eaaf7beee10fe9762db8f2c5f1d702f3&quot;,\n",
              "                {\n",
              "                    center: [41.388, 2.159],\n",
              "                    crs: L.CRS.EPSG3857,\n",
              "                    zoom: 13,\n",
              "                    zoomControl: true,\n",
              "                    preferCanvas: false,\n",
              "                }\n",
              "            );\n",
              "\n",
              "            \n",
              "\n",
              "        \n",
              "    \n",
              "            var tile_layer_99997d3b1a9f0bd2757fd40a4894a4c2 = L.tileLayer(\n",
              "                &quot;https://{s}.tile.openstreetmap.org/{z}/{x}/{y}.png&quot;,\n",
              "                {&quot;attribution&quot;: &quot;Data by \\u0026copy; \\u003ca href=\\&quot;http://openstreetmap.org\\&quot;\\u003eOpenStreetMap\\u003c/a\\u003e, under \\u003ca href=\\&quot;http://www.openstreetmap.org/copyright\\&quot;\\u003eODbL\\u003c/a\\u003e.&quot;, &quot;detectRetina&quot;: false, &quot;maxNativeZoom&quot;: 18, &quot;maxZoom&quot;: 18, &quot;minZoom&quot;: 0, &quot;noWrap&quot;: false, &quot;opacity&quot;: 1, &quot;subdomains&quot;: &quot;abc&quot;, &quot;tms&quot;: false}\n",
              "            ).addTo(map_eaaf7beee10fe9762db8f2c5f1d702f3);\n",
              "        \n",
              "    \n",
              "            var heat_map_214863c1c4a080897c837b8ac7ba8158 = L.heatLayer(\n",
              "                [[41.39, 2.138, 103.0], [41.436, 2.159, 100.0], [41.399, 2.204, 97.0], [41.382, 2.132, 92.0], [41.366, 2.137, 80.0], [41.39, 2.137, 78.0], [41.43, 2.161, 75.0], [41.385, 2.177, 74.0], [41.366, 2.138, 70.0], [41.387, 2.112, 70.0], [41.387, 2.113, 60.0], [41.417, 2.17, 60.0], [41.383, 2.177, 57.0], [41.365, 2.136, 56.0], [41.43, 2.162, 53.0], [41.41, 2.17, 53.0], [41.403, 2.207, 52.0], [41.375, 2.171, 51.0], [41.384, 2.178, 51.0], [41.384, 2.179, 51.0], [41.433, 2.161, 48.0], [41.386, 2.178, 48.0], [41.396, 2.19, 46.0], [41.397, 2.189, 45.0], [41.385, 2.176, 44.0], [41.386, 2.17, 42.0], [41.393, 2.142, 42.0], [41.417, 2.196, 42.0], [41.403, 2.206, 40.0], [41.371, 2.144, 40.0], [41.393, 2.158, 40.0], [41.431, 2.161, 40.0], [41.43, 2.16, 40.0], [41.386, 2.164, 39.0], [41.388, 2.127, 38.0], [41.368, 2.14, 37.0], [41.402, 2.206, 37.0], [41.4, 2.203, 37.0], [41.431, 2.16, 36.0], [41.387, 2.165, 35.0], [41.436, 2.16, 34.0], [41.401, 2.199, 34.0], [41.374, 2.148, 34.0], [41.44, 2.154, 34.0], [41.401, 2.201, 34.0], [41.382, 2.161, 34.0], [41.387, 2.166, 32.0], [41.398, 2.14, 32.0], [41.413, 2.146, 32.0], [41.372, 2.145, 32.0], [41.384, 2.134, 32.0], [41.435, 2.162, 31.0], [41.383, 2.18, 31.0], [41.386, 2.177, 31.0], [41.402, 2.204, 31.0], [41.392, 2.171, 31.0], [41.432, 2.16, 30.0], [41.405, 2.196, 30.0], [41.389, 2.167, 30.0], [41.401, 2.206, 30.0], [41.392, 2.165, 30.0], [41.437, 2.159, 30.0], [41.428, 2.143, 29.0], [41.416, 2.17, 29.0], [41.392, 2.142, 29.0], [41.388, 2.166, 29.0], [41.385, 2.164, 28.0], [41.39, 2.162, 28.0], [41.435, 2.161, 27.0], [41.4, 2.205, 27.0], [41.388, 2.167, 27.0], [41.401, 2.205, 27.0], [41.381, 2.143, 27.0], [41.402, 2.205, 27.0], [41.388, 2.128, 27.0], [41.388, 2.125, 27.0], [41.387, 2.142, 27.0], [41.434, 2.162, 27.0], [41.381, 2.142, 27.0], [41.375, 2.148, 27.0], [41.386, 2.165, 26.0], [41.393, 2.145, 26.0], [41.392, 2.144, 26.0], [41.389, 2.153, 26.0], [41.391, 2.137, 26.0], [41.416, 2.196, 26.0], [41.367, 2.139, 26.0], [41.392, 2.143, 26.0], [41.381, 2.144, 26.0], [41.375, 2.149, 26.0], [41.387, 2.122, 25.0], [41.375, 2.15, 25.0], [41.386, 2.142, 25.0], [41.409, 2.17, 25.0], [41.404, 2.195, 25.0], [41.393, 2.144, 25.0], [41.396, 2.16, 25.0], [41.402, 2.2, 25.0], [41.427, 2.143, 25.0], [41.377, 2.174, 25.0], [41.437, 2.158, 25.0], [41.385, 2.17, 24.0], [41.398, 2.141, 24.0], [41.39, 2.155, 24.0], [41.365, 2.137, 24.0], [41.376, 2.15, 24.0], [41.401, 2.203, 24.0], [41.388, 2.171, 24.0], [41.39, 2.182, 24.0], [41.388, 2.114, 23.0], [41.391, 2.138, 23.0], [41.387, 2.175, 23.0], [41.393, 2.157, 23.0], [41.397, 2.196, 23.0], [41.412, 2.167, 23.0], [41.4, 2.198, 23.0], [41.434, 2.161, 22.0], [41.411, 2.129, 22.0], [41.384, 2.112, 22.0], [41.39, 2.165, 22.0], [41.429, 2.144, 22.0], [41.38, 2.156, 22.0], [41.417, 2.187, 22.0], [41.393, 2.141, 22.0], [41.375, 2.151, 22.0], [41.395, 2.187, 22.0], [41.393, 2.146, 22.0], [41.374, 2.149, 22.0], [41.39, 2.169, 22.0], [41.402, 2.198, 22.0], [41.401, 2.207, 22.0], [41.369, 2.141, 22.0], [41.398, 2.196, 22.0], [41.391, 2.139, 22.0], [41.378, 2.179, 22.0], [41.418, 2.19, 21.0], [41.388, 2.126, 21.0], [41.385, 2.162, 21.0], [41.394, 2.163, 21.0], [41.383, 2.16, 21.0], [41.403, 2.123, 21.0], [41.373, 2.146, 21.0], [41.38, 2.143, 21.0], [41.392, 2.158, 21.0], [41.367, 2.138, 21.0], [41.388, 2.174, 21.0], [41.401, 2.204, 21.0], [41.401, 2.202, 21.0], [41.375, 2.17, 20.0], [41.401, 2.123, 20.0], [41.436, 2.157, 20.0], [41.389, 2.168, 20.0], [41.405, 2.193, 20.0], [41.389, 2.174, 20.0], [41.389, 2.114, 20.0], [41.43, 2.145, 20.0], [41.432, 2.189, 20.0], [41.386, 2.139, 20.0], [41.419, 2.205, 20.0], [41.378, 2.139, 20.0], [41.37, 2.143, 20.0], [41.4, 2.199, 20.0], [41.364, 2.137, 20.0], [41.417, 2.205, 20.0], [41.392, 2.166, 20.0], [41.363, 2.137, 19.0], [41.387, 2.171, 19.0], [41.377, 2.152, 19.0], [41.384, 2.161, 19.0], [41.386, 2.169, 19.0], [41.386, 2.176, 19.0], [41.383, 2.139, 19.0], [41.388, 2.165, 19.0], [41.393, 2.159, 19.0], [41.377, 2.173, 19.0], [41.404, 2.197, 19.0], [41.386, 2.179, 19.0], [41.398, 2.189, 19.0], [41.39, 2.168, 19.0], [41.396, 2.191, 19.0], [41.407, 2.183, 19.0], [41.376, 2.178, 19.0], [41.426, 2.16, 19.0], [41.392, 2.141, 19.0], [41.401, 2.2, 19.0], [41.375, 2.173, 19.0], [41.411, 2.13, 18.0], [41.389, 2.183, 18.0], [41.404, 2.191, 18.0], [41.417, 2.195, 18.0], [41.399, 2.197, 18.0], [41.392, 2.176, 18.0], [41.399, 2.205, 18.0], [41.382, 2.182, 18.0], [41.389, 2.172, 18.0], [41.379, 2.154, 18.0], [41.392, 2.157, 18.0], [41.388, 2.173, 18.0], [41.388, 2.113, 18.0], [41.395, 2.121, 18.0], [41.386, 2.166, 18.0], [41.38, 2.139, 18.0], [41.383, 2.106, 18.0], [41.371, 2.143, 18.0], [41.396, 2.189, 18.0], [41.388, 2.17, 18.0], [41.375, 2.172, 18.0], [41.418, 2.204, 18.0], [41.391, 2.163, 18.0], [41.389, 2.154, 18.0], [41.357, 2.141, 17.0], [41.402, 2.201, 17.0], [41.402, 2.203, 17.0], [41.382, 2.158, 17.0], [41.426, 2.143, 17.0], [41.391, 2.164, 17.0], [41.368, 2.139, 17.0], [41.394, 2.156, 17.0], [41.385, 2.142, 17.0], [41.362, 2.137, 17.0], [41.377, 2.176, 17.0], [41.387, 2.178, 17.0], [41.402, 2.199, 17.0], [41.447, 2.186, 17.0], [41.431, 2.183, 17.0], [41.401, 2.177, 17.0], [41.375, 2.177, 17.0], [41.391, 2.156, 17.0], [41.418, 2.205, 17.0], [41.406, 2.15, 17.0], [41.402, 2.207, 17.0], [41.387, 2.169, 17.0], [41.419, 2.138, 17.0], [41.388, 2.164, 17.0], [41.353, 2.142, 16.0], [41.417, 2.171, 16.0], [41.409, 2.171, 16.0], [41.385, 2.174, 16.0], [41.448, 2.194, 16.0], [41.401, 2.114, 16.0], [41.382, 2.131, 16.0], [41.39, 2.17, 16.0], [41.383, 2.178, 16.0], [41.41, 2.184, 16.0], [41.378, 2.15, 16.0], [41.409, 2.187, 16.0], [41.378, 2.153, 16.0], [41.39, 2.171, 16.0], [41.405, 2.189, 16.0], [41.373, 2.147, 16.0], [41.391, 2.171, 16.0], [41.402, 2.195, 16.0], [41.393, 2.161, 16.0], [41.398, 2.205, 16.0], [41.385, 2.171, 16.0], [41.39, 2.148, 16.0], [41.427, 2.144, 16.0], [41.407, 2.15, 16.0], [41.399, 2.203, 16.0], [41.391, 2.157, 16.0], [41.383, 2.142, 16.0], [41.393, 2.17, 16.0], [41.396, 2.156, 16.0], [41.385, 2.137, 16.0], [41.4, 2.204, 16.0], [41.388, 2.155, 16.0], [41.437, 2.16, 15.0], [41.396, 2.196, 15.0], [41.387, 2.155, 15.0], [41.416, 2.195, 15.0], [41.38, 2.155, 15.0], [41.393, 2.164, 15.0], [41.394, 2.158, 15.0], [41.389, 2.132, 15.0], [41.404, 2.189, 15.0], [41.396, 2.157, 15.0], [41.403, 2.199, 15.0], [41.392, 2.17, 15.0], [41.404, 2.19, 15.0], [41.405, 2.194, 15.0], [41.394, 2.202, 15.0], [41.391, 2.136, 15.0], [41.41, 2.171, 15.0], [41.391, 2.144, 15.0], [41.366, 2.151, 15.0], [41.37, 2.142, 15.0], [41.393, 2.13, 15.0], [41.38, 2.141, 15.0], [41.394, 2.16, 15.0], [41.376, 2.149, 15.0], [41.395, 2.152, 15.0], [41.39, 2.167, 15.0], [41.397, 2.195, 15.0], [41.413, 2.145, 15.0], [41.387, 2.123, 15.0], [41.384, 2.177, 15.0], [41.379, 2.139, 15.0], [41.4, 2.152, 15.0], [41.389, 2.128, 15.0], [41.402, 2.194, 15.0], [41.417, 2.204, 14.0], [41.435, 2.16, 14.0], [41.385, 2.155, 14.0], [41.41, 2.144, 14.0], [41.405, 2.195, 14.0], [41.376, 2.153, 14.0], [41.397, 2.162, 14.0], [41.394, 2.15, 14.0], [41.373, 2.151, 14.0], [41.389, 2.131, 14.0], [41.387, 2.17, 14.0], [41.395, 2.155, 14.0], [41.384, 2.14, 14.0], [41.386, 2.163, 14.0], [41.391, 2.17, 14.0], [41.389, 2.152, 14.0], [41.381, 2.145, 14.0], [41.403, 2.204, 14.0], [41.428, 2.144, 14.0], [41.404, 2.194, 14.0], [41.375, 2.168, 14.0], [41.403, 2.195, 14.0], [41.378, 2.146, 14.0], [41.39, 2.156, 14.0], [41.379, 2.157, 14.0], [41.397, 2.194, 14.0], [41.403, 2.196, 14.0], [41.403, 2.205, 14.0], [41.375, 2.152, 14.0], [41.387, 2.164, 14.0], [41.381, 2.15, 14.0], [41.38, 2.14, 14.0], [41.364, 2.136, 14.0], [41.396, 2.155, 14.0], [41.385, 2.178, 14.0], [41.399, 2.153, 14.0], [41.414, 2.171, 14.0], [41.447, 2.188, 14.0], [41.389, 2.166, 14.0], [41.413, 2.167, 14.0], [41.394, 2.194, 13.0], [41.44, 2.183, 13.0], [41.376, 2.177, 13.0], [41.425, 2.142, 13.0], [41.392, 2.162, 13.0], [41.387, 2.156, 13.0], [41.39, 2.134, 13.0], [41.39, 2.174, 13.0], [41.389, 2.158, 13.0], [41.384, 2.11, 13.0], [41.398, 2.142, 13.0], [41.384, 2.142, 13.0], [41.387, 2.159, 13.0], [41.394, 2.168, 13.0], [41.385, 2.127, 13.0], [41.4, 2.122, 13.0], [41.407, 2.182, 13.0], [41.389, 2.129, 13.0], [41.397, 2.16, 13.0], [41.387, 2.121, 13.0], [41.389, 2.173, 13.0], [41.396, 2.205, 13.0], [41.408, 2.172, 13.0], [41.436, 2.162, 13.0], [41.403, 2.198, 13.0], [41.436, 2.148, 13.0], [41.391, 2.169, 13.0], [41.404, 2.196, 13.0], [41.384, 2.175, 13.0], [41.384, 2.111, 13.0], [41.389, 2.169, 13.0], [41.396, 2.159, 13.0], [41.437, 2.161, 13.0], [41.393, 2.189, 13.0], [41.411, 2.146, 13.0], [41.381, 2.184, 13.0], [41.392, 2.181, 13.0], [41.38, 2.148, 13.0], [41.387, 2.172, 13.0], [41.399, 2.186, 13.0], [41.401, 2.193, 13.0], [41.379, 2.142, 13.0], [41.379, 2.133, 12.0], [41.441, 2.182, 12.0], [41.376, 2.158, 12.0], [41.423, 2.187, 12.0], [41.362, 2.136, 12.0], [41.429, 2.143, 12.0], [41.36, 2.139, 12.0], [41.437, 2.15, 12.0], [41.388, 2.168, 12.0], [41.39, 2.158, 12.0], [41.392, 2.145, 12.0], [41.394, 2.157, 12.0], [41.396, 2.183, 12.0], [41.392, 2.16, 12.0], [41.393, 2.166, 12.0], [41.394, 2.165, 12.0], [41.383, 2.107, 12.0], [41.392, 2.129, 12.0], [41.392, 2.167, 12.0], [41.419, 2.139, 12.0], [41.44, 2.147, 12.0], [41.374, 2.157, 12.0], [41.432, 2.146, 12.0], [41.4, 2.149, 12.0], [41.407, 2.18, 12.0], [41.394, 2.159, 12.0], [41.386, 2.127, 12.0], [41.39, 2.144, 12.0], [41.385, 2.115, 12.0], [41.355, 2.159, 12.0], [41.381, 2.182, 12.0], [41.407, 2.186, 12.0], [41.436, 2.193, 12.0], [41.447, 2.19, 12.0], [41.385, 2.132, 12.0], [41.411, 2.197, 12.0], [41.392, 2.159, 12.0], [41.399, 2.181, 12.0], [41.384, 2.164, 12.0], [41.382, 2.16, 12.0], [41.354, 2.144, 12.0], [41.418, 2.186, 12.0], [41.405, 2.191, 12.0], [41.41, 2.146, 12.0], [41.366, 2.136, 12.0], [41.386, 2.16, 12.0], [41.384, 2.122, 12.0], [41.406, 2.191, 12.0], [41.389, 2.163, 12.0], [41.382, 2.181, 12.0], [41.382, 2.159, 12.0], [41.387, 2.127, 12.0], [41.374, 2.171, 12.0], [41.413, 2.19, 12.0], [41.43, 2.159, 12.0], [41.451, 2.193, 12.0], [41.393, 2.167, 12.0], [41.415, 2.133, 12.0], [41.415, 2.143, 11.0], [41.395, 2.159, 11.0], [41.435, 2.192, 11.0], [41.391, 2.167, 11.0], [41.431, 2.204, 11.0], [41.391, 2.192, 11.0], [41.416, 2.138, 11.0], [41.383, 2.159, 11.0], [41.398, 2.203, 11.0], [41.392, 2.139, 11.0], [41.394, 2.182, 11.0], [41.451, 2.189, 11.0], [41.392, 2.14, 11.0], [41.392, 2.169, 11.0], [41.412, 2.198, 11.0], [41.394, 2.142, 11.0], [41.385, 2.112, 11.0], [41.383, 2.179, 11.0], [41.404, 2.215, 11.0], [41.384, 2.109, 11.0], [41.416, 2.173, 11.0], [41.382, 2.143, 11.0], [41.387, 2.158, 11.0], [41.385, 2.138, 11.0], [41.4, 2.18, 11.0], [41.403, 2.188, 11.0], [41.403, 2.2, 11.0], [41.386, 2.173, 11.0], [41.385, 2.116, 11.0], [41.407, 2.185, 11.0], [41.38, 2.129, 11.0], [41.394, 2.149, 11.0], [41.404, 2.188, 11.0], [41.416, 2.187, 11.0], [41.372, 2.146, 11.0], [41.408, 2.149, 11.0], [41.383, 2.162, 11.0], [41.439, 2.154, 11.0], [41.35, 2.159, 11.0], [41.375, 2.158, 11.0], [41.386, 2.14, 11.0], [41.394, 2.121, 11.0], [41.393, 2.162, 11.0], [41.382, 2.136, 11.0], [41.384, 2.18, 11.0], [41.384, 2.171, 11.0], [41.401, 2.186, 11.0], [41.371, 2.152, 11.0], [41.399, 2.172, 11.0], [41.38, 2.174, 11.0], [41.38, 2.147, 11.0], [41.378, 2.151, 11.0], [41.396, 2.158, 11.0], [41.388, 2.121, 11.0], [41.391, 2.16, 11.0], [41.386, 2.171, 11.0], [41.383, 2.184, 11.0], [41.39, 2.133, 11.0], [41.395, 2.195, 11.0], [41.382, 2.145, 11.0], [41.406, 2.163, 11.0], [41.389, 2.127, 11.0], [41.381, 2.183, 11.0], [41.413, 2.183, 11.0], [41.383, 2.163, 11.0], [41.382, 2.146, 11.0], [41.411, 2.187, 11.0], [41.386, 2.194, 11.0], [41.377, 2.15, 11.0], [41.384, 2.169, 11.0], [41.387, 2.141, 11.0], [41.388, 2.154, 11.0], [41.386, 2.133, 11.0], [41.382, 2.177, 11.0], [41.4, 2.202, 11.0], [41.425, 2.165, 11.0], [41.441, 2.183, 10.0], [41.388, 2.186, 10.0], [41.384, 2.195, 10.0], [41.398, 2.132, 10.0], [41.397, 2.161, 10.0], [41.437, 2.157, 10.0], [41.382, 2.137, 10.0], [41.401, 2.208, 10.0], [41.365, 2.138, 10.0], [41.43, 2.144, 10.0], [41.382, 2.176, 10.0], [41.376, 2.148, 10.0], [41.391, 2.145, 10.0], [41.398, 2.172, 10.0], [41.387, 2.129, 10.0], [41.375, 2.174, 10.0], [41.394, 2.186, 10.0], [41.384, 2.103, 10.0], [41.405, 2.14, 10.0], [41.445, 2.175, 10.0], [41.381, 2.191, 10.0], [41.365, 2.135, 10.0], [41.376, 2.151, 10.0], [41.402, 2.184, 10.0], [41.374, 2.147, 10.0], [41.391, 2.14, 10.0], [41.447, 2.189, 10.0], [41.386, 2.118, 10.0], [41.389, 2.138, 10.0], [41.391, 2.182, 10.0], [41.405, 2.192, 10.0], [41.381, 2.157, 10.0], [41.433, 2.188, 10.0], [41.398, 2.164, 10.0], [41.381, 2.146, 10.0], [41.381, 2.151, 10.0], [41.386, 2.167, 10.0], [41.373, 2.15, 10.0], [41.389, 2.184, 10.0], [41.397, 2.159, 10.0], [41.418, 2.189, 10.0], [41.395, 2.153, 10.0], [41.362, 2.138, 10.0], [41.38, 2.142, 10.0], [41.392, 2.18, 10.0], [41.385, 2.163, 10.0], [41.376, 2.159, 10.0], [41.399, 2.134, 10.0], [41.388, 2.129, 10.0], [41.399, 2.141, 10.0], [41.442, 2.186, 10.0], [41.388, 2.197, 10.0], [41.376, 2.179, 10.0], [41.384, 2.166, 10.0], [41.377, 2.147, 10.0], [41.395, 2.154, 10.0], [41.432, 2.183, 10.0], [41.39, 2.166, 10.0], [41.376, 2.16, 10.0], [41.386, 2.168, 10.0], [41.397, 2.206, 10.0], [41.398, 2.139, 10.0], [41.42, 2.202, 10.0], [41.381, 2.132, 10.0], [41.393, 2.139, 10.0], [41.388, 2.172, 10.0], [41.402, 2.18, 10.0], [41.415, 2.166, 10.0], [41.391, 2.18, 10.0], [41.419, 2.2, 10.0], [41.403, 2.174, 10.0], [41.412, 2.129, 10.0], [41.381, 2.173, 10.0], [41.424, 2.142, 10.0], [41.41, 2.137, 10.0], [41.381, 2.178, 10.0], [41.398, 2.133, 10.0], [41.398, 2.128, 10.0], [41.435, 2.147, 10.0], [41.389, 2.113, 10.0], [41.381, 2.147, 10.0], [41.395, 2.151, 10.0], [41.369, 2.142, 10.0], [41.382, 2.152, 10.0], [41.435, 2.142, 10.0], [41.454, 2.189, 10.0], [41.417, 2.198, 10.0], [41.381, 2.16, 10.0], [41.414, 2.161, 10.0], [41.393, 2.143, 10.0], [41.429, 2.142, 10.0], [41.385, 2.168, 10.0], [41.382, 2.14, 10.0], [41.371, 2.151, 9.0], [41.433, 2.158, 9.0], [41.35, 2.148, 9.0], [41.352, 2.138, 9.0], [41.403, 2.122, 9.0], [41.401, 2.187, 9.0], [41.375, 2.159, 9.0], [41.353, 2.14, 9.0], [41.387, 2.124, 9.0], [41.387, 2.115, 9.0], [41.431, 2.189, 9.0], [41.447, 2.187, 9.0], [41.392, 2.138, 9.0], [41.394, 2.195, 9.0], [41.415, 2.173, 9.0], [41.383, 2.129, 9.0], [41.39, 2.157, 9.0], [41.419, 2.201, 9.0], [41.392, 2.164, 9.0], [41.401, 2.195, 9.0], [41.449, 2.188, 9.0], [41.399, 2.17, 9.0], [41.391, 2.181, 9.0], [41.405, 2.182, 9.0], [41.382, 2.128, 9.0], [41.386, 2.138, 9.0], [41.389, 2.16, 9.0], [41.406, 2.179, 9.0], [41.387, 2.135, 9.0], [41.433, 2.186, 9.0], [41.401, 2.198, 9.0], [41.39, 2.149, 9.0], [41.358, 2.14, 9.0], [41.354, 2.143, 9.0], [41.392, 2.136, 9.0], [41.407, 2.122, 9.0], [41.371, 2.15, 9.0], [41.393, 2.163, 9.0], [41.412, 2.199, 9.0], [41.407, 2.149, 9.0], [41.452, 2.195, 9.0], [41.391, 2.172, 9.0], [41.399, 2.168, 9.0], [41.376, 2.175, 9.0], [41.385, 2.165, 9.0], [41.393, 2.131, 9.0], [41.389, 2.15, 9.0], [41.391, 2.158, 9.0], [41.387, 2.154, 9.0], [41.418, 2.139, 9.0], [41.404, 2.193, 9.0], [41.386, 2.172, 9.0], [41.434, 2.146, 9.0], [41.398, 2.168, 9.0], [41.44, 2.163, 9.0], [41.393, 2.165, 9.0], [41.389, 2.156, 9.0], [41.406, 2.209, 9.0], [41.395, 2.156, 9.0], [41.385, 2.141, 9.0], [41.405, 2.203, 9.0], [41.394, 2.188, 9.0], [41.382, 2.141, 9.0], [41.421, 2.187, 9.0], [41.403, 2.203, 9.0], [41.433, 2.146, 9.0], [41.41, 2.164, 9.0], [41.388, 2.189, 9.0], [41.444, 2.187, 9.0], [41.409, 2.183, 9.0], [41.409, 2.194, 9.0], [41.397, 2.163, 9.0], [41.381, 2.19, 9.0], [41.403, 2.179, 9.0], [41.409, 2.195, 9.0], [41.383, 2.135, 9.0], [41.377, 2.151, 9.0], [41.386, 2.159, 9.0], [41.39, 2.132, 9.0], [41.415, 2.169, 9.0], [41.384, 2.145, 9.0], [41.385, 2.173, 9.0], [41.385, 2.134, 9.0], [41.398, 2.158, 9.0], [41.378, 2.138, 9.0], [41.406, 2.174, 9.0], [41.406, 2.139, 9.0], [41.411, 2.216, 9.0], [41.41, 2.187, 9.0], [41.439, 2.157, 9.0], [41.389, 2.133, 9.0], [41.392, 2.179, 9.0], [41.413, 2.169, 9.0], [41.4, 2.211, 8.0], [41.42, 2.207, 8.0], [41.418, 2.207, 8.0], [41.432, 2.161, 8.0], [41.429, 2.162, 8.0], [41.42, 2.208, 8.0], [41.393, 2.202, 8.0], [41.367, 2.137, 8.0], [41.378, 2.155, 8.0], [41.418, 2.191, 8.0], [41.394, 2.175, 8.0], [41.374, 2.137, 8.0], [41.402, 2.123, 8.0], [41.381, 2.149, 8.0], [41.384, 2.143, 8.0], [41.377, 2.179, 8.0], [41.419, 2.208, 8.0], [41.437, 2.162, 8.0], [41.417, 2.191, 8.0], [41.417, 2.138, 8.0], [41.375, 2.166, 8.0], [41.379, 2.148, 8.0], [41.404, 2.14, 8.0], [41.383, 2.137, 8.0], [41.383, 2.143, 8.0], [41.391, 2.197, 8.0], [41.374, 2.176, 8.0], [41.388, 2.136, 8.0], [41.394, 2.167, 8.0], [41.398, 2.167, 8.0], [41.393, 2.203, 8.0], [41.385, 2.192, 8.0], [41.446, 2.18, 8.0], [41.392, 2.153, 8.0], [41.391, 2.161, 8.0], [41.386, 2.119, 8.0], [41.351, 2.146, 8.0], [41.399, 2.154, 8.0], [41.413, 2.162, 8.0], [41.415, 2.167, 8.0], [41.411, 2.128, 8.0], [41.448, 2.188, 8.0], [41.391, 2.15, 8.0], [41.392, 2.202, 8.0], [41.388, 2.152, 8.0], [41.392, 2.201, 8.0], [41.38, 2.145, 8.0], [41.385, 2.114, 8.0], [41.395, 2.206, 8.0], [41.459, 2.186, 8.0], [41.392, 2.191, 8.0], [41.394, 2.128, 8.0], [41.399, 2.189, 8.0], [41.408, 2.151, 8.0], [41.383, 2.174, 8.0], [41.399, 2.19, 8.0], [41.397, 2.177, 8.0], [41.398, 2.204, 8.0], [41.402, 2.178, 8.0], [41.404, 2.198, 8.0], [41.381, 2.133, 8.0], [41.377, 2.172, 8.0], [41.386, 2.186, 8.0], [41.391, 2.166, 8.0], [41.395, 2.162, 8.0], [41.402, 2.173, 8.0], [41.446, 2.179, 8.0], [41.378, 2.176, 8.0], [41.401, 2.148, 8.0], [41.393, 2.187, 8.0], [41.418, 2.172, 8.0], [41.388, 2.115, 8.0], [41.39, 2.135, 8.0], [41.41, 2.173, 8.0], [41.399, 2.198, 8.0], [41.353, 2.141, 8.0], [41.394, 2.151, 8.0], [41.403, 2.177, 8.0], [41.385, 2.193, 8.0], [41.385, 2.117, 8.0], [41.4, 2.2, 8.0], [41.403, 2.194, 8.0], [41.409, 2.184, 8.0], [41.421, 2.177, 8.0], [41.385, 2.113, 8.0], [41.389, 2.148, 8.0], [41.394, 2.174, 8.0], [41.436, 2.154, 8.0], [41.386, 2.183, 8.0], [41.44, 2.182, 8.0], [41.396, 2.126, 8.0], [41.387, 2.153, 8.0], [41.382, 2.147, 8.0], [41.379, 2.144, 8.0], [41.389, 2.134, 8.0], [41.419, 2.202, 8.0], [41.393, 2.16, 8.0], [41.387, 2.168, 8.0], [41.382, 2.172, 8.0], [41.399, 2.117, 8.0], [41.395, 2.12, 8.0], [41.384, 2.162, 8.0], [41.412, 2.216, 8.0], [41.373, 2.176, 8.0], [41.409, 2.172, 8.0], [41.389, 2.171, 8.0], [41.415, 2.19, 8.0], [41.387, 2.195, 8.0], [41.402, 2.114, 8.0], [41.401, 2.194, 8.0], [41.397, 2.14, 8.0], [41.38, 2.146, 8.0], [41.384, 2.138, 8.0], [41.427, 2.142, 8.0], [41.384, 2.163, 8.0], [41.388, 2.157, 8.0], [41.418, 2.171, 8.0], [41.439, 2.153, 8.0], [41.408, 2.181, 8.0], [41.417, 2.192, 8.0], [41.418, 2.199, 8.0], [41.459, 2.184, 8.0], [41.4, 2.17, 8.0], [41.386, 2.117, 8.0], [41.379, 2.129, 8.0], [41.401, 2.179, 8.0], [41.382, 2.144, 8.0], [41.383, 2.183, 8.0], [41.4, 2.206, 8.0], [41.405, 2.187, 8.0], [41.402, 2.124, 8.0], [41.415, 2.215, 8.0], [41.365, 2.147, 8.0], [41.379, 2.163, 8.0], [41.421, 2.14, 8.0], [41.412, 2.164, 8.0], [41.387, 2.13, 8.0], [41.414, 2.132, 8.0], [41.439, 2.155, 8.0], [41.4, 2.183, 8.0], [41.375, 2.167, 8.0], [41.387, 2.143, 8.0], [41.462, 2.182, 8.0], [41.379, 2.146, 8.0], [41.395, 2.176, 8.0], [41.408, 2.183, 8.0], [41.403, 2.175, 8.0], [41.391, 2.162, 8.0], [41.388, 2.134, 8.0], [41.406, 2.149, 8.0], [41.409, 2.124, 8.0], [41.406, 2.147, 8.0], [41.412, 2.217, 8.0], [41.382, 2.185, 8.0], [41.391, 2.155, 8.0], [41.391, 2.173, 8.0], [41.45, 2.189, 8.0], [41.415, 2.194, 8.0], [41.389, 2.135, 8.0], [41.379, 2.147, 8.0], [41.429, 2.163, 8.0], [41.388, 2.112, 8.0], [41.388, 2.188, 8.0], [41.372, 2.151, 8.0], [41.431, 2.164, 8.0], [41.401, 2.196, 8.0], [41.405, 2.19, 7.0], [41.387, 2.197, 7.0], [41.406, 2.192, 7.0], [41.344, 2.133, 7.0], [41.391, 2.176, 7.0], [41.358, 2.141, 7.0], [41.361, 2.135, 7.0], [41.359, 2.14, 7.0], [41.399, 2.174, 7.0], [41.347, 2.142, 7.0], [41.436, 2.192, 7.0], [41.441, 2.145, 7.0], [41.381, 2.115, 7.0], [41.43, 2.143, 7.0], [41.387, 2.167, 7.0], [41.44, 2.198, 7.0], [41.425, 2.143, 7.0], [41.384, 2.135, 7.0], [41.388, 2.124, 7.0], [41.411, 2.144, 7.0], [41.406, 2.202, 7.0], [41.392, 2.13, 7.0], [41.386, 2.136, 7.0], [41.385, 2.179, 7.0], [41.359, 2.145, 7.0], [41.419, 2.189, 7.0], [41.4, 2.155, 7.0], [41.401, 2.155, 7.0], [41.374, 2.151, 7.0], [41.429, 2.184, 7.0], [41.382, 2.194, 7.0], [41.413, 2.131, 7.0], [41.406, 2.121, 7.0], [41.395, 2.16, 7.0], [41.391, 2.19, 7.0], [41.386, 2.158, 7.0], [41.408, 2.161, 7.0], [41.388, 2.151, 7.0], [41.392, 2.155, 7.0], [41.395, 2.161, 7.0], [41.386, 2.161, 7.0], [41.39, 2.136, 7.0], [41.393, 2.147, 7.0], [41.413, 2.2, 7.0], [41.395, 2.168, 7.0], [41.4, 2.171, 7.0], [41.385, 2.153, 7.0], [41.394, 2.148, 7.0], [41.446, 2.187, 7.0], [41.387, 2.106, 7.0], [41.408, 2.15, 7.0], [41.379, 2.145, 7.0], [41.406, 2.195, 7.0], [41.416, 2.175, 7.0], [41.408, 2.193, 7.0], [41.415, 2.134, 7.0], [41.401, 2.141, 7.0], [41.392, 2.172, 7.0], [41.388, 2.143, 7.0], [41.404, 2.176, 7.0], [41.404, 2.207, 7.0], [41.404, 2.192, 7.0], [41.398, 2.206, 7.0], [41.376, 2.184, 7.0], [41.375, 2.163, 7.0], [41.385, 2.158, 7.0], [41.383, 2.164, 7.0], [41.397, 2.12, 7.0], [41.386, 2.184, 7.0], [41.393, 2.137, 7.0], [41.381, 2.134, 7.0], [41.398, 2.146, 7.0], [41.383, 2.172, 7.0], [41.407, 2.201, 7.0], [41.399, 2.171, 7.0], [41.388, 2.16, 7.0], [41.377, 2.175, 7.0], [41.451, 2.196, 7.0], [41.43, 2.183, 7.0], [41.403, 2.21, 7.0], [41.384, 2.182, 7.0], [41.4, 2.113, 7.0], [41.394, 2.189, 7.0], [41.375, 2.147, 7.0], [41.425, 2.175, 7.0], [41.377, 2.177, 7.0], [41.414, 2.138, 7.0], [41.39, 2.107, 7.0], [41.383, 2.176, 7.0], [41.383, 2.136, 7.0], [41.393, 2.185, 7.0], [41.413, 2.191, 7.0], [41.428, 2.142, 7.0], [41.417, 2.139, 7.0], [41.393, 2.176, 7.0], [41.389, 2.165, 7.0], [41.386, 2.154, 7.0], [41.395, 2.175, 7.0], [41.385, 2.183, 7.0], [41.395, 2.134, 7.0], [41.374, 2.156, 7.0], [41.416, 2.174, 7.0], [41.381, 2.141, 7.0], [41.403, 2.185, 7.0], [41.392, 2.15, 7.0], [41.392, 2.168, 7.0], [41.414, 2.187, 7.0], [41.398, 2.186, 7.0], [41.389, 2.149, 7.0], [41.409, 2.169, 7.0], [41.398, 2.154, 7.0], [41.398, 2.207, 7.0], [41.381, 2.137, 7.0], [41.386, 2.156, 7.0], [41.398, 2.161, 7.0], [41.416, 2.171, 7.0], [41.391, 2.168, 7.0], [41.388, 2.149, 7.0], [41.39, 2.173, 7.0], [41.387, 2.12, 7.0], [41.38, 2.163, 7.0], [41.388, 2.159, 7.0], [41.404, 2.216, 7.0], [41.405, 2.176, 7.0], [41.397, 2.205, 7.0], [41.387, 2.196, 7.0], [41.41, 2.147, 7.0], [41.399, 2.169, 7.0], [41.409, 2.149, 7.0], [41.418, 2.197, 7.0], [41.412, 2.144, 7.0], [41.375, 2.165, 7.0], [41.459, 2.185, 7.0], [41.404, 2.203, 7.0], [41.389, 2.147, 7.0], [41.39, 2.161, 7.0], [41.396, 2.208, 7.0], [41.409, 2.145, 7.0], [41.411, 2.2, 7.0], [41.381, 2.189, 7.0], [41.387, 2.144, 7.0], [41.384, 2.152, 7.0], [41.4, 2.207, 7.0], [41.375, 2.133, 7.0], [41.382, 2.163, 7.0], [41.378, 2.152, 7.0], [41.398, 2.163, 7.0], [41.401, 2.212, 7.0], [41.447, 2.193, 7.0], [41.418, 2.206, 7.0], [41.389, 2.139, 7.0], [41.383, 2.128, 7.0], [41.397, 2.171, 7.0], [41.428, 2.166, 7.0], [41.383, 2.188, 7.0], [41.4, 2.175, 7.0], [41.399, 2.14, 7.0], [41.403, 2.197, 7.0], [41.405, 2.18, 7.0], [41.38, 2.149, 7.0], [41.387, 2.148, 7.0], [41.411, 2.198, 7.0], [41.408, 2.184, 7.0], [41.41, 2.172, 7.0], [41.388, 2.146, 7.0], [41.379, 2.179, 7.0], [41.387, 2.114, 7.0], [41.44, 2.153, 7.0], [41.4, 2.201, 7.0], [41.391, 2.149, 7.0], [41.426, 2.173, 7.0], [41.411, 2.157, 7.0], [41.384, 2.165, 7.0], [41.413, 2.135, 7.0], [41.383, 2.195, 7.0], [41.406, 2.19, 7.0], [41.382, 2.142, 7.0], [41.422, 2.141, 7.0], [41.39, 2.153, 7.0], [41.392, 2.204, 7.0], [41.387, 2.16, 7.0], [41.388, 2.196, 7.0], [41.386, 2.198, 6.0], [41.463, 2.18, 6.0], [41.434, 2.163, 6.0], [41.434, 2.159, 6.0], [41.356, 2.149, 6.0], [41.433, 2.16, 6.0], [41.38, 2.138, 6.0], [41.412, 2.14, 6.0], [41.407, 2.178, 6.0], [41.354, 2.142, 6.0], [41.415, 2.195, 6.0], [41.398, 2.171, 6.0], [41.415, 2.201, 6.0], [41.416, 2.193, 6.0], [41.401, 2.167, 6.0], [41.406, 2.193, 6.0], [41.392, 2.126, 6.0], [41.38, 2.153, 6.0], [41.423, 2.12, 6.0], [41.341, 2.126, 6.0], [41.38, 2.119, 6.0], [41.384, 2.133, 6.0], [41.4, 2.124, 6.0], [41.375, 2.131, 6.0], [41.38, 2.144, 6.0], [41.362, 2.145, 6.0], [41.441, 2.198, 6.0], [41.419, 2.137, 6.0], [41.455, 2.189, 6.0], [41.379, 2.181, 6.0], [41.393, 2.171, 6.0], [41.402, 2.121, 6.0], [41.387, 2.179, 6.0], [41.404, 2.162, 6.0], [41.397, 2.193, 6.0], [41.418, 2.188, 6.0], [41.42, 2.187, 6.0], [41.412, 2.165, 6.0], [41.443, 2.186, 6.0], [41.431, 2.145, 6.0], [41.389, 2.155, 6.0], [41.399, 2.122, 6.0], [41.344, 2.132, 6.0], [41.388, 2.137, 6.0], [41.346, 2.14, 6.0], [41.438, 2.206, 6.0], [41.393, 2.156, 6.0], [41.379, 2.155, 6.0], [41.388, 2.158, 6.0], [41.381, 2.192, 6.0], [41.402, 2.175, 6.0], [41.386, 2.121, 6.0], [41.395, 2.158, 6.0], [41.394, 2.172, 6.0], [41.407, 2.192, 6.0], [41.412, 2.166, 6.0], [41.416, 2.142, 6.0], [41.395, 2.204, 6.0], [41.375, 2.169, 6.0], [41.383, 2.158, 6.0], [41.424, 2.18, 6.0], [41.448, 2.198, 6.0], [41.39, 2.163, 6.0], [41.385, 2.196, 6.0], [41.358, 2.143, 6.0], [41.38, 2.181, 6.0], [41.392, 2.151, 6.0], [41.396, 2.192, 6.0], [41.372, 2.15, 6.0], [41.39, 2.195, 6.0], [41.396, 2.195, 6.0], [41.392, 2.125, 6.0], [41.381, 2.174, 6.0], [41.386, 2.15, 6.0], [41.358, 2.144, 6.0], [41.416, 2.169, 6.0], [41.419, 2.203, 6.0], [41.378, 2.181, 6.0], [41.404, 2.187, 6.0], [41.393, 2.132, 6.0], [41.355, 2.143, 6.0], [41.402, 2.196, 6.0], [41.425, 2.176, 6.0], [41.364, 2.171, 6.0], [41.396, 2.121, 6.0], [41.426, 2.186, 6.0], [41.381, 2.161, 6.0], [41.39, 2.181, 6.0], [41.407, 2.193, 6.0], [41.356, 2.142, 6.0], [41.361, 2.138, 6.0], [41.394, 2.129, 6.0], [41.412, 2.168, 6.0], [41.378, 2.154, 6.0], [41.391, 2.147, 6.0], [41.4, 2.182, 6.0], [41.395, 2.205, 6.0], [41.436, 2.209, 6.0], [41.389, 2.162, 6.0], [41.397, 2.184, 6.0], [41.379, 2.152, 6.0], [41.45, 2.197, 6.0], [41.385, 2.18, 6.0], [41.392, 2.174, 6.0], [41.394, 2.204, 6.0], [41.388, 2.169, 6.0], [41.403, 2.139, 6.0], [41.438, 2.154, 6.0], [41.396, 2.17, 6.0], [41.374, 2.177, 6.0], [41.446, 2.177, 6.0], [41.386, 2.124, 6.0], [41.381, 2.116, 6.0], [41.354, 2.145, 6.0], [41.404, 2.175, 6.0], [41.377, 2.148, 6.0], [41.382, 2.148, 6.0], [41.402, 2.174, 6.0], [41.392, 2.137, 6.0], [41.394, 2.187, 6.0], [41.395, 2.196, 6.0], [41.391, 2.2, 6.0], [41.404, 2.141, 6.0], [41.376, 2.132, 6.0], [41.414, 2.201, 6.0], [41.447, 2.185, 6.0], [41.46, 2.184, 6.0], [41.415, 2.181, 6.0], [41.463, 2.181, 6.0], [41.436, 2.184, 6.0], [41.357, 2.162, 6.0], [41.397, 2.144, 6.0], [41.399, 2.173, 6.0], [41.408, 2.123, 6.0], [41.398, 2.126, 6.0], [41.396, 2.179, 6.0], [41.386, 2.126, 6.0], [41.371, 2.175, 6.0], [41.404, 2.152, 6.0], [41.393, 2.172, 6.0], [41.396, 2.143, 6.0], [41.379, 2.175, 6.0], [41.424, 2.186, 6.0], [41.392, 2.156, 6.0], [41.374, 2.175, 6.0], [41.403, 2.202, 6.0], [41.392, 2.149, 6.0], [41.4, 2.192, 6.0], [41.397, 2.197, 6.0], [41.464, 2.18, 6.0], [41.354, 2.158, 6.0], [41.373, 2.155, 6.0], [41.432, 2.164, 6.0], [41.4, 2.172, 6.0], [41.388, 2.15, 6.0], [41.397, 2.188, 6.0], [41.39, 2.16, 6.0], [41.407, 2.163, 6.0], [41.382, 2.168, 6.0], [41.383, 2.167, 6.0], [41.398, 2.147, 6.0], [41.41, 2.174, 6.0], [41.411, 2.199, 6.0], [41.383, 2.194, 6.0], [41.461, 2.181, 6.0], [41.384, 2.19, 6.0], [41.405, 2.188, 6.0], [41.434, 2.147, 6.0], [41.393, 2.169, 6.0], [41.389, 2.159, 6.0], [41.411, 2.143, 6.0], [41.413, 2.187, 6.0], [41.397, 2.146, 6.0], [41.417, 2.173, 6.0], [41.39, 2.177, 6.0], [41.402, 2.146, 6.0], [41.428, 2.14, 6.0], [41.361, 2.141, 6.0], [41.388, 2.194, 6.0], [41.401, 2.115, 6.0], [41.385, 2.133, 6.0], [41.447, 2.192, 6.0], [41.41, 2.169, 6.0], [41.356, 2.161, 6.0], [41.436, 2.191, 6.0], [41.394, 2.162, 6.0], [41.386, 2.143, 6.0], [41.401, 2.165, 6.0], [41.395, 2.143, 6.0], [41.388, 2.139, 6.0], [41.412, 2.143, 6.0], [41.383, 2.138, 6.0], [41.395, 2.189, 6.0], [41.399, 2.206, 6.0], [41.402, 2.185, 6.0], [41.401, 2.197, 6.0], [41.405, 2.217, 6.0], [41.381, 2.181, 6.0], [41.397, 2.19, 6.0], [41.383, 2.146, 6.0], [41.407, 2.174, 6.0], [41.412, 2.141, 6.0], [41.386, 2.157, 6.0], [41.395, 2.201, 6.0], [41.398, 2.12, 6.0], [41.405, 2.197, 6.0], [41.393, 2.138, 6.0], [41.395, 2.125, 6.0], [41.401, 2.122, 6.0], [41.383, 2.153, 6.0], [41.453, 2.189, 6.0], [41.446, 2.181, 6.0], [41.384, 2.176, 6.0], [41.397, 2.192, 6.0], [41.386, 2.195, 6.0], [41.341, 2.124, 6.0], [41.432, 2.145, 6.0], [41.427, 2.145, 6.0], [41.41, 2.216, 6.0], [41.446, 2.204, 6.0], [41.401, 2.151, 6.0], [41.409, 2.185, 6.0], [41.419, 2.187, 6.0], [41.438, 2.157, 6.0], [41.388, 2.133, 6.0], [41.4, 2.191, 6.0], [41.385, 2.143, 6.0], [41.383, 2.13, 6.0], [41.447, 2.182, 6.0], [41.401, 2.147, 6.0], [41.39, 2.147, 6.0], [41.366, 2.145, 5.0], [41.431, 2.182, 5.0], [41.414, 2.214, 5.0], [41.35, 2.149, 5.0], [41.41, 2.143, 5.0], [41.411, 2.145, 5.0], [41.403, 2.154, 5.0], [41.34, 2.113, 5.0], [41.422, 2.12, 5.0], [41.381, 2.135, 5.0], [41.42, 2.186, 5.0], [41.41, 2.196, 5.0], [41.391, 2.133, 5.0], [41.4, 2.121, 5.0], [41.391, 2.122, 5.0], [41.401, 2.184, 5.0], [41.436, 2.174, 5.0], [41.398, 2.13, 5.0], [41.38, 2.116, 5.0], [41.358, 2.163, 5.0], [41.356, 2.157, 5.0], [41.389, 2.164, 5.0], [41.388, 2.148, 5.0], [41.399, 2.179, 5.0], [41.382, 2.114, 5.0], [41.419, 2.198, 5.0], [41.409, 2.153, 5.0], [41.405, 2.142, 5.0], [41.397, 2.187, 5.0], [41.374, 2.155, 5.0], [41.379, 2.141, 5.0], [41.397, 2.207, 5.0], [41.375, 2.135, 5.0], [41.415, 2.191, 5.0], [41.411, 2.127, 5.0], [41.386, 2.105, 5.0], [41.403, 2.161, 5.0], [41.402, 2.213, 5.0], [41.378, 2.16, 5.0], [41.436, 2.161, 5.0], [41.447, 2.191, 5.0], [41.384, 2.123, 5.0], [41.391, 2.201, 5.0], [41.383, 2.132, 5.0], [41.407, 2.207, 5.0], [41.395, 2.169, 5.0], [41.411, 2.126, 5.0], [41.38, 2.134, 5.0], [41.38, 2.162, 5.0], [41.384, 2.185, 5.0], [41.384, 2.136, 5.0], [41.399, 2.167, 5.0], [41.378, 2.116, 5.0], [41.424, 2.176, 5.0], [41.362, 2.169, 5.0], [41.392, 2.109, 5.0], [41.388, 2.135, 5.0], [41.381, 2.108, 5.0], [41.392, 2.163, 5.0], [41.42, 2.173, 5.0], [41.399, 2.16, 5.0], [41.415, 2.14, 5.0], [41.389, 2.195, 5.0], [41.407, 2.202, 5.0], [41.433, 2.187, 5.0], [41.432, 2.154, 5.0], [41.407, 2.198, 5.0], [41.4, 2.181, 5.0], [41.393, 2.109, 5.0], [41.43, 2.19, 5.0], [41.382, 2.174, 5.0], [41.398, 2.136, 5.0], [41.428, 2.184, 5.0], [41.394, 2.147, 5.0], [41.414, 2.17, 5.0], [41.444, 2.206, 5.0], [41.383, 2.147, 5.0], [41.442, 2.184, 5.0], [41.351, 2.159, 5.0], [41.36, 2.142, 5.0], [41.442, 2.183, 5.0], [41.397, 2.158, 5.0], [41.381, 2.163, 5.0], [41.406, 2.186, 5.0], [41.415, 2.196, 5.0], [41.39, 2.191, 5.0], [41.408, 2.202, 5.0], [41.416, 2.204, 5.0], [41.411, 2.217, 5.0], [41.395, 2.194, 5.0], [41.393, 2.178, 5.0], [41.443, 2.207, 5.0], [41.417, 2.184, 5.0], [41.44, 2.159, 5.0], [41.379, 2.177, 5.0], [41.445, 2.176, 5.0], [41.396, 2.193, 5.0], [41.387, 2.174, 5.0], [41.416, 2.213, 5.0], [41.397, 2.141, 5.0], [41.364, 2.138, 5.0], [41.394, 2.13, 5.0], [41.387, 2.188, 5.0], [41.398, 2.202, 5.0], [41.402, 2.115, 5.0], [41.389, 2.176, 5.0], [41.359, 2.144, 5.0], [41.401, 2.183, 5.0], [41.369, 2.133, 5.0], [41.436, 2.163, 5.0], [41.4, 2.145, 5.0], [41.39, 2.131, 5.0], [41.389, 2.151, 5.0], [41.409, 2.209, 5.0], [41.402, 2.186, 5.0], [41.452, 2.189, 5.0], [41.402, 2.153, 5.0], [41.406, 2.17, 5.0], [41.384, 2.174, 5.0], [41.381, 2.125, 5.0], [41.365, 2.171, 5.0], [41.416, 2.197, 5.0], [41.424, 2.187, 5.0], [41.458, 2.186, 5.0], [41.383, 2.108, 5.0], [41.402, 2.182, 5.0], [41.393, 2.14, 5.0], [41.389, 2.107, 5.0], [41.39, 2.183, 5.0], [41.41, 2.214, 5.0], [41.398, 2.157, 5.0], [41.414, 2.167, 5.0], [41.417, 2.197, 5.0], [41.383, 2.141, 5.0], [41.393, 2.184, 5.0], [41.387, 2.198, 5.0], [41.385, 2.172, 5.0], [41.403, 2.165, 5.0], [41.438, 2.153, 5.0], [41.384, 2.17, 5.0], [41.402, 2.145, 5.0], [41.393, 2.179, 5.0], [41.406, 2.12, 5.0], [41.375, 2.161, 5.0], [41.425, 2.144, 5.0], [41.398, 2.135, 5.0], [41.378, 2.147, 5.0], [41.399, 2.119, 5.0], [41.39, 2.193, 5.0], [41.413, 2.13, 5.0], [41.378, 2.126, 5.0], [41.392, 2.132, 5.0], [41.382, 2.192, 5.0], [41.352, 2.155, 5.0], [41.383, 2.161, 5.0], [41.43, 2.084, 5.0], [41.39, 2.185, 5.0], [41.416, 2.131, 5.0], [41.401, 2.191, 5.0], [41.445, 2.205, 5.0], [41.391, 2.154, 5.0], [41.436, 2.204, 5.0], [41.403, 2.127, 5.0], [41.442, 2.207, 5.0], [41.375, 2.175, 5.0], [41.397, 2.121, 5.0], [41.399, 2.133, 5.0], [41.396, 2.139, 5.0], [41.393, 2.149, 5.0], [41.389, 2.108, 5.0], [41.398, 2.169, 5.0], [41.441, 2.208, 5.0], [41.4, 2.196, 5.0], [41.398, 2.138, 5.0], [41.399, 2.209, 5.0], [41.393, 2.155, 5.0], [41.401, 2.185, 5.0], [41.391, 2.143, 5.0], [41.433, 2.183, 5.0], [41.44, 2.162, 5.0], [41.386, 2.12, 5.0], [41.383, 2.149, 5.0], [41.382, 2.173, 5.0], [41.395, 2.164, 5.0], [41.391, 2.141, 5.0], [41.409, 2.177, 5.0], [41.411, 2.215, 5.0], [41.396, 2.187, 5.0], [41.415, 2.139, 5.0], [41.381, 2.171, 5.0], [41.391, 2.124, 5.0], [41.398, 2.198, 5.0], [41.408, 2.187, 5.0], [41.398, 2.166, 5.0], [41.39, 2.143, 5.0], [41.411, 2.174, 5.0], [41.403, 2.216, 5.0], [41.441, 2.164, 5.0], [41.435, 2.21, 5.0], [41.376, 2.136, 5.0], [41.394, 2.122, 5.0], [41.41, 2.155, 5.0], [41.416, 2.172, 5.0], [41.415, 2.136, 5.0], [41.407, 2.167, 5.0], [41.446, 2.182, 5.0], [41.389, 2.136, 5.0], [41.404, 2.202, 5.0], [41.398, 2.137, 5.0], [41.43, 2.189, 5.0], [41.381, 2.156, 5.0], [41.461, 2.182, 5.0], [41.378, 2.125, 5.0], [41.396, 2.15, 5.0], [41.399, 2.149, 5.0], [41.429, 2.157, 5.0], [41.401, 2.124, 5.0], [41.396, 2.12, 5.0], [41.42, 2.14, 5.0], [41.41, 2.215, 5.0], [41.419, 2.172, 5.0], [41.405, 2.175, 5.0], [41.385, 2.136, 5.0], [41.416, 2.194, 5.0], [41.398, 2.19, 5.0], [41.433, 2.153, 5.0], [41.392, 2.19, 5.0], [41.413, 2.217, 5.0], [41.381, 2.148, 5.0], [41.406, 2.181, 5.0], [41.41, 2.148, 5.0], [41.415, 2.174, 5.0], [41.421, 2.141, 5.0], [41.406, 2.148, 5.0], [41.397, 2.155, 5.0], [41.397, 2.127, 5.0], [41.398, 2.131, 5.0], [41.394, 2.203, 5.0], [41.403, 2.152, 5.0], [41.387, 2.182, 5.0], [41.438, 2.174, 5.0], [41.387, 2.176, 5.0], [41.44, 2.161, 5.0], [41.379, 2.14, 5.0], [41.415, 2.185, 5.0], [41.407, 2.148, 5.0], [41.407, 2.191, 5.0], [41.404, 2.117, 5.0], [41.415, 2.216, 5.0], [41.45, 2.198, 5.0], [41.395, 2.15, 5.0], [41.372, 2.152, 5.0], [41.404, 2.129, 5.0], [41.374, 2.15, 5.0], [41.386, 2.149, 5.0], [41.395, 2.147, 5.0], [41.391, 2.179, 5.0], [41.366, 2.15, 5.0], [41.387, 2.152, 5.0], [41.396, 2.177, 5.0], [41.379, 2.124, 5.0], [41.405, 2.173, 5.0], [41.408, 2.17, 5.0], [41.407, 2.205, 5.0], [41.393, 2.129, 5.0], [41.403, 2.201, 5.0], [41.407, 2.162, 5.0], [41.418, 2.185, 5.0], [41.385, 2.157, 5.0], [41.44, 2.16, 5.0], [41.398, 2.173, 5.0], [41.409, 2.147, 5.0], [41.396, 2.161, 5.0], [41.385, 2.167, 5.0], [41.388, 2.156, 5.0], [41.42, 2.205, 5.0], [41.375, 2.134, 5.0], [41.398, 2.177, 5.0], [41.407, 2.139, 5.0], [41.423, 2.141, 5.0], [41.382, 2.186, 5.0], [41.366, 2.157, 5.0], [41.416, 2.192, 5.0], [41.437, 2.184, 5.0], [41.39, 2.128, 5.0], [41.41, 2.126, 5.0], [41.352, 2.139, 5.0], [41.387, 2.125, 5.0], [41.458, 2.187, 5.0], [41.464, 2.178, 5.0], [41.402, 2.147, 5.0], [41.438, 2.149, 5.0], [41.39, 2.164, 5.0], [41.398, 2.197, 5.0], [41.387, 2.173, 5.0], [41.411, 2.158, 5.0], [41.422, 2.191, 5.0], [41.385, 2.161, 5.0], [41.397, 2.114, 5.0], [41.398, 2.195, 5.0], [41.403, 2.145, 5.0], [41.41, 2.217, 5.0], [41.408, 2.174, 5.0], [41.385, 2.139, 5.0], [41.413, 2.161, 5.0], [41.415, 2.172, 5.0], [41.396, 2.207, 5.0], [41.44, 2.186, 5.0], [41.399, 2.161, 5.0], [41.416, 2.137, 5.0], [41.383, 2.133, 5.0], [41.378, 2.189, 5.0], [41.386, 2.134, 5.0], [41.409, 2.186, 5.0], [41.394, 2.146, 5.0], [41.394, 2.191, 4.0], [41.438, 2.203, 4.0], [41.402, 2.187, 4.0], [41.371, 2.149, 4.0], [41.392, 2.152, 4.0], [41.368, 2.145, 4.0], [41.408, 2.19, 4.0], [41.406, 2.146, 4.0], [41.383, 2.122, 4.0], [41.407, 2.112, 4.0], [41.418, 2.187, 4.0], [41.397, 2.139, 4.0], [41.416, 2.216, 4.0], [41.378, 2.129, 4.0], [41.438, 2.204, 4.0], [41.4, 2.195, 4.0], [41.382, 2.129, 4.0], [41.418, 2.202, 4.0], [41.445, 2.179, 4.0], [41.366, 2.156, 4.0], [41.361, 2.136, 4.0], [41.375, 2.157, 4.0], [41.458, 2.185, 4.0], [41.377, 2.155, 4.0], [41.42, 2.188, 4.0], [41.405, 2.132, 4.0], [41.383, 2.134, 4.0], [41.391, 2.123, 4.0], [41.409, 2.173, 4.0], [41.412, 2.13, 4.0], [41.397, 2.143, 4.0], [41.349, 2.146, 4.0], [41.43, 2.175, 4.0], [41.382, 2.154, 4.0], [41.443, 2.178, 4.0], [41.405, 2.118, 4.0], [41.404, 2.151, 4.0], [41.381, 2.158, 4.0], [41.386, 2.137, 4.0], [41.383, 2.175, 4.0], [41.405, 2.138, 4.0], [41.402, 2.212, 4.0], [41.355, 2.158, 4.0], [41.388, 2.198, 4.0], [41.413, 2.153, 4.0], [41.374, 2.131, 4.0], [41.35, 2.158, 4.0], [41.381, 2.129, 4.0], [41.385, 2.122, 4.0], [41.414, 2.163, 4.0], [41.394, 2.125, 4.0], [41.374, 2.173, 4.0], [41.4, 2.158, 4.0], [41.399, 2.201, 4.0], [41.42, 2.209, 4.0], [41.394, 2.143, 4.0], [41.397, 2.202, 4.0], [41.34, 2.121, 4.0], [41.339, 2.118, 4.0], [41.417, 2.19, 4.0], [41.387, 2.116, 4.0], [41.402, 2.151, 4.0], [41.383, 2.113, 4.0], [41.45, 2.194, 4.0], [41.376, 2.144, 4.0], [41.437, 2.193, 4.0], [41.409, 2.144, 4.0], [41.408, 2.204, 4.0], [41.374, 2.152, 4.0], [41.413, 2.172, 4.0], [41.378, 2.19, 4.0], [41.398, 2.162, 4.0], [41.426, 2.159, 4.0], [41.462, 2.181, 4.0], [41.449, 2.201, 4.0], [41.398, 2.129, 4.0], [41.371, 2.174, 4.0], [41.409, 2.208, 4.0], [41.352, 2.147, 4.0], [41.34, 2.118, 4.0], [41.386, 2.123, 4.0], [41.343, 2.131, 4.0], [41.38, 2.117, 4.0], [41.372, 2.175, 4.0], [41.383, 2.169, 4.0], [41.39, 2.175, 4.0], [41.449, 2.199, 4.0], [41.402, 2.127, 4.0], [41.384, 2.137, 4.0], [41.391, 2.142, 4.0], [41.428, 2.185, 4.0], [41.377, 2.178, 4.0], [41.388, 2.193, 4.0], [41.375, 2.153, 4.0], [41.375, 2.164, 4.0], [41.424, 2.158, 4.0], [41.402, 2.131, 4.0], [41.375, 2.162, 4.0], [41.392, 2.134, 4.0], [41.385, 2.166, 4.0], [41.391, 2.165, 4.0], [41.389, 2.197, 4.0], [41.406, 2.211, 4.0], [41.404, 2.204, 4.0], [41.405, 2.207, 4.0], [41.414, 2.162, 4.0], [41.383, 2.109, 4.0], [41.397, 2.173, 4.0], [41.413, 2.154, 4.0], [41.384, 2.159, 4.0], [41.396, 2.165, 4.0], [41.423, 2.189, 4.0], [41.446, 2.206, 4.0], [41.396, 2.152, 4.0], [41.395, 2.174, 4.0], [41.397, 2.191, 4.0], [41.408, 2.206, 4.0], [41.4, 2.179, 4.0], [41.428, 2.192, 4.0], [41.406, 2.208, 4.0], [41.415, 2.168, 4.0], [41.392, 2.188, 4.0], [41.393, 2.19, 4.0], [41.402, 2.167, 4.0], [41.41, 2.168, 4.0], [41.389, 2.161, 4.0], [41.377, 2.166, 4.0], [41.456, 2.188, 4.0], [41.381, 2.176, 4.0], [41.422, 2.18, 4.0], [41.399, 2.182, 4.0], [41.374, 2.17, 4.0], [41.389, 2.17, 4.0], [41.407, 2.208, 4.0], [41.373, 2.157, 4.0], [41.37, 2.174, 4.0], [41.401, 2.136, 4.0], [41.357, 2.142, 4.0], [41.384, 2.181, 4.0], [41.4, 2.209, 4.0], [41.41, 2.13, 4.0], [41.395, 2.124, 4.0], [41.385, 2.154, 4.0], [41.392, 2.154, 4.0], [41.379, 2.134, 4.0], [41.383, 2.185, 4.0], [41.39, 2.199, 4.0], [41.413, 2.129, 4.0], [41.424, 2.191, 4.0], [41.398, 2.188, 4.0], [41.391, 2.186, 4.0], [41.42, 2.19, 4.0], [41.392, 2.203, 4.0], [41.426, 2.142, 4.0], [41.41, 2.125, 4.0], [41.394, 2.166, 4.0], [41.404, 2.139, 4.0], [41.412, 2.19, 4.0], [41.401, 2.15, 4.0], [41.406, 2.144, 4.0], [41.383, 2.187, 4.0], [41.408, 2.179, 4.0], [41.408, 2.132, 4.0], [41.404, 2.13, 4.0], [41.379, 2.149, 4.0], [41.455, 2.193, 4.0], [41.386, 2.116, 4.0], [41.405, 2.151, 4.0], [41.38, 2.13, 4.0], [41.403, 2.187, 4.0], [41.382, 2.164, 4.0], [41.349, 2.147, 4.0], [41.4, 2.164, 4.0], [41.422, 2.121, 4.0], [41.41, 2.145, 4.0], [41.39, 2.116, 4.0], [41.391, 2.151, 4.0], [41.392, 2.135, 4.0], [41.398, 2.165, 4.0], [41.388, 2.187, 4.0], [41.413, 2.216, 4.0], [41.393, 2.151, 4.0], [41.407, 2.219, 4.0], [41.395, 2.166, 4.0], [41.386, 2.175, 4.0], [41.381, 2.138, 4.0], [41.377, 2.161, 4.0], [41.431, 2.184, 4.0], [41.397, 2.122, 4.0], [41.394, 2.138, 4.0], [41.422, 2.095, 4.0], [41.399, 2.148, 4.0], [41.406, 2.172, 4.0], [41.399, 2.152, 4.0], [41.416, 2.191, 4.0], [41.386, 2.162, 4.0], [41.382, 2.113, 4.0], [41.439, 2.156, 4.0], [41.404, 2.179, 4.0], [41.403, 2.143, 4.0], [41.367, 2.145, 4.0], [41.394, 2.12, 4.0], [41.405, 2.143, 4.0], [41.384, 2.15, 4.0], [41.398, 2.153, 4.0], [41.385, 2.104, 4.0], [41.428, 2.187, 4.0], [41.388, 2.11, 4.0], [41.414, 2.131, 4.0], [41.385, 2.175, 4.0], [41.395, 2.171, 4.0], [41.415, 2.214, 4.0], [41.398, 2.174, 4.0], [41.384, 2.13, 4.0], [41.409, 2.143, 4.0], [41.377, 2.171, 4.0], [41.457, 2.188, 4.0], [41.423, 2.18, 4.0], [41.389, 2.115, 4.0], [41.384, 2.147, 4.0], [41.398, 2.181, 4.0], [41.399, 2.163, 4.0], [41.392, 2.133, 4.0], [41.381, 2.117, 4.0], [41.395, 2.148, 4.0], [41.367, 2.134, 4.0], [41.415, 2.193, 4.0], [41.39, 2.15, 4.0], [41.359, 2.139, 4.0], [41.433, 2.193, 4.0], [41.346, 2.138, 4.0], [41.456, 2.191, 4.0], [41.393, 2.204, 4.0], [41.383, 2.168, 4.0], [41.4, 2.16, 4.0], [41.414, 2.186, 4.0], [41.417, 2.188, 4.0], [41.446, 2.186, 4.0], [41.404, 2.18, 4.0], [41.395, 2.186, 4.0], [41.425, 2.187, 4.0], [41.385, 2.13, 4.0], [41.374, 2.138, 4.0], [41.394, 2.14, 4.0], [41.382, 2.171, 4.0], [41.388, 2.138, 4.0], [41.395, 2.177, 4.0], [41.386, 2.13, 4.0], [41.408, 2.188, 4.0], [41.415, 2.13, 4.0], [41.436, 2.075, 4.0], [41.42, 2.182, 4.0], [41.391, 2.153, 4.0], [41.441, 2.186, 4.0], [41.407, 2.173, 4.0], [41.389, 2.137, 4.0], [41.365, 2.146, 4.0], [41.401, 2.176, 4.0], [41.388, 2.153, 4.0], [41.401, 2.178, 4.0], [41.408, 2.171, 4.0], [41.39, 2.146, 4.0], [41.4, 2.139, 4.0], [41.396, 2.174, 4.0], [41.347, 2.148, 4.0], [41.391, 2.175, 4.0], [41.412, 2.187, 4.0], [41.401, 2.209, 4.0], [41.413, 2.168, 4.0], [41.403, 2.192, 4.0], [41.396, 2.201, 4.0], [41.397, 2.179, 4.0], [41.401, 2.166, 4.0], [41.414, 2.172, 4.0], [41.394, 2.118, 4.0], [41.399, 2.165, 4.0], [41.427, 2.138, 4.0], [41.385, 2.126, 4.0], [41.404, 2.164, 4.0], [41.419, 2.191, 4.0], [41.408, 2.138, 4.0], [41.403, 2.125, 4.0], [41.38, 2.15, 4.0], [41.408, 2.137, 4.0], [41.398, 2.194, 4.0], [41.398, 2.127, 4.0], [41.399, 2.126, 4.0], [41.396, 2.186, 4.0], [41.413, 2.132, 4.0], [41.405, 2.21, 4.0], [41.413, 2.16, 4.0], [41.373, 2.156, 4.0], [41.405, 2.136, 4.0], [41.38, 2.152, 4.0], [41.387, 2.136, 4.0], [41.431, 2.19, 4.0], [41.417, 2.174, 4.0], [41.409, 2.217, 4.0], [41.416, 2.211, 4.0], [41.375, 2.143, 4.0], [41.383, 2.157, 4.0], [41.42, 2.2, 4.0], [41.396, 2.145, 4.0], [41.394, 2.133, 4.0], [41.395, 2.185, 4.0], [41.41, 2.194, 4.0], [41.353, 2.156, 4.0], [41.412, 2.145, 4.0], [41.418, 2.141, 4.0], [41.445, 2.187, 4.0], [41.393, 2.182, 4.0], [41.414, 2.134, 4.0], [41.401, 2.168, 4.0], [41.384, 2.117, 4.0], [41.408, 2.13, 4.0], [41.431, 2.083, 4.0], [41.376, 2.135, 4.0], [41.364, 2.17, 4.0], [41.411, 2.147, 4.0], [41.437, 2.185, 4.0], [41.385, 2.148, 4.0], [41.43, 2.174, 4.0], [41.405, 2.174, 4.0], [41.435, 2.148, 4.0], [41.383, 2.105, 4.0], [41.42, 2.201, 4.0], [41.421, 2.204, 4.0], [41.382, 2.17, 4.0], [41.408, 2.178, 4.0], [41.389, 2.144, 4.0], [41.411, 2.218, 4.0], [41.373, 2.13, 4.0], [41.414, 2.2, 4.0], [41.39, 2.192, 4.0], [41.351, 2.152, 4.0], [41.406, 2.206, 4.0], [41.403, 2.121, 4.0], [41.419, 2.199, 4.0], [41.414, 2.216, 4.0], [41.377, 2.185, 4.0], [41.385, 2.184, 4.0], [41.426, 2.165, 4.0], [41.411, 2.164, 4.0], [41.43, 2.085, 4.0], [41.384, 2.154, 4.0], [41.394, 2.201, 4.0], [41.408, 2.201, 4.0], [41.393, 2.148, 4.0], [41.397, 2.164, 4.0], [41.414, 2.165, 4.0], [41.419, 2.204, 4.0], [41.415, 2.202, 4.0], [41.41, 2.156, 4.0], [41.372, 2.132, 4.0], [41.372, 2.144, 4.0], [41.409, 2.162, 4.0], [41.396, 2.147, 4.0], [41.424, 2.192, 4.0], [41.426, 2.175, 4.0], [41.439, 2.193, 4.0], [41.404, 2.206, 4.0], [41.388, 2.122, 4.0], [41.4, 2.174, 4.0], [41.381, 2.159, 4.0], [41.4, 2.173, 4.0], [41.413, 2.199, 4.0], [41.393, 2.152, 4.0], [41.382, 2.127, 4.0], [41.395, 2.138, 4.0], [41.419, 2.207, 4.0], [41.417, 2.185, 4.0], [41.465, 2.179, 4.0], [41.415, 2.176, 4.0], [41.385, 2.111, 4.0], [41.39, 2.151, 4.0], [41.385, 2.147, 4.0], [41.405, 2.199, 4.0], [41.449, 2.198, 4.0], [41.43, 2.187, 4.0], [41.41, 2.195, 4.0], [41.404, 2.142, 4.0], [41.418, 2.183, 4.0], [41.438, 2.156, 4.0], [41.378, 2.164, 4.0], [41.405, 2.177, 4.0], [41.384, 2.148, 4.0], [41.383, 2.181, 4.0], [41.426, 2.18, 4.0], [41.407, 2.138, 4.0], [41.407, 2.146, 4.0], [41.408, 2.147, 4.0], [41.382, 2.175, 4.0], [41.388, 2.142, 4.0], [41.407, 2.211, 4.0], [41.457, 2.186, 4.0], [41.381, 2.162, 4.0], [41.419, 2.206, 4.0], [41.399, 2.195, 4.0], [41.411, 2.167, 4.0], [41.379, 2.164, 4.0], [41.422, 2.187, 4.0], [41.415, 2.189, 4.0], [41.392, 2.182, 4.0], [41.412, 2.181, 4.0], [41.411, 2.188, 4.0], [41.397, 2.145, 4.0], [41.381, 2.139, 4.0], [41.383, 2.165, 4.0], [41.41, 2.18, 4.0], [41.415, 2.203, 4.0], [41.456, 2.189, 4.0], [41.41, 2.186, 4.0], [41.365, 2.139, 4.0], [41.378, 2.149, 4.0], [41.43, 2.157, 4.0], [41.367, 2.14, 4.0], [41.41, 2.183, 4.0], [41.411, 2.182, 4.0], [41.447, 2.184, 4.0], [41.408, 2.168, 4.0], [41.377, 2.159, 4.0], [41.378, 2.145, 4.0], [41.374, 2.169, 4.0], [41.454, 2.194, 4.0], [41.451, 2.194, 4.0], [41.417, 2.189, 4.0], [41.413, 2.177, 4.0], [41.412, 2.175, 4.0], [41.378, 2.18, 4.0], [41.341, 2.125, 4.0], [41.379, 2.17, 3.0], [41.364, 2.157, 3.0], [41.385, 2.152, 3.0], [41.394, 2.19, 3.0], [41.367, 2.153, 3.0], [41.384, 2.107, 3.0], [41.4, 2.194, 3.0], [41.405, 2.164, 3.0], [41.39, 2.154, 3.0], [41.441, 2.163, 3.0], [41.441, 2.181, 3.0], [41.37, 2.149, 3.0], [41.408, 2.177, 3.0], [41.412, 2.158, 3.0], [41.403, 2.189, 3.0], [41.439, 2.185, 3.0], [41.378, 2.162, 3.0], [41.395, 2.197, 3.0], [41.396, 2.169, 3.0], [41.412, 2.154, 3.0], [41.411, 2.196, 3.0], [41.376, 2.128, 3.0], [41.376, 2.127, 3.0], [41.388, 2.195, 3.0], [41.386, 2.197, 3.0], [41.418, 2.211, 3.0], [41.403, 2.173, 3.0], [41.414, 2.215, 3.0], [41.414, 2.195, 3.0], [41.363, 2.169, 3.0], [41.411, 2.219, 3.0], [41.41, 2.138, 3.0], [41.414, 2.198, 3.0], [41.396, 2.162, 3.0], [41.417, 2.206, 3.0], [41.413, 2.176, 3.0], [41.415, 2.165, 3.0], [41.384, 2.128, 3.0], [41.413, 2.141, 3.0], [41.439, 2.186, 3.0], [41.43, 2.195, 3.0], [41.399, 2.193, 3.0], [41.419, 2.209, 3.0], [41.388, 2.132, 3.0], [41.379, 2.156, 3.0], [41.379, 2.118, 3.0], [41.387, 2.134, 3.0], [41.4, 2.146, 3.0], [41.418, 2.2, 3.0], [41.419, 2.196, 3.0], [41.417, 2.203, 3.0], [41.399, 2.2, 3.0], [41.422, 2.205, 3.0], [41.361, 2.137, 3.0], [41.375, 2.154, 3.0], [41.41, 2.159, 3.0], [41.38, 2.175, 3.0], [41.386, 2.113, 3.0], [41.374, 2.172, 3.0], [41.375, 2.127, 3.0], [41.385, 2.15, 3.0], [41.408, 2.113, 3.0], [41.457, 2.187, 3.0], [41.411, 2.138, 3.0], [41.367, 2.173, 3.0], [41.397, 2.149, 3.0], [41.372, 2.154, 3.0], [41.399, 2.18, 3.0], [41.385, 2.185, 3.0], [41.387, 2.157, 3.0], [41.396, 2.134, 3.0], [41.441, 2.192, 3.0], [41.409, 2.134, 3.0], [41.406, 2.183, 3.0], [41.397, 2.133, 3.0], [41.436, 2.147, 3.0], [41.435, 2.176, 3.0], [41.435, 2.175, 3.0], [41.415, 2.18, 3.0], [41.364, 2.156, 3.0], [41.369, 2.156, 3.0], [41.365, 2.153, 3.0], [41.366, 2.139, 3.0], [41.41, 2.142, 3.0], [41.404, 2.136, 3.0], [41.375, 2.16, 3.0], [41.435, 2.144, 3.0], [41.408, 2.192, 3.0], [41.354, 2.159, 3.0], [41.379, 2.18, 3.0], [41.439, 2.197, 3.0], [41.439, 2.198, 3.0], [41.339, 2.119, 3.0], [41.396, 2.185, 3.0], [41.385, 2.144, 3.0], [41.385, 2.123, 3.0], [41.374, 2.174, 3.0], [41.376, 2.152, 3.0], [41.389, 2.194, 3.0], [41.38, 2.182, 3.0], [41.423, 2.191, 3.0], [41.384, 2.153, 3.0], [41.377, 2.156, 3.0], [41.375, 2.137, 3.0], [41.382, 2.178, 3.0], [41.405, 2.119, 3.0], [41.396, 2.125, 3.0], [41.391, 2.148, 3.0], [41.434, 2.179, 3.0], [41.427, 2.185, 3.0], [41.392, 2.131, 3.0], [41.39, 2.172, 3.0], [41.391, 2.128, 3.0], [41.414, 2.166, 3.0], [41.406, 2.162, 3.0], [41.413, 2.171, 3.0], [41.39, 2.141, 3.0], [41.413, 2.188, 3.0], [41.43, 2.184, 3.0], [41.407, 2.151, 3.0], [41.414, 2.178, 3.0], [41.352, 2.145, 3.0], [41.375, 2.156, 3.0], [41.382, 2.135, 3.0], [41.385, 2.135, 3.0], [41.437, 2.206, 3.0], [41.421, 2.207, 3.0], [41.416, 2.188, 3.0], [41.407, 2.128, 3.0], [41.413, 2.173, 3.0], [41.416, 2.16, 3.0], [41.386, 2.193, 3.0], [41.412, 2.185, 3.0], [41.361, 2.168, 3.0], [41.377, 2.154, 3.0], [41.38, 2.131, 3.0], [41.384, 2.116, 3.0], [41.365, 2.157, 3.0], [41.401, 2.211, 3.0], [41.408, 2.18, 3.0], [41.4, 2.143, 3.0], [41.333, 2.115, 3.0], [41.443, 2.171, 3.0], [41.379, 2.119, 3.0], [41.394, 2.173, 3.0], [41.406, 2.145, 3.0], [41.371, 2.153, 3.0], [41.463, 2.182, 3.0], [41.395, 2.135, 3.0], [41.414, 2.203, 3.0], [41.414, 2.202, 3.0], [41.342, 2.126, 3.0], [41.394, 2.193, 3.0], [41.394, 2.185, 3.0], [41.37, 2.156, 3.0], [41.432, 2.083, 3.0], [41.391, 2.159, 3.0], [41.403, 2.186, 3.0], [41.42, 2.181, 3.0], [41.431, 2.146, 3.0], [41.451, 2.199, 3.0], [41.392, 2.122, 3.0], [41.382, 2.191, 3.0], [41.397, 2.124, 3.0], [41.421, 2.206, 3.0], [41.397, 2.151, 3.0], [41.416, 2.18, 3.0], [41.42, 2.099, 3.0], [41.415, 2.135, 3.0], [41.375, 2.155, 3.0], [41.428, 2.164, 3.0], [41.414, 2.174, 3.0], [41.394, 2.205, 3.0], [41.436, 2.201, 3.0], [41.433, 2.077, 3.0], [41.373, 2.177, 3.0], [41.394, 2.155, 3.0], [41.405, 2.168, 3.0], [41.342, 2.128, 3.0], [41.401, 2.181, 3.0], [41.411, 2.173, 3.0], [41.398, 2.209, 3.0], [41.428, 2.165, 3.0], [41.378, 2.143, 3.0], [41.376, 2.168, 3.0], [41.403, 2.193, 3.0], [41.402, 2.158, 3.0], [41.397, 2.112, 3.0], [41.386, 2.146, 3.0], [41.426, 2.092, 3.0], [41.395, 2.157, 3.0], [41.379, 2.169, 3.0], [41.437, 2.204, 3.0], [41.389, 2.12, 3.0], [41.399, 2.157, 3.0], [41.401, 2.21, 3.0], [41.399, 2.118, 3.0], [41.385, 2.156, 3.0], [41.406, 2.201, 3.0], [41.422, 2.139, 3.0], [41.448, 2.196, 3.0], [41.416, 2.167, 3.0], [41.381, 2.153, 3.0], [41.382, 2.169, 3.0], [41.447, 2.183, 3.0], [41.399, 2.105, 3.0], [41.392, 2.113, 3.0], [41.39, 2.115, 3.0], [41.446, 2.193, 3.0], [41.407, 2.179, 3.0], [41.441, 2.184, 3.0], [41.397, 2.174, 3.0], [41.4, 2.176, 3.0], [41.384, 2.172, 3.0], [41.406, 2.203, 3.0], [41.44, 2.176, 3.0], [41.393, 2.186, 3.0], [41.431, 2.173, 3.0], [41.41, 2.201, 3.0], [41.387, 2.128, 3.0], [41.388, 2.107, 3.0], [41.412, 2.126, 3.0], [41.423, 2.184, 3.0], [41.391, 2.104, 3.0], [41.412, 2.183, 3.0], [41.356, 2.145, 3.0], [41.427, 2.166, 3.0], [41.383, 2.126, 3.0], [41.397, 2.181, 3.0], [41.422, 2.185, 3.0], [41.352, 2.156, 3.0], [41.375, 2.13, 3.0], [41.46, 2.182, 3.0], [41.404, 2.118, 3.0], [41.423, 2.177, 3.0], [41.433, 2.15, 3.0], [41.396, 2.122, 3.0], [41.391, 2.126, 3.0], [41.464, 2.179, 3.0], [41.44, 2.208, 3.0], [41.403, 2.212, 3.0], [41.408, 2.185, 3.0], [41.434, 2.184, 3.0], [41.427, 2.178, 3.0], [41.422, 2.177, 3.0], [41.412, 2.222, 3.0], [41.455, 2.194, 3.0], [41.384, 2.141, 3.0], [41.376, 2.176, 3.0], [41.38, 2.127, 3.0], [41.453, 2.195, 3.0], [41.42, 2.206, 3.0], [41.376, 2.137, 3.0], [41.383, 2.104, 3.0], [41.442, 2.2, 3.0], [41.353, 2.157, 3.0], [41.404, 2.174, 3.0], [41.384, 2.173, 3.0], [41.389, 2.199, 3.0], [41.413, 2.178, 3.0], [41.396, 2.194, 3.0], [41.359, 2.164, 3.0], [41.415, 2.16, 3.0], [41.401, 2.137, 3.0], [41.355, 2.16, 3.0], [41.381, 2.114, 3.0], [41.418, 2.213, 3.0], [41.407, 2.133, 3.0], [41.396, 2.14, 3.0], [41.4, 2.138, 3.0], [41.384, 2.149, 3.0], [41.417, 2.199, 3.0], [41.454, 2.182, 3.0], [41.437, 2.183, 3.0], [41.39, 2.18, 3.0], [41.392, 2.117, 3.0], [41.432, 2.188, 3.0], [41.383, 2.173, 3.0], [41.348, 2.143, 3.0], [41.38, 2.18, 3.0], [41.4, 2.167, 3.0], [41.363, 2.157, 3.0], [41.448, 2.187, 3.0], [41.427, 2.146, 3.0], [41.432, 2.148, 3.0], [41.376, 2.166, 3.0], [41.401, 2.154, 3.0], [41.438, 2.193, 3.0], [41.395, 2.167, 3.0], [41.36, 2.166, 3.0], [41.385, 2.11, 3.0], [41.381, 2.175, 3.0], [41.383, 2.148, 3.0], [41.404, 2.156, 3.0], [41.395, 2.19, 3.0], [41.396, 2.136, 3.0], [41.376, 2.171, 3.0], [41.366, 2.148, 3.0], [41.394, 2.152, 3.0], [41.385, 2.151, 3.0], [41.382, 2.157, 3.0], [41.387, 2.177, 3.0], [41.394, 2.183, 3.0], [41.413, 2.197, 3.0], [41.381, 2.172, 3.0], [41.392, 2.175, 3.0], [41.428, 2.175, 3.0], [41.449, 2.2, 3.0], [41.39, 2.184, 3.0], [41.384, 2.189, 3.0], [41.423, 2.185, 3.0], [41.438, 2.185, 3.0], [41.379, 2.121, 3.0], [41.387, 2.149, 3.0], [41.389, 2.118, 3.0], [41.455, 2.192, 3.0], [41.382, 2.151, 3.0], [41.409, 2.18, 3.0], [41.4, 2.168, 3.0], [41.384, 2.113, 3.0], [41.427, 2.173, 3.0], [41.405, 2.209, 3.0], [41.44, 2.155, 3.0], [41.406, 2.196, 3.0], [41.432, 2.081, 3.0], [41.433, 2.159, 3.0], [41.383, 2.14, 3.0], [41.393, 2.193, 3.0], [41.401, 2.145, 3.0], [41.378, 2.17, 3.0], [41.427, 2.158, 3.0], [41.405, 2.166, 3.0], [41.423, 2.179, 3.0], [41.389, 2.193, 3.0], [41.425, 2.191, 3.0], [41.392, 2.192, 3.0], [41.392, 2.187, 3.0], [41.4, 2.21, 3.0], [41.401, 2.135, 3.0], [41.415, 2.192, 3.0], [41.392, 2.2, 3.0], [41.386, 2.147, 3.0], [41.382, 2.183, 3.0], [41.437, 2.149, 3.0], [41.396, 2.144, 3.0], [41.399, 2.135, 3.0], [41.363, 2.17, 3.0], [41.4, 2.142, 3.0], [41.398, 2.182, 3.0], [41.385, 2.125, 3.0], [41.349, 2.145, 3.0], [41.415, 2.144, 3.0], [41.353, 2.151, 3.0], [41.464, 2.181, 3.0], [41.404, 2.128, 3.0], [41.405, 2.13, 3.0], [41.403, 2.149, 3.0], [41.412, 2.2, 3.0], [41.403, 2.144, 3.0], [41.404, 2.199, 3.0], [41.393, 2.199, 3.0], [41.407, 2.189, 3.0], [41.402, 2.19, 3.0], [41.381, 2.128, 3.0], [41.378, 2.171, 3.0], [41.379, 2.143, 3.0], [41.402, 2.209, 3.0], [41.345, 2.136, 3.0], [41.347, 2.143, 3.0], [41.34, 2.114, 3.0], [41.402, 2.179, 3.0], [41.425, 2.181, 3.0], [41.442, 2.169, 3.0], [41.455, 2.188, 3.0], [41.393, 2.153, 3.0], [41.413, 2.144, 3.0], [41.389, 2.123, 3.0], [41.428, 2.191, 3.0], [41.381, 2.126, 3.0], [41.38, 2.157, 3.0], [41.41, 2.136, 3.0], [41.391, 2.108, 3.0], [41.384, 2.104, 3.0], [41.384, 2.156, 3.0], [41.343, 2.129, 3.0], [41.402, 2.211, 3.0], [41.405, 2.208, 3.0], [41.407, 2.203, 3.0], [41.378, 2.117, 3.0], [41.424, 2.179, 3.0], [41.406, 2.197, 3.0], [41.392, 2.183, 3.0], [41.381, 2.177, 3.0], [41.368, 2.137, 3.0], [41.378, 2.163, 3.0], [41.426, 2.176, 3.0], [41.382, 2.15, 3.0], [41.381, 2.169, 3.0], [41.4, 2.169, 3.0], [41.399, 2.187, 3.0], [41.378, 2.14, 3.0], [41.405, 2.202, 3.0], [41.404, 2.217, 3.0], [41.416, 2.21, 3.0], [41.42, 2.168, 3.0], [41.389, 2.198, 3.0], [41.389, 2.111, 3.0], [41.435, 2.184, 3.0], [41.417, 2.182, 3.0], [41.407, 2.132, 3.0], [41.398, 2.183, 3.0], [41.396, 2.123, 3.0], [41.411, 2.141, 3.0], [41.414, 2.192, 3.0], [41.412, 2.146, 3.0], [41.369, 2.145, 3.0], [41.421, 2.2, 3.0], [41.387, 2.139, 3.0], [41.411, 2.142, 3.0], [41.414, 2.191, 3.0], [41.406, 2.175, 3.0], [41.398, 2.187, 3.0], [41.411, 2.137, 3.0], [41.383, 2.145, 3.0], [41.402, 2.137, 3.0], [41.39, 2.178, 3.0], [41.44, 2.185, 3.0], [41.411, 2.185, 3.0], [41.378, 2.119, 3.0], [41.38, 2.171, 3.0], [41.386, 2.155, 3.0], [41.394, 2.141, 3.0], [41.401, 2.125, 3.0], [41.404, 2.125, 3.0], [41.402, 2.125, 3.0], [41.405, 2.181, 3.0], [41.409, 2.176, 3.0], [41.416, 2.185, 3.0], [41.39, 2.176, 3.0], [41.355, 2.146, 3.0], [41.375, 2.142, 3.0], [41.442, 2.187, 3.0], [41.384, 2.192, 3.0], [41.395, 2.203, 3.0], [41.428, 2.178, 3.0], [41.395, 2.127, 3.0], [41.403, 2.153, 3.0], [41.407, 2.184, 3.0], [41.407, 2.147, 3.0], [41.429, 2.158, 3.0], [41.392, 2.173, 3.0], [41.436, 2.149, 3.0], [41.401, 2.162, 3.0], [41.399, 2.151, 3.0], [41.4, 2.15, 3.0], [41.405, 2.121, 3.0], [41.384, 2.168, 3.0], [41.387, 2.108, 3.0], [41.443, 2.17, 3.0], [41.386, 2.144, 3.0], [41.406, 2.128, 3.0], [41.369, 2.153, 3.0], [41.397, 2.2, 3.0], [41.398, 2.208, 3.0], [41.395, 2.184, 3.0], [41.382, 2.165, 3.0], [41.409, 2.196, 3.0], [41.383, 2.151, 3.0], [41.406, 2.205, 3.0], [41.409, 2.164, 3.0], [41.341, 2.123, 3.0], [41.373, 2.175, 3.0], [41.405, 2.122, 3.0], [41.409, 2.154, 3.0], [41.373, 2.129, 3.0], [41.417, 2.186, 3.0], [41.406, 2.189, 3.0], [41.359, 2.165, 3.0], [41.377, 2.125, 3.0], [41.412, 2.128, 3.0], [41.442, 2.168, 3.0], [41.404, 2.127, 3.0], [41.402, 2.208, 3.0], [41.4, 2.148, 3.0], [41.402, 2.193, 3.0], [41.401, 2.169, 3.0], [41.368, 2.173, 3.0], [41.351, 2.15, 3.0], [41.42, 2.21, 3.0], [41.38, 2.167, 3.0], [41.387, 2.133, 3.0], [41.404, 2.143, 3.0], [41.446, 2.178, 3.0], [41.367, 2.172, 3.0], [41.378, 2.165, 3.0], [41.378, 2.174, 3.0], [41.398, 2.122, 3.0], [41.395, 2.145, 3.0], [41.385, 2.16, 3.0], [41.39, 2.108, 3.0], [41.401, 2.158, 3.0], [41.438, 2.151, 3.0], [41.435, 2.205, 3.0], [41.384, 2.132, 3.0], [41.387, 2.131, 3.0], [41.386, 2.125, 3.0], [41.39, 2.145, 3.0], [41.37, 2.138, 3.0], [41.379, 2.182, 3.0], [41.404, 2.154, 3.0], [41.399, 2.184, 3.0], [41.396, 2.206, 3.0], [41.379, 2.192, 3.0], [41.427, 2.092, 3.0], [41.376, 2.183, 3.0], [41.397, 2.183, 3.0], [41.406, 2.2, 3.0], [41.37, 2.147, 3.0], [41.39, 2.126, 3.0], [41.384, 2.139, 3.0], [41.399, 2.208, 3.0], [41.388, 2.175, 3.0], [41.376, 2.173, 3.0], [41.408, 2.148, 3.0], [41.382, 2.149, 3.0], [41.407, 2.209, 3.0], [41.402, 2.148, 3.0], [41.404, 2.144, 3.0], [41.376, 2.157, 3.0], [41.375, 2.144, 3.0], [41.412, 2.136, 3.0], [41.388, 2.184, 3.0], [41.4, 2.153, 3.0], [41.402, 2.122, 3.0], [41.378, 2.178, 3.0], [41.411, 2.155, 3.0], [41.38, 2.193, 3.0], [41.429, 2.09, 3.0], [41.39, 2.139, 3.0], [41.407, 2.164, 3.0], [41.394, 2.131, 3.0], [41.411, 2.186, 3.0], [41.428, 2.091, 3.0], [41.416, 2.168, 3.0], [41.403, 2.138, 3.0], [41.392, 2.105, 3.0], [41.429, 2.159, 3.0], [41.414, 2.176, 3.0], [41.405, 2.215, 3.0], [41.382, 2.133, 3.0], [41.447, 2.194, 3.0], [41.423, 2.206, 3.0], [41.381, 2.185, 3.0], [41.4, 2.134, 3.0], [41.404, 2.155, 3.0], [41.387, 2.111, 3.0], [41.383, 2.124, 3.0], [41.377, 2.149, 3.0], [41.408, 2.196, 3.0], [41.448, 2.197, 3.0], [41.413, 2.17, 3.0], [41.406, 2.166, 3.0], [41.396, 2.167, 3.0], [41.418, 2.128, 3.0], [41.397, 2.152, 3.0], [41.425, 2.166, 3.0], [41.419, 2.185, 3.0], [41.454, 2.195, 3.0], [41.377, 2.137, 3.0], [41.399, 2.143, 3.0], [41.427, 2.187, 3.0], [41.412, 2.171, 3.0], [41.428, 2.181, 3.0], [41.379, 2.176, 2.0], [41.413, 2.166, 2.0], [41.44, 2.193, 2.0], [41.414, 2.173, 2.0], [41.385, 2.159, 2.0], [41.418, 2.208, 2.0], [41.429, 2.088, 2.0], [41.392, 2.112, 2.0], [41.439, 2.183, 2.0], [41.398, 2.123, 2.0], [41.367, 2.154, 2.0], [41.377, 2.126, 2.0], [41.338, 2.109, 2.0], [41.382, 2.109, 2.0], [41.385, 2.197, 2.0], [41.432, 2.195, 2.0], [41.418, 2.129, 2.0], [41.407, 2.176, 2.0], [41.405, 2.178, 2.0], [41.419, 2.195, 2.0], [41.363, 2.145, 2.0], [41.367, 2.158, 2.0], [41.392, 2.184, 2.0], [41.44, 2.146, 2.0], [41.363, 2.158, 2.0], [41.366, 2.155, 2.0], [41.398, 2.148, 2.0], [41.416, 2.186, 2.0], [41.391, 2.135, 2.0], [41.426, 2.12, 2.0], [41.39, 2.14, 2.0], [41.41, 2.207, 2.0], [41.416, 2.19, 2.0], [41.407, 2.204, 2.0], [41.397, 2.154, 2.0], [41.407, 2.175, 2.0], [41.423, 2.155, 2.0], [41.399, 2.175, 2.0], [41.397, 2.137, 2.0], [41.361, 2.14, 2.0], [41.415, 2.155, 2.0], [41.414, 2.197, 2.0], [41.392, 2.177, 2.0], [41.372, 2.153, 2.0], [41.414, 2.206, 2.0], [41.421, 2.211, 2.0], [41.396, 2.166, 2.0], [41.373, 2.149, 2.0], [41.41, 2.127, 2.0], [41.397, 2.157, 2.0], [41.429, 2.139, 2.0], [41.405, 2.128, 2.0], [41.407, 2.127, 2.0], [41.397, 2.199, 2.0], [41.413, 2.128, 2.0], [41.399, 2.142, 2.0], [41.396, 2.197, 2.0], [41.401, 2.17, 2.0], [41.409, 2.111, 2.0], [41.42, 2.108, 2.0], [41.388, 2.163, 2.0], [41.411, 2.195, 2.0], [41.408, 2.134, 2.0], [41.451, 2.195, 2.0], [41.334, 2.112, 2.0], [41.358, 2.138, 2.0], [41.345, 2.135, 2.0], [41.413, 2.164, 2.0], [41.399, 2.196, 2.0], [41.408, 2.124, 2.0], [41.431, 2.156, 2.0], [41.36, 2.137, 2.0], [41.421, 2.203, 2.0], [41.423, 2.121, 2.0], [41.352, 2.137, 2.0], [41.408, 2.146, 2.0], [41.417, 2.193, 2.0], [41.399, 2.13, 2.0], [41.399, 2.129, 2.0], [41.411, 2.123, 2.0], [41.408, 2.109, 2.0], [41.396, 2.175, 2.0], [41.41, 2.193, 2.0], [41.405, 2.139, 2.0], [41.372, 2.176, 2.0], [41.406, 2.135, 2.0], [41.407, 2.137, 2.0], [41.391, 2.109, 2.0], [41.408, 2.22, 2.0], [41.412, 2.218, 2.0], [41.407, 2.194, 2.0], [41.407, 2.215, 2.0], [41.38, 2.191, 2.0], [41.361, 2.18, 2.0], [41.417, 2.141, 2.0], [41.417, 2.202, 2.0], [41.437, 2.205, 2.0], [41.414, 2.144, 2.0], [41.41, 2.198, 2.0], [41.41, 2.19, 2.0], [41.383, 2.131, 2.0], [41.378, 2.133, 2.0], [41.446, 2.183, 2.0], [41.431, 2.159, 2.0], [41.435, 2.159, 2.0], [41.4, 2.114, 2.0], [41.381, 2.194, 2.0], [41.416, 2.203, 2.0], [41.409, 2.188, 2.0], [41.415, 2.207, 2.0], [41.455, 2.191, 2.0], [41.386, 2.132, 2.0], [41.377, 2.145, 2.0], [41.369, 2.173, 2.0], [41.443, 2.182, 2.0], [41.408, 2.182, 2.0], [41.384, 2.121, 2.0], [41.373, 2.128, 2.0], [41.386, 2.192, 2.0], [41.378, 2.12, 2.0], [41.446, 2.203, 2.0], [41.413, 2.182, 2.0], [41.397, 2.148, 2.0], [41.391, 2.174, 2.0], [41.37, 2.158, 2.0], [41.376, 2.154, 2.0], [41.391, 2.177, 2.0], [41.394, 2.145, 2.0], [41.442, 2.178, 2.0], [41.416, 2.181, 2.0], [41.347, 2.147, 2.0], [41.361, 2.167, 2.0], [41.405, 2.163, 2.0], [41.399, 2.177, 2.0], [41.396, 2.115, 2.0], [41.371, 2.142, 2.0], [41.391, 2.146, 2.0], [41.376, 2.134, 2.0], [41.388, 2.123, 2.0], [41.421, 2.21, 2.0], [41.389, 2.122, 2.0], [41.443, 2.169, 2.0], [41.36, 2.14, 2.0], [41.368, 2.152, 2.0], [41.369, 2.155, 2.0], [41.396, 2.124, 2.0], [41.385, 2.186, 2.0], [41.389, 2.126, 2.0], [41.38, 2.192, 2.0], [41.399, 2.146, 2.0], [41.435, 2.183, 2.0], [41.411, 2.14, 2.0], [41.406, 2.161, 2.0], [41.374, 2.146, 2.0], [41.374, 2.144, 2.0], [41.431, 2.174, 2.0], [41.431, 2.175, 2.0], [41.438, 2.146, 2.0], [41.403, 2.172, 2.0], [41.386, 2.185, 2.0], [41.397, 2.178, 2.0], [41.4, 2.123, 2.0], [41.373, 2.132, 2.0], [41.421, 2.191, 2.0], [41.405, 2.117, 2.0], [41.377, 2.133, 2.0], [41.415, 2.164, 2.0], [41.363, 2.156, 2.0], [41.416, 2.2, 2.0], [41.42, 2.122, 2.0], [41.332, 2.124, 2.0], [41.39, 2.124, 2.0], [41.436, 2.145, 2.0], [41.411, 2.125, 2.0], [41.385, 2.195, 2.0], [41.379, 2.132, 2.0], [41.399, 2.178, 2.0], [41.343, 2.128, 2.0], [41.409, 2.146, 2.0], [41.355, 2.147, 2.0], [41.353, 2.15, 2.0], [41.399, 2.202, 2.0], [41.422, 2.143, 2.0], [41.403, 2.171, 2.0], [41.377, 2.158, 2.0], [41.419, 2.188, 2.0], [41.387, 2.192, 2.0], [41.438, 2.205, 2.0], [41.409, 2.135, 2.0], [41.357, 2.14, 2.0], [41.387, 2.184, 2.0], [41.406, 2.194, 2.0], [41.383, 2.15, 2.0], [41.404, 2.2, 2.0], [41.386, 2.152, 2.0], [41.348, 2.145, 2.0], [41.388, 2.18, 2.0], [41.409, 2.138, 2.0], [41.412, 2.186, 2.0], [41.335, 2.112, 2.0], [41.46, 2.183, 2.0], [41.402, 2.126, 2.0], [41.404, 2.126, 2.0], [41.428, 2.177, 2.0], [41.398, 2.119, 2.0], [41.4, 2.187, 2.0], [41.385, 2.128, 2.0], [41.385, 2.194, 2.0], [41.385, 2.124, 2.0], [41.394, 2.112, 2.0], [41.384, 2.127, 2.0], [41.379, 2.16, 2.0], [41.407, 2.19, 2.0], [41.385, 2.169, 2.0], [41.346, 2.142, 2.0], [41.383, 2.156, 2.0], [41.333, 2.113, 2.0], [41.392, 2.147, 2.0], [41.434, 2.192, 2.0], [41.43, 2.196, 2.0], [41.413, 2.189, 2.0], [41.389, 2.13, 2.0], [41.383, 2.112, 2.0], [41.419, 2.14, 2.0], [41.449, 2.194, 2.0], [41.376, 2.13, 2.0], [41.436, 2.19, 2.0], [41.402, 2.188, 2.0], [41.428, 2.172, 2.0], [41.425, 2.192, 2.0], [41.333, 2.138, 2.0], [41.38, 2.151, 2.0], [41.369, 2.14, 2.0], [41.381, 2.118, 2.0], [41.379, 2.12, 2.0], [41.422, 2.174, 2.0], [41.414, 2.133, 2.0], [41.424, 2.19, 2.0], [41.386, 2.135, 2.0], [41.345, 2.137, 2.0], [41.397, 2.153, 2.0], [41.425, 2.158, 2.0], [41.387, 2.147, 2.0], [41.432, 2.165, 2.0], [41.353, 2.154, 2.0], [41.418, 2.138, 2.0], [41.375, 2.176, 2.0], [41.401, 2.159, 2.0], [41.417, 2.104, 2.0], [41.412, 2.157, 2.0], [41.399, 2.127, 2.0], [41.4, 2.154, 2.0], [41.4, 2.156, 2.0], [41.431, 2.165, 2.0], [41.393, 2.112, 2.0], [41.344, 2.134, 2.0], [41.424, 2.178, 2.0], [41.384, 2.114, 2.0], [41.419, 2.124, 2.0], [41.441, 2.177, 2.0], [41.406, 2.136, 2.0], [41.402, 2.192, 2.0], [41.44, 2.199, 2.0], [41.375, 2.179, 2.0], [41.409, 2.148, 2.0], [41.39, 2.198, 2.0], [41.399, 2.164, 2.0], [41.379, 2.165, 2.0], [41.413, 2.143, 2.0], [41.417, 2.211, 2.0], [41.399, 2.212, 2.0], [41.399, 2.207, 2.0], [41.426, 2.093, 2.0], [41.366, 2.135, 2.0], [41.4, 2.165, 2.0], [41.34, 2.123, 2.0], [41.4, 2.13, 2.0], [41.427, 2.141, 2.0], [41.438, 2.152, 2.0], [41.441, 2.165, 2.0], [41.387, 2.137, 2.0], [41.375, 2.139, 2.0], [41.377, 2.115, 2.0], [41.375, 2.136, 2.0], [41.402, 2.139, 2.0], [41.425, 2.145, 2.0], [41.45, 2.188, 2.0], [41.396, 2.116, 2.0], [41.384, 2.131, 2.0], [41.38, 2.137, 2.0], [41.383, 2.17, 2.0], [41.404, 2.135, 2.0], [41.404, 2.181, 2.0], [41.395, 2.191, 2.0], [41.394, 2.192, 2.0], [41.45, 2.2, 2.0], [41.399, 2.188, 2.0], [41.403, 2.191, 2.0], [41.428, 2.138, 2.0], [41.428, 2.141, 2.0], [41.425, 2.114, 2.0], [41.393, 2.183, 2.0], [41.393, 2.175, 2.0], [41.424, 2.124, 2.0], [41.367, 2.148, 2.0], [41.419, 2.177, 2.0], [41.407, 2.114, 2.0], [41.354, 2.152, 2.0], [41.412, 2.16, 2.0], [41.405, 2.214, 2.0], [41.395, 2.129, 2.0], [41.438, 2.19, 2.0], [41.366, 2.146, 2.0], [41.416, 2.143, 2.0], [41.433, 2.205, 2.0], [41.405, 2.206, 2.0], [41.391, 2.132, 2.0], [41.419, 2.17, 2.0], [41.405, 2.123, 2.0], [41.422, 2.188, 2.0], [41.404, 2.205, 2.0], [41.388, 2.191, 2.0], [41.369, 2.174, 2.0], [41.413, 2.155, 2.0], [41.404, 2.178, 2.0], [41.4, 2.115, 2.0], [41.406, 2.21, 2.0], [41.395, 2.113, 2.0], [41.449, 2.189, 2.0], [41.389, 2.175, 2.0], [41.408, 2.163, 2.0], [41.396, 2.176, 2.0], [41.442, 2.193, 2.0], [41.375, 2.189, 2.0], [41.405, 2.125, 2.0], [41.42, 2.17, 2.0], [41.418, 2.098, 2.0], [41.404, 2.148, 2.0], [41.408, 2.203, 2.0], [41.397, 2.126, 2.0], [41.43, 2.139, 2.0], [41.399, 2.192, 2.0], [41.402, 2.16, 2.0], [41.438, 2.207, 2.0], [41.407, 2.187, 2.0], [41.388, 2.183, 2.0], [41.42, 2.184, 2.0], [41.405, 2.205, 2.0], [41.383, 2.189, 2.0], [41.449, 2.202, 2.0], [41.43, 2.204, 2.0], [41.386, 2.122, 2.0], [41.388, 2.145, 2.0], [41.39, 2.12, 2.0], [41.396, 2.164, 2.0], [41.437, 2.153, 2.0], [41.396, 2.163, 2.0], [41.414, 2.13, 2.0], [41.439, 2.206, 2.0], [41.397, 2.182, 2.0], [41.413, 2.165, 2.0], [41.397, 2.156, 2.0], [41.405, 2.144, 2.0], [41.434, 2.173, 2.0], [41.403, 2.182, 2.0], [41.441, 2.191, 2.0], [41.401, 2.129, 2.0], [41.4, 2.178, 2.0], [41.38, 2.158, 2.0], [41.389, 2.143, 2.0], [41.404, 2.163, 2.0], [41.425, 2.141, 2.0], [41.401, 2.146, 2.0], [41.406, 2.168, 2.0], [41.398, 2.192, 2.0], [41.414, 2.185, 2.0], [41.413, 2.093, 2.0], [41.432, 2.079, 2.0], [41.437, 2.173, 2.0], [41.392, 2.123, 2.0], [41.409, 2.182, 2.0], [41.383, 2.127, 2.0], [41.419, 2.091, 2.0], [41.4, 2.186, 2.0], [41.418, 2.21, 2.0], [41.434, 2.152, 2.0], [41.398, 2.199, 2.0], [41.397, 2.166, 2.0], [41.402, 2.202, 2.0], [41.395, 2.183, 2.0], [41.415, 2.131, 2.0], [41.39, 2.112, 2.0], [41.401, 2.172, 2.0], [41.376, 2.161, 2.0], [41.335, 2.116, 2.0], [41.413, 2.214, 2.0], [41.366, 2.172, 2.0], [41.428, 2.106, 2.0], [41.394, 2.154, 2.0], [41.405, 2.171, 2.0], [41.39, 2.152, 2.0], [41.398, 2.134, 2.0], [41.379, 2.123, 2.0], [41.391, 2.184, 2.0], [41.413, 2.195, 2.0], [41.378, 2.131, 2.0], [41.386, 2.148, 2.0], [41.386, 2.196, 2.0], [41.411, 2.19, 2.0], [41.412, 2.173, 2.0], [41.402, 2.157, 2.0], [41.352, 2.154, 2.0], [41.428, 2.182, 2.0], [41.41, 2.175, 2.0], [41.44, 2.156, 2.0], [41.381, 2.152, 2.0], [41.429, 2.085, 2.0], [41.442, 2.191, 2.0], [41.421, 2.173, 2.0], [41.398, 2.114, 2.0], [41.406, 2.11, 2.0], [41.416, 2.136, 2.0], [41.382, 2.111, 2.0], [41.442, 2.18, 2.0], [41.403, 2.183, 2.0], [41.4, 2.193, 2.0], [41.39, 2.19, 2.0], [41.39, 2.125, 2.0], [41.388, 2.119, 2.0], [41.375, 2.141, 2.0], [41.402, 2.156, 2.0], [41.396, 2.184, 2.0], [41.367, 2.159, 2.0], [41.389, 2.185, 2.0], [41.427, 2.177, 2.0], [41.406, 2.18, 2.0], [41.41, 2.178, 2.0], [41.388, 2.161, 2.0], [41.377, 2.17, 2.0], [41.425, 2.173, 2.0], [41.372, 2.174, 2.0], [41.437, 2.154, 2.0], [41.44, 2.157, 2.0], [41.34, 2.119, 2.0], [41.423, 2.183, 2.0], [41.438, 2.145, 2.0], [41.421, 2.18, 2.0], [41.382, 2.138, 2.0], [41.412, 2.176, 2.0], [41.465, 2.18, 2.0], [41.412, 2.221, 2.0], [41.415, 2.2, 2.0], [41.404, 2.201, 2.0], [41.411, 2.159, 2.0], [41.394, 2.176, 2.0], [41.407, 2.2, 2.0], [41.441, 2.201, 2.0], [41.411, 2.169, 2.0], [41.398, 2.191, 2.0], [41.414, 2.196, 2.0], [41.42, 2.103, 2.0], [41.445, 2.207, 2.0], [41.397, 2.169, 2.0], [41.403, 2.15, 2.0], [41.388, 2.178, 2.0], [41.437, 2.151, 2.0], [41.4, 2.212, 2.0], [41.416, 2.158, 2.0], [41.421, 2.12, 2.0], [41.407, 2.116, 2.0], [41.414, 2.164, 2.0], [41.428, 2.087, 2.0], [41.357, 2.139, 2.0], [41.393, 2.18, 2.0], [41.392, 2.104, 2.0], [41.401, 2.139, 2.0], [41.407, 2.188, 2.0], [41.408, 2.21, 2.0], [41.422, 2.088, 2.0], [41.37, 2.157, 2.0], [41.407, 2.136, 2.0], [41.411, 2.175, 2.0], [41.388, 2.144, 2.0], [41.379, 2.131, 2.0], [41.398, 2.144, 2.0], [41.414, 2.14, 2.0], [41.388, 2.147, 2.0], [41.434, 2.144, 2.0], [41.399, 2.15, 2.0], [41.414, 2.218, 2.0], [41.404, 2.173, 2.0], [41.4, 2.111, 2.0], [41.387, 2.14, 2.0], [41.388, 2.162, 2.0], [41.388, 2.12, 2.0], [41.449, 2.203, 2.0], [41.434, 2.142, 2.0], [41.421, 2.138, 2.0], [41.387, 2.146, 2.0], [41.401, 2.188, 2.0], [41.439, 2.179, 2.0], [41.394, 2.164, 2.0], [41.412, 2.204, 2.0], [41.444, 2.205, 2.0], [41.374, 2.136, 2.0], [41.388, 2.109, 2.0], [41.378, 2.156, 2.0], [41.381, 2.14, 2.0], [41.458, 2.175, 2.0], [41.403, 2.166, 2.0], [41.403, 2.184, 2.0], [41.394, 2.171, 2.0], [41.391, 2.199, 2.0], [41.451, 2.174, 2.0], [41.447, 2.203, 2.0], [41.402, 2.159, 2.0], [41.392, 2.146, 2.0], [41.412, 2.18, 2.0], [41.394, 2.197, 2.0], [41.401, 2.174, 2.0], [41.384, 2.196, 2.0], [41.406, 2.151, 2.0], [41.393, 2.133, 2.0], [41.43, 2.149, 2.0], [41.382, 2.187, 2.0], [41.393, 2.15, 2.0], [41.439, 2.158, 2.0], [41.393, 2.188, 2.0], [41.413, 2.215, 2.0], [41.396, 2.154, 2.0], [41.357, 2.161, 2.0], [41.416, 2.139, 2.0], [41.419, 2.176, 2.0], [41.405, 2.2, 2.0], [41.383, 2.171, 2.0], [41.401, 2.182, 2.0], [41.402, 2.183, 2.0], [41.376, 2.167, 2.0], [41.409, 2.131, 2.0], [41.378, 2.13, 2.0], [41.445, 2.18, 2.0], [41.42, 2.203, 2.0], [41.395, 2.139, 2.0], [41.412, 2.205, 2.0], [41.377, 2.165, 2.0], [41.414, 2.137, 2.0], [41.403, 2.19, 2.0], [41.418, 2.177, 2.0], [41.377, 2.124, 2.0], [41.416, 2.201, 2.0], [41.395, 2.126, 2.0], [41.396, 2.133, 2.0], [41.389, 2.14, 2.0], [41.373, 2.133, 2.0], [41.413, 2.138, 2.0], [41.448, 2.202, 2.0], [41.426, 2.166, 2.0], [41.379, 2.151, 2.0], [41.414, 2.169, 2.0], [41.38, 2.172, 2.0], [41.433, 2.164, 2.0], [41.415, 2.213, 2.0], [41.421, 2.125, 2.0], [41.397, 2.172, 2.0], [41.403, 2.208, 2.0], [41.394, 2.126, 2.0], [41.399, 2.183, 2.0], [41.383, 2.155, 2.0], [41.392, 2.189, 2.0], [41.393, 2.201, 2.0], [41.397, 2.129, 2.0], [41.406, 2.152, 2.0], [41.348, 2.146, 2.0], [41.446, 2.188, 2.0], [41.404, 2.137, 2.0], [41.382, 2.162, 2.0], [41.416, 2.212, 2.0], [41.451, 2.176, 2.0], [41.382, 2.156, 2.0], [41.415, 2.091, 2.0], [41.389, 2.109, 2.0], [41.418, 2.203, 2.0], [41.343, 2.13, 2.0], [41.414, 2.18, 2.0], [41.406, 2.187, 2.0], [41.398, 2.176, 2.0], [41.403, 2.116, 2.0], [41.334, 2.114, 2.0], [41.402, 2.191, 2.0], [41.402, 2.164, 2.0], [41.451, 2.188, 2.0], [41.402, 2.197, 2.0], [41.372, 2.137, 2.0], [41.422, 2.212, 2.0], [41.403, 2.115, 2.0], [41.408, 2.211, 2.0], [41.423, 2.178, 2.0], [41.428, 2.186, 2.0], [41.447, 2.195, 2.0], [41.407, 2.181, 2.0], [41.385, 2.14, 2.0], [41.393, 2.191, 2.0], [41.409, 2.2, 2.0], [41.411, 2.183, 2.0], [41.403, 2.158, 2.0], [41.393, 2.192, 2.0], [41.37, 2.153, 2.0], [41.395, 2.165, 2.0], [41.439, 2.203, 2.0], [41.4, 2.162, 2.0], [41.386, 2.181, 2.0], [41.402, 2.113, 2.0], [41.42, 2.141, 2.0], [41.387, 2.132, 2.0], [41.376, 2.131, 2.0], [41.433, 2.079, 2.0], [41.429, 2.089, 2.0], [41.379, 2.159, 2.0], [41.409, 2.166, 2.0], [41.384, 2.155, 2.0], [41.384, 2.118, 2.0], [41.411, 2.165, 2.0], [41.391, 2.178, 2.0], [41.396, 2.172, 2.0], [41.364, 2.158, 2.0], [41.347, 2.144, 2.0], [41.338, 2.117, 2.0], [41.399, 2.147, 2.0], [41.411, 2.139, 2.0], [41.404, 2.16, 2.0], [41.395, 2.13, 2.0], [41.407, 2.111, 2.0], [41.4, 2.208, 2.0], [41.409, 2.218, 2.0], [41.405, 2.213, 2.0], [41.404, 2.214, 2.0], [41.415, 2.212, 2.0], [41.408, 2.209, 2.0], [41.403, 2.215, 2.0], [41.386, 2.141, 2.0], [41.408, 2.221, 2.0], [41.41, 2.154, 2.0], [41.405, 2.15, 2.0], [41.426, 2.119, 2.0], [41.416, 2.179, 2.0], [41.401, 2.163, 2.0], [41.417, 2.175, 2.0], [41.425, 2.18, 2.0], [41.408, 2.189, 2.0], [41.388, 2.14, 2.0], [41.421, 2.174, 2.0], [41.429, 2.204, 2.0], [41.431, 2.084, 2.0], [41.401, 2.171, 2.0], [41.426, 2.158, 2.0], [41.39, 2.119, 2.0], [41.401, 2.19, 2.0], [41.385, 2.145, 2.0], [41.384, 2.146, 2.0], [41.378, 2.124, 2.0], [41.43, 2.131, 2.0], [41.432, 2.134, 2.0], [41.394, 2.184, 2.0], [41.406, 2.125, 2.0], [41.439, 2.166, 2.0], [41.403, 2.14, 2.0], [41.399, 2.139, 2.0], [41.398, 2.155, 2.0], [41.378, 2.134, 2.0], [41.405, 2.131, 2.0], [41.376, 2.133, 2.0], [41.382, 2.153, 2.0], [41.387, 2.138, 2.0], [41.391, 2.187, 2.0], [41.406, 2.212, 2.0], [41.355, 2.145, 2.0], [41.427, 2.176, 2.0], [41.394, 2.161, 2.0], [41.403, 2.156, 2.0], [41.376, 2.174, 2.0], [41.42, 2.199, 2.0], [41.405, 2.146, 2.0], [41.397, 2.209, 2.0], [41.445, 2.188, 2.0], [41.436, 2.14, 2.0], [41.394, 2.17, 2.0], [41.388, 2.117, 2.0], [41.405, 2.216, 2.0], [41.381, 2.188, 2.0], [41.406, 2.133, 2.0], [41.414, 2.217, 2.0], [41.377, 2.184, 2.0], [41.408, 2.169, 2.0], [41.372, 2.131, 2.0], [41.397, 2.204, 2.0], [41.407, 2.218, 2.0], [41.37, 2.154, 2.0], [41.417, 2.131, 2.0], [41.43, 2.087, 2.0], [41.366, 2.134, 2.0], [41.388, 2.13, 2.0], [41.412, 2.161, 2.0], [41.406, 2.116, 2.0], [41.376, 2.145, 2.0], [41.386, 2.145, 2.0], [41.428, 2.094, 2.0], [41.379, 2.178, 2.0], [41.458, 2.188, 2.0], [41.378, 2.158, 2.0], [41.396, 2.171, 2.0], [41.41, 2.218, 2.0], [41.387, 2.126, 2.0], [41.384, 2.108, 2.0], [41.44, 2.177, 2.0], [41.41, 2.185, 2.0], [41.377, 2.123, 2.0], [41.407, 2.171, 2.0], [41.427, 2.148, 2.0], [41.396, 2.146, 2.0], [41.455, 2.19, 2.0], [41.389, 2.146, 2.0], [41.404, 2.121, 2.0], [41.425, 2.174, 2.0], [41.421, 2.178, 2.0], [41.409, 2.163, 2.0], [41.379, 2.15, 2.0], [41.41, 2.162, 2.0], [41.399, 2.155, 2.0], [41.408, 2.164, 2.0], [41.437, 2.189, 2.0], [41.409, 2.155, 2.0], [41.434, 2.138, 2.0], [41.395, 2.142, 2.0], [41.34, 2.12, 2.0], [41.398, 2.18, 2.0], [41.404, 2.168, 2.0], [41.407, 2.161, 2.0], [41.422, 2.169, 2.0], [41.369, 2.146, 2.0], [41.426, 2.161, 2.0], [41.426, 2.174, 2.0], [41.393, 2.121, 2.0], [41.381, 2.127, 2.0], [41.398, 2.145, 2.0], [41.432, 2.167, 2.0], [41.394, 2.18, 2.0], [41.398, 2.118, 2.0], [41.405, 2.145, 2.0], [41.434, 2.205, 2.0], [41.392, 2.127, 2.0], [41.352, 2.146, 2.0], [41.434, 2.143, 2.0], [41.408, 2.16, 2.0], [41.4, 2.151, 2.0], [41.376, 2.18, 2.0], [41.411, 2.201, 2.0], [41.399, 2.191, 2.0], [41.379, 2.193, 2.0], [41.389, 2.188, 2.0], [41.403, 2.124, 2.0], [41.4, 2.189, 2.0], [41.424, 2.121, 2.0], [41.384, 2.151, 2.0], [41.408, 2.216, 2.0], [41.412, 2.191, 2.0], [41.384, 2.183, 2.0], [41.406, 2.167, 2.0], [41.377, 2.13, 2.0], [41.435, 2.143, 2.0], [41.402, 2.135, 2.0], [41.408, 2.144, 2.0], [41.401, 2.175, 2.0], [41.448, 2.193, 2.0], [41.397, 2.147, 2.0], [41.4, 2.213, 2.0], [41.418, 2.184, 2.0], [41.427, 2.127, 2.0], [41.372, 2.156, 2.0], [41.381, 2.18, 2.0], [41.395, 2.2, 2.0], [41.375, 2.178, 2.0], [41.447, 2.205, 2.0], [41.383, 2.166, 2.0], [41.39, 2.114, 2.0], [41.42, 2.097, 2.0], [41.407, 2.115, 2.0], [41.412, 2.159, 2.0], [41.325, 2.133, 2.0], [41.406, 2.177, 2.0], [41.386, 2.112, 2.0], [41.399, 2.144, 2.0], [41.421, 2.121, 2.0], [41.414, 2.19, 2.0], [41.403, 2.17, 2.0], [41.384, 2.194, 2.0], [41.384, 2.157, 2.0], [41.401, 2.132, 2.0], [41.433, 2.095, 2.0], [41.333, 2.114, 2.0], [41.411, 2.193, 2.0], [41.345, 2.134, 2.0], [41.39, 2.186, 2.0], [41.414, 2.175, 2.0], [41.405, 2.169, 2.0], [41.41, 2.132, 2.0], [41.406, 2.122, 2.0], [41.378, 2.159, 2.0], [41.408, 2.165, 2.0], [41.449, 2.204, 2.0], [41.434, 2.076, 2.0], [41.347, 2.141, 2.0], [41.415, 2.137, 2.0], [41.415, 2.179, 2.0], [41.399, 2.162, 2.0], [41.381, 2.155, 2.0], [41.377, 2.18, 2.0], [41.399, 2.156, 2.0], [41.375, 2.132, 2.0], [41.4, 2.135, 2.0], [41.416, 2.132, 2.0], [41.405, 2.141, 2.0], [41.432, 2.08, 2.0], [41.377, 2.16, 2.0], [41.389, 2.121, 2.0], [41.427, 2.189, 2.0], [41.405, 2.211, 2.0], [41.428, 2.151, 2.0], [41.404, 2.208, 1.0], [41.397, 2.113, 1.0], [41.388, 2.141, 1.0], [41.393, 2.124, 1.0], [41.419, 2.21, 1.0], [41.446, 2.192, 1.0], [41.463, 2.178, 1.0], [41.412, 2.177, 1.0], [41.382, 2.155, 1.0], [41.409, 2.179, 1.0], [41.442, 2.206, 1.0], [41.431, 2.151, 1.0], [41.437, 2.156, 1.0], [41.398, 2.193, 1.0], [41.395, 2.141, 1.0], [41.355, 2.161, 1.0], [41.378, 2.172, 1.0], [41.382, 2.184, 1.0], [41.411, 2.194, 1.0], [41.443, 2.184, 1.0], [41.411, 2.191, 1.0], [41.41, 2.219, 1.0], [41.419, 2.217, 1.0], [41.417, 2.219, 1.0], [41.34, 2.112, 1.0], [41.393, 2.118, 1.0], [41.333, 2.116, 1.0], [41.33, 2.119, 1.0], [41.388, 2.185, 1.0], [41.351, 2.147, 1.0], [41.417, 2.21, 1.0], [41.43, 2.197, 1.0], [41.445, 2.193, 1.0], [41.452, 2.201, 1.0], [41.405, 2.149, 1.0], [41.412, 2.125, 1.0], [41.406, 2.106, 1.0], [41.406, 2.115, 1.0], [41.407, 2.11, 1.0], [41.423, 2.124, 1.0], [41.427, 2.121, 1.0], [41.427, 2.12, 1.0], [41.42, 2.117, 1.0], [41.417, 2.113, 1.0], [41.444, 2.18, 1.0], [41.368, 2.154, 1.0], [41.407, 2.16, 1.0], [41.405, 2.157, 1.0], [41.406, 2.207, 1.0], [41.43, 2.15, 1.0], [41.432, 2.143, 1.0], [41.43, 2.158, 1.0], [41.339, 2.122, 1.0], [41.4, 2.129, 1.0], [41.399, 2.128, 1.0], [41.394, 2.153, 1.0], [41.412, 2.197, 1.0], [41.412, 2.138, 1.0], [41.373, 2.158, 1.0], [41.373, 2.161, 1.0], [41.381, 2.12, 1.0], [41.402, 2.132, 1.0], [41.433, 2.078, 1.0], [41.406, 2.14, 1.0], [41.38, 2.168, 1.0], [41.4, 2.214, 1.0], [41.414, 2.168, 1.0], [41.405, 2.129, 1.0], [41.42, 2.189, 1.0], [41.42, 2.191, 1.0], [41.417, 2.132, 1.0], [41.421, 2.098, 1.0], [41.344, 2.131, 1.0], [41.396, 2.2, 1.0], [41.349, 2.148, 1.0], [41.416, 2.198, 1.0], [41.402, 2.116, 1.0], [41.403, 2.181, 1.0], [41.438, 2.202, 1.0], [41.436, 2.207, 1.0], [41.424, 2.195, 1.0], [41.413, 2.139, 1.0], [41.382, 2.19, 1.0], [41.427, 2.17, 1.0], [41.439, 2.199, 1.0], [41.414, 2.222, 1.0], [41.439, 2.146, 1.0], [41.393, 2.107, 1.0], [41.364, 2.153, 1.0], [41.462, 2.18, 1.0], [41.417, 2.181, 1.0], [41.411, 2.18, 1.0], [41.437, 2.164, 1.0], [41.434, 2.17, 1.0], [41.356, 2.14, 1.0], [41.362, 2.158, 1.0], [41.361, 2.153, 1.0], [41.406, 2.134, 1.0], [41.411, 2.134, 1.0], [41.408, 2.115, 1.0], [41.422, 2.096, 1.0], [41.437, 2.182, 1.0], [41.408, 2.157, 1.0], [41.407, 2.156, 1.0], [41.407, 2.155, 1.0], [41.405, 2.155, 1.0], [41.398, 2.143, 1.0], [41.434, 2.202, 1.0], [41.401, 2.14, 1.0], [41.403, 2.137, 1.0], [41.397, 2.168, 1.0], [41.422, 2.198, 1.0], [41.403, 2.157, 1.0], [41.402, 2.152, 1.0], [41.372, 2.173, 1.0], [41.337, 2.141, 1.0], [41.419, 2.115, 1.0], [41.397, 2.18, 1.0], [41.412, 2.147, 1.0], [41.409, 2.15, 1.0], [41.41, 2.149, 1.0], [41.424, 2.136, 1.0], [41.431, 2.134, 1.0], [41.43, 2.125, 1.0], [41.411, 2.22, 1.0], [41.34, 2.122, 1.0], [41.406, 2.216, 1.0], [41.368, 2.134, 1.0], [41.408, 2.155, 1.0], [41.411, 2.172, 1.0], [41.397, 2.116, 1.0], [41.421, 2.202, 1.0], [41.424, 2.154, 1.0], [41.377, 2.138, 1.0], [41.385, 2.105, 1.0], [41.393, 2.134, 1.0], [41.364, 2.139, 1.0], [41.414, 2.16, 1.0], [41.416, 2.214, 1.0], [41.412, 2.22, 1.0], [41.341, 2.116, 1.0], [41.381, 2.193, 1.0], [41.374, 2.154, 1.0], [41.376, 2.147, 1.0], [41.4, 2.126, 1.0], [41.408, 2.122, 1.0], [41.418, 2.158, 1.0], [41.415, 2.156, 1.0], [41.416, 2.156, 1.0], [41.401, 2.173, 1.0], [41.41, 2.179, 1.0], [41.422, 2.197, 1.0], [41.406, 2.185, 1.0], [41.41, 2.165, 1.0], [41.402, 2.171, 1.0], [41.396, 2.18, 1.0], [41.361, 2.169, 1.0], [41.371, 2.132, 1.0], [41.432, 2.158, 1.0], [41.416, 2.189, 1.0], [41.441, 2.167, 1.0], [41.367, 2.157, 1.0], [41.37, 2.168, 1.0], [41.369, 2.154, 1.0], [41.417, 2.13, 1.0], [41.387, 2.145, 1.0], [41.436, 2.203, 1.0], [41.449, 2.197, 1.0], [41.398, 2.2, 1.0], [41.423, 2.196, 1.0], [41.414, 2.135, 1.0], [41.373, 2.167, 1.0], [41.372, 2.167, 1.0], [41.406, 2.105, 1.0], [41.421, 2.099, 1.0], [41.37, 2.152, 1.0], [41.4, 2.117, 1.0], [41.408, 2.191, 1.0], [41.409, 2.19, 1.0], [41.355, 2.141, 1.0], [41.379, 2.158, 1.0], [41.416, 2.135, 1.0], [41.398, 2.159, 1.0], [41.377, 2.144, 1.0], [41.405, 2.179, 1.0], [41.341, 2.122, 1.0], [41.384, 2.191, 1.0], [41.41, 2.191, 1.0], [41.378, 2.112, 1.0], [41.406, 2.126, 1.0], [41.407, 2.125, 1.0], [41.351, 2.153, 1.0], [41.345, 2.138, 1.0], [41.376, 2.126, 1.0], [41.44, 2.184, 1.0], [41.421, 2.205, 1.0], [41.421, 2.198, 1.0], [41.42, 2.197, 1.0], [41.334, 2.116, 1.0], [41.427, 2.165, 1.0], [41.387, 2.163, 1.0], [41.412, 2.104, 1.0], [41.406, 2.107, 1.0], [41.408, 2.103, 1.0], [41.413, 2.104, 1.0], [41.413, 2.103, 1.0], [41.418, 2.107, 1.0], [41.432, 2.082, 1.0], [41.395, 2.17, 1.0], [41.353, 2.136, 1.0], [41.407, 2.145, 1.0], [41.404, 2.134, 1.0], [41.419, 2.179, 1.0], [41.415, 2.175, 1.0], [41.393, 2.119, 1.0], [41.436, 2.188, 1.0], [41.402, 2.11, 1.0], [41.401, 2.109, 1.0], [41.429, 2.161, 1.0], [41.415, 2.105, 1.0], [41.418, 2.106, 1.0], [41.357, 2.173, 1.0], [41.359, 2.171, 1.0], [41.361, 2.177, 1.0], [41.362, 2.176, 1.0], [41.342, 2.127, 1.0], [41.377, 2.157, 1.0], [41.405, 2.137, 1.0], [41.43, 2.148, 1.0], [41.383, 2.191, 1.0], [41.388, 2.199, 1.0], [41.377, 2.189, 1.0], [41.402, 2.176, 1.0], [41.417, 2.212, 1.0], [41.416, 2.157, 1.0], [41.354, 2.136, 1.0], [41.406, 2.132, 1.0], [41.396, 2.137, 1.0], [41.397, 2.138, 1.0], [41.352, 2.157, 1.0], [41.416, 2.13, 1.0], [41.416, 2.129, 1.0], [41.408, 2.212, 1.0], [41.404, 2.218, 1.0], [41.354, 2.141, 1.0], [41.38, 2.19, 1.0], [41.436, 2.165, 1.0], [41.438, 2.159, 1.0], [41.429, 2.18, 1.0], [41.428, 2.18, 1.0], [41.367, 2.175, 1.0], [41.36, 2.18, 1.0], [41.386, 2.131, 1.0], [41.355, 2.142, 1.0], [41.438, 2.155, 1.0], [41.423, 2.138, 1.0], [41.422, 2.14, 1.0], [41.37, 2.135, 1.0], [41.377, 2.134, 1.0], [41.445, 2.177, 1.0], [41.378, 2.132, 1.0], [41.402, 2.168, 1.0], [41.36, 2.167, 1.0], [41.4, 2.132, 1.0], [41.416, 2.148, 1.0], [41.362, 2.156, 1.0], [41.33, 2.114, 1.0], [41.407, 2.129, 1.0], [41.37, 2.134, 1.0], [41.378, 2.192, 1.0], [41.414, 2.141, 1.0], [41.381, 2.136, 1.0], [41.414, 2.143, 1.0], [41.416, 2.199, 1.0], [41.413, 2.142, 1.0], [41.373, 2.143, 1.0], [41.433, 2.08, 1.0], [41.398, 2.151, 1.0], [41.43, 2.202, 1.0], [41.353, 2.138, 1.0], [41.435, 2.195, 1.0], [41.439, 2.208, 1.0], [41.435, 2.198, 1.0], [41.428, 2.194, 1.0], [41.426, 2.15, 1.0], [41.417, 2.14, 1.0], [41.434, 2.193, 1.0], [41.366, 2.154, 1.0], [41.41, 2.135, 1.0], [41.389, 2.112, 1.0], [41.418, 2.201, 1.0], [41.422, 2.116, 1.0], [41.377, 2.164, 1.0], [41.368, 2.158, 1.0], [41.384, 2.105, 1.0], [41.398, 2.15, 1.0], [41.399, 2.125, 1.0], [41.369, 2.189, 1.0], [41.378, 2.121, 1.0], [41.392, 2.198, 1.0], [41.378, 2.141, 1.0], [41.382, 2.126, 1.0], [41.432, 2.173, 1.0], [41.435, 2.173, 1.0], [41.439, 2.159, 1.0], [41.37, 2.146, 1.0], [41.426, 2.189, 1.0], [41.411, 2.166, 1.0], [41.435, 2.202, 1.0], [41.359, 2.143, 1.0], [41.339, 2.111, 1.0], [41.378, 2.175, 1.0], [41.397, 2.119, 1.0], [41.42, 2.096, 1.0], [41.385, 2.149, 1.0], [41.39, 2.121, 1.0], [41.392, 2.118, 1.0], [41.395, 2.118, 1.0], [41.396, 2.117, 1.0], [41.401, 2.12, 1.0], [41.419, 2.107, 1.0], [41.436, 2.211, 1.0], [41.412, 2.226, 1.0], [41.445, 2.208, 1.0], [41.425, 2.188, 1.0], [41.422, 2.189, 1.0], [41.422, 2.19, 1.0], [41.421, 2.19, 1.0], [41.421, 2.188, 1.0], [41.426, 2.091, 1.0], [41.379, 2.138, 1.0], [41.411, 2.156, 1.0], [41.409, 2.152, 1.0], [41.394, 2.136, 1.0], [41.395, 2.202, 1.0], [41.387, 2.162, 1.0], [41.367, 2.177, 1.0], [41.362, 2.182, 1.0], [41.339, 2.116, 1.0], [41.451, 2.197, 1.0], [41.378, 2.157, 1.0], [41.404, 2.169, 1.0], [41.395, 2.193, 1.0], [41.419, 2.141, 1.0], [41.336, 2.107, 1.0], [41.417, 2.105, 1.0], [41.391, 2.121, 1.0], [41.356, 2.16, 1.0], [41.411, 2.105, 1.0], [41.438, 2.184, 1.0], [41.38, 2.115, 1.0], [41.389, 2.125, 1.0], [41.38, 2.16, 1.0], [41.37, 2.137, 1.0], [41.39, 2.2, 1.0], [41.403, 2.16, 1.0], [41.379, 2.135, 1.0], [41.413, 2.193, 1.0], [41.419, 2.104, 1.0], [41.428, 2.088, 1.0], [41.445, 2.197, 1.0], [41.438, 2.148, 1.0], [41.436, 2.164, 1.0], [41.438, 2.147, 1.0], [41.438, 2.144, 1.0], [41.436, 2.173, 1.0], [41.45, 2.195, 1.0], [41.422, 2.142, 1.0], [41.417, 2.18, 1.0], [41.434, 2.177, 1.0], [41.433, 2.179, 1.0], [41.435, 2.179, 1.0], [41.429, 2.177, 1.0], [41.436, 2.185, 1.0], [41.434, 2.18, 1.0], [41.354, 2.151, 1.0], [41.42, 2.121, 1.0], [41.42, 2.12, 1.0], [41.425, 2.121, 1.0], [41.425, 2.177, 1.0], [41.332, 2.126, 1.0], [41.331, 2.124, 1.0], [41.387, 2.15, 1.0], [41.404, 2.146, 1.0], [41.435, 2.193, 1.0], [41.411, 2.122, 1.0], [41.354, 2.153, 1.0], [41.356, 2.155, 1.0], [41.436, 2.146, 1.0], [41.411, 2.179, 1.0], [41.423, 2.176, 1.0], [41.39, 2.127, 1.0], [41.354, 2.154, 1.0], [41.348, 2.144, 1.0], [41.394, 2.127, 1.0], [41.427, 2.093, 1.0], [41.342, 2.125, 1.0], [41.413, 2.223, 1.0], [41.427, 2.162, 1.0], [41.356, 2.159, 1.0], [41.397, 2.21, 1.0], [41.39, 2.201, 1.0], [41.386, 2.115, 1.0], [41.371, 2.145, 1.0], [41.444, 2.207, 1.0], [41.384, 2.124, 1.0], [41.422, 2.144, 1.0], [41.411, 2.161, 1.0], [41.416, 2.218, 1.0], [41.375, 2.14, 1.0], [41.372, 2.166, 1.0], [41.427, 2.192, 1.0], [41.426, 2.192, 1.0], [41.399, 2.121, 1.0], [41.412, 2.182, 1.0], [41.396, 2.135, 1.0], [41.41, 2.129, 1.0], [41.429, 2.077, 1.0], [41.421, 2.082, 1.0], [41.456, 2.195, 1.0], [41.417, 2.091, 1.0], [41.418, 2.091, 1.0], [41.416, 2.093, 1.0], [41.414, 2.091, 1.0], [41.412, 2.172, 1.0], [41.338, 2.143, 1.0], [41.432, 2.131, 1.0], [41.35, 2.153, 1.0], [41.343, 2.147, 1.0], [41.333, 2.141, 1.0], [41.336, 2.141, 1.0], [41.343, 2.145, 1.0], [41.348, 2.147, 1.0], [41.394, 2.123, 1.0], [41.433, 2.174, 1.0], [41.39, 2.117, 1.0], [41.328, 2.113, 1.0], [41.327, 2.114, 1.0], [41.39, 2.129, 1.0], [41.424, 2.117, 1.0], [41.402, 2.128, 1.0], [41.427, 2.124, 1.0], [41.33, 2.13, 1.0], [41.394, 2.124, 1.0], [41.391, 2.125, 1.0], [41.331, 2.123, 1.0], [41.415, 2.177, 1.0], [41.356, 2.148, 1.0], [41.443, 2.201, 1.0], [41.428, 2.171, 1.0], [41.38, 2.183, 1.0], [41.371, 2.14, 1.0], [41.384, 2.197, 1.0], [41.395, 2.114, 1.0], [41.394, 2.196, 1.0], [41.45, 2.203, 1.0], [41.404, 2.209, 1.0], [41.424, 2.141, 1.0], [41.431, 2.155, 1.0], [41.382, 2.139, 1.0], [41.379, 2.172, 1.0], [41.346, 2.145, 1.0], [41.346, 2.147, 1.0], [41.359, 2.142, 1.0], [41.342, 2.122, 1.0], [41.344, 2.143, 1.0], [41.382, 2.124, 1.0], [41.439, 2.182, 1.0], [41.428, 2.193, 1.0], [41.414, 2.188, 1.0], [41.449, 2.19, 1.0], [41.433, 2.152, 1.0], [41.432, 2.153, 1.0], [41.412, 2.17, 1.0], [41.42, 2.123, 1.0], [41.416, 2.102, 1.0], [41.436, 2.189, 1.0], [41.442, 2.19, 1.0], [41.415, 2.17, 1.0], [41.419, 2.106, 1.0], [41.429, 2.167, 1.0], [41.428, 2.168, 1.0], [41.429, 2.168, 1.0], [41.423, 2.095, 1.0], [41.383, 2.152, 1.0], [41.402, 2.138, 1.0], [41.4, 2.12, 1.0], [41.427, 2.139, 1.0], [41.375, 2.126, 1.0], [41.334, 2.14, 1.0], [41.397, 2.165, 1.0], [41.342, 2.144, 1.0], [41.373, 2.131, 1.0], [41.374, 2.13, 1.0], [41.392, 2.108, 1.0], [41.44, 2.158, 1.0], [41.417, 2.16, 1.0], [41.38, 2.112, 1.0], [41.439, 2.205, 1.0], [41.392, 2.161, 1.0], [41.377, 2.128, 1.0], [41.414, 2.106, 1.0], [41.407, 2.13, 1.0], [41.36, 2.165, 1.0], [41.437, 2.163, 1.0], [41.435, 2.168, 1.0], [41.402, 2.163, 1.0], [41.432, 2.166, 1.0], [41.429, 2.16, 1.0], [41.324, 2.122, 1.0], [41.448, 2.201, 1.0], [41.42, 2.138, 1.0], [41.342, 2.119, 1.0], [41.339, 2.12, 1.0], [41.342, 2.118, 1.0], [41.42, 2.137, 1.0], [41.346, 2.139, 1.0], [41.379, 2.161, 1.0], [41.413, 2.201, 1.0], [41.351, 2.157, 1.0], [41.395, 2.207, 1.0], [41.437, 2.209, 1.0], [41.41, 2.222, 1.0], [41.399, 2.21, 1.0], [41.384, 2.126, 1.0], [41.352, 2.141, 1.0], [41.393, 2.168, 1.0], [41.429, 2.062, 1.0], [41.371, 2.154, 1.0], [41.442, 2.197, 1.0], [41.362, 2.146, 1.0], [41.391, 2.11, 1.0], [41.423, 2.123, 1.0], [41.407, 2.168, 1.0], [41.365, 2.152, 1.0], [41.386, 2.18, 1.0], [41.367, 2.174, 1.0], [41.432, 2.205, 1.0], [41.441, 2.199, 1.0], [41.382, 2.115, 1.0], [41.44, 2.202, 1.0], [41.4, 2.141, 1.0], [41.427, 2.156, 1.0], [41.407, 2.199, 1.0], [41.4, 2.188, 1.0], [41.442, 2.198, 1.0], [41.399, 2.199, 1.0], [41.337, 2.108, 1.0], [41.381, 2.164, 1.0], [41.38, 2.166, 1.0], [41.383, 2.186, 1.0], [41.329, 2.135, 1.0], [41.368, 2.133, 1.0], [41.398, 2.211, 1.0], [41.431, 2.199, 1.0], [41.38, 2.159, 1.0], [41.34, 2.125, 1.0], [41.34, 2.124, 1.0], [41.406, 2.124, 1.0], [41.407, 2.123, 1.0], [41.429, 2.138, 1.0], [41.436, 2.194, 1.0], [41.444, 2.173, 1.0], [41.398, 2.16, 1.0], [41.4, 2.166, 1.0], [41.406, 2.142, 1.0], [41.369, 2.134, 1.0], [41.404, 2.177, 1.0], [41.425, 2.148, 1.0], [41.38, 2.135, 1.0], [41.404, 2.138, 1.0], [41.372, 2.142, 1.0], [41.4, 2.136, 1.0], [41.406, 2.178, 1.0], [41.409, 2.221, 1.0], [41.393, 2.194, 1.0], [41.428, 2.114, 1.0], [41.428, 2.112, 1.0], [41.427, 2.109, 1.0], [41.426, 2.108, 1.0], [41.426, 2.107, 1.0], [41.428, 2.108, 1.0], [41.428, 2.107, 1.0], [41.429, 2.106, 1.0], [41.423, 2.108, 1.0], [41.421, 2.104, 1.0], [41.42, 2.1, 1.0], [41.429, 2.151, 1.0], [41.396, 2.188, 1.0], [41.333, 2.139, 1.0], [41.391, 2.193, 1.0], [41.33, 2.12, 1.0], [41.348, 2.148, 1.0], [41.391, 2.188, 1.0], [41.39, 2.189, 1.0], [41.387, 2.183, 1.0], [41.38, 2.176, 1.0], [41.401, 2.142, 1.0], [41.398, 2.201, 1.0], [41.41, 2.176, 1.0], [41.43, 2.142, 1.0], [41.403, 2.214, 1.0], [41.356, 2.139, 1.0], [41.402, 2.161, 1.0], [41.425, 2.16, 1.0], [41.435, 2.181, 1.0], [41.418, 2.092, 1.0], [41.418, 2.093, 1.0], [41.41, 2.096, 1.0], [41.446, 2.207, 1.0], [41.376, 2.156, 1.0], [41.392, 2.11, 1.0], [41.377, 2.139, 1.0], [41.427, 2.157, 1.0], [41.365, 2.148, 1.0], [41.407, 2.144, 1.0], [41.363, 2.182, 1.0], [41.419, 2.183, 1.0], [41.393, 2.173, 1.0], [41.389, 2.192, 1.0], [41.432, 2.178, 1.0], [41.427, 2.11, 1.0], [41.438, 2.183, 1.0], [41.405, 2.17, 1.0], [41.416, 2.125, 1.0], [41.407, 2.12, 1.0], [41.423, 2.094, 1.0], [41.377, 2.188, 1.0], [41.421, 2.197, 1.0], [41.425, 2.209, 1.0], [41.355, 2.154, 1.0], [41.402, 2.149, 1.0], [41.419, 2.171, 1.0], [41.413, 2.198, 1.0], [41.454, 2.193, 1.0], [41.398, 2.115, 1.0], [41.393, 2.115, 1.0], [41.44, 2.192, 1.0], [41.442, 2.185, 1.0], [41.432, 2.168, 1.0], [41.393, 2.174, 1.0], [41.403, 2.128, 1.0], [41.372, 2.155, 1.0], [41.36, 2.141, 1.0], [41.374, 2.168, 1.0], [41.42, 2.101, 1.0], [41.365, 2.151, 1.0], [41.383, 2.182, 1.0], [41.442, 2.182, 1.0], [41.439, 2.194, 1.0], [41.357, 2.136, 1.0], [41.401, 2.157, 1.0], [41.401, 2.156, 1.0], [41.396, 2.149, 1.0], [41.421, 2.094, 1.0], [41.377, 2.191, 1.0], [41.373, 2.188, 1.0], [41.368, 2.189, 1.0], [41.362, 2.168, 1.0], [41.368, 2.146, 1.0], [41.438, 2.194, 1.0], [41.334, 2.113, 1.0], [41.421, 2.181, 1.0], [41.334, 2.117, 1.0], [41.408, 2.145, 1.0], [41.424, 2.156, 1.0], [41.341, 2.115, 1.0], [41.356, 2.146, 1.0], [41.354, 2.137, 1.0], [41.409, 2.168, 1.0], [41.373, 2.166, 1.0], [41.401, 2.134, 1.0], [41.423, 2.182, 1.0], [41.36, 2.138, 1.0], [41.368, 2.141, 1.0], [41.443, 2.193, 1.0], [41.411, 2.154, 1.0], [41.381, 2.131, 1.0], [41.41, 2.199, 1.0], [41.427, 2.181, 1.0], [41.414, 2.153, 1.0], [41.444, 2.208, 1.0], [41.325, 2.12, 1.0], [41.412, 2.093, 1.0], [41.42, 2.102, 1.0], [41.421, 2.122, 1.0], [41.41, 2.177, 1.0], [41.405, 2.12, 1.0], [41.384, 2.184, 1.0], [41.429, 2.19, 1.0], [41.419, 2.097, 1.0], [41.419, 2.099, 1.0], [41.38, 2.178, 1.0], [41.394, 2.11, 1.0], [41.387, 2.117, 1.0], [41.43, 2.18, 1.0], [41.353, 2.143, 1.0], [41.428, 2.195, 1.0], [41.389, 2.178, 1.0], [41.38, 2.133, 1.0], [41.424, 2.175, 1.0], [41.41, 2.097, 1.0], [41.395, 2.109, 1.0], [41.369, 2.152, 1.0], [41.443, 2.189, 1.0], [41.397, 2.128, 1.0], [41.386, 2.108, 1.0], [41.34, 2.126, 1.0], [41.405, 2.116, 1.0], [41.379, 2.153, 1.0], [41.437, 2.203, 1.0], [41.391, 2.129, 1.0], [41.439, 2.18, 1.0], [41.454, 2.173, 1.0], [41.386, 2.111, 1.0], [41.402, 2.144, 1.0], [41.334, 2.136, 1.0], [41.371, 2.139, 1.0], [41.374, 2.134, 1.0], [41.356, 2.144, 1.0], [41.407, 2.196, 1.0], [41.406, 2.182, 1.0], [41.42, 2.155, 1.0], [41.454, 2.172, 1.0], [41.391, 2.196, 1.0], [41.463, 2.183, 1.0], [41.391, 2.105, 1.0], [41.435, 2.172, 1.0], [41.389, 2.106, 1.0], [41.402, 2.166, 1.0], [41.397, 2.198, 1.0], [41.419, 2.18, 1.0], [41.39, 2.202, 1.0], [41.396, 2.107, 1.0], [41.394, 2.109, 1.0], [41.386, 2.187, 1.0], [41.391, 2.111, 1.0], [41.417, 2.213, 1.0], [41.434, 2.145, 1.0], [41.428, 2.115, 1.0], [41.393, 2.181, 1.0], [41.376, 2.125, 1.0], [41.391, 2.113, 1.0], [41.362, 2.148, 1.0], [41.381, 2.13, 1.0], [41.428, 2.136, 1.0], [41.379, 2.127, 1.0], [41.371, 2.138, 1.0], [41.402, 2.181, 1.0], [41.393, 2.111, 1.0], [41.439, 2.167, 1.0], [41.393, 2.122, 1.0], [41.414, 2.199, 1.0], [41.42, 2.177, 1.0], [41.391, 2.13, 1.0], [41.412, 2.184, 1.0], [41.426, 2.21, 1.0], [41.439, 2.2, 1.0], [41.441, 2.187, 1.0], [41.381, 2.119, 1.0], [41.453, 2.179, 1.0], [41.432, 2.174, 1.0], [41.36, 2.136, 1.0], [41.419, 2.173, 1.0], [41.406, 2.137, 1.0], [41.347, 2.14, 1.0], [41.433, 2.163, 1.0], [41.392, 2.178, 1.0], [41.38, 2.128, 1.0], [41.396, 2.104, 1.0], [41.377, 2.111, 1.0], [41.4, 2.116, 1.0], [41.392, 2.128, 1.0], [41.393, 2.125, 1.0], [41.378, 2.144, 1.0], [41.428, 2.139, 1.0], [41.372, 2.16, 1.0], [41.428, 2.111, 1.0], [41.361, 2.139, 1.0], [41.403, 2.18, 1.0], [41.41, 2.188, 1.0], [41.37, 2.155, 1.0], [41.376, 2.172, 1.0], [41.354, 2.16, 1.0], [41.372, 2.138, 1.0], [41.435, 2.141, 1.0], [41.44, 2.2, 1.0], [41.367, 2.152, 1.0], [41.401, 2.18, 1.0], [41.353, 2.153, 1.0], [41.389, 2.189, 1.0], [41.41, 2.213, 1.0], [41.403, 2.211, 1.0], [41.402, 2.155, 1.0], [41.432, 2.186, 1.0], [41.367, 2.144, 1.0], [41.425, 2.125, 1.0], [41.405, 2.218, 1.0], [41.397, 2.211, 1.0], [41.389, 2.177, 1.0], [41.443, 2.206, 1.0], [41.422, 2.182, 1.0], [41.377, 2.181, 1.0], [41.412, 2.162, 1.0], [41.338, 2.138, 1.0], [41.389, 2.104, 1.0], [41.389, 2.141, 1.0], [41.42, 2.095, 1.0], [41.425, 2.107, 1.0], [41.355, 2.15, 1.0], [41.448, 2.186, 1.0], [41.409, 2.202, 1.0], [41.422, 2.175, 1.0], [41.395, 2.188, 1.0], [41.391, 2.112, 1.0], [41.401, 2.189, 1.0], [41.423, 2.107, 1.0], [41.395, 2.123, 1.0], [41.422, 2.123, 1.0], [41.422, 2.107, 1.0], [41.455, 2.173, 1.0], [41.372, 2.143, 1.0], [41.393, 2.154, 1.0], [41.405, 2.148, 1.0], [41.389, 2.196, 1.0], [41.437, 2.139, 1.0], [41.39, 2.122, 1.0], [41.36, 2.146, 1.0], [41.428, 2.163, 1.0], [41.432, 2.163, 1.0], [41.34, 2.116, 1.0], [41.393, 2.116, 1.0], [41.375, 2.138, 1.0], [41.398, 2.125, 1.0], [41.44, 2.145, 1.0], [41.389, 2.186, 1.0], [41.413, 2.123, 1.0], [41.397, 2.134, 1.0], [41.366, 2.147, 1.0], [41.402, 2.189, 1.0], [41.433, 2.166, 1.0], [41.427, 2.147, 1.0], [41.43, 2.163, 1.0], [41.427, 2.196, 1.0], [41.398, 2.112, 1.0], [41.406, 2.213, 1.0], [41.409, 2.181, 1.0], [41.402, 2.165, 1.0], [41.433, 2.19, 1.0], [41.345, 2.145, 1.0], [41.405, 2.158, 1.0], [41.434, 2.183, 1.0], [41.41, 2.095, 1.0], [41.426, 2.118, 1.0], [41.396, 2.153, 1.0], [41.437, 2.147, 1.0], [41.421, 2.105, 1.0], [41.372, 2.129, 1.0], [41.413, 2.221, 1.0], [41.341, 2.119, 1.0], [41.406, 2.204, 1.0], [41.382, 2.112, 1.0], [41.422, 2.138, 1.0], [41.397, 2.176, 1.0], [41.424, 2.161, 1.0], [41.367, 2.151, 1.0], [41.408, 2.195, 1.0], [41.407, 2.22, 1.0], [41.386, 2.153, 1.0], [41.407, 2.135, 1.0], [41.417, 2.176, 1.0], [41.404, 2.165, 1.0], [41.38, 2.188, 1.0], [41.421, 2.183, 1.0], [41.419, 2.182, 1.0], [41.43, 2.194, 1.0], [41.437, 2.146, 1.0], [41.424, 2.183, 1.0], [41.457, 2.174, 1.0], [41.438, 2.16, 1.0], [41.347, 2.134, 1.0], [41.41, 2.221, 1.0], [41.442, 2.196, 1.0], [41.376, 2.141, 1.0], [41.336, 2.131, 1.0], [41.401, 2.164, 1.0], [41.397, 2.175, 1.0], [41.428, 2.128, 1.0], [41.391, 2.152, 1.0], [41.444, 2.193, 1.0], [41.405, 2.198, 1.0], [41.432, 2.144, 1.0], [41.425, 2.115, 1.0], [41.346, 2.143, 1.0], [41.35, 2.15, 1.0], [41.441, 2.166, 1.0], [41.42, 2.192, 1.0], [41.367, 2.149, 1.0], [41.406, 2.219, 1.0], [41.382, 2.18, 1.0], [41.394, 2.132, 1.0], [41.447, 2.206, 1.0], [41.427, 2.114, 1.0], [41.406, 2.198, 1.0], [41.349, 2.151, 1.0], [41.399, 2.12, 1.0], [41.439, 2.162, 1.0], [41.387, 2.109, 1.0], [41.411, 2.168, 1.0], [41.375, 2.145, 1.0], [41.342, 2.13, 1.0], [41.443, 2.2, 1.0], [41.394, 2.139, 1.0], [41.412, 2.196, 1.0], [41.418, 2.159, 1.0], [41.425, 2.093, 1.0], [41.461, 2.183, 1.0], [41.435, 2.154, 1.0], [41.39, 2.196, 1.0], [41.403, 2.176, 1.0], [41.43, 2.147, 1.0], [41.407, 2.104, 1.0], [41.426, 2.152, 1.0], [41.39, 2.104, 1.0], [41.425, 2.182, 1.0], [41.439, 2.165, 1.0], [41.381, 2.154, 1.0], [41.378, 2.161, 1.0], [41.457, 2.189, 1.0], [41.404, 2.172, 1.0], [41.367, 2.135, 1.0], [41.43, 2.176, 1.0], [41.413, 2.163, 1.0], [41.43, 2.185, 1.0], [41.391, 2.114, 1.0], [41.427, 2.15, 1.0], [41.419, 2.098, 1.0], [41.429, 2.173, 1.0], [41.36, 2.149, 1.0], [41.412, 2.219, 1.0], [41.437, 2.152, 1.0], [41.42, 2.216, 1.0], [41.427, 2.16, 1.0], [41.353, 2.144, 1.0], [41.395, 2.106, 1.0], [41.406, 2.217, 1.0], [41.402, 2.142, 1.0], [41.393, 2.105, 1.0], [41.444, 2.197, 1.0], [41.391, 2.183, 1.0], [41.45, 2.196, 1.0], [41.438, 2.209, 1.0], [41.409, 2.113, 1.0], [41.392, 2.197, 1.0], [41.388, 2.111, 1.0], [41.435, 2.182, 1.0], [41.397, 2.13, 1.0], [41.406, 2.176, 1.0], [41.41, 2.131, 1.0], [41.391, 2.202, 1.0], [41.402, 2.136, 1.0], [41.419, 2.128, 1.0], [41.437, 2.135, 1.0], [41.409, 2.159, 1.0], [41.404, 2.171, 1.0], [41.451, 2.202, 1.0], [41.417, 2.098, 1.0], [41.379, 2.174, 1.0], [41.374, 2.133, 1.0], [41.379, 2.162, 1.0], [41.416, 2.184, 1.0], [41.406, 2.218, 1.0], [41.423, 2.211, 1.0], [41.374, 2.145, 1.0], [41.376, 2.169, 1.0], [41.395, 2.107, 1.0], [41.35, 2.147, 1.0], [41.373, 2.134, 1.0], [41.417, 2.214, 1.0], [41.414, 2.193, 1.0], [41.439, 2.177, 1.0], [41.425, 2.159, 1.0], [41.397, 2.201, 1.0], [41.393, 2.136, 1.0], [41.402, 2.169, 1.0], [41.424, 2.093, 1.0], [41.442, 2.192, 1.0], [41.379, 2.173, 1.0], [41.439, 2.163, 1.0], [41.426, 2.133, 1.0], [41.36, 2.176, 1.0], [41.413, 2.175, 1.0], [41.425, 2.094, 1.0], [41.443, 2.199, 1.0], [41.431, 2.152, 1.0], [41.352, 2.153, 1.0], [41.386, 2.109, 1.0], [41.418, 2.176, 1.0], [41.369, 2.163, 1.0], [41.424, 2.169, 1.0], [41.431, 2.128, 1.0], [41.4, 2.184, 1.0], [41.365, 2.158, 1.0], [41.444, 2.172, 1.0], [41.328, 2.122, 1.0], [41.436, 2.198, 1.0], [41.401, 2.112, 1.0], [41.418, 2.115, 1.0], [41.42, 2.083, 1.0], [41.371, 2.147, 1.0], [41.413, 2.179, 1.0], [41.467, 2.187, 1.0], [41.388, 2.179, 1.0], [41.421, 2.208, 1.0], [41.415, 2.199, 1.0], [41.425, 2.19, 1.0], [41.385, 2.146, 1.0], [41.416, 2.092, 1.0], [41.442, 2.166, 1.0], [41.448, 2.205, 1.0], [41.441, 2.193, 1.0], [41.441, 2.207, 1.0], [41.369, 2.143, 1.0], [41.363, 2.144, 1.0], [41.43, 2.146, 1.0], [41.404, 2.122, 1.0], [41.452, 2.178, 1.0], [41.389, 2.182, 1.0], [41.434, 2.077, 1.0], [41.411, 2.17, 1.0], [41.403, 2.117, 1.0], [41.437, 2.18, 1.0], [41.453, 2.171, 1.0], [41.382, 2.105, 1.0], [41.458, 2.173, 1.0], [41.358, 2.179, 1.0], [41.409, 2.13, 1.0], [41.409, 2.11, 1.0], [41.426, 2.191, 1.0], [41.397, 2.186, 1.0], [41.395, 2.172, 1.0], [41.405, 2.204, 1.0], [41.408, 2.143, 1.0], [41.451, 2.192, 1.0], [41.423, 2.205, 1.0], [41.431, 2.085, 1.0], [41.404, 2.153, 1.0], [41.396, 2.13, 1.0], [41.379, 2.114, 1.0], [41.411, 2.131, 1.0], [41.407, 2.143, 1.0], [41.441, 2.155, 1.0], [41.412, 2.189, 1.0], [41.423, 2.186, 1.0], [41.379, 2.166, 1.0], [41.403, 2.113, 1.0], [41.365, 2.15, 1.0], [41.424, 2.2, 1.0], [41.418, 2.13, 1.0], [41.368, 2.136, 1.0], [41.401, 2.153, 1.0], [41.38, 2.154, 1.0], [41.456, 2.173, 1.0], [41.382, 2.134, 1.0], [41.42, 2.198, 1.0], [41.428, 2.189, 1.0], [41.428, 2.174, 1.0], [41.413, 2.186, 1.0], [41.373, 2.162, 1.0], [41.431, 2.133, 1.0], [41.436, 2.202, 1.0], [41.442, 2.181, 1.0], [41.417, 2.142, 1.0], [41.419, 2.181, 1.0], [41.405, 2.165, 1.0], [41.424, 2.162, 1.0], [41.393, 2.196, 1.0], [41.434, 2.135, 1.0], [41.424, 2.108, 1.0], [41.436, 2.172, 1.0], [41.337, 2.128, 1.0], [41.384, 2.167, 1.0], [41.354, 2.146, 1.0], [41.345, 2.139, 1.0], [41.37, 2.144, 1.0], [41.428, 2.167, 1.0], [41.373, 2.145, 1.0], [41.409, 2.175, 1.0], [41.353, 2.139, 1.0], [41.425, 2.168, 1.0], [41.408, 2.217, 1.0], [41.425, 2.169, 1.0], [41.409, 2.203, 1.0], [41.416, 2.208, 1.0], [41.423, 2.169, 1.0], [41.409, 2.212, 1.0], [41.409, 2.211, 1.0], [41.409, 2.21, 1.0], [41.419, 2.169, 1.0], [41.42, 2.171, 1.0], [41.418, 2.175, 1.0], [41.415, 2.205, 1.0], [41.416, 2.207, 1.0], [41.411, 2.093, 1.0], [41.41, 2.092, 1.0], [41.427, 2.091, 1.0], [41.45, 2.199, 1.0], [41.433, 2.148, 1.0], [41.403, 2.163, 1.0], [41.407, 2.21, 1.0], [41.439, 2.169, 1.0], [41.387, 2.185, 1.0], [41.419, 2.178, 1.0], [41.435, 2.149, 1.0], [41.425, 2.179, 1.0], [41.428, 2.152, 1.0], [41.41, 2.122, 1.0], [41.363, 2.147, 1.0], [41.444, 2.194, 1.0], [41.396, 2.182, 1.0], [41.425, 2.161, 1.0], [41.43, 2.156, 1.0], [41.422, 2.184, 1.0], [41.433, 2.173, 1.0], [41.418, 2.161, 1.0], [41.41, 2.151, 1.0], [41.409, 2.189, 1.0], [41.408, 2.133, 1.0], [41.411, 2.171, 1.0], [41.374, 2.132, 1.0], [41.41, 2.105, 1.0], [41.388, 2.116, 1.0], [41.402, 2.143, 1.0], [41.425, 2.131, 1.0], [41.435, 2.153, 1.0], [41.412, 2.193, 1.0], [41.379, 2.128, 1.0], [41.38, 2.136, 1.0], [41.455, 2.196, 1.0], [41.451, 2.201, 1.0], [41.351, 2.158, 1.0], [41.439, 2.17, 1.0], [41.386, 2.182, 1.0], [41.4, 2.163, 1.0], [41.396, 2.111, 1.0], [41.431, 2.158, 1.0], [41.373, 2.141, 1.0], [41.436, 2.076, 1.0], [41.426, 2.19, 1.0], [41.415, 2.197, 1.0], [41.418, 2.095, 1.0], [41.431, 2.14, 1.0], [41.436, 2.139, 1.0], [41.434, 2.208, 1.0], [41.416, 2.205, 1.0], [41.429, 2.086, 1.0], [41.434, 2.153, 1.0], [41.416, 2.111, 1.0], [41.436, 2.143, 1.0], [41.431, 2.157, 1.0], [41.432, 2.077, 1.0], [41.419, 2.096, 1.0], [41.412, 2.214, 1.0], [41.427, 2.135, 1.0], [41.405, 2.186, 1.0], [41.428, 2.137, 1.0], [41.431, 2.139, 1.0], [41.433, 2.139, 1.0], [41.39, 2.13, 1.0], [41.436, 2.137, 1.0], [41.432, 2.155, 1.0], [41.437, 2.136, 1.0], [41.404, 2.212, 1.0], [41.41, 2.202, 1.0], [41.428, 2.173, 1.0], [41.422, 2.17, 1.0], [41.379, 2.13, 1.0], [41.427, 2.153, 1.0], [41.409, 2.137, 1.0], [41.381, 2.167, 1.0], [41.339, 2.117, 1.0], [41.428, 2.127, 1.0], [41.456, 2.19, 1.0], [41.41, 2.16, 1.0], [41.357, 2.144, 1.0], [41.42, 2.082, 1.0], [41.41, 2.167, 1.0], [41.395, 2.198, 1.0], [41.366, 2.152, 1.0], [41.389, 2.145, 1.0], [41.383, 2.193, 1.0], [41.383, 2.154, 1.0], [41.414, 2.146, 1.0], [41.451, 2.2, 1.0], [41.414, 2.159, 1.0], [41.439, 2.172, 1.0], [41.415, 2.217, 1.0], [41.387, 2.107, 1.0], [41.365, 2.154, 1.0], [41.415, 2.204, 1.0], [41.397, 2.136, 1.0], [41.384, 2.16, 1.0], [41.443, 2.188, 1.0], [41.464, 2.187, 1.0], [41.41, 2.163, 1.0], [41.378, 2.173, 1.0], [41.385, 2.182, 1.0], [41.345, 2.126, 1.0], [41.408, 2.173, 1.0], [41.427, 2.151, 1.0], [41.401, 2.16, 1.0], [41.408, 2.205, 1.0], [41.445, 2.204, 1.0], [41.38, 2.179, 1.0], [41.403, 2.141, 1.0], [41.417, 2.1, 1.0], [41.43, 2.155, 1.0], [41.429, 2.193, 1.0], [41.428, 2.183, 1.0], [41.385, 2.191, 1.0], [41.413, 2.105, 1.0], [41.395, 2.163, 1.0], [41.391, 2.117, 1.0], [41.403, 2.164, 1.0], [41.411, 2.176, 1.0], [41.379, 2.125, 1.0], [41.408, 2.208, 1.0], [41.439, 2.175, 1.0], [41.395, 2.144, 1.0], [41.44, 2.174, 1.0], [41.442, 2.173, 1.0], [41.376, 2.162, 1.0], [41.383, 2.192, 1.0], [41.39, 2.113, 1.0], [41.373, 2.152, 1.0], [41.394, 2.105, 1.0], [41.354, 2.149, 1.0], [41.42, 2.169, 1.0], [41.419, 2.167, 1.0], [41.42, 2.167, 1.0], [41.418, 2.166, 1.0], [41.419, 2.163, 1.0], [41.419, 2.162, 1.0], [41.439, 2.191, 1.0], [41.419, 2.165, 1.0], [41.423, 2.181, 1.0], [41.438, 2.191, 1.0], [41.438, 2.189, 1.0], [41.356, 2.141, 1.0], [41.417, 2.127, 1.0], [41.424, 2.129, 1.0], [41.391, 2.119, 1.0], [41.394, 2.199, 1.0], [41.413, 2.192, 1.0], [41.349, 2.138, 1.0], [41.387, 2.18, 1.0], [41.427, 2.182, 1.0], [41.398, 2.156, 1.0], [41.418, 2.195, 1.0], [41.401, 2.149, 1.0], [41.409, 2.215, 1.0], [41.439, 2.147, 1.0], [41.406, 2.169, 1.0], [41.342, 2.145, 1.0], [41.433, 2.142, 1.0], [41.374, 2.164, 1.0], [41.416, 2.183, 1.0], [41.416, 2.215, 1.0], [41.377, 2.112, 1.0], [41.382, 2.107, 1.0], [41.362, 2.155, 1.0], [41.394, 2.144, 1.0], [41.395, 2.137, 1.0], [41.381, 2.121, 1.0], [41.432, 2.078, 1.0], [41.427, 2.107, 1.0], [41.362, 2.177, 1.0], [41.417, 2.172, 1.0], [41.39, 2.197, 1.0], [41.426, 2.114, 1.0], [41.394, 2.119, 1.0], [41.377, 2.135, 1.0], [41.411, 2.189, 1.0], [41.395, 2.133, 1.0], [41.447, 2.179, 1.0], [41.363, 2.138, 1.0], [41.423, 2.139, 1.0], [41.42, 2.125, 1.0], [41.337, 2.114, 1.0], [41.384, 2.115, 1.0], [41.434, 2.194, 1.0], [41.429, 2.181, 1.0], [41.396, 2.112, 1.0], [41.423, 2.171, 1.0], [41.423, 2.172, 1.0], [41.383, 2.19, 1.0], [41.409, 2.132, 1.0], [41.411, 2.206, 1.0], [41.421, 2.096, 1.0], [41.408, 2.114, 1.0], [41.406, 2.171, 1.0], [41.419, 2.126, 1.0], [41.419, 2.161, 1.0], [41.378, 2.177, 1.0], [41.417, 2.215, 1.0], [41.44, 2.187, 1.0], [41.333, 2.122, 1.0], [41.387, 2.161, 1.0], [41.446, 2.191, 1.0], [41.431, 2.195, 1.0], [41.408, 2.131, 1.0], [41.372, 2.149, 1.0], [41.441, 2.178, 1.0], [41.439, 2.181, 1.0], [41.412, 2.215, 1.0], [41.419, 2.197, 1.0], [41.425, 2.133, 1.0], [41.397, 2.142, 1.0], [41.443, 2.209, 1.0], [41.442, 2.188, 1.0], [41.421, 2.199, 1.0], [41.37, 2.159, 1.0], [41.361, 2.181, 1.0], [41.407, 2.113, 1.0], [41.417, 2.102, 1.0], [41.413, 2.134, 1.0], [41.412, 2.169, 1.0], [41.403, 2.169, 1.0], [41.398, 2.111, 1.0], [41.413, 2.184, 1.0], [41.398, 2.178, 1.0], [41.434, 2.21, 1.0], [41.386, 2.107, 1.0], [41.362, 2.153, 1.0], [41.434, 2.187, 1.0], [41.418, 2.126, 1.0], [41.381, 2.166, 1.0], [41.393, 2.2, 1.0], [41.386, 2.191, 1.0], [41.38, 2.125, 1.0], [41.426, 2.196, 1.0], [41.363, 2.14, 1.0], [41.436, 2.155, 1.0], [41.384, 2.144, 1.0], [41.429, 2.061, 1.0], [41.365, 2.155, 1.0], [41.399, 2.116, 1.0], [41.412, 2.178, 1.0], [41.41, 2.152, 1.0], [41.403, 2.12, 1.0], [41.411, 2.222, 1.0], [41.412, 2.133, 1.0], [41.411, 2.132, 1.0], [41.401, 2.133, 1.0], [41.384, 2.193, 1.0], [41.425, 2.186, 1.0], [41.414, 2.177, 1.0], [41.395, 2.146, 1.0], [41.34, 2.111, 1.0], [41.422, 2.117, 1.0], [41.439, 2.178, 1.0], [41.42, 2.149, 1.0], [41.416, 2.098, 1.0], [41.384, 2.186, 1.0], [41.412, 2.142, 1.0], [41.421, 2.184, 1.0], [41.441, 2.197, 1.0], [41.427, 2.09, 1.0], [41.434, 2.186, 1.0], [41.326, 2.123, 1.0], [41.343, 2.132, 1.0], [41.427, 2.191, 1.0], [41.427, 2.179, 1.0], [41.4, 2.109, 1.0], [41.405, 2.201, 1.0], [41.404, 2.115, 1.0], [41.413, 2.194, 1.0], [41.435, 2.163, 1.0], [41.399, 2.124, 1.0], [41.38, 2.173, 1.0], [41.368, 2.161, 1.0], [41.447, 2.18, 1.0], [41.409, 2.123, 1.0], [41.411, 2.16, 1.0], [41.393, 2.11, 1.0], [41.411, 2.181, 1.0], [41.44, 2.181, 1.0], [41.384, 2.158, 1.0], [41.458, 2.17, 1.0], [41.43, 2.173, 1.0], [41.408, 2.207, 1.0], [41.404, 2.116, 1.0], [41.406, 2.123, 1.0], [41.434, 2.151, 1.0], [41.433, 2.189, 1.0], [41.397, 2.167, 1.0], [41.374, 2.141, 1.0], [41.373, 2.136, 1.0], [41.411, 2.124, 1.0], [41.406, 2.214, 1.0], [41.408, 2.194, 1.0], [41.424, 2.199, 1.0], [41.398, 2.117, 1.0], [41.426, 2.106, 1.0], [41.418, 2.18, 1.0], [41.369, 2.165, 1.0], [41.4, 2.19, 1.0], [41.436, 2.15, 1.0], [41.358, 2.145, 1.0], [41.394, 2.2, 1.0], [41.42, 2.152, 1.0], [41.389, 2.179, 1.0], [41.387, 2.187, 1.0], [41.442, 2.208, 1.0], [41.39, 2.118, 1.0], [41.408, 2.129, 1.0], [41.419, 2.102, 1.0], [41.396, 2.202, 1.0], [41.43, 2.191, 1.0], [41.416, 2.182, 1.0], [41.392, 2.148, 1.0], [41.386, 2.129, 1.0], [41.459, 2.183, 1.0], [41.439, 2.144, 1.0], [41.432, 2.193, 1.0], [41.44, 2.19, 1.0], [41.36, 2.15, 1.0], [41.434, 2.149, 1.0]],\n",
              "                {&quot;blur&quot;: 15, &quot;maxZoom&quot;: 18, &quot;minOpacity&quot;: 0.5, &quot;radius&quot;: 12}\n",
              "            ).addTo(map_eaaf7beee10fe9762db8f2c5f1d702f3);\n",
              "        \n",
              "&lt;/script&gt;\n",
              "&lt;/html&gt;\" style=\"position:absolute;width:100%;height:100%;left:0;top:0;border:none !important;\" allowfullscreen webkitallowfullscreen mozallowfullscreen></iframe></div></div>"
            ]
          },
          "metadata": {},
          "execution_count": 45
        }
      ]
    },
    {
      "cell_type": "code",
      "metadata": {
        "id": "5ce6H4FXyXBE",
        "colab": {
          "base_uri": "https://localhost:8080/"
        },
        "outputId": "98329785-7cfe-47f6-b98f-a8b7d7204808"
      },
      "source": [
        "pipeline = [{ '$group':{ \n",
        "                  '_id' : { 'lat': '$Lat' , 'lon' : '$Lng', 'hour' : '$Hour'}\n",
        "                  ,'lat' : {'$max' : '$Lat'}\n",
        "                  ,'lon' : {'$max' : '$Lng'}\n",
        "                  ,'hour': {'$max' : '$Hour'}\n",
        "                  ,'Total' : {'$sum' : 1}\n",
        "                  }\n",
        "            },\n",
        "            { '$match':{\n",
        "                  'hour' : 21\n",
        "                  }\n",
        "            },\n",
        "            { '$project': \n",
        "                  { '_id' : 0,\n",
        "                    'lat' : 1,\n",
        "                    'lon' : 1,\n",
        "                    'hour' : 1,\n",
        "                    'Total' : 1}\n",
        "            },\n",
        "            { '$sort': {'Total' : -1}\n",
        "            }\n",
        "            ]\n",
        "\n",
        "query = list ( collection.aggregate( pipeline ) ) \n",
        "df = pd.DataFrame(query)\n",
        "query[0]"
      ],
      "execution_count": 46,
      "outputs": [
        {
          "output_type": "execute_result",
          "data": {
            "text/plain": [
              "{'lat': 41.382, 'lon': 2.132, 'hour': 21, 'Total': 73}"
            ]
          },
          "metadata": {},
          "execution_count": 46
        }
      ]
    },
    {
      "cell_type": "code",
      "metadata": {
        "id": "50TxLp89UkW8",
        "colab": {
          "base_uri": "https://localhost:8080/"
        },
        "outputId": "77f64f61-c803-484f-c36c-489678599d8f"
      },
      "source": [
        "print ( \"lat \" + str ( float(df.loc[0]['lat']) ) )\n",
        "print ( \"lng \" + str ( float(df.loc[0]['lon']) ) )\n",
        "print ( \"totals \" + str ( float(df.loc[0]['Total']) ))\n",
        "# extract lat, lon, and magnitude for the folium heatmap\n",
        "longitud  = len( df )\n",
        "lats = []\n",
        "lngs = []\n",
        "totals = []\n",
        "for i in range ( longitud ):\n",
        "    lats.append ( float(df.loc[i]['lat']) )\n",
        "    lngs.append ( float(df.loc[i]['lon']) )\n",
        "    totals.append(float(df.loc[i]['Total']) )"
      ],
      "execution_count": 47,
      "outputs": [
        {
          "output_type": "stream",
          "name": "stdout",
          "text": [
            "lat 41.382\n",
            "lng 2.132\n",
            "totals 73.0\n"
          ]
        }
      ]
    },
    {
      "cell_type": "code",
      "metadata": {
        "id": "k_M2yk4zIhbb",
        "colab": {
          "base_uri": "https://localhost:8080/",
          "height": 750
        },
        "outputId": "d2fa5731-42f6-4e77-a679-b162dedb9a11"
      },
      "source": [
        "center_lat = 41.388\n",
        "center_lon = 2.159\n",
        "\n",
        "locationmap = folium.Map(location=[ center_lat , center_lon ], zoom_start=13, width=800, height=600 )\n",
        "locationmap.add_child(plugins.HeatMap(zip(lats, lngs, totals), radius = 12))\n",
        "\n",
        "locationmap"
      ],
      "execution_count": 48,
      "outputs": [
        {
          "output_type": "execute_result",
          "data": {
            "text/plain": [
              "<folium.folium.Map at 0x7fe17c92d580>"
            ],
            "text/html": [
              "<div style=\"width:100%;\"><div style=\"position:relative;width:100%;height:0;padding-bottom:60%;\"><span style=\"color:#565656\">Make this Notebook Trusted to load map: File -> Trust Notebook</span><iframe srcdoc=\"&lt;!DOCTYPE html&gt;\n",
              "&lt;html&gt;\n",
              "&lt;head&gt;\n",
              "    \n",
              "    &lt;meta http-equiv=&quot;content-type&quot; content=&quot;text/html; charset=UTF-8&quot; /&gt;\n",
              "    \n",
              "        &lt;script&gt;\n",
              "            L_NO_TOUCH = false;\n",
              "            L_DISABLE_3D = false;\n",
              "        &lt;/script&gt;\n",
              "    \n",
              "    &lt;style&gt;html, body {width: 100%;height: 100%;margin: 0;padding: 0;}&lt;/style&gt;\n",
              "    &lt;style&gt;#map {position:absolute;top:0;bottom:0;right:0;left:0;}&lt;/style&gt;\n",
              "    &lt;script src=&quot;https://cdn.jsdelivr.net/npm/leaflet@1.6.0/dist/leaflet.js&quot;&gt;&lt;/script&gt;\n",
              "    &lt;script src=&quot;https://code.jquery.com/jquery-1.12.4.min.js&quot;&gt;&lt;/script&gt;\n",
              "    &lt;script src=&quot;https://maxcdn.bootstrapcdn.com/bootstrap/3.2.0/js/bootstrap.min.js&quot;&gt;&lt;/script&gt;\n",
              "    &lt;script src=&quot;https://cdnjs.cloudflare.com/ajax/libs/Leaflet.awesome-markers/2.0.2/leaflet.awesome-markers.js&quot;&gt;&lt;/script&gt;\n",
              "    &lt;link rel=&quot;stylesheet&quot; href=&quot;https://cdn.jsdelivr.net/npm/leaflet@1.6.0/dist/leaflet.css&quot;/&gt;\n",
              "    &lt;link rel=&quot;stylesheet&quot; href=&quot;https://maxcdn.bootstrapcdn.com/bootstrap/3.2.0/css/bootstrap.min.css&quot;/&gt;\n",
              "    &lt;link rel=&quot;stylesheet&quot; href=&quot;https://maxcdn.bootstrapcdn.com/bootstrap/3.2.0/css/bootstrap-theme.min.css&quot;/&gt;\n",
              "    &lt;link rel=&quot;stylesheet&quot; href=&quot;https://maxcdn.bootstrapcdn.com/font-awesome/4.6.3/css/font-awesome.min.css&quot;/&gt;\n",
              "    &lt;link rel=&quot;stylesheet&quot; href=&quot;https://cdnjs.cloudflare.com/ajax/libs/Leaflet.awesome-markers/2.0.2/leaflet.awesome-markers.css&quot;/&gt;\n",
              "    &lt;link rel=&quot;stylesheet&quot; href=&quot;https://cdn.jsdelivr.net/gh/python-visualization/folium/folium/templates/leaflet.awesome.rotate.min.css&quot;/&gt;\n",
              "    \n",
              "            &lt;meta name=&quot;viewport&quot; content=&quot;width=device-width,\n",
              "                initial-scale=1.0, maximum-scale=1.0, user-scalable=no&quot; /&gt;\n",
              "            &lt;style&gt;\n",
              "                #map_adeff6af8bb31c4152a2c2b99b962f65 {\n",
              "                    position: relative;\n",
              "                    width: 800.0px;\n",
              "                    height: 600.0px;\n",
              "                    left: 0.0%;\n",
              "                    top: 0.0%;\n",
              "                }\n",
              "            &lt;/style&gt;\n",
              "        \n",
              "    &lt;script src=&quot;https://cdn.jsdelivr.net/gh/python-visualization/folium@master/folium/templates/leaflet_heat.min.js&quot;&gt;&lt;/script&gt;\n",
              "&lt;/head&gt;\n",
              "&lt;body&gt;\n",
              "    \n",
              "    \n",
              "            &lt;div class=&quot;folium-map&quot; id=&quot;map_adeff6af8bb31c4152a2c2b99b962f65&quot; &gt;&lt;/div&gt;\n",
              "        \n",
              "&lt;/body&gt;\n",
              "&lt;script&gt;\n",
              "    \n",
              "    \n",
              "            var map_adeff6af8bb31c4152a2c2b99b962f65 = L.map(\n",
              "                &quot;map_adeff6af8bb31c4152a2c2b99b962f65&quot;,\n",
              "                {\n",
              "                    center: [41.388, 2.159],\n",
              "                    crs: L.CRS.EPSG3857,\n",
              "                    zoom: 13,\n",
              "                    zoomControl: true,\n",
              "                    preferCanvas: false,\n",
              "                }\n",
              "            );\n",
              "\n",
              "            \n",
              "\n",
              "        \n",
              "    \n",
              "            var tile_layer_0f49b3e08237bf4a7a55499eef196afe = L.tileLayer(\n",
              "                &quot;https://{s}.tile.openstreetmap.org/{z}/{x}/{y}.png&quot;,\n",
              "                {&quot;attribution&quot;: &quot;Data by \\u0026copy; \\u003ca href=\\&quot;http://openstreetmap.org\\&quot;\\u003eOpenStreetMap\\u003c/a\\u003e, under \\u003ca href=\\&quot;http://www.openstreetmap.org/copyright\\&quot;\\u003eODbL\\u003c/a\\u003e.&quot;, &quot;detectRetina&quot;: false, &quot;maxNativeZoom&quot;: 18, &quot;maxZoom&quot;: 18, &quot;minZoom&quot;: 0, &quot;noWrap&quot;: false, &quot;opacity&quot;: 1, &quot;subdomains&quot;: &quot;abc&quot;, &quot;tms&quot;: false}\n",
              "            ).addTo(map_adeff6af8bb31c4152a2c2b99b962f65);\n",
              "        \n",
              "    \n",
              "            var heat_map_da85b9bca8926c75922fd67c896a1830 = L.heatLayer(\n",
              "                [[41.382, 2.132, 73.0], [41.387, 2.146, 59.0], [41.377, 2.15, 51.0], [41.406, 2.169, 51.0], [41.399, 2.204, 47.0], [41.426, 2.16, 43.0], [41.399, 2.148, 41.0], [41.386, 2.139, 39.0], [41.384, 2.134, 37.0], [41.417, 2.17, 35.0], [41.399, 2.149, 32.0], [41.4, 2.149, 32.0], [41.382, 2.131, 32.0], [41.386, 2.14, 31.0], [41.413, 2.169, 28.0], [41.418, 2.205, 27.0], [41.402, 2.207, 27.0], [41.381, 2.191, 27.0], [41.413, 2.183, 25.0], [41.414, 2.217, 25.0], [41.386, 2.146, 24.0], [41.401, 2.207, 24.0], [41.403, 2.207, 23.0], [41.4, 2.148, 23.0], [41.403, 2.206, 23.0], [41.433, 2.155, 22.0], [41.409, 2.176, 21.0], [41.385, 2.138, 20.0], [41.401, 2.206, 19.0], [41.4, 2.203, 18.0], [41.381, 2.124, 17.0], [41.41, 2.17, 17.0], [41.406, 2.147, 17.0], [41.381, 2.123, 17.0], [41.378, 2.15, 16.0], [41.381, 2.122, 16.0], [41.406, 2.17, 16.0], [41.39, 2.162, 16.0], [41.381, 2.192, 15.0], [41.414, 2.218, 15.0], [41.375, 2.15, 15.0], [41.434, 2.149, 14.0], [41.433, 2.163, 14.0], [41.391, 2.151, 14.0], [41.382, 2.122, 13.0], [41.412, 2.171, 13.0], [41.424, 2.187, 13.0], [41.39, 2.168, 13.0], [41.436, 2.16, 12.0], [41.391, 2.137, 12.0], [41.437, 2.162, 12.0], [41.434, 2.163, 12.0], [41.399, 2.203, 12.0], [41.417, 2.196, 12.0], [41.395, 2.203, 11.0], [41.435, 2.161, 11.0], [41.417, 2.212, 11.0], [41.383, 2.139, 11.0], [41.436, 2.159, 10.0], [41.405, 2.21, 10.0], [41.406, 2.206, 10.0], [41.425, 2.165, 10.0], [41.417, 2.213, 10.0], [41.388, 2.167, 10.0], [41.382, 2.136, 9.0], [41.374, 2.136, 9.0], [41.381, 2.183, 9.0], [41.41, 2.144, 9.0], [41.436, 2.193, 9.0], [41.393, 2.138, 9.0], [41.384, 2.175, 9.0], [41.402, 2.205, 9.0], [41.393, 2.139, 9.0], [41.43, 2.173, 9.0], [41.401, 2.2, 9.0], [41.426, 2.18, 9.0], [41.385, 2.137, 9.0], [41.435, 2.162, 8.0], [41.383, 2.134, 8.0], [41.425, 2.16, 8.0], [41.387, 2.175, 8.0], [41.38, 2.139, 8.0], [41.43, 2.177, 8.0], [41.39, 2.133, 8.0], [41.382, 2.163, 8.0], [41.388, 2.16, 8.0], [41.382, 2.123, 8.0], [41.384, 2.178, 8.0], [41.376, 2.151, 8.0], [41.404, 2.196, 8.0], [41.398, 2.149, 8.0], [41.407, 2.147, 8.0], [41.386, 2.178, 8.0], [41.38, 2.137, 8.0], [41.431, 2.167, 7.0], [41.43, 2.179, 7.0], [41.43, 2.174, 7.0], [41.43, 2.175, 7.0], [41.376, 2.15, 7.0], [41.405, 2.209, 7.0], [41.405, 2.168, 7.0], [41.384, 2.176, 7.0], [41.371, 2.144, 7.0], [41.375, 2.148, 7.0], [41.431, 2.183, 7.0], [41.411, 2.185, 7.0], [41.377, 2.152, 7.0], [41.383, 2.177, 7.0], [41.38, 2.123, 7.0], [41.375, 2.136, 7.0], [41.395, 2.204, 7.0], [41.393, 2.145, 7.0], [41.379, 2.139, 7.0], [41.387, 2.161, 7.0], [41.391, 2.158, 7.0], [41.416, 2.138, 7.0], [41.419, 2.204, 7.0], [41.389, 2.132, 7.0], [41.404, 2.197, 7.0], [41.381, 2.137, 7.0], [41.378, 2.153, 7.0], [41.381, 2.184, 7.0], [41.378, 2.151, 7.0], [41.431, 2.166, 6.0], [41.382, 2.177, 6.0], [41.37, 2.189, 6.0], [41.389, 2.167, 6.0], [41.389, 2.133, 6.0], [41.382, 2.147, 6.0], [41.384, 2.18, 6.0], [41.381, 2.174, 6.0], [41.394, 2.135, 6.0], [41.391, 2.161, 6.0], [41.394, 2.128, 6.0], [41.413, 2.17, 6.0], [41.43, 2.178, 6.0], [41.398, 2.203, 6.0], [41.384, 2.182, 6.0], [41.376, 2.163, 6.0], [41.385, 2.162, 6.0], [41.376, 2.136, 6.0], [41.381, 2.142, 6.0], [41.391, 2.198, 6.0], [41.384, 2.179, 6.0], [41.391, 2.169, 6.0], [41.381, 2.121, 6.0], [41.376, 2.138, 6.0], [41.385, 2.116, 6.0], [41.431, 2.169, 6.0], [41.435, 2.153, 6.0], [41.397, 2.162, 6.0], [41.384, 2.131, 6.0], [41.426, 2.159, 6.0], [41.37, 2.143, 6.0], [41.444, 2.187, 6.0], [41.392, 2.143, 6.0], [41.398, 2.205, 6.0], [41.385, 2.176, 6.0], [41.388, 2.126, 6.0], [41.386, 2.166, 6.0], [41.385, 2.113, 6.0], [41.399, 2.17, 6.0], [41.383, 2.187, 6.0], [41.387, 2.169, 6.0], [41.43, 2.172, 5.0], [41.379, 2.19, 5.0], [41.43, 2.161, 5.0], [41.417, 2.19, 5.0], [41.403, 2.154, 5.0], [41.392, 2.136, 5.0], [41.401, 2.213, 5.0], [41.39, 2.132, 5.0], [41.434, 2.162, 5.0], [41.383, 2.137, 5.0], [41.415, 2.143, 5.0], [41.433, 2.15, 5.0], [41.405, 2.181, 5.0], [41.403, 2.14, 5.0], [41.411, 2.197, 5.0], [41.356, 2.14, 5.0], [41.375, 2.17, 5.0], [41.402, 2.137, 5.0], [41.399, 2.168, 5.0], [41.406, 2.179, 5.0], [41.393, 2.131, 5.0], [41.409, 2.144, 5.0], [41.401, 2.201, 5.0], [41.382, 2.128, 5.0], [41.368, 2.165, 5.0], [41.431, 2.164, 5.0], [41.4, 2.16, 5.0], [41.388, 2.166, 5.0], [41.417, 2.189, 5.0], [41.386, 2.118, 5.0], [41.386, 2.117, 5.0], [41.377, 2.179, 5.0], [41.383, 2.133, 5.0], [41.387, 2.147, 5.0], [41.405, 2.189, 5.0], [41.389, 2.159, 5.0], [41.385, 2.16, 5.0], [41.387, 2.123, 5.0], [41.383, 2.138, 5.0], [41.38, 2.156, 5.0], [41.355, 2.16, 5.0], [41.409, 2.215, 5.0], [41.41, 2.218, 5.0], [41.422, 2.187, 5.0], [41.386, 2.184, 5.0], [41.385, 2.184, 5.0], [41.389, 2.139, 5.0], [41.394, 2.203, 5.0], [41.385, 2.115, 5.0], [41.369, 2.164, 5.0], [41.375, 2.168, 5.0], [41.38, 2.155, 5.0], [41.419, 2.181, 5.0], [41.392, 2.138, 5.0], [41.381, 2.19, 5.0], [41.385, 2.143, 5.0], [41.385, 2.164, 5.0], [41.41, 2.217, 5.0], [41.437, 2.153, 5.0], [41.382, 2.182, 5.0], [41.393, 2.146, 5.0], [41.433, 2.149, 5.0], [41.43, 2.181, 4.0], [41.43, 2.176, 4.0], [41.38, 2.193, 4.0], [41.394, 2.157, 4.0], [41.39, 2.137, 4.0], [41.394, 2.136, 4.0], [41.392, 2.171, 4.0], [41.398, 2.185, 4.0], [41.384, 2.183, 4.0], [41.412, 2.18, 4.0], [41.388, 2.17, 4.0], [41.381, 2.132, 4.0], [41.425, 2.209, 4.0], [41.405, 2.196, 4.0], [41.402, 2.157, 4.0], [41.395, 2.187, 4.0], [41.386, 2.159, 4.0], [41.386, 2.164, 4.0], [41.41, 2.137, 4.0], [41.38, 2.143, 4.0], [41.381, 2.144, 4.0], [41.379, 2.142, 4.0], [41.432, 2.163, 4.0], [41.394, 2.151, 4.0], [41.436, 2.143, 4.0], [41.407, 2.183, 4.0], [41.402, 2.209, 4.0], [41.398, 2.128, 4.0], [41.386, 2.16, 4.0], [41.379, 2.138, 4.0], [41.427, 2.143, 4.0], [41.428, 2.173, 4.0], [41.404, 2.188, 4.0], [41.375, 2.137, 4.0], [41.373, 2.147, 4.0], [41.341, 2.124, 4.0], [41.405, 2.159, 4.0], [41.412, 2.166, 4.0], [41.389, 2.137, 4.0], [41.411, 2.127, 4.0], [41.393, 2.137, 4.0], [41.388, 2.124, 4.0], [41.432, 2.155, 4.0], [41.39, 2.134, 4.0], [41.392, 2.14, 4.0], [41.378, 2.149, 4.0], [41.4, 2.121, 4.0], [41.383, 2.178, 4.0], [41.369, 2.133, 4.0], [41.392, 2.153, 4.0], [41.383, 2.159, 4.0], [41.381, 2.173, 4.0], [41.381, 2.139, 4.0], [41.385, 2.193, 4.0], [41.398, 2.133, 4.0], [41.439, 2.181, 4.0], [41.369, 2.137, 4.0], [41.374, 2.148, 4.0], [41.436, 2.158, 4.0], [41.424, 2.186, 4.0], [41.362, 2.169, 4.0], [41.402, 2.204, 4.0], [41.382, 2.14, 4.0], [41.403, 2.157, 4.0], [41.393, 2.144, 4.0], [41.4, 2.198, 4.0], [41.383, 2.128, 4.0], [41.438, 2.169, 4.0], [41.381, 2.157, 4.0], [41.401, 2.205, 4.0], [41.391, 2.199, 4.0], [41.387, 2.135, 4.0], [41.383, 2.183, 4.0], [41.397, 2.206, 4.0], [41.395, 2.206, 4.0], [41.381, 2.177, 4.0], [41.387, 2.195, 4.0], [41.404, 2.14, 4.0], [41.437, 2.193, 4.0], [41.377, 2.153, 4.0], [41.385, 2.142, 4.0], [41.376, 2.148, 4.0], [41.409, 2.183, 4.0], [41.382, 2.158, 4.0], [41.4, 2.187, 4.0], [41.411, 2.157, 4.0], [41.379, 2.137, 4.0], [41.392, 2.129, 4.0], [41.382, 2.173, 4.0], [41.434, 2.148, 4.0], [41.375, 2.142, 4.0], [41.435, 2.171, 4.0], [41.447, 2.188, 4.0], [41.384, 2.132, 4.0], [41.387, 2.165, 4.0], [41.383, 2.154, 4.0], [41.382, 2.185, 4.0], [41.396, 2.186, 4.0], [41.394, 2.131, 4.0], [41.376, 2.149, 4.0], [41.383, 2.107, 4.0], [41.386, 2.143, 4.0], [41.379, 2.154, 4.0], [41.419, 2.182, 4.0], [41.375, 2.138, 4.0], [41.388, 2.127, 4.0], [41.382, 2.194, 4.0], [41.394, 2.15, 4.0], [41.425, 2.166, 4.0], [41.379, 2.152, 4.0], [41.402, 2.115, 4.0], [41.387, 2.168, 4.0], [41.39, 2.155, 3.0], [41.414, 2.216, 3.0], [41.389, 2.156, 3.0], [41.43, 2.17, 3.0], [41.405, 2.136, 3.0], [41.402, 2.173, 3.0], [41.431, 2.174, 3.0], [41.377, 2.176, 3.0], [41.399, 2.169, 3.0], [41.394, 2.149, 3.0], [41.414, 2.188, 3.0], [41.395, 2.157, 3.0], [41.4, 2.167, 3.0], [41.43, 2.168, 3.0], [41.43, 2.162, 3.0], [41.39, 2.174, 3.0], [41.409, 2.17, 3.0], [41.362, 2.171, 3.0], [41.438, 2.174, 3.0], [41.422, 2.119, 3.0], [41.384, 2.195, 3.0], [41.377, 2.148, 3.0], [41.391, 2.159, 3.0], [41.388, 2.128, 3.0], [41.373, 2.151, 3.0], [41.416, 2.137, 3.0], [41.412, 2.144, 3.0], [41.408, 2.184, 3.0], [41.409, 2.184, 3.0], [41.391, 2.122, 3.0], [41.381, 2.148, 3.0], [41.379, 2.161, 3.0], [41.385, 2.139, 3.0], [41.409, 2.169, 3.0], [41.45, 2.189, 3.0], [41.378, 2.146, 3.0], [41.406, 2.174, 3.0], [41.435, 2.148, 3.0], [41.414, 2.138, 3.0], [41.385, 2.183, 3.0], [41.424, 2.142, 3.0], [41.382, 2.17, 3.0], [41.432, 2.164, 3.0], [41.381, 2.136, 3.0], [41.435, 2.143, 3.0], [41.407, 2.134, 3.0], [41.384, 2.133, 3.0], [41.385, 2.178, 3.0], [41.431, 2.17, 3.0], [41.391, 2.144, 3.0], [41.391, 2.188, 3.0], [41.382, 2.127, 3.0], [41.377, 2.184, 3.0], [41.428, 2.176, 3.0], [41.387, 2.124, 3.0], [41.427, 2.187, 3.0], [41.392, 2.187, 3.0], [41.379, 2.155, 3.0], [41.391, 2.123, 3.0], [41.416, 2.17, 3.0], [41.433, 2.158, 3.0], [41.431, 2.156, 3.0], [41.393, 2.203, 3.0], [41.393, 2.204, 3.0], [41.345, 2.137, 3.0], [41.373, 2.189, 3.0], [41.389, 2.128, 3.0], [41.393, 2.129, 3.0], [41.389, 2.163, 3.0], [41.383, 2.184, 3.0], [41.385, 2.146, 3.0], [41.427, 2.201, 3.0], [41.384, 2.109, 3.0], [41.359, 2.165, 3.0], [41.421, 2.187, 3.0], [41.438, 2.175, 3.0], [41.408, 2.201, 3.0], [41.38, 2.173, 3.0], [41.389, 2.158, 3.0], [41.371, 2.151, 3.0], [41.436, 2.19, 3.0], [41.384, 2.11, 3.0], [41.402, 2.186, 3.0], [41.38, 2.147, 3.0], [41.424, 2.208, 3.0], [41.412, 2.184, 3.0], [41.396, 2.126, 3.0], [41.394, 2.152, 3.0], [41.415, 2.138, 3.0], [41.393, 2.147, 3.0], [41.417, 2.169, 3.0], [41.379, 2.162, 3.0], [41.441, 2.183, 3.0], [41.388, 2.168, 3.0], [41.392, 2.152, 3.0], [41.384, 2.164, 3.0], [41.396, 2.206, 3.0], [41.386, 2.127, 3.0], [41.385, 2.175, 3.0], [41.382, 2.184, 3.0], [41.381, 2.115, 3.0], [41.393, 2.157, 3.0], [41.383, 2.181, 3.0], [41.387, 2.17, 3.0], [41.403, 2.17, 3.0], [41.401, 2.199, 3.0], [41.41, 2.125, 3.0], [41.374, 2.176, 3.0], [41.44, 2.162, 3.0], [41.384, 2.161, 3.0], [41.413, 2.19, 3.0], [41.396, 2.177, 3.0], [41.386, 2.163, 3.0], [41.417, 2.195, 3.0], [41.418, 2.139, 3.0], [41.399, 2.146, 3.0], [41.43, 2.18, 3.0], [41.389, 2.173, 3.0], [41.388, 2.169, 3.0], [41.368, 2.14, 3.0], [41.385, 2.177, 3.0], [41.383, 2.109, 3.0], [41.402, 2.212, 3.0], [41.368, 2.173, 3.0], [41.42, 2.187, 3.0], [41.389, 2.194, 3.0], [41.394, 2.169, 3.0], [41.405, 2.205, 3.0], [41.385, 2.114, 3.0], [41.401, 2.212, 3.0], [41.37, 2.137, 3.0], [41.388, 2.136, 3.0], [41.416, 2.169, 3.0], [41.381, 2.193, 3.0], [41.432, 2.189, 3.0], [41.393, 2.148, 3.0], [41.409, 2.175, 3.0], [41.388, 2.146, 3.0], [41.392, 2.131, 3.0], [41.413, 2.171, 3.0], [41.383, 2.108, 3.0], [41.396, 2.205, 3.0], [41.403, 2.204, 3.0], [41.398, 2.161, 3.0], [41.398, 2.201, 3.0], [41.392, 2.141, 3.0], [41.357, 2.162, 3.0], [41.403, 2.139, 3.0], [41.388, 2.195, 3.0], [41.423, 2.196, 3.0], [41.391, 2.152, 3.0], [41.391, 2.129, 3.0], [41.391, 2.136, 3.0], [41.377, 2.138, 3.0], [41.375, 2.139, 3.0], [41.386, 2.119, 3.0], [41.39, 2.157, 3.0], [41.388, 2.156, 3.0], [41.421, 2.177, 3.0], [41.399, 2.147, 3.0], [41.408, 2.174, 3.0], [41.425, 2.158, 3.0], [41.381, 2.117, 3.0], [41.366, 2.135, 3.0], [41.364, 2.136, 3.0], [41.366, 2.172, 3.0], [41.431, 2.165, 3.0], [41.398, 2.147, 3.0], [41.376, 2.135, 3.0], [41.39, 2.169, 3.0], [41.388, 2.14, 3.0], [41.401, 2.197, 3.0], [41.387, 2.153, 3.0], [41.433, 2.146, 3.0], [41.384, 2.16, 3.0], [41.39, 2.161, 3.0], [41.384, 2.154, 3.0], [41.389, 2.161, 3.0], [41.386, 2.161, 3.0], [41.344, 2.134, 3.0], [41.399, 2.172, 3.0], [41.389, 2.16, 3.0], [41.383, 2.148, 3.0], [41.394, 2.138, 3.0], [41.402, 2.201, 3.0], [41.445, 2.176, 3.0], [41.396, 2.157, 3.0], [41.394, 2.164, 3.0], [41.401, 2.187, 3.0], [41.383, 2.135, 3.0], [41.428, 2.164, 3.0], [41.436, 2.149, 3.0], [41.392, 2.133, 3.0], [41.4, 2.168, 3.0], [41.38, 2.138, 3.0], [41.41, 2.215, 3.0], [41.429, 2.144, 3.0], [41.373, 2.155, 3.0], [41.377, 2.154, 3.0], [41.374, 2.155, 3.0], [41.4, 2.114, 3.0], [41.417, 2.138, 3.0], [41.395, 2.155, 3.0], [41.408, 2.193, 3.0], [41.392, 2.188, 3.0], [41.388, 2.193, 3.0], [41.442, 2.185, 3.0], [41.453, 2.189, 3.0], [41.384, 2.119, 3.0], [41.34, 2.117, 3.0], [41.403, 2.203, 3.0], [41.383, 2.195, 3.0], [41.405, 2.212, 3.0], [41.376, 2.153, 3.0], [41.431, 2.168, 3.0], [41.397, 2.205, 3.0], [41.41, 2.147, 3.0], [41.418, 2.141, 3.0], [41.385, 2.186, 3.0], [41.387, 2.16, 3.0], [41.394, 2.121, 3.0], [41.417, 2.184, 3.0], [41.405, 2.145, 3.0], [41.392, 2.144, 3.0], [41.387, 2.136, 3.0], [41.383, 2.189, 3.0], [41.43, 2.169, 3.0], [41.42, 2.14, 3.0], [41.429, 2.175, 3.0], [41.41, 2.216, 3.0], [41.411, 2.158, 3.0], [41.386, 2.116, 3.0], [41.433, 2.154, 3.0], [41.411, 2.159, 3.0], [41.396, 2.156, 3.0], [41.409, 2.148, 3.0], [41.448, 2.188, 3.0], [41.395, 2.138, 3.0], [41.386, 2.162, 3.0], [41.385, 2.171, 3.0], [41.382, 2.176, 2.0], [41.409, 2.217, 2.0], [41.405, 2.137, 2.0], [41.419, 2.205, 2.0], [41.411, 2.13, 2.0], [41.43, 2.183, 2.0], [41.431, 2.173, 2.0], [41.384, 2.103, 2.0], [41.404, 2.138, 2.0], [41.431, 2.171, 2.0], [41.431, 2.175, 2.0], [41.404, 2.136, 2.0], [41.405, 2.135, 2.0], [41.387, 2.159, 2.0], [41.426, 2.197, 2.0], [41.395, 2.168, 2.0], [41.345, 2.135, 2.0], [41.378, 2.162, 2.0], [41.379, 2.145, 2.0], [41.387, 2.166, 2.0], [41.341, 2.118, 2.0], [41.407, 2.185, 2.0], [41.377, 2.149, 2.0], [41.34, 2.122, 2.0], [41.429, 2.176, 2.0], [41.43, 2.171, 2.0], [41.398, 2.163, 2.0], [41.428, 2.143, 2.0], [41.39, 2.151, 2.0], [41.43, 2.16, 2.0], [41.364, 2.17, 2.0], [41.397, 2.179, 2.0], [41.407, 2.194, 2.0], [41.41, 2.145, 2.0], [41.422, 2.199, 2.0], [41.34, 2.119, 2.0], [41.421, 2.19, 2.0], [41.388, 2.183, 2.0], [41.384, 2.185, 2.0], [41.401, 2.126, 2.0], [41.4, 2.126, 2.0], [41.343, 2.129, 2.0], [41.349, 2.147, 2.0], [41.378, 2.192, 2.0], [41.377, 2.191, 2.0], [41.376, 2.19, 2.0], [41.371, 2.189, 2.0], [41.375, 2.167, 2.0], [41.433, 2.164, 2.0], [41.341, 2.123, 2.0], [41.347, 2.142, 2.0], [41.389, 2.13, 2.0], [41.437, 2.159, 2.0], [41.376, 2.132, 2.0], [41.437, 2.204, 2.0], [41.381, 2.145, 2.0], [41.441, 2.177, 2.0], [41.387, 2.131, 2.0], [41.372, 2.151, 2.0], [41.39, 2.135, 2.0], [41.391, 2.187, 2.0], [41.409, 2.145, 2.0], [41.404, 2.161, 2.0], [41.382, 2.16, 2.0], [41.397, 2.128, 2.0], [41.388, 2.118, 2.0], [41.405, 2.208, 2.0], [41.375, 2.156, 2.0], [41.367, 2.139, 2.0], [41.352, 2.156, 2.0], [41.386, 2.133, 2.0], [41.416, 2.197, 2.0], [41.424, 2.207, 2.0], [41.418, 2.199, 2.0], [41.409, 2.185, 2.0], [41.397, 2.161, 2.0], [41.401, 2.158, 2.0], [41.375, 2.159, 2.0], [41.383, 2.191, 2.0], [41.403, 2.133, 2.0], [41.393, 2.161, 2.0], [41.381, 2.181, 2.0], [41.398, 2.187, 2.0], [41.397, 2.188, 2.0], [41.382, 2.135, 2.0], [41.437, 2.161, 2.0], [41.399, 2.134, 2.0], [41.443, 2.168, 2.0], [41.463, 2.181, 2.0], [41.388, 2.194, 2.0], [41.403, 2.123, 2.0], [41.396, 2.188, 2.0], [41.397, 2.187, 2.0], [41.412, 2.167, 2.0], [41.39, 2.147, 2.0], [41.402, 2.2, 2.0], [41.438, 2.185, 2.0], [41.386, 2.135, 2.0], [41.38, 2.141, 2.0], [41.394, 2.163, 2.0], [41.37, 2.152, 2.0], [41.407, 2.152, 2.0], [41.409, 2.15, 2.0], [41.399, 2.161, 2.0], [41.399, 2.16, 2.0], [41.428, 2.141, 2.0], [41.412, 2.165, 2.0], [41.395, 2.17, 2.0], [41.401, 2.202, 2.0], [41.388, 2.196, 2.0], [41.439, 2.155, 2.0], [41.447, 2.203, 2.0], [41.394, 2.188, 2.0], [41.39, 2.185, 2.0], [41.399, 2.205, 2.0], [41.408, 2.188, 2.0], [41.382, 2.154, 2.0], [41.434, 2.19, 2.0], [41.42, 2.188, 2.0], [41.426, 2.186, 2.0], [41.407, 2.207, 2.0], [41.402, 2.184, 2.0], [41.396, 2.154, 2.0], [41.392, 2.135, 2.0], [41.392, 2.151, 2.0], [41.406, 2.203, 2.0], [41.385, 2.17, 2.0], [41.384, 2.171, 2.0], [41.388, 2.106, 2.0], [41.386, 2.134, 2.0], [41.389, 2.131, 2.0], [41.388, 2.159, 2.0], [41.377, 2.147, 2.0], [41.394, 2.166, 2.0], [41.388, 2.174, 2.0], [41.413, 2.168, 2.0], [41.381, 2.163, 2.0], [41.38, 2.129, 2.0], [41.384, 2.146, 2.0], [41.405, 2.182, 2.0], [41.432, 2.146, 2.0], [41.422, 2.141, 2.0], [41.412, 2.129, 2.0], [41.386, 2.142, 2.0], [41.397, 2.136, 2.0], [41.377, 2.151, 2.0], [41.381, 2.156, 2.0], [41.383, 2.16, 2.0], [41.391, 2.2, 2.0], [41.391, 2.14, 2.0], [41.409, 2.221, 2.0], [41.437, 2.163, 2.0], [41.438, 2.192, 2.0], [41.429, 2.142, 2.0], [41.424, 2.177, 2.0], [41.429, 2.162, 2.0], [41.384, 2.152, 2.0], [41.387, 2.157, 2.0], [41.431, 2.172, 2.0], [41.404, 2.203, 2.0], [41.434, 2.145, 2.0], [41.393, 2.13, 2.0], [41.409, 2.22, 2.0], [41.423, 2.206, 2.0], [41.382, 2.137, 2.0], [41.346, 2.14, 2.0], [41.363, 2.17, 2.0], [41.406, 2.146, 2.0], [41.409, 2.2, 2.0], [41.398, 2.206, 2.0], [41.4, 2.207, 2.0], [41.414, 2.193, 2.0], [41.43, 2.145, 2.0], [41.435, 2.192, 2.0], [41.391, 2.155, 2.0], [41.393, 2.159, 2.0], [41.4, 2.208, 2.0], [41.398, 2.207, 2.0], [41.426, 2.165, 2.0], [41.389, 2.174, 2.0], [41.381, 2.133, 2.0], [41.404, 2.206, 2.0], [41.401, 2.123, 2.0], [41.378, 2.161, 2.0], [41.38, 2.16, 2.0], [41.381, 2.16, 2.0], [41.418, 2.174, 2.0], [41.406, 2.15, 2.0], [41.407, 2.15, 2.0], [41.388, 2.161, 2.0], [41.399, 2.209, 2.0], [41.387, 2.171, 2.0], [41.396, 2.158, 2.0], [41.383, 2.15, 2.0], [41.422, 2.171, 2.0], [41.406, 2.136, 2.0], [41.387, 2.174, 2.0], [41.38, 2.162, 2.0], [41.372, 2.189, 2.0], [41.407, 2.191, 2.0], [41.401, 2.148, 2.0], [41.384, 2.159, 2.0], [41.369, 2.141, 2.0], [41.384, 2.165, 2.0], [41.385, 2.165, 2.0], [41.4, 2.134, 2.0], [41.375, 2.135, 2.0], [41.391, 2.131, 2.0], [41.412, 2.219, 2.0], [41.365, 2.135, 2.0], [41.34, 2.121, 2.0], [41.423, 2.19, 2.0], [41.391, 2.167, 2.0], [41.414, 2.186, 2.0], [41.411, 2.18, 2.0], [41.428, 2.182, 2.0], [41.439, 2.156, 2.0], [41.393, 2.171, 2.0], [41.398, 2.209, 2.0], [41.395, 2.169, 2.0], [41.385, 2.133, 2.0], [41.396, 2.133, 2.0], [41.39, 2.158, 2.0], [41.404, 2.133, 2.0], [41.384, 2.181, 2.0], [41.383, 2.185, 2.0], [41.413, 2.142, 2.0], [41.382, 2.181, 2.0], [41.37, 2.138, 2.0], [41.385, 2.134, 2.0], [41.417, 2.198, 2.0], [41.402, 2.185, 2.0], [41.416, 2.136, 2.0], [41.358, 2.163, 2.0], [41.411, 2.147, 2.0], [41.389, 2.108, 2.0], [41.401, 2.115, 2.0], [41.383, 2.18, 2.0], [41.434, 2.146, 2.0], [41.39, 2.138, 2.0], [41.392, 2.159, 2.0], [41.345, 2.136, 2.0], [41.432, 2.154, 2.0], [41.399, 2.184, 2.0], [41.399, 2.208, 2.0], [41.364, 2.137, 2.0], [41.431, 2.177, 2.0], [41.416, 2.187, 2.0], [41.398, 2.189, 2.0], [41.411, 2.138, 2.0], [41.388, 2.135, 2.0], [41.415, 2.133, 2.0], [41.391, 2.197, 2.0], [41.397, 2.159, 2.0], [41.374, 2.149, 2.0], [41.385, 2.141, 2.0], [41.386, 2.137, 2.0], [41.381, 2.188, 2.0], [41.399, 2.195, 2.0], [41.372, 2.137, 2.0], [41.383, 2.182, 2.0], [41.351, 2.152, 2.0], [41.389, 2.144, 2.0], [41.419, 2.138, 2.0], [41.373, 2.137, 2.0], [41.391, 2.139, 2.0], [41.408, 2.151, 2.0], [41.389, 2.145, 2.0], [41.435, 2.144, 2.0], [41.401, 2.159, 2.0], [41.382, 2.138, 2.0], [41.387, 2.172, 2.0], [41.382, 2.169, 2.0], [41.391, 2.141, 2.0], [41.4, 2.206, 2.0], [41.433, 2.145, 2.0], [41.364, 2.173, 2.0], [41.393, 2.195, 2.0], [41.378, 2.112, 2.0], [41.342, 2.126, 2.0], [41.403, 2.189, 2.0], [41.394, 2.148, 2.0], [41.412, 2.145, 2.0], [41.419, 2.187, 2.0], [41.4, 2.197, 2.0], [41.38, 2.153, 2.0], [41.401, 2.114, 2.0], [41.397, 2.145, 2.0], [41.388, 2.198, 2.0], [41.376, 2.137, 2.0], [41.418, 2.188, 2.0], [41.415, 2.187, 2.0], [41.407, 2.171, 2.0], [41.342, 2.127, 2.0], [41.4, 2.156, 2.0], [41.384, 2.177, 2.0], [41.343, 2.12, 2.0], [41.381, 2.12, 2.0], [41.436, 2.184, 2.0], [41.382, 2.157, 2.0], [41.383, 2.172, 2.0], [41.383, 2.13, 2.0], [41.402, 2.206, 2.0], [41.447, 2.19, 2.0], [41.378, 2.123, 2.0], [41.404, 2.156, 2.0], [41.404, 2.158, 2.0], [41.395, 2.135, 2.0], [41.391, 2.153, 2.0], [41.413, 2.184, 2.0], [41.384, 2.115, 2.0], [41.397, 2.155, 2.0], [41.451, 2.196, 2.0], [41.423, 2.187, 2.0], [41.44, 2.185, 2.0], [41.408, 2.138, 2.0], [41.403, 2.145, 2.0], [41.401, 2.195, 2.0], [41.412, 2.22, 2.0], [41.398, 2.127, 2.0], [41.375, 2.155, 2.0], [41.344, 2.132, 2.0], [41.381, 2.126, 2.0], [41.387, 2.185, 2.0], [41.382, 2.174, 2.0], [41.4, 2.193, 2.0], [41.4, 2.199, 2.0], [41.365, 2.136, 2.0], [41.372, 2.175, 2.0], [41.347, 2.14, 2.0], [41.425, 2.159, 2.0], [41.403, 2.141, 2.0], [41.398, 2.122, 2.0], [41.394, 2.155, 2.0], [41.392, 2.155, 2.0], [41.45, 2.194, 2.0], [41.406, 2.194, 2.0], [41.387, 2.163, 2.0], [41.428, 2.172, 2.0], [41.4, 2.182, 2.0], [41.381, 2.147, 2.0], [41.388, 2.164, 2.0], [41.372, 2.145, 2.0], [41.388, 2.152, 2.0], [41.389, 2.135, 2.0], [41.413, 2.223, 2.0], [41.406, 2.201, 2.0], [41.393, 2.167, 2.0], [41.381, 2.151, 2.0], [41.391, 2.186, 2.0], [41.396, 2.208, 2.0], [41.4, 2.17, 2.0], [41.356, 2.161, 2.0], [41.402, 2.176, 2.0], [41.369, 2.174, 2.0], [41.35, 2.149, 2.0], [41.416, 2.161, 2.0], [41.449, 2.188, 2.0], [41.378, 2.154, 2.0], [41.392, 2.109, 2.0], [41.407, 2.193, 2.0], [41.376, 2.177, 2.0], [41.414, 2.161, 2.0], [41.433, 2.153, 2.0], [41.405, 2.132, 2.0], [41.424, 2.188, 2.0], [41.372, 2.176, 2.0], [41.368, 2.157, 2.0], [41.382, 2.146, 2.0], [41.388, 2.143, 2.0], [41.387, 2.118, 2.0], [41.396, 2.159, 2.0], [41.373, 2.167, 2.0], [41.387, 2.155, 2.0], [41.371, 2.137, 2.0], [41.377, 2.135, 2.0], [41.386, 2.136, 2.0], [41.343, 2.13, 2.0], [41.418, 2.204, 2.0], [41.392, 2.15, 2.0], [41.381, 2.116, 2.0], [41.44, 2.163, 2.0], [41.391, 2.108, 2.0], [41.4, 2.135, 2.0], [41.382, 2.124, 2.0], [41.462, 2.181, 2.0], [41.399, 2.185, 2.0], [41.418, 2.206, 2.0], [41.389, 2.169, 2.0], [41.352, 2.155, 2.0], [41.447, 2.187, 2.0], [41.401, 2.147, 2.0], [41.381, 2.17, 2.0], [41.413, 2.181, 2.0], [41.383, 2.153, 2.0], [41.416, 2.19, 2.0], [41.386, 2.138, 2.0], [41.391, 2.163, 2.0], [41.377, 2.139, 2.0], [41.386, 2.194, 2.0], [41.425, 2.192, 2.0], [41.424, 2.193, 2.0], [41.423, 2.189, 2.0], [41.398, 2.167, 2.0], [41.407, 2.154, 2.0], [41.44, 2.184, 2.0], [41.441, 2.182, 2.0], [41.379, 2.192, 2.0], [41.417, 2.139, 2.0], [41.366, 2.137, 2.0], [41.389, 2.129, 2.0], [41.38, 2.146, 2.0], [41.411, 2.215, 2.0], [41.35, 2.148, 2.0], [41.389, 2.164, 2.0], [41.42, 2.181, 2.0], [41.354, 2.143, 2.0], [41.389, 2.171, 2.0], [41.381, 2.166, 2.0], [41.379, 2.16, 2.0], [41.391, 2.138, 2.0], [41.385, 2.192, 2.0], [41.378, 2.178, 2.0], [41.395, 2.147, 2.0], [41.423, 2.178, 2.0], [41.44, 2.16, 2.0], [41.403, 2.214, 2.0], [41.395, 2.205, 2.0], [41.406, 2.219, 2.0], [41.407, 2.139, 2.0], [41.408, 2.217, 2.0], [41.385, 2.152, 2.0], [41.386, 2.144, 2.0], [41.375, 2.151, 2.0], [41.374, 2.15, 2.0], [41.383, 2.123, 2.0], [41.406, 2.142, 2.0], [41.438, 2.153, 2.0], [41.38, 2.124, 2.0], [41.381, 2.194, 2.0], [41.435, 2.175, 2.0], [41.431, 2.155, 2.0], [41.43, 2.157, 2.0], [41.427, 2.144, 2.0], [41.418, 2.214, 2.0], [41.39, 2.144, 2.0], [41.4, 2.18, 2.0], [41.388, 2.171, 2.0], [41.425, 2.143, 2.0], [41.42, 2.209, 2.0], [41.391, 2.18, 2.0], [41.406, 2.134, 2.0], [41.389, 2.109, 2.0], [41.381, 2.127, 2.0], [41.399, 2.191, 2.0], [41.455, 2.193, 2.0], [41.382, 2.155, 2.0], [41.395, 2.154, 2.0], [41.403, 2.142, 2.0], [41.404, 2.141, 2.0], [41.395, 2.156, 2.0], [41.407, 2.218, 2.0], [41.383, 2.171, 2.0], [41.389, 2.199, 2.0], [41.377, 2.125, 2.0], [41.394, 2.174, 2.0], [41.395, 2.175, 2.0], [41.403, 2.169, 2.0], [41.386, 2.195, 2.0], [41.375, 2.16, 2.0], [41.389, 2.154, 2.0], [41.38, 2.122, 2.0], [41.42, 2.202, 2.0], [41.422, 2.191, 2.0], [41.387, 2.158, 2.0], [41.379, 2.181, 2.0], [41.416, 2.18, 2.0], [41.44, 2.182, 2.0], [41.382, 2.183, 2.0], [41.398, 2.152, 2.0], [41.382, 2.18, 2.0], [41.387, 2.106, 2.0], [41.387, 2.134, 2.0], [41.4, 2.171, 2.0], [41.393, 2.168, 2.0], [41.386, 2.196, 2.0], [41.41, 2.156, 2.0], [41.408, 2.155, 2.0], [41.405, 2.155, 2.0], [41.405, 2.154, 2.0], [41.398, 2.154, 2.0], [41.443, 2.187, 2.0], [41.406, 2.145, 2.0], [41.389, 2.17, 2.0], [41.399, 2.143, 2.0], [41.402, 2.145, 2.0], [41.39, 2.131, 2.0], [41.383, 2.188, 2.0], [41.412, 2.186, 2.0], [41.401, 2.179, 2.0], [41.384, 2.113, 2.0], [41.435, 2.203, 2.0], [41.434, 2.155, 2.0], [41.407, 2.202, 2.0], [41.398, 2.126, 2.0], [41.383, 2.129, 2.0], [41.397, 2.169, 2.0], [41.4, 2.155, 2.0], [41.394, 2.132, 2.0], [41.386, 2.17, 2.0], [41.389, 2.172, 2.0], [41.375, 2.189, 2.0], [41.4, 2.186, 2.0], [41.34, 2.116, 1.0], [41.401, 2.203, 1.0], [41.459, 2.186, 1.0], [41.401, 2.193, 1.0], [41.394, 2.184, 1.0], [41.414, 2.215, 1.0], [41.402, 2.16, 1.0], [41.394, 2.124, 1.0], [41.392, 2.126, 1.0], [41.395, 2.133, 1.0], [41.375, 2.173, 1.0], [41.375, 2.166, 1.0], [41.375, 2.169, 1.0], [41.367, 2.14, 1.0], [41.339, 2.122, 1.0], [41.412, 2.199, 1.0], [41.389, 2.151, 1.0], [41.43, 2.166, 1.0], [41.397, 2.184, 1.0], [41.4, 2.174, 1.0], [41.361, 2.168, 1.0], [41.403, 2.208, 1.0], [41.388, 2.125, 1.0], [41.386, 2.152, 1.0], [41.419, 2.14, 1.0], [41.401, 2.177, 1.0], [41.404, 2.134, 1.0], [41.403, 2.175, 1.0], [41.401, 2.171, 1.0], [41.397, 2.175, 1.0], [41.392, 2.165, 1.0], [41.4, 2.175, 1.0], [41.412, 2.221, 1.0], [41.413, 2.224, 1.0], [41.399, 2.15, 1.0], [41.408, 2.152, 1.0], [41.405, 2.173, 1.0], [41.404, 2.174, 1.0], [41.385, 2.188, 1.0], [41.381, 2.182, 1.0], [41.351, 2.151, 1.0], [41.341, 2.117, 1.0], [41.429, 2.086, 1.0], [41.376, 2.155, 1.0], [41.371, 2.157, 1.0], [41.356, 2.141, 1.0], [41.384, 2.138, 1.0], [41.457, 2.187, 1.0], [41.45, 2.196, 1.0], [41.397, 2.194, 1.0], [41.398, 2.199, 1.0], [41.386, 2.131, 1.0], [41.387, 2.13, 1.0], [41.373, 2.149, 1.0], [41.436, 2.161, 1.0], [41.403, 2.158, 1.0], [41.391, 2.157, 1.0], [41.428, 2.165, 1.0], [41.428, 2.167, 1.0], [41.409, 2.143, 1.0], [41.427, 2.172, 1.0], [41.405, 2.118, 1.0], [41.377, 2.145, 1.0], [41.387, 2.127, 1.0], [41.384, 2.128, 1.0], [41.431, 2.161, 1.0], [41.431, 2.16, 1.0], [41.39, 2.145, 1.0], [41.38, 2.166, 1.0], [41.381, 2.167, 1.0], [41.382, 2.171, 1.0], [41.435, 2.154, 1.0], [41.427, 2.186, 1.0], [41.405, 2.147, 1.0], [41.409, 2.137, 1.0], [41.395, 2.134, 1.0], [41.4, 2.184, 1.0], [41.369, 2.136, 1.0], [41.368, 2.136, 1.0], [41.396, 2.168, 1.0], [41.404, 2.181, 1.0], [41.426, 2.174, 1.0], [41.393, 2.136, 1.0], [41.369, 2.19, 1.0], [41.41, 2.14, 1.0], [41.338, 2.116, 1.0], [41.397, 2.133, 1.0], [41.384, 2.144, 1.0], [41.369, 2.145, 1.0], [41.434, 2.156, 1.0], [41.39, 2.116, 1.0], [41.419, 2.117, 1.0], [41.427, 2.197, 1.0], [41.426, 2.196, 1.0], [41.37, 2.146, 1.0], [41.451, 2.195, 1.0], [41.405, 2.215, 1.0], [41.376, 2.164, 1.0], [41.417, 2.193, 1.0], [41.409, 2.189, 1.0], [41.403, 2.205, 1.0], [41.413, 2.216, 1.0], [41.406, 2.155, 1.0], [41.405, 2.157, 1.0], [41.4, 2.164, 1.0], [41.399, 2.166, 1.0], [41.397, 2.151, 1.0], [41.423, 2.197, 1.0], [41.379, 2.12, 1.0], [41.384, 2.19, 1.0], [41.392, 2.201, 1.0], [41.374, 2.173, 1.0], [41.376, 2.156, 1.0], [41.393, 2.109, 1.0], [41.38, 2.108, 1.0], [41.404, 2.117, 1.0], [41.413, 2.129, 1.0], [41.416, 2.199, 1.0], [41.401, 2.184, 1.0], [41.389, 2.134, 1.0], [41.426, 2.173, 1.0], [41.404, 2.208, 1.0], [41.341, 2.125, 1.0], [41.394, 2.146, 1.0], [41.386, 2.12, 1.0], [41.34, 2.126, 1.0], [41.365, 2.176, 1.0], [41.386, 2.193, 1.0], [41.411, 2.187, 1.0], [41.399, 2.163, 1.0], [41.459, 2.185, 1.0], [41.403, 2.199, 1.0], [41.402, 2.213, 1.0], [41.376, 2.179, 1.0], [41.351, 2.153, 1.0], [41.37, 2.174, 1.0], [41.347, 2.141, 1.0], [41.344, 2.133, 1.0], [41.37, 2.16, 1.0], [41.389, 2.162, 1.0], [41.379, 2.146, 1.0], [41.38, 2.115, 1.0], [41.387, 2.122, 1.0], [41.393, 2.143, 1.0], [41.428, 2.166, 1.0], [41.39, 2.159, 1.0], [41.38, 2.181, 1.0], [41.424, 2.176, 1.0], [41.438, 2.155, 1.0], [41.406, 2.195, 1.0], [41.384, 2.137, 1.0], [41.395, 2.151, 1.0], [41.398, 2.166, 1.0], [41.377, 2.189, 1.0], [41.417, 2.205, 1.0], [41.381, 2.171, 1.0], [41.423, 2.094, 1.0], [41.342, 2.117, 1.0], [41.385, 2.118, 1.0], [41.386, 2.176, 1.0], [41.37, 2.175, 1.0], [41.374, 2.177, 1.0], [41.381, 2.185, 1.0], [41.373, 2.188, 1.0], [41.374, 2.19, 1.0], [41.425, 2.176, 1.0], [41.36, 2.166, 1.0], [41.341, 2.122, 1.0], [41.346, 2.139, 1.0], [41.397, 2.168, 1.0], [41.449, 2.182, 1.0], [41.444, 2.179, 1.0], [41.382, 2.192, 1.0], [41.411, 2.174, 1.0], [41.405, 2.172, 1.0], [41.398, 2.196, 1.0], [41.401, 2.122, 1.0], [41.381, 2.141, 1.0], [41.395, 2.185, 1.0], [41.402, 2.125, 1.0], [41.404, 2.128, 1.0], [41.404, 2.13, 1.0], [41.404, 2.131, 1.0], [41.399, 2.176, 1.0], [41.399, 2.177, 1.0], [41.399, 2.178, 1.0], [41.411, 2.145, 1.0], [41.399, 2.123, 1.0], [41.422, 2.196, 1.0], [41.432, 2.165, 1.0], [41.389, 2.183, 1.0], [41.383, 2.176, 1.0], [41.386, 2.185, 1.0], [41.384, 2.186, 1.0], [41.394, 2.197, 1.0], [41.402, 2.154, 1.0], [41.443, 2.186, 1.0], [41.402, 2.156, 1.0], [41.367, 2.172, 1.0], [41.378, 2.185, 1.0], [41.341, 2.115, 1.0], [41.337, 2.127, 1.0], [41.375, 2.19, 1.0], [41.368, 2.19, 1.0], [41.4, 2.159, 1.0], [41.375, 2.172, 1.0], [41.399, 2.157, 1.0], [41.4, 2.158, 1.0], [41.37, 2.159, 1.0], [41.369, 2.16, 1.0], [41.413, 2.162, 1.0], [41.41, 2.127, 1.0], [41.413, 2.137, 1.0], [41.399, 2.199, 1.0], [41.417, 2.171, 1.0], [41.385, 2.112, 1.0], [41.438, 2.204, 1.0], [41.39, 2.177, 1.0], [41.379, 2.124, 1.0], [41.375, 2.128, 1.0], [41.376, 2.126, 1.0], [41.383, 2.105, 1.0], [41.375, 2.134, 1.0], [41.375, 2.144, 1.0], [41.402, 2.178, 1.0], [41.396, 2.124, 1.0], [41.397, 2.204, 1.0], [41.386, 2.104, 1.0], [41.394, 2.167, 1.0], [41.438, 2.176, 1.0], [41.412, 2.128, 1.0], [41.378, 2.157, 1.0], [41.394, 2.142, 1.0], [41.398, 2.145, 1.0], [41.387, 2.145, 1.0], [41.388, 2.165, 1.0], [41.393, 2.153, 1.0], [41.389, 2.148, 1.0], [41.36, 2.145, 1.0], [41.361, 2.149, 1.0], [41.368, 2.151, 1.0], [41.369, 2.152, 1.0], [41.37, 2.153, 1.0], [41.371, 2.152, 1.0], [41.372, 2.152, 1.0], [41.366, 2.148, 1.0], [41.363, 2.157, 1.0], [41.407, 2.176, 1.0], [41.387, 2.197, 1.0], [41.39, 2.19, 1.0], [41.39, 2.188, 1.0], [41.422, 2.197, 1.0], [41.394, 2.206, 1.0], [41.393, 2.205, 1.0], [41.395, 2.207, 1.0], [41.398, 2.18, 1.0], [41.383, 2.157, 1.0], [41.369, 2.189, 1.0], [41.401, 2.133, 1.0], [41.391, 2.164, 1.0], [41.394, 2.137, 1.0], [41.408, 2.209, 1.0], [41.411, 2.186, 1.0], [41.463, 2.18, 1.0], [41.407, 2.192, 1.0], [41.415, 2.202, 1.0], [41.369, 2.159, 1.0], [41.368, 2.158, 1.0], [41.4, 2.15, 1.0], [41.422, 2.204, 1.0], [41.406, 2.163, 1.0], [41.403, 2.188, 1.0], [41.369, 2.158, 1.0], [41.386, 2.186, 1.0], [41.37, 2.142, 1.0], [41.456, 2.188, 1.0], [41.384, 2.14, 1.0], [41.448, 2.187, 1.0], [41.398, 2.155, 1.0], [41.4, 2.172, 1.0], [41.377, 2.188, 1.0], [41.403, 2.177, 1.0], [41.414, 2.192, 1.0], [41.395, 2.164, 1.0], [41.402, 2.134, 1.0], [41.402, 2.136, 1.0], [41.383, 2.132, 1.0], [41.382, 2.161, 1.0], [41.407, 2.182, 1.0], [41.401, 2.153, 1.0], [41.402, 2.152, 1.0], [41.401, 2.154, 1.0], [41.402, 2.155, 1.0], [41.406, 2.16, 1.0], [41.378, 2.14, 1.0], [41.38, 2.151, 1.0], [41.381, 2.155, 1.0], [41.377, 2.157, 1.0], [41.399, 2.155, 1.0], [41.439, 2.193, 1.0], [41.446, 2.181, 1.0], [41.456, 2.191, 1.0], [41.434, 2.147, 1.0], [41.392, 2.169, 1.0], [41.44, 2.161, 1.0], [41.397, 2.195, 1.0], [41.368, 2.148, 1.0], [41.43, 2.158, 1.0], [41.427, 2.178, 1.0], [41.386, 2.183, 1.0], [41.374, 2.154, 1.0], [41.366, 2.174, 1.0], [41.448, 2.198, 1.0], [41.447, 2.189, 1.0], [41.394, 2.176, 1.0], [41.394, 2.177, 1.0], [41.46, 2.183, 1.0], [41.394, 2.178, 1.0], [41.338, 2.11, 1.0], [41.396, 2.146, 1.0], [41.361, 2.16, 1.0], [41.399, 2.18, 1.0], [41.39, 2.2, 1.0], [41.392, 2.16, 1.0], [41.441, 2.165, 1.0], [41.444, 2.17, 1.0], [41.386, 2.128, 1.0], [41.393, 2.163, 1.0], [41.413, 2.139, 1.0], [41.386, 2.173, 1.0], [41.385, 2.174, 1.0], [41.404, 2.123, 1.0], [41.407, 2.184, 1.0], [41.403, 2.197, 1.0], [41.394, 2.19, 1.0], [41.398, 2.2, 1.0], [41.398, 2.198, 1.0], [41.394, 2.192, 1.0], [41.394, 2.191, 1.0], [41.404, 2.178, 1.0], [41.407, 2.174, 1.0], [41.388, 2.144, 1.0], [41.372, 2.167, 1.0], [41.389, 2.191, 1.0], [41.383, 2.179, 1.0], [41.429, 2.184, 1.0], [41.395, 2.137, 1.0], [41.387, 2.164, 1.0], [41.41, 2.165, 1.0], [41.376, 2.165, 1.0], [41.393, 2.149, 1.0], [41.382, 2.143, 1.0], [41.381, 2.128, 1.0], [41.409, 2.201, 1.0], [41.393, 2.172, 1.0], [41.383, 2.126, 1.0], [41.391, 2.149, 1.0], [41.437, 2.158, 1.0], [41.424, 2.202, 1.0], [41.363, 2.146, 1.0], [41.443, 2.193, 1.0], [41.393, 2.164, 1.0], [41.408, 2.182, 1.0], [41.38, 2.14, 1.0], [41.381, 2.146, 1.0], [41.384, 2.149, 1.0], [41.389, 2.157, 1.0], [41.393, 2.162, 1.0], [41.415, 2.174, 1.0], [41.405, 2.2, 1.0], [41.413, 2.146, 1.0], [41.407, 2.121, 1.0], [41.414, 2.168, 1.0], [41.415, 2.167, 1.0], [41.412, 2.161, 1.0], [41.388, 2.13, 1.0], [41.439, 2.154, 1.0], [41.379, 2.17, 1.0], [41.368, 2.175, 1.0], [41.386, 2.15, 1.0], [41.393, 2.158, 1.0], [41.384, 2.135, 1.0], [41.375, 2.165, 1.0], [41.412, 2.195, 1.0], [41.413, 2.192, 1.0], [41.408, 2.187, 1.0], [41.403, 2.182, 1.0], [41.398, 2.175, 1.0], [41.396, 2.153, 1.0], [41.429, 2.17, 1.0], [41.412, 2.176, 1.0], [41.399, 2.202, 1.0], [41.413, 2.199, 1.0], [41.448, 2.194, 1.0], [41.436, 2.209, 1.0], [41.39, 2.181, 1.0], [41.39, 2.182, 1.0], [41.4, 2.2, 1.0], [41.384, 2.194, 1.0], [41.386, 2.154, 1.0], [41.37, 2.158, 1.0], [41.382, 2.133, 1.0], [41.408, 2.189, 1.0], [41.437, 2.191, 1.0], [41.449, 2.198, 1.0], [41.447, 2.186, 1.0], [41.411, 2.184, 1.0], [41.436, 2.191, 1.0], [41.412, 2.224, 1.0], [41.403, 2.147, 1.0], [41.437, 2.192, 1.0], [41.385, 2.14, 1.0], [41.418, 2.173, 1.0], [41.38, 2.174, 1.0], [41.42, 2.186, 1.0], [41.406, 2.207, 1.0], [41.407, 2.206, 1.0], [41.439, 2.185, 1.0], [41.361, 2.161, 1.0], [41.398, 2.165, 1.0], [41.397, 2.126, 1.0], [41.398, 2.141, 1.0], [41.398, 2.132, 1.0], [41.39, 2.149, 1.0], [41.393, 2.169, 1.0], [41.403, 2.136, 1.0], [41.416, 2.203, 1.0], [41.39, 2.196, 1.0], [41.428, 2.144, 1.0], [41.397, 2.158, 1.0], [41.386, 2.105, 1.0], [41.39, 2.108, 1.0], [41.422, 2.118, 1.0], [41.384, 2.156, 1.0], [41.378, 2.126, 1.0], [41.367, 2.134, 1.0], [41.42, 2.138, 1.0], [41.436, 2.162, 1.0], [41.434, 2.159, 1.0], [41.36, 2.139, 1.0], [41.425, 2.161, 1.0], [41.376, 2.13, 1.0], [41.432, 2.128, 1.0], [41.382, 2.164, 1.0], [41.383, 2.164, 1.0], [41.383, 2.165, 1.0], [41.403, 2.125, 1.0], [41.379, 2.163, 1.0], [41.376, 2.166, 1.0], [41.375, 2.174, 1.0], [41.375, 2.177, 1.0], [41.417, 2.174, 1.0], [41.383, 2.161, 1.0], [41.404, 2.118, 1.0], [41.398, 2.131, 1.0], [41.376, 2.134, 1.0], [41.394, 2.195, 1.0], [41.364, 2.171, 1.0], [41.402, 2.132, 1.0], [41.396, 2.136, 1.0], [41.39, 2.16, 1.0], [41.363, 2.174, 1.0], [41.418, 2.181, 1.0], [41.387, 2.182, 1.0], [41.375, 2.149, 1.0], [41.372, 2.188, 1.0], [41.387, 2.196, 1.0], [41.412, 2.187, 1.0], [41.435, 2.17, 1.0], [41.442, 2.177, 1.0], [41.395, 2.153, 1.0], [41.382, 2.15, 1.0], [41.408, 2.136, 1.0], [41.385, 2.123, 1.0], [41.387, 2.12, 1.0], [41.385, 2.124, 1.0], [41.383, 2.122, 1.0], [41.407, 2.18, 1.0], [41.408, 2.173, 1.0], [41.405, 2.178, 1.0], [41.436, 2.144, 1.0], [41.403, 2.119, 1.0], [41.395, 2.126, 1.0], [41.38, 2.131, 1.0], [41.404, 2.155, 1.0], [41.413, 2.173, 1.0], [41.408, 2.162, 1.0], [41.405, 2.16, 1.0], [41.406, 2.133, 1.0], [41.342, 2.125, 1.0], [41.385, 2.128, 1.0], [41.405, 2.197, 1.0], [41.394, 2.202, 1.0], [41.394, 2.201, 1.0], [41.404, 2.207, 1.0], [41.418, 2.186, 1.0], [41.352, 2.153, 1.0], [41.397, 2.164, 1.0], [41.436, 2.147, 1.0], [41.405, 2.198, 1.0], [41.392, 2.157, 1.0], [41.399, 2.144, 1.0], [41.405, 2.142, 1.0], [41.389, 2.197, 1.0], [41.405, 2.201, 1.0], [41.42, 2.21, 1.0], [41.412, 2.151, 1.0], [41.396, 2.121, 1.0], [41.411, 2.176, 1.0], [41.392, 2.156, 1.0], [41.394, 2.154, 1.0], [41.4, 2.145, 1.0], [41.38, 2.13, 1.0], [41.396, 2.15, 1.0], [41.396, 2.149, 1.0], [41.397, 2.148, 1.0], [41.408, 2.122, 1.0], [41.404, 2.119, 1.0], [41.4, 2.143, 1.0], [41.402, 2.142, 1.0], [41.41, 2.18, 1.0], [41.436, 2.204, 1.0], [41.386, 2.141, 1.0], [41.411, 2.167, 1.0], [41.376, 2.168, 1.0], [41.435, 2.209, 1.0], [41.384, 2.125, 1.0], [41.387, 2.138, 1.0], [41.419, 2.097, 1.0], [41.42, 2.097, 1.0], [41.435, 2.149, 1.0], [41.405, 2.167, 1.0], [41.447, 2.193, 1.0], [41.387, 2.144, 1.0], [41.38, 2.133, 1.0], [41.439, 2.182, 1.0], [41.385, 2.173, 1.0], [41.398, 2.164, 1.0], [41.426, 2.129, 1.0], [41.408, 2.221, 1.0], [41.409, 2.187, 1.0], [41.376, 2.131, 1.0], [41.424, 2.21, 1.0], [41.392, 2.139, 1.0], [41.376, 2.167, 1.0], [41.441, 2.17, 1.0], [41.391, 2.17, 1.0], [41.401, 2.211, 1.0], [41.384, 2.191, 1.0], [41.38, 2.167, 1.0], [41.38, 2.163, 1.0], [41.396, 2.143, 1.0], [41.4, 2.122, 1.0], [41.384, 2.141, 1.0], [41.36, 2.156, 1.0], [41.382, 2.19, 1.0], [41.406, 2.144, 1.0], [41.34, 2.112, 1.0], [41.365, 2.137, 1.0], [41.404, 2.142, 1.0], [41.387, 2.167, 1.0], [41.399, 2.19, 1.0], [41.396, 2.19, 1.0], [41.382, 2.179, 1.0], [41.371, 2.15, 1.0], [41.442, 2.193, 1.0], [41.415, 2.201, 1.0], [41.41, 2.139, 1.0], [41.403, 2.209, 1.0], [41.394, 2.2, 1.0], [41.426, 2.187, 1.0], [41.376, 2.152, 1.0], [41.428, 2.159, 1.0], [41.404, 2.194, 1.0], [41.411, 2.172, 1.0], [41.38, 2.182, 1.0], [41.447, 2.192, 1.0], [41.446, 2.204, 1.0], [41.427, 2.177, 1.0], [41.415, 2.129, 1.0], [41.422, 2.142, 1.0], [41.39, 2.183, 1.0], [41.41, 2.13, 1.0], [41.414, 2.179, 1.0], [41.39, 2.154, 1.0], [41.4, 2.142, 1.0], [41.403, 2.12, 1.0], [41.404, 2.182, 1.0], [41.431, 2.181, 1.0], [41.397, 2.152, 1.0], [41.436, 2.153, 1.0], [41.442, 2.169, 1.0], [41.383, 2.106, 1.0], [41.394, 2.16, 1.0], [41.431, 2.184, 1.0], [41.385, 2.167, 1.0], [41.406, 2.2, 1.0], [41.378, 2.19, 1.0], [41.384, 2.162, 1.0], [41.403, 2.18, 1.0], [41.421, 2.199, 1.0], [41.392, 2.132, 1.0], [41.41, 2.157, 1.0], [41.42, 2.201, 1.0], [41.366, 2.166, 1.0], [41.386, 2.197, 1.0], [41.379, 2.153, 1.0], [41.373, 2.133, 1.0], [41.34, 2.113, 1.0], [41.372, 2.158, 1.0], [41.427, 2.169, 1.0], [41.394, 2.17, 1.0], [41.383, 2.162, 1.0], [41.373, 2.136, 1.0], [41.407, 2.137, 1.0], [41.357, 2.141, 1.0], [41.402, 2.153, 1.0], [41.405, 2.133, 1.0], [41.365, 2.171, 1.0], [41.4, 2.162, 1.0], [41.458, 2.185, 1.0], [41.413, 2.185, 1.0], [41.419, 2.201, 1.0], [41.394, 2.156, 1.0], [41.437, 2.157, 1.0], [41.416, 2.195, 1.0], [41.387, 2.141, 1.0], [41.371, 2.145, 1.0], [41.437, 2.152, 1.0], [41.413, 2.218, 1.0], [41.369, 2.146, 1.0], [41.397, 2.16, 1.0], [41.417, 2.175, 1.0], [41.391, 2.124, 1.0], [41.424, 2.209, 1.0], [41.424, 2.143, 1.0], [41.43, 2.203, 1.0], [41.386, 2.167, 1.0], [41.401, 2.157, 1.0], [41.418, 2.184, 1.0], [41.339, 2.117, 1.0], [41.397, 2.127, 1.0], [41.391, 2.126, 1.0], [41.422, 2.143, 1.0], [41.438, 2.205, 1.0], [41.401, 2.14, 1.0], [41.415, 2.18, 1.0], [41.378, 2.119, 1.0], [41.394, 2.129, 1.0], [41.397, 2.113, 1.0], [41.37, 2.136, 1.0], [41.369, 2.138, 1.0], [41.387, 2.189, 1.0], [41.351, 2.145, 1.0], [41.381, 2.162, 1.0], [41.382, 2.167, 1.0], [41.393, 2.174, 1.0], [41.394, 2.187, 1.0], [41.39, 2.129, 1.0], [41.453, 2.195, 1.0], [41.374, 2.189, 1.0], [41.404, 2.148, 1.0], [41.424, 2.182, 1.0], [41.405, 2.206, 1.0], [41.424, 2.189, 1.0], [41.412, 2.164, 1.0], [41.405, 2.204, 1.0], [41.355, 2.141, 1.0], [41.396, 2.148, 1.0], [41.441, 2.175, 1.0], [41.41, 2.184, 1.0], [41.351, 2.15, 1.0], [41.395, 2.143, 1.0], [41.399, 2.133, 1.0], [41.42, 2.177, 1.0], [41.404, 2.211, 1.0], [41.391, 2.117, 1.0], [41.393, 2.16, 1.0], [41.403, 2.174, 1.0], [41.393, 2.187, 1.0], [41.388, 2.197, 1.0], [41.393, 2.15, 1.0], [41.414, 2.178, 1.0], [41.378, 2.137, 1.0], [41.392, 2.148, 1.0], [41.439, 2.178, 1.0], [41.405, 2.169, 1.0], [41.399, 2.117, 1.0], [41.38, 2.183, 1.0], [41.391, 2.125, 1.0], [41.427, 2.189, 1.0], [41.415, 2.16, 1.0], [41.405, 2.116, 1.0], [41.39, 2.198, 1.0], [41.425, 2.186, 1.0], [41.416, 2.174, 1.0], [41.406, 2.116, 1.0], [41.388, 2.147, 1.0], [41.377, 2.13, 1.0], [41.379, 2.123, 1.0], [41.397, 2.191, 1.0], [41.441, 2.164, 1.0], [41.395, 2.199, 1.0], [41.408, 2.183, 1.0], [41.417, 2.214, 1.0], [41.436, 2.18, 1.0], [41.394, 2.112, 1.0], [41.38, 2.15, 1.0], [41.354, 2.158, 1.0], [41.385, 2.155, 1.0], [41.394, 2.181, 1.0], [41.395, 2.12, 1.0], [41.371, 2.141, 1.0], [41.377, 2.111, 1.0], [41.355, 2.143, 1.0], [41.399, 2.181, 1.0], [41.38, 2.114, 1.0], [41.408, 2.16, 1.0], [41.375, 2.162, 1.0], [41.403, 2.194, 1.0], [41.434, 2.183, 1.0], [41.388, 2.182, 1.0], [41.39, 2.189, 1.0], [41.412, 2.217, 1.0], [41.386, 2.165, 1.0], [41.414, 2.222, 1.0], [41.382, 2.142, 1.0], [41.425, 2.198, 1.0], [41.429, 2.156, 1.0], [41.414, 2.201, 1.0], [41.395, 2.118, 1.0], [41.386, 2.145, 1.0], [41.434, 2.143, 1.0], [41.437, 2.181, 1.0], [41.383, 2.186, 1.0], [41.366, 2.145, 1.0], [41.372, 2.142, 1.0], [41.349, 2.145, 1.0], [41.38, 2.126, 1.0], [41.401, 2.194, 1.0], [41.427, 2.173, 1.0], [41.4, 2.191, 1.0], [41.387, 2.179, 1.0], [41.413, 2.215, 1.0], [41.441, 2.163, 1.0], [41.446, 2.18, 1.0], [41.452, 2.189, 1.0], [41.405, 2.14, 1.0], [41.404, 2.157, 1.0], [41.393, 2.156, 1.0], [41.398, 2.159, 1.0], [41.438, 2.157, 1.0], [41.375, 2.145, 1.0], [41.396, 2.165, 1.0], [41.439, 2.177, 1.0], [41.405, 2.143, 1.0], [41.36, 2.138, 1.0], [41.385, 2.195, 1.0], [41.348, 2.143, 1.0], [41.392, 2.197, 1.0], [41.414, 2.194, 1.0], [41.406, 2.21, 1.0], [41.382, 2.129, 1.0], [41.415, 2.195, 1.0], [41.437, 2.209, 1.0], [41.41, 2.159, 1.0], [41.395, 2.121, 1.0], [41.38, 2.17, 1.0], [41.39, 2.107, 1.0], [41.445, 2.175, 1.0], [41.412, 2.175, 1.0], [41.375, 2.126, 1.0], [41.392, 2.163, 1.0], [41.462, 2.182, 1.0], [41.387, 2.194, 1.0], [41.41, 2.135, 1.0], [41.409, 2.153, 1.0], [41.409, 2.124, 1.0], [41.396, 2.129, 1.0], [41.382, 2.187, 1.0], [41.364, 2.159, 1.0], [41.374, 2.137, 1.0], [41.387, 2.105, 1.0], [41.438, 2.181, 1.0], [41.406, 2.218, 1.0], [41.416, 2.204, 1.0], [41.416, 2.13, 1.0], [41.416, 2.215, 1.0], [41.382, 2.12, 1.0], [41.41, 2.138, 1.0], [41.389, 2.143, 1.0], [41.393, 2.196, 1.0], [41.373, 2.175, 1.0], [41.406, 2.148, 1.0], [41.39, 2.125, 1.0], [41.378, 2.113, 1.0], [41.408, 2.161, 1.0], [41.415, 2.146, 1.0], [41.348, 2.144, 1.0], [41.41, 2.172, 1.0], [41.391, 2.194, 1.0], [41.376, 2.184, 1.0], [41.394, 2.205, 1.0], [41.409, 2.202, 1.0], [41.399, 2.175, 1.0], [41.431, 2.188, 1.0], [41.38, 2.168, 1.0], [41.392, 2.204, 1.0], [41.428, 2.187, 1.0], [41.376, 2.154, 1.0], [41.409, 2.168, 1.0], [41.369, 2.147, 1.0], [41.426, 2.158, 1.0], [41.352, 2.145, 1.0], [41.38, 2.121, 1.0], [41.421, 2.141, 1.0], [41.407, 2.201, 1.0], [41.34, 2.127, 1.0], [41.411, 2.126, 1.0], [41.406, 2.204, 1.0], [41.384, 2.155, 1.0], [41.411, 2.195, 1.0], [41.41, 2.197, 1.0], [41.412, 2.162, 1.0], [41.392, 2.167, 1.0], [41.399, 2.145, 1.0], [41.464, 2.179, 1.0], [41.432, 2.078, 1.0], [41.393, 2.122, 1.0], [41.399, 2.198, 1.0], [41.461, 2.183, 1.0], [41.395, 2.152, 1.0], [41.358, 2.141, 1.0], [41.408, 2.202, 1.0], [41.38, 2.132, 1.0], [41.389, 2.155, 1.0], [41.397, 2.178, 1.0], [41.406, 2.117, 1.0], [41.428, 2.175, 1.0], [41.436, 2.154, 1.0], [41.381, 2.149, 1.0], [41.406, 2.205, 1.0], [41.36, 2.151, 1.0], [41.398, 2.158, 1.0], [41.399, 2.122, 1.0], [41.422, 2.205, 1.0], [41.411, 2.136, 1.0], [41.4, 2.147, 1.0], [41.377, 2.155, 1.0], [41.339, 2.118, 1.0], [41.397, 2.207, 1.0], [41.415, 2.134, 1.0], [41.41, 2.179, 1.0], [41.375, 2.129, 1.0], [41.381, 2.119, 1.0], [41.418, 2.187, 1.0], [41.389, 2.127, 1.0], [41.341, 2.12, 1.0], [41.416, 2.131, 1.0], [41.388, 2.15, 1.0], [41.395, 2.131, 1.0], [41.396, 2.183, 1.0], [41.371, 2.138, 1.0], [41.389, 2.142, 1.0], [41.374, 2.165, 1.0], [41.366, 2.138, 1.0], [41.412, 2.15, 1.0], [41.393, 2.202, 1.0], [41.402, 2.191, 1.0], [41.424, 2.158, 1.0], [41.421, 2.138, 1.0], [41.392, 2.142, 1.0], [41.42, 2.199, 1.0], [41.405, 2.141, 1.0], [41.389, 2.121, 1.0], [41.381, 2.125, 1.0], [41.4, 2.173, 1.0], [41.399, 2.165, 1.0], [41.398, 2.169, 1.0], [41.388, 2.153, 1.0], [41.338, 2.117, 1.0], [41.404, 2.212, 1.0], [41.392, 2.117, 1.0], [41.388, 2.133, 1.0], [41.41, 2.182, 1.0], [41.43, 2.204, 1.0], [41.376, 2.161, 1.0], [41.414, 2.137, 1.0], [41.382, 2.149, 1.0], [41.41, 2.169, 1.0], [41.379, 2.128, 1.0], [41.379, 2.134, 1.0], [41.381, 2.138, 1.0], [41.448, 2.2, 1.0], [41.411, 2.198, 1.0], [41.412, 2.193, 1.0], [41.429, 2.177, 1.0], [41.436, 2.148, 1.0], [41.384, 2.163, 1.0], [41.439, 2.161, 1.0], [41.391, 2.15, 1.0], [41.341, 2.116, 1.0], [41.371, 2.149, 1.0], [41.403, 2.156, 1.0], [41.399, 2.201, 1.0], [41.385, 2.181, 1.0], [41.46, 2.184, 1.0], [41.409, 2.196, 1.0], [41.401, 2.146, 1.0], [41.383, 2.136, 1.0], [41.413, 2.167, 1.0], [41.396, 2.134, 1.0], [41.426, 2.201, 1.0], [41.408, 2.179, 1.0], [41.399, 2.2, 1.0], [41.438, 2.152, 1.0], [41.454, 2.189, 1.0], [41.421, 2.14, 1.0], [41.446, 2.182, 1.0], [41.384, 2.151, 1.0], [41.387, 2.148, 1.0], [41.402, 2.118, 1.0], [41.39, 2.148, 1.0], [41.408, 2.15, 1.0], [41.339, 2.12, 1.0], [41.405, 2.217, 1.0], [41.401, 2.136, 1.0], [41.407, 2.162, 1.0], [41.373, 2.164, 1.0], [41.384, 2.143, 1.0], [41.388, 2.117, 1.0], [41.4, 2.21, 1.0], [41.411, 2.183, 1.0], [41.379, 2.164, 1.0], [41.379, 2.113, 1.0], [41.348, 2.148, 1.0], [41.387, 2.184, 1.0], [41.397, 2.121, 1.0], [41.405, 2.184, 1.0], [41.379, 2.121, 1.0], [41.374, 2.164, 1.0], [41.429, 2.163, 1.0], [41.378, 2.164, 1.0], [41.383, 2.152, 1.0], [41.401, 2.185, 1.0], [41.389, 2.195, 1.0], [41.406, 2.214, 1.0], [41.382, 2.139, 1.0], [41.384, 2.157, 1.0], [41.395, 2.16, 1.0], [41.416, 2.186, 1.0], [41.432, 2.205, 1.0], [41.434, 2.078, 1.0], [41.379, 2.122, 1.0], [41.398, 2.202, 1.0], [41.381, 2.169, 1.0], [41.435, 2.19, 1.0], [41.358, 2.14, 1.0], [41.412, 2.147, 1.0], [41.43, 2.19, 1.0], [41.394, 2.147, 1.0], [41.38, 2.157, 1.0], [41.382, 2.152, 1.0], [41.382, 2.175, 1.0], [41.392, 2.203, 1.0], [41.41, 2.183, 1.0], [41.378, 2.142, 1.0], [41.397, 2.202, 1.0], [41.394, 2.171, 1.0], [41.371, 2.143, 1.0], [41.385, 2.185, 1.0], [41.405, 2.179, 1.0], [41.383, 2.156, 1.0], [41.389, 2.188, 1.0], [41.408, 2.128, 1.0], [41.39, 2.15, 1.0], [41.392, 2.164, 1.0], [41.383, 2.158, 1.0], [41.382, 2.156, 1.0], [41.381, 2.154, 1.0], [41.391, 2.135, 1.0], [41.398, 2.15, 1.0], [41.388, 2.138, 1.0], [41.371, 2.139, 1.0], [41.382, 2.186, 1.0], [41.412, 2.159, 1.0], [41.404, 2.172, 1.0], [41.415, 2.212, 1.0], [41.401, 2.168, 1.0], [41.423, 2.192, 1.0], [41.426, 2.166, 1.0], [41.371, 2.136, 1.0], [41.393, 2.18, 1.0], [41.381, 2.158, 1.0], [41.397, 2.193, 1.0], [41.41, 2.185, 1.0], [41.405, 2.117, 1.0], [41.44, 2.183, 1.0], [41.433, 2.186, 1.0], [41.385, 2.196, 1.0], [41.442, 2.164, 1.0], [41.422, 2.177, 1.0], [41.388, 2.158, 1.0], [41.395, 2.158, 1.0], [41.415, 2.148, 1.0], [41.363, 2.169, 1.0], [41.39, 2.136, 1.0], [41.353, 2.158, 1.0], [41.433, 2.188, 1.0], [41.38, 2.158, 1.0], [41.39, 2.164, 1.0], [41.412, 2.168, 1.0], [41.401, 2.143, 1.0], [41.408, 2.148, 1.0], [41.388, 2.154, 1.0], [41.397, 2.186, 1.0], [41.385, 2.163, 1.0], [41.398, 2.134, 1.0], [41.426, 2.21, 1.0], [41.357, 2.163, 1.0], [41.394, 2.204, 1.0], [41.362, 2.138, 1.0], [41.338, 2.125, 1.0], [41.382, 2.144, 1.0], [41.4, 2.196, 1.0], [41.423, 2.179, 1.0], [41.39, 2.12, 1.0], [41.425, 2.177, 1.0], [41.428, 2.178, 1.0], [41.43, 2.156, 1.0], [41.398, 2.137, 1.0], [41.39, 2.18, 1.0], [41.373, 2.138, 1.0], [41.379, 2.148, 1.0], [41.416, 2.218, 1.0], [41.4, 2.202, 1.0], [41.384, 2.108, 1.0], [41.411, 2.148, 1.0], [41.4, 2.161, 1.0], [41.437, 2.194, 1.0], [41.392, 2.192, 1.0], [41.375, 2.154, 1.0], [41.396, 2.145, 1.0], [41.394, 2.165, 1.0], [41.353, 2.156, 1.0], [41.405, 2.214, 1.0], [41.4, 2.201, 1.0], [41.434, 2.135, 1.0], [41.422, 2.178, 1.0], [41.414, 2.221, 1.0], [41.385, 2.127, 1.0], [41.396, 2.115, 1.0], [41.374, 2.142, 1.0], [41.447, 2.196, 1.0], [41.408, 2.172, 1.0], [41.388, 2.157, 1.0], [41.397, 2.147, 1.0], [41.396, 2.135, 1.0], [41.408, 2.176, 1.0], [41.435, 2.172, 1.0], [41.436, 2.173, 1.0], [41.351, 2.146, 1.0], [41.388, 2.115, 1.0], [41.403, 2.198, 1.0], [41.45, 2.199, 1.0], [41.397, 2.141, 1.0], [41.418, 2.213, 1.0], [41.385, 2.166, 1.0], [41.397, 2.167, 1.0], [41.363, 2.172, 1.0], [41.375, 2.158, 1.0], [41.4, 2.205, 1.0], [41.42, 2.191, 1.0], [41.378, 2.171, 1.0], [41.418, 2.18, 1.0], [41.408, 2.177, 1.0], [41.414, 2.141, 1.0], [41.4, 2.157, 1.0], [41.412, 2.143, 1.0], [41.39, 2.175, 1.0], [41.383, 2.149, 1.0], [41.415, 2.172, 1.0], [41.396, 2.128, 1.0], [41.397, 2.17, 1.0], [41.402, 2.17, 1.0], [41.391, 2.142, 1.0], [41.396, 2.171, 1.0], [41.446, 2.193, 1.0], [41.437, 2.174, 1.0], [41.406, 2.139, 1.0], [41.374, 2.135, 1.0], [41.405, 2.166, 1.0], [41.387, 2.177, 1.0], [41.415, 2.136, 1.0], [41.401, 2.192, 1.0], [41.401, 2.196, 1.0], [41.401, 2.198, 1.0], [41.438, 2.154, 1.0], [41.43, 2.13, 1.0], [41.427, 2.183, 1.0], [41.425, 2.092, 1.0], [41.391, 2.156, 1.0], [41.404, 2.143, 1.0], [41.405, 2.144, 1.0], [41.407, 2.138, 1.0], [41.404, 2.144, 1.0], [41.389, 2.123, 1.0], [41.4, 2.181, 1.0], [41.441, 2.186, 1.0], [41.399, 2.159, 1.0], [41.411, 2.199, 1.0], [41.392, 2.162, 1.0], [41.408, 2.192, 1.0], [41.396, 2.131, 1.0], [41.4, 2.19, 1.0], [41.385, 2.191, 1.0], [41.422, 2.12, 1.0], [41.413, 2.163, 1.0], [41.415, 2.219, 1.0], [41.382, 2.159, 1.0], [41.376, 2.176, 1.0], [41.378, 2.18, 1.0], [41.381, 2.189, 1.0], [41.377, 2.178, 1.0], [41.392, 2.154, 1.0], [41.413, 2.217, 1.0], [41.43, 2.188, 1.0], [41.379, 2.165, 1.0], [41.388, 2.173, 1.0], [41.402, 2.14, 1.0], [41.377, 2.18, 1.0], [41.389, 2.153, 1.0], [41.394, 2.168, 1.0], [41.395, 2.188, 1.0], [41.402, 2.174, 1.0], [41.431, 2.182, 1.0], [41.443, 2.17, 1.0], [41.418, 2.191, 1.0], [41.39, 2.199, 1.0], [41.375, 2.152, 1.0], [41.4, 2.141, 1.0], [41.378, 2.169, 1.0], [41.377, 2.17, 1.0], [41.379, 2.172, 1.0], [41.393, 2.151, 1.0], [41.437, 2.149, 1.0], [41.404, 2.139, 1.0], [41.386, 2.158, 1.0], [41.414, 2.187, 1.0], [41.398, 2.148, 1.0], [41.398, 2.144, 1.0], [41.376, 2.178, 1.0], [41.391, 2.16, 1.0], [41.427, 2.188, 1.0], [41.399, 2.207, 1.0], [41.406, 2.154, 1.0], [41.392, 2.193, 1.0], [41.396, 2.152, 1.0], [41.412, 2.189, 1.0], [41.411, 2.166, 1.0], [41.442, 2.175, 1.0], [41.395, 2.201, 1.0], [41.409, 2.162, 1.0], [41.395, 2.166, 1.0], [41.394, 2.159, 1.0], [41.399, 2.171, 1.0], [41.397, 2.12, 1.0], [41.385, 2.144, 1.0], [41.426, 2.205, 1.0], [41.371, 2.175, 1.0], [41.413, 2.201, 1.0], [41.395, 2.149, 1.0], [41.398, 2.135, 1.0], [41.398, 2.139, 1.0], [41.428, 2.186, 1.0], [41.422, 2.212, 1.0], [41.398, 2.153, 1.0], [41.374, 2.138, 1.0], [41.414, 2.143, 1.0], [41.392, 2.18, 1.0], [41.441, 2.208, 1.0], [41.388, 2.155, 1.0], [41.354, 2.159, 1.0], [41.391, 2.201, 1.0], [41.403, 2.21, 1.0], [41.397, 2.209, 1.0], [41.411, 2.2, 1.0], [41.426, 2.192, 1.0], [41.417, 2.191, 1.0], [41.416, 2.191, 1.0], [41.405, 2.18, 1.0], [41.412, 2.173, 1.0], [41.408, 2.147, 1.0], [41.38, 2.189, 1.0], [41.365, 2.139, 1.0], [41.433, 2.189, 1.0], [41.404, 2.202, 1.0], [41.378, 2.189, 1.0], [41.413, 2.13, 1.0], [41.421, 2.178, 1.0], [41.375, 2.14, 1.0], [41.427, 2.171, 1.0], [41.384, 2.158, 1.0], [41.439, 2.194, 1.0], [41.375, 2.153, 1.0], [41.406, 2.135, 1.0], [41.456, 2.187, 1.0], [41.437, 2.184, 1.0], [41.39, 2.195, 1.0], [41.406, 2.186, 1.0], [41.39, 2.191, 1.0], [41.401, 2.204, 1.0], [41.38, 2.169, 1.0], [41.384, 2.139, 1.0], [41.359, 2.164, 1.0]],\n",
              "                {&quot;blur&quot;: 15, &quot;maxZoom&quot;: 18, &quot;minOpacity&quot;: 0.5, &quot;radius&quot;: 12}\n",
              "            ).addTo(map_adeff6af8bb31c4152a2c2b99b962f65);\n",
              "        \n",
              "&lt;/script&gt;\n",
              "&lt;/html&gt;\" style=\"position:absolute;width:100%;height:100%;left:0;top:0;border:none !important;\" allowfullscreen webkitallowfullscreen mozallowfullscreen></iframe></div></div>"
            ]
          },
          "metadata": {},
          "execution_count": 48
        }
      ]
    },
    {
      "cell_type": "markdown",
      "source": [
        "# 3. Задания"
      ],
      "metadata": {
        "id": "rFQ3cG1Sz3H3"
      }
    },
    {
      "cell_type": "markdown",
      "source": [
        "## 2.1. Создать базу данных MongoDB и загрузить BigData "
      ],
      "metadata": {
        "id": "PBH5DtKC2Hcn"
      }
    },
    {
      "cell_type": "markdown",
      "source": [
        "BigData можем получить из открытых данных Женералитата Каталонии. Исходный набор данных включает данные о покрытии мобильной связи в Каталонии, содержит 11 миллионов записей и весит 1,7 Гб. База данных доступна по [прямой ссылке](https://analisi.transparenciacatalunya.cat/api/views/g9ma-vbt8/rows.tsv?accessType=DOWNLOAD&bom=true)"
      ],
      "metadata": {
        "id": "PuOjEl_22IAU"
      }
    },
    {
      "cell_type": "code",
      "source": [
        "# Здесь должен быть ваш код"
      ],
      "metadata": {
        "id": "pZWERbknDjIR"
      },
      "execution_count": null,
      "outputs": []
    },
    {
      "cell_type": "markdown",
      "source": [
        "## 2.2. Анализ интенсивности использования сетей сотовой связи"
      ],
      "metadata": {
        "id": "aduTcwgOBKm1"
      }
    },
    {
      "cell_type": "markdown",
      "source": [
        "2.2.1. Выясните за какой временной интервал у нас имеются данные"
      ],
      "metadata": {
        "id": "Nn9OlbLFBdAv"
      }
    },
    {
      "cell_type": "code",
      "source": [
        "# Здесь должен быть ваш код"
      ],
      "metadata": {
        "id": "g-OAhbCKDdaJ"
      },
      "execution_count": null,
      "outputs": []
    },
    {
      "cell_type": "markdown",
      "source": [
        "2.2.2. Разделите весь временной интервал для набора данных на 40 равных интервалов (бинов диаграммы) и постройте диаграмму кол-ва подключений. "
      ],
      "metadata": {
        "id": "XNMvt-66CS6S"
      }
    },
    {
      "cell_type": "code",
      "source": [
        "# Здесь должен быть ваш код"
      ],
      "metadata": {
        "id": "Hb-GBPPHDd7z"
      },
      "execution_count": null,
      "outputs": []
    },
    {
      "cell_type": "markdown",
      "source": [
        "2.2.3. Определите статистику использования сетей (2G, 3G, 4G, ...) в каждом временном интервале п.2.2.2. Попытайтесь представить результат графически. Тип диаграммы выбираем по собственному усмотрению из библиотеки Plotly."
      ],
      "metadata": {
        "id": "2wCgKTWkCvq4"
      }
    },
    {
      "cell_type": "code",
      "source": [
        "# Здесь должен быть ваш код"
      ],
      "metadata": {
        "id": "7C0fx4ccDeah"
      },
      "execution_count": null,
      "outputs": []
    },
    {
      "cell_type": "markdown",
      "source": [
        "## 2.3. Интерактивная визуализация данных с Plotly"
      ],
      "metadata": {
        "id": "FfV2KIQC2IYA"
      }
    },
    {
      "cell_type": "markdown",
      "source": [
        "2.3.1. Выполните обработку данных, чтобы найти усредненное кол-во подключений на каждый час суток, по 3-м любым выбранным сотовым провайдерам "
      ],
      "metadata": {
        "id": "nyuUH2Nq43Ag"
      }
    },
    {
      "cell_type": "code",
      "source": [
        "# Здесь должен быть ваш код"
      ],
      "metadata": {
        "id": "k9bsM2yhFIrf"
      },
      "execution_count": null,
      "outputs": []
    },
    {
      "cell_type": "markdown",
      "source": [
        "2.3.2. Выполните построение анимированной тепловой карты в Plotly, которая будет наглядно представлять изменение интенсивности (усредненной по всем датам) от 0 до 24 часов для каждого из выбранных провайдеров сотовой связи."
      ],
      "metadata": {
        "id": "LMtlMVbQEnsQ"
      }
    },
    {
      "cell_type": "code",
      "source": [
        "# Здесь должен быть ваш код"
      ],
      "metadata": {
        "id": "CgVeE_86FJK-"
      },
      "execution_count": null,
      "outputs": []
    }
  ]
}